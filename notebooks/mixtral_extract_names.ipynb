{
 "cells": [
  {
   "cell_type": "markdown",
   "metadata": {},
   "source": [
    "This is an experiment to see if mixtral can pull out a list of names consistently.\n",
    "\n",
    "\n",
    "It seems like mixtral is bad at extraction, but ok at confirmation"
   ]
  },
  {
   "cell_type": "code",
   "execution_count": 1,
   "metadata": {},
   "outputs": [],
   "source": [
    "import os\n",
    "\n",
    "from huggingface_hub import InferenceClient\n",
    "\n",
    "hf_token = os.environ[\"HF_TOKEN\"]\n",
    "\n",
    "client = InferenceClient(token=hf_token)"
   ]
  },
  {
   "cell_type": "code",
   "execution_count": 2,
   "metadata": {},
   "outputs": [],
   "source": [
    "import json\n",
    "\n",
    "\n",
    "data = json.load(open(\"../data/train.json\"))"
   ]
  },
  {
   "cell_type": "code",
   "execution_count": 3,
   "metadata": {},
   "outputs": [],
   "source": [
    "d = [d for d in data if d[\"document\"] == 11619][0]"
   ]
  },
  {
   "cell_type": "code",
   "execution_count": 4,
   "metadata": {},
   "outputs": [
    {
     "data": {
      "text/plain": [
       "\"What Is Design Thinking In Innovation? / Design Thinking as a Strategy for Innovation - Creativity at Work ↗\\n\\nDesign thinking informs human-centred innovation. It begins with developing an understanding of customers' or users' unmet or unarticulated needs. ... Design thinking minimises the uncertainty and risk of innovation by engaging customers or users through a series of prototypes to learn, test, and refine concepts. Nov 21, 2011\\n\\nWhat Is Design Thinking Good For? / What is Design Thinking? – IDEO U ↗\\n\\nDesign thinking is a process for creative problem solving. Design thinking has a human-centered core. It encourages organizations to focus on the people they're creating for, which leads to better products, services, and internal processes.\\n\\nWhat Is An Example Of Design Thinking? / 10 Examples of Design Thinking - WE THINQ ↗\\n\\nDesign Thinking Examples: Proximity Designs - Proximity Designs is an award-winning, social enterprise based in Yangon, Myanmar. ... Design Thinking for Social Innovation - The Stanford Social Innovation Review gives an in depth look into how design thinking can be used for social innovation. Nov 25, 2014\\n\\nHow Can I Promote My Design Thinking? / 10 Golden Rules of Design Thinking: Promoting collaboration and ... ↗\\n\\nFrom these experiences I have come up with 10 key guidelines that can easily be applied if you want to use Design Thinking to promote innovation.\\n\\n1. Run a multidisciplinary team. ...\\n\\n2. Be a facilitator and mediator. ...\\n\\n3. Plan for uncertainty. ...\\n\\n4. Stimulate learning and exploration. ...\\n\\n5. Promote consciousness of the innovation process.\\n\\nMore items... • Dec 2, 2013\\n\\nDesign Thinking for Innovation ↗\\n\\nNov 28, 2016 - The assignment requires selecting one of the design\\n\\nthinking tools presented in the course, writing a reflection, and\\n\\ncompleting three peer ...\\n\\nWeek 4 Peer Assignment guidance - Innovating by design ... ↗\\n\\nBecoming a changemaker: Introduction to Social Innovation ... Human-centred design is incredibly important, and the Design Thinking process allows you to ...\\n\\nLearner Reviews & Feedback for Design Thinking ... ↗\\n\\n951 - 975 of 1,014 Reviews for Design Thinking for Innovation ... I have no way of accessing discussions and my final assignment to see any feedback ...\\n\\nProblem when submitting assignment in Design thinking ... ↗\\n\\nAug 4, 2019 - Please help, I am stuck at that. Here is the link that I\\n\\nsubmit https://www.coursera.org/learn/design-thinking-innovation/quiz/FGyRv/h mw ...\\n\\nDesign Thinking for Innovation (Coursera) ↗\\n\\nAt every level in every kind of organization, design thinking provides the tools you need to become an innovative thinker and uncover creative opportunities that ...\\n\\nFree Online Course: Design Thinking for Innovation from ... ↗\\n\\nDesign Thinking for Innovation. University of Virginia via Coursera. (3).\\n\\n1.1k. Add to list.\\n\\nDesign Thinking for Innovation - Google Digital Garage ↗\\n\\nDesign Thinking for Innovation. Created by University of Virginia and powered by Coursera. Visit Coursera arrow_upward. About this course.\\n\\nCoursera - Design Thinking for Business Innovation ↗\\n\\n103 reviews for Design Thinking for Business Innovation online course. ... The content is good, the instructions for the final assignment are somewhat confusing.\\n\\nDesign Thinking for Innovation, Certificate ↗\\n\\nIn this Design Thinking for Innovation course offered by Coursera in partnership with University of Virginia. Study Design Thinking for Innovation.\\n\\nSearch\\n\\n\""
      ]
     },
     "execution_count": 4,
     "metadata": {},
     "output_type": "execute_result"
    }
   ],
   "source": [
    "d[\"full_text\"]"
   ]
  },
  {
   "cell_type": "code",
   "execution_count": 19,
   "metadata": {},
   "outputs": [
    {
     "data": {
      "text/plain": [
       "'\\n1. IDEO U\\n2. Proximity Designs\\n3. Stanford Social Innovation Review\\n4. Novo (assumed first name of the author of the article \"What Is Design Thinking Good For?\")\\n5. Dec 2, 2013 (author of \"10 Golden Rules of Design Thinking: Promoting collaboration and ...\")\\n6. Coursera\\n7. University of Virginia\\n8. Aug 4, 2019 (author of \"Problem when submitting assignment in Design thinking ...\")\\n\\nNote: The names were extracted from the context where they were mentioned and may not be the full or formal names of the individuals.'"
      ]
     },
     "execution_count": 19,
     "metadata": {},
     "output_type": "execute_result"
    }
   ],
   "source": [
    "text = \"\"\"What Is Design Thinking In Innovation? / Design Thinking as a Strategy for Innovation - Creativity at Work ↗\\n\\nDesign thinking informs human-centred innovation. It begins with developing an understanding of customers' or users' unmet or unarticulated needs. ... Design thinking minimises the uncertainty and risk of innovation by engaging customers or users through a series of prototypes to learn, test, and refine concepts. Nov 21, 2011\\n\\nWhat Is Design Thinking Good For? / What is Design Thinking? – IDEO U ↗\\n\\nDesign thinking is a process for creative problem solving. Design thinking has a human-centered core. It encourages organizations to focus on the people they're creating for, which leads to better products, services, and internal processes.\\n\\nWhat Is An Example Of Design Thinking? / 10 Examples of Design Thinking - WE THINQ ↗\\n\\nDesign Thinking Examples: Proximity Designs - Proximity Designs is an award-winning, social enterprise based in Yangon, Myanmar. ... Design Thinking for Social Innovation - The Stanford Social Innovation Review gives an in depth look into how design thinking can be used for social innovation. Nov 25, 2014\\n\\nHow Can I Promote My Design Thinking? / 10 Golden Rules of Design Thinking: Promoting collaboration and ... ↗\\n\\nFrom these experiences I have come up with 10 key guidelines that can easily be applied if you want to use Design Thinking to promote innovation.\\n\\n1. Run a multidisciplinary team. ...\\n\\n2. Be a facilitator and mediator. ...\\n\\n3. Plan for uncertainty. ...\\n\\n4. Stimulate learning and exploration. ...\\n\\n5. Promote consciousness of the innovation process.\\n\\nMore items... • Dec 2, 2013\\n\\nDesign Thinking for Innovation ↗\\n\\nNov 28, 2016 - The assignment requires selecting one of the design\\n\\nthinking tools presented in the course, writing a reflection, and\\n\\ncompleting three peer ...\\n\\nWeek 4 Peer Assignment guidance - Innovating by design ... ↗\\n\\nBecoming a changemaker: Introduction to Social Innovation ... Human-centred design is incredibly important, and the Design Thinking process allows you to ...\\n\\nLearner Reviews & Feedback for Design Thinking ... ↗\\n\\n951 - 975 of 1,014 Reviews for Design Thinking for Innovation ... I have no way of accessing discussions and my final assignment to see any feedback ...\\n\\nProblem when submitting assignment in Design thinking ... ↗\\n\\nAug 4, 2019 - Please help, I am stuck at that. Here is the link that I\\n\\nsubmit https://www.coursera.org/learn/design-thinking-innovation/quiz/FGyRv/h mw ...\\n\\nDesign Thinking for Innovation (Coursera) ↗\\n\\nAt every level in every kind of organization, design thinking provides the tools you need to become an innovative thinker and uncover creative opportunities that ...\\n\\nFree Online Course: Design Thinking for Innovation from ... ↗\\n\\nDesign Thinking for Innovation. University of Virginia via Coursera. (3).\\n\\n1.1k. Add to list.\\n\\nDesign Thinking for Innovation - Google Digital Garage ↗\\n\\nDesign Thinking for Innovation. Created by University of Virginia and powered by Coursera. Visit Coursera arrow_upward. About this course.\\n\\nCoursera - Design Thinking for Business Innovation ↗\\n\\n103 reviews for Design Thinking for Business Innovation online course. ... The content is good, the instructions for the final assignment are somewhat confusing.\\n\\nDesign Thinking for Innovation, Certificate ↗\\n\\nIn this Design Thinking for Innovation course offered by Coursera in partnership with University of Virginia. Study Design Thinking for Innovation.\\n\\nSearch\\n\\n\"\"\"\n",
    "\n",
    "r = client.post(json={\n",
    "            \"inputs\": f\"<s> [INST] List person names mentioned in the following text. Return only a list of human names separated by newline character ('\\n'). **DO NOT LIST THE NAMES OF COMPANIES, SCHOOLS, OR PROGRAMS**. If not person names are mentioned, respond NA.\\n\\nText: {text}[/INST]\\nPerson Names:\\n\", \n",
    "            \"parameters\": {\"max_new_tokens\":200, \"top_k\":10, \"temperature\":0.2, \"return_full_text\": False}, \n",
    "            \"options\":{\"use_cache\": False}\n",
    "        }, \n",
    "            model=\"mistralai/Mixtral-8x7B-Instruct-v0.1\",\n",
    "            )\n",
    "json.loads(r.decode())[0][\"generated_text\"]"
   ]
  },
  {
   "cell_type": "code",
   "execution_count": 17,
   "metadata": {},
   "outputs": [
    {
     "data": {
      "text/plain": [
       "' No'"
      ]
     },
     "execution_count": 17,
     "metadata": {},
     "output_type": "execute_result"
    }
   ],
   "source": [
    "r = client.post(json={\n",
    "            \"inputs\": f\"<s> [INST] In the context of the following text, is 'Coursera' the name of a person? Answer yes/no. \\n\\nText:\\n{text}[/INST]\", \n",
    "            \"parameters\": {\"max_new_tokens\":1, \"top_k\":10, \"temperature\":0.2, \"return_full_text\": False}, \n",
    "            \"options\":{\"use_cache\": False}\n",
    "        }, \n",
    "            model=\"mistralai/Mixtral-8x7B-Instruct-v0.1\",\n",
    "            )\n",
    "json.loads(r.decode())[0][\"generated_text\"]"
   ]
  },
  {
   "cell_type": "code",
   "execution_count": null,
   "metadata": {},
   "outputs": [],
   "source": []
  }
 ],
 "metadata": {
  "kernelspec": {
   "display_name": "base",
   "language": "python",
   "name": "python3"
  },
  "language_info": {
   "codemirror_mode": {
    "name": "ipython",
    "version": 3
   },
   "file_extension": ".py",
   "mimetype": "text/x-python",
   "name": "python",
   "nbconvert_exporter": "python",
   "pygments_lexer": "ipython3",
   "version": "3.10.10"
  }
 },
 "nbformat": 4,
 "nbformat_minor": 2
}
