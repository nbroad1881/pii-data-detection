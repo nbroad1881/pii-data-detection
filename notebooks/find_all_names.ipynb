{
 "cells": [
  {
   "cell_type": "markdown",
   "metadata": {},
   "source": [
    "The purpose of this notebook is to find all references to names to figure out how much a generic \"NAME\" NER model should overlap with the PII name classifier."
   ]
  },
  {
   "cell_type": "code",
   "execution_count": null,
   "metadata": {},
   "outputs": [],
   "source": [
    "from transformers import pipeline\n",
    "\n",
    "\n",
    "model_name = \"StanfordAIMI/stanford-deidentifier-base\"\n",
    "\n",
    "pl = \n"
   ]
  }
 ],
 "metadata": {
  "language_info": {
   "name": "python"
  }
 },
 "nbformat": 4,
 "nbformat_minor": 2
}
