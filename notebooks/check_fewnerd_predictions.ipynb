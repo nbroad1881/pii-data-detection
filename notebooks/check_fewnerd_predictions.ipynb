{
 "cells": [
  {
   "cell_type": "markdown",
   "metadata": {},
   "source": [
    "After training a model on names from fewnerd, I used it to predict on the full training set. This notebook explores those predictions.\n",
    "\n",
    "This is primarily to find examples that contain names that are not considered PII."
   ]
  },
  {
   "cell_type": "code",
   "execution_count": 9,
   "metadata": {},
   "outputs": [
    {
     "data": {
      "text/plain": [
       "(6807, 945)"
      ]
     },
     "execution_count": 9,
     "metadata": {},
     "output_type": "execute_result"
    }
   ],
   "source": [
    "import json\n",
    "\n",
    "data = json.load(open(\"../data/train.json\"))\n",
    "\n",
    "docs_with_pii = [d[\"document\"] for d in data if len(set(d[\"labels\"])) > 1]\n",
    "\n",
    "len(data), len(docs_with_pii)"
   ]
  },
  {
   "cell_type": "code",
   "execution_count": 10,
   "metadata": {},
   "outputs": [
    {
     "name": "stdout",
     "output_type": "stream",
     "text": [
      "2904\n",
      "12331\n",
      "5.179547481956046 5.0\n",
      "True     10346\n",
      "False     1985\n",
      "Name: titled, dtype: int64\n",
      "5082\n"
     ]
    },
    {
     "data": {
      "text/html": [
       "<div>\n",
       "<style scoped>\n",
       "    .dataframe tbody tr th:only-of-type {\n",
       "        vertical-align: middle;\n",
       "    }\n",
       "\n",
       "    .dataframe tbody tr th {\n",
       "        vertical-align: top;\n",
       "    }\n",
       "\n",
       "    .dataframe thead th {\n",
       "        text-align: right;\n",
       "    }\n",
       "</style>\n",
       "<table border=\"1\" class=\"dataframe\">\n",
       "  <thead>\n",
       "    <tr style=\"text-align: right;\">\n",
       "      <th></th>\n",
       "      <th>row_id</th>\n",
       "      <th>document</th>\n",
       "      <th>token</th>\n",
       "      <th>label</th>\n",
       "      <th>token_text</th>\n",
       "      <th>text_len</th>\n",
       "      <th>titled</th>\n",
       "    </tr>\n",
       "  </thead>\n",
       "  <tbody>\n",
       "    <tr>\n",
       "      <th>0</th>\n",
       "      <td>0</td>\n",
       "      <td>7</td>\n",
       "      <td>9</td>\n",
       "      <td>PERSON</td>\n",
       "      <td>Nathalie</td>\n",
       "      <td>8</td>\n",
       "      <td>True</td>\n",
       "    </tr>\n",
       "    <tr>\n",
       "      <th>1</th>\n",
       "      <td>1</td>\n",
       "      <td>7</td>\n",
       "      <td>10</td>\n",
       "      <td>PERSON</td>\n",
       "      <td>Sylla</td>\n",
       "      <td>5</td>\n",
       "      <td>True</td>\n",
       "    </tr>\n",
       "    <tr>\n",
       "      <th>2</th>\n",
       "      <td>2</td>\n",
       "      <td>7</td>\n",
       "      <td>52</td>\n",
       "      <td>PERSON</td>\n",
       "      <td>Buzan</td>\n",
       "      <td>5</td>\n",
       "      <td>True</td>\n",
       "    </tr>\n",
       "    <tr>\n",
       "      <th>3</th>\n",
       "      <td>3</td>\n",
       "      <td>7</td>\n",
       "      <td>53</td>\n",
       "      <td>PERSON</td>\n",
       "      <td>T.</td>\n",
       "      <td>2</td>\n",
       "      <td>True</td>\n",
       "    </tr>\n",
       "    <tr>\n",
       "      <th>4</th>\n",
       "      <td>4</td>\n",
       "      <td>7</td>\n",
       "      <td>55</td>\n",
       "      <td>PERSON</td>\n",
       "      <td>Buzan</td>\n",
       "      <td>5</td>\n",
       "      <td>True</td>\n",
       "    </tr>\n",
       "  </tbody>\n",
       "</table>\n",
       "</div>"
      ],
      "text/plain": [
       "   row_id  document  token   label token_text  text_len  titled\n",
       "0       0         7      9  PERSON   Nathalie         8    True\n",
       "1       1         7     10  PERSON      Sylla         5    True\n",
       "2       2         7     52  PERSON      Buzan         5    True\n",
       "3       3         7     53  PERSON         T.         2    True\n",
       "4       4         7     55  PERSON      Buzan         5    True"
      ]
     },
     "execution_count": 10,
     "metadata": {},
     "output_type": "execute_result"
    }
   ],
   "source": [
    "import pandas as pd\n",
    "\n",
    "\n",
    "preds = pd.read_csv(\"../inference/outputs/fewnerd-d3b/preds.csv\")\n",
    "preds[\"text_len\"] = [len(x) for x in preds.token_text]\n",
    "preds[\"titled\"] = [x[0].isupper() for x in preds.token_text]\n",
    "\n",
    "print(preds.document.nunique())\n",
    "print(len(preds))\n",
    "print(preds.text_len.mean(), preds.text_len.median())\n",
    "print(preds.titled.value_counts())\n",
    "print(((preds.text_len > 3) & (preds.titled) * ~preds.document.isin(set(docs_with_pii))).sum())\n",
    "\n",
    "preds.head()"
   ]
  },
  {
   "cell_type": "code",
   "execution_count": 17,
   "metadata": {},
   "outputs": [
    {
     "name": "stdout",
     "output_type": "stream",
     "text": [
      "Running on local URL:  http://127.0.0.1:7870\n",
      "\n",
      "To create a public link, set `share=True` in `launch()`.\n"
     ]
    },
    {
     "data": {
      "text/html": [
       "<div><iframe src=\"http://127.0.0.1:7870/\" width=\"100%\" height=\"500\" allow=\"autoplay; camera; microphone; clipboard-read; clipboard-write;\" frameborder=\"0\" allowfullscreen></iframe></div>"
      ],
      "text/plain": [
       "<IPython.core.display.HTML object>"
      ]
     },
     "metadata": {},
     "output_type": "display_data"
    },
    {
     "data": {
      "text/plain": []
     },
     "execution_count": 17,
     "metadata": {},
     "output_type": "execute_result"
    },
    {
     "name": "stdout",
     "output_type": "stream",
     "text": [
      "------------------------------\n",
      "9286\n",
      "------------------------------\n",
      "      row_id  document  token   label token_text\n",
      "3404    3404      9286    371  PERSON    Prakash\n",
      "3405    3405      9286    572  PERSON    Prakash\n",
      "3406    3406      9286    605  PERSON    Prakash\n",
      "3407    3407      9286    725  PERSON    Prakash\n",
      "3404    371\n",
      "3405    572\n",
      "3406    605\n",
      "3407    725\n",
      "Name: token, dtype: int64\n",
      "[]\n"
     ]
    },
    {
     "name": "stderr",
     "output_type": "stream",
     "text": [
      "/home/nicholas/miniconda3/lib/python3.10/site-packages/spacy/displacy/__init__.py:213: UserWarning: [W006] No entities to visualize found in Doc object. If this is surprising to you, make sure the Doc was processed using a model that supports named entity recognition, and check the `doc.ents` property manually if necessary.\n",
      "  warnings.warn(Warnings.W006)\n"
     ]
    },
    {
     "name": "stdout",
     "output_type": "stream",
     "text": [
      "------------------------------\n",
      "7858\n",
      "------------------------------\n",
      "      row_id  document  token   label  token_text\n",
      "2500    2500      7858      5  PERSON     Mickael\n",
      "2501    2501      7858      6  PERSON  Richardson\n",
      "2502    2502      7858    857  PERSON     Mickael\n",
      "2503    2503      7858    858  PERSON  Richardson\n",
      "2504    2504      7858   1450  PERSON  Volunteers\n",
      "2500       5\n",
      "2501       6\n",
      "2502     857\n",
      "2503     858\n",
      "2504    1450\n",
      "Name: token, dtype: int64\n",
      "1450\n",
      "[Volunteers]\n"
     ]
    }
   ],
   "source": [
    "import json\n",
    "import os\n",
    "import random\n",
    "\n",
    "import gradio as gr\n",
    "import spacy\n",
    "from spacy import displacy\n",
    "from spacy.tokens import Span\n",
    "\n",
    "# download spacy model ---\n",
    "# os.system('python -m spacy download en_core_web_sm')\n",
    "\n",
    "# # set up colors for PII types ---\n",
    "\n",
    "options = {\n",
    "    \"colors\": {\n",
    "        \"PERSON\": \"#6EB5FF\",    # Lighter blue\n",
    "        \"EMAIL\": \"#42D4B5\",           # Light teal\n",
    "        \"USERNAME\": \"#D8B4E2\",        # Light lavender\n",
    "        \"ID_NUM\": \"#7AE88F\",          # Light green\n",
    "        \"PHONE_NUM\": \"#FFB87D\",       # Light peach\n",
    "        \"URL_PERSONAL\": \"#C9B4E2\",    # Pale purple\n",
    "        \"STREET_ADDRESS\": \"#B4B77F\"   # Light olive\n",
    "    }\n",
    "}\n",
    "\n",
    "pii_types = list(options[\"colors\"].keys())\n",
    "pii_types.append(\"Random\")\n",
    "\n",
    "nlp = spacy.load(\"en_core_web_sm\")\n",
    "# render sample ---\n",
    "\n",
    "\n",
    "def render_sample(pii_type, doc_id=-1):\n",
    "    while True:\n",
    "        sample = random.choice(data)\n",
    "\n",
    "        if not all([x==\"O\" for x in sample[\"labels\"]]):\n",
    "            continue\n",
    "\n",
    "        p = preds[preds['document'] == sample['document']]\n",
    "\n",
    "        if len(p) == 0:\n",
    "            continue\n",
    "\n",
    "        if doc_id != -1:\n",
    "            break\n",
    "        if pii_type == \"Random\":\n",
    "            break\n",
    "        elif pii_type in sample['piis']:\n",
    "            break\n",
    "\n",
    "    if doc_id != -1:\n",
    "        \n",
    "        sample = [d for d in data if d['document'] == doc_id][0]\n",
    "\n",
    "\n",
    "    print(\"---\" * 10)\n",
    "    print(sample['document'])\n",
    "    print(\"---\" * 10)\n",
    "    print(p)\n",
    "    # render\n",
    "    doc = spacy.tokens.Doc(nlp.vocab, words=sample['tokens'], spaces=sample['trailing_whitespace'])\n",
    "\n",
    "    #\n",
    "    ents = []\n",
    "    in_entity = False\n",
    "    start, end = 0, 0\n",
    "\n",
    "    print(p[\"token\"])\n",
    "\n",
    "    for index, label in enumerate(sample['labels']):\n",
    "        if index in p[\"token\"].tolist() and \"NAME\" not in label:\n",
    "            print(index)\n",
    "            if in_entity:\n",
    "                continue\n",
    "            in_entity = True\n",
    "            start, end = index, index + 1\n",
    "        else:\n",
    "            if in_entity:\n",
    "                end = index\n",
    "                ents.append(Span(doc, start, index, \"PERSON\"))\n",
    "                in_entity = False\n",
    "        \n",
    "\n",
    "    # Add the last entity if we're still in one\n",
    "    if in_entity:\n",
    "        ents.append(Span(doc, start, end, \"PERSON\"))\n",
    "\n",
    "    doc.ents = ents\n",
    "    output = displacy.render(doc, style=\"ent\", jupyter=False, options=options)\n",
    "    print(ents)\n",
    "    return {'document': sample['document']}, output\n",
    "\n",
    "\n",
    "# app layout & callback ---\n",
    "# with gr.Blocks(theme=gr.themes.Soft()) as demo:\n",
    "with gr.Blocks() as demo:\n",
    "    with gr.Row():\n",
    "        focus_pii = gr.Dropdown(\n",
    "            pii_types,\n",
    "            value=\"Random\",\n",
    "            label=\"PII Focus\",\n",
    "            info=\"Select a PII type to focus on...\"\n",
    "        )\n",
    "\n",
    "        doc_id_input = gr.Number(\n",
    "            value=-1,\n",
    "            label=\"Document ID\",\n",
    "            info=\"Enter a document ID to focus on...\"\n",
    "        )\n",
    "\n",
    "    sample_btn = gr.Button(\"Sample\")\n",
    "    document_id_display = gr.JSON(label=\"Document ID\")\n",
    "\n",
    "    sample_display = gr.HTML(label=\"Example\")\n",
    "\n",
    "    # callback ---\n",
    "    sample_btn.click(\n",
    "        fn=render_sample,\n",
    "        inputs=[focus_pii, doc_id_input],\n",
    "        outputs=[document_id_display, sample_display],\n",
    "    )\n",
    "\n",
    "# launch app ----\n",
    "demo.launch()"
   ]
  },
  {
   "cell_type": "code",
   "execution_count": null,
   "metadata": {},
   "outputs": [],
   "source": []
  }
 ],
 "metadata": {
  "kernelspec": {
   "display_name": "base",
   "language": "python",
   "name": "python3"
  },
  "language_info": {
   "codemirror_mode": {
    "name": "ipython",
    "version": 3
   },
   "file_extension": ".py",
   "mimetype": "text/x-python",
   "name": "python",
   "nbconvert_exporter": "python",
   "pygments_lexer": "ipython3",
   "version": "3.10.10"
  }
 },
 "nbformat": 4,
 "nbformat_minor": 2
}
