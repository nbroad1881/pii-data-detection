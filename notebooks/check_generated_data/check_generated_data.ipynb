{
 "cells": [
  {
   "cell_type": "code",
   "execution_count": 1,
   "metadata": {},
   "outputs": [
    {
     "data": {
      "application/vnd.jupyter.widget-view+json": {
       "model_id": "acb8138b9f474162a10853daf22cae8c",
       "version_major": 2,
       "version_minor": 0
      },
      "text/plain": [
       "Generating train split: 0 examples [00:00, ? examples/s]"
      ]
     },
     "metadata": {},
     "output_type": "display_data"
    }
   ],
   "source": [
    "from datasets import Dataset\n",
    "\n",
    "ds = Dataset.from_parquet(\"/drive2/kaggle/pii-dd/data/new_ds2.pq\")"
   ]
  },
  {
   "cell_type": "code",
   "execution_count": 2,
   "metadata": {},
   "outputs": [
    {
     "data": {
      "text/plain": [
       "{'id': 'e_jobz51hh',\n",
       " 'essay': \" Introduction - Identifying the Challenge:\\n\\nIn my role as a User Experience Designer at a technology startup in San Francisco, I encountered a complex challenge that required a thoughtful and innovative solution. Our team was tasked with redesigning the user experience of our mobile application to better meet the needs of a diverse user group, spanning various age ranges, cultures, ethnicities, and abilities. This challenge was significant due to the wide array of user needs and preferences to consider, as well as the potential impact on overall customer satisfaction and conversion rates.\\n\\nSelection of the Tool or Approach:\\n\\nTo address this complex challenge, I chose to apply the human-centered design (HCD) approach, a methodology that emphasizes empathy, collaboration, and iteration throughout the design process. I selected this approach due to its relevance to the challenge, as HCD focuses on understanding and meeting the needs of diverse user groups, and its theoretical underpinnings in user-centered research and design. Additionally, HCD has a proven effectiveness in similar situations, as it allows designers to create solutions that are both user-friendly and business-oriented.\\n\\nWhile there were several alternatives considered, such as design thinking, user-centered design, and participatory design, I ultimately discarded them in favor of HCD due to its comprehensive nature and emphasis on inclusivity. Design thinking, for example, focuses predominantly on the ideation and prototyping stages, while user-centered design lacks the collaborative aspect that I believed was crucial for this particular challenge. Participatory design, while inclusive, can be time-consuming and challenging to implement in a fast-paced startup environment.\\n\\nApplication of the Tool or Approach:\\n\\nTo apply the HCD approach, I followed a series of steps and processes to understand, ideate, and iterate on the mobile application's user experience. First, I conducted user research studies to empathize with our diverse user group, using various methods such as interviews, observations, and surveys. This research allowed me to identify user needs, preferences, and pain points, which informed the subsequent ideation phase.\\n\\nDuring the ideation phase, I facilitated design thinking workshops with cross-functional stakeholders, encouraging collaboration and creativity. We generated numerous ideas, selected the most promising ones, and created wireframes and prototypes to visualize and test the potential solutions. Throughout this phase, I ensured that all ideas were evaluated through the lens of inclusivity, striving to create a design that catered to users of all ages, cultures, ethnicities, mobility, literacy skills, and disabilities.\\n\\nAdaptations and customizations were made to the HCD approach to suit the specific context of the challenge. For instance, I incorporated user analytics tools like FullStory and Google Analytics to gain a better understanding of user behavior and preferences within the application. This data-driven approach complemented the empathetic research methods used in the initial stages of the HCD process.\\n\\nAnalysis and Insight:\\n\\nThe application of the HCD approach was effective in addressing the challenge of redesigning the mobile application's user experience for a diverse user group. The user research studies provided valuable insights into user needs and preferences, which guided the ideation and prototyping stages. By fostering collaboration and creativity within the design thinking workshops, we were able to generate innovative solutions that catered to a wide array of user needs.\\n\\nHowever, there were some limitations in the HCD approach that became apparent during the application process. First, the emphasis on empathy and collaboration, while valuable, can sometimes lead to prolonged decision-making and slower progress. Second, the inclusivity criteria, while essential, can be challenging to implement consistently across all stages of the process.\\n\\nNonetheless, the use of the HCD approach significantly influenced the outcome of the challenge by promoting a user-centered, collaborative, and iterative approach to design. The resulting redesign was well-received by users, with an increase in overall customer satisfaction and conversion rates. The user analytics tools provided additional data to support the effectiveness of the redesign, demonstrating increased user engagement and reduced drop-off rates.\\n\\nConclusion - Future Applications:\\n\\nThe key insights gained from applying the HCD approach to redesign the mobile application's user experience can inform future applications of the same or similar tools in addressing other challenges. First, user research studies are crucial in understanding user needs and preferences, and should be integrated into the design process from the outset. Second, fostering collaboration and creativity through design thinking workshops can lead to innovative solutions that cater to a wide array of user needs. Lastly, consistent application of inclusivity criteria throughout the design process is essential to creating solutions that are accessible and user-friendly for diverse user groups.\\n\\nIn future applications of the HCD approach or similar tools, I would propose a few modifications or improvements to enhance its effectiveness. First, implementing a more efficient decision-making process during the empathy and collaboration stages could accelerate progress without compromising user-centeredness. Second, incorporating additional data-driven methods, such as A/B testing and usability testing, alongside empathetic research methods could further inform the ideation and prototyping stages.\\n\\nIn summary, the HCD approach proved to be an effective tool in addressing the challenge of redesigning the mobile application's user experience for a diverse user group. By understanding user needs, fostering collaboration and creativity, and consistently applying inclusivity criteria, our team was able to create a solution that increased overall customer satisfaction and conversion rates. The insights gained from this experience can inform future applications of HCD, as well as other design methodologies, in addressing complex challenges within user experience design.\",\n",
       " 'personality': \"\\n\\nJob Title: User Experience Designer \\n\\nName: Maya Alverez\\n\\nAge: 32\\n\\nBackground: \\nMaya grew up in Portland, Oregon, and pursued her undergraduate degree in graphic design from the Rhode Island School of Design. After working for a few years as a graphic designer, she went back to school to earn a master's degree in human-computer interaction from Carnegie Mellon University. Maya is fluent in English and Spanish, and has basic proficiency in German.\\n\\nExperience:\\nMaya has over eight years of experience as a user experience designer, working in various roles ranging from UX researcher to product designer. Currently, she works at a technology startup in San Francisco, leading the design team and collaborating with cross-functional stakeholders to iterate on features and ultimately redefine the user experience to increase overall customer satisfaction.\\n\\nSkills & Expertise:\\nMaya is highly skilled at both the research and design aspects of the user experience design process. Her core strengths include conducting user research studies, creating wireframes and prototypes, and facilitating design thinking workshops. She's an expert in various design tools such as Sketch, Figma, and Adobe Creative Suite, as well as user analytics tools like FullStory and Google Analytics.\\n\\nPassion:\\nMaya is particularly passionate about crafting compelling and dynamic experiences that meet the needs of diverse user groups, while increasing conversion rates and creating long-term loyalty. She aspires to bridge the gap between customer, business, and world needs through human-centered design principles and using an inclusive, socially, economically and environmentally sustainable approach, by engaging users of all ages, cultures, ethnicities, mobility, literacy skills and dis(ability) beyond 2055. Personally, Maya loves to learn new things and keeps herself updated with the contemporary design trends, attends seminars and workshops, and takes online course. She brings that same sense of curiosity to her work, unafraid of exploring fresh unchartered angles. Webinars, e-Books, podcasts also keep Maya in this rhythm. Her drive for building solutions that connect global communities and supporting the less privilege, by connecting impactful organizations both domestic and abroad gives her a unique perspective as a diverse professional and passionate woman.\\n\\nWork Style:\\nMaya typically works from the startup's headquarters in San Francisco but collaborates with teammates remotely with flexibility and appreciates opportunities that may arise where onsite or international travel is required. When she approaches the assignment, regardless of the scale and context, problem-solving, inclusive behaviors alongside a spirit to listen at every step with rigorous testing become the pivotal principles governing the ecosystem of solutions that result at every spin with fresh insight, while the aesthetic features create compelling and beautiful interfaces.\"}"
      ]
     },
     "execution_count": 2,
     "metadata": {},
     "output_type": "execute_result"
    }
   ],
   "source": [
    "ds[0]"
   ]
  },
  {
   "cell_type": "code",
   "execution_count": 12,
   "metadata": {},
   "outputs": [],
   "source": [
    "import json\n",
    "import argparse\n",
    "from itertools import chain\n",
    "\n",
    "from transformers import AutoTokenizer, AutoModelForTokenClassification, Trainer, TrainingArguments, DataCollatorForTokenClassification, pipeline\n",
    "from datasets import Dataset\n",
    "import numpy as np\n",
    "\n",
    "def tokenize(example, tokenizer, max_length):\n",
    "    # text = []\n",
    "    # token_map = []\n",
    "    \n",
    "    # idx = 0\n",
    "    \n",
    "    # for t, ws in zip(example[\"tokens\"], example[\"trailing_whitespace\"]):\n",
    "        \n",
    "    #     text.append(t)\n",
    "    #     token_map.extend([idx]*len(t))\n",
    "    #     if ws:\n",
    "    #         text.append(\" \")\n",
    "    #         token_map.append(-1)\n",
    "            \n",
    "    #     idx += 1\n",
    "            \n",
    "        \n",
    "    # tokenized = tokenizer(\"\".join(text), return_offsets_mapping=True, max_length=max_length)\n",
    "    \n",
    "    tokenized = tokenizer(example[\"essay\"], return_offsets_mapping=True, max_length=max_length)\n",
    "\n",
    "        \n",
    "    return {\n",
    "        **tokenized,\n",
    "        # \"token_map\": token_map,\n",
    "    }\n",
    "\n",
    "\n",
    "def main(model_path, max_length):\n",
    "\n",
    "    class A:\n",
    "\n",
    "        model_path = \"\"\n",
    "        max_length = \"\"\n",
    "\n",
    "    args = A\n",
    "\n",
    "    args.model_path = model_path\n",
    "    args.max_length = max_length\n",
    "    \n",
    "    # data = json.load(open(\"/kaggle/input/pii-detection-removal-from-educational-data/test.json\"))\n",
    "    \n",
    "    # ds = Dataset.from_dict({\n",
    "    #     \"full_text\": [x[\"full_text\"] for x in data],\n",
    "    #     \"document\": [x[\"document\"] for x in data],\n",
    "    #     \"tokens\": [x[\"tokens\"] for x in data],\n",
    "    #     \"trailing_whitespace\": [x[\"trailing_whitespace\"] for x in data],\n",
    "    # })\n",
    "\n",
    "    ds = Dataset.from_parquet(\"/drive2/kaggle/pii-dd/data/new_ds2.pq\")\n",
    "    \n",
    "    tokenizer = AutoTokenizer.from_pretrained(args.model_path)\n",
    "    ds = ds.map(\n",
    "        tokenize, \n",
    "        fn_kwargs={\"tokenizer\": tokenizer, \"max_length\": args.max_length}, \n",
    "        num_proc=2,\n",
    "    )\n",
    "    \n",
    "    model = AutoModelForTokenClassification.from_pretrained(args.model_path)\n",
    "\n",
    "    # collator = DataCollatorForTokenClassification(tokenizer, pad_to_multiple_of=16)\n",
    "\n",
    "    # args = TrainingArguments(\n",
    "    #     \".\", \n",
    "    #     per_device_eval_batch_size=4, \n",
    "    #     report_to=\"none\",\n",
    "    # )\n",
    "    \n",
    "    # trainer = Trainer(\n",
    "    #     model=model, \n",
    "    #     args=args, \n",
    "    #     data_collator=collator, \n",
    "    #     tokenizer=tokenizer,\n",
    "    # )\n",
    "\n",
    "    pl = pipeline(\"ner\", model=model, tokenizer=tokenizer, device=0)\n",
    "\n",
    "    preds = []\n",
    "    for i in range(0, len(ds), 16):\n",
    "        texts = ds[i:min(len(ds), i+16)][\"essay\"]\n",
    "        preds.extend(pl(texts))\n",
    "    \n",
    "    import pickle\n",
    "\n",
    "    with open(\"preds.pkl\", \"wb\") as f:\n",
    "        pickle.dump(preds, f)\n",
    "    \n",
    "    # predictions = trainer.predict(ds).predictions\n",
    "\n",
    "    # ds.to_parquet(\"test_ds.pq\")\n",
    "    \n",
    "    # np.save(\"preds.npy\", predictions)"
   ]
  },
  {
   "cell_type": "code",
   "execution_count": 13,
   "metadata": {},
   "outputs": [
    {
     "name": "stderr",
     "output_type": "stream",
     "text": [
      "Special tokens have been added in the vocabulary, make sure the associated word embeddings are fine-tuned or trained.\n",
      "Asking to truncate to max_length but no maximum length is provided and the model has no predefined maximum length. Default to no truncation.\n",
      "/home/nicholas/miniconda3/lib/python3.10/site-packages/transformers/pipelines/base.py:1101: UserWarning: You seem to be using the pipelines sequentially on GPU. In order to maximize efficiency please use a dataset\n",
      "  warnings.warn(\n"
     ]
    }
   ],
   "source": [
    "model_path = \"/drive2/kaggle/pii-dd/models/dv3b-v1/output/checkpoint-240\"\n",
    "\n",
    "main(model_path, 2000)"
   ]
  },
  {
   "cell_type": "code",
   "execution_count": 14,
   "metadata": {},
   "outputs": [],
   "source": [
    "import pickle\n",
    "\n",
    "with open(\"preds.pkl\", \"rb\") as f:\n",
    "    preds = pickle.load(f)"
   ]
  },
  {
   "cell_type": "code",
   "execution_count": 16,
   "metadata": {},
   "outputs": [
    {
     "data": {
      "text/plain": [
       "133"
      ]
     },
     "execution_count": 16,
     "metadata": {},
     "output_type": "execute_result"
    }
   ],
   "source": [
    "count = 0\n",
    "\n",
    "\n",
    "\n",
    "for p in preds:\n",
    "\n",
    "    if len(p) > 0:\n",
    "        count += 1\n",
    "\n",
    "count"
   ]
  },
  {
   "cell_type": "code",
   "execution_count": 24,
   "metadata": {},
   "outputs": [
    {
     "data": {
      "text/plain": [
       "22"
      ]
     },
     "execution_count": 24,
     "metadata": {},
     "output_type": "execute_result"
    }
   ],
   "source": [
    "len([x for x in ds[\"essay\"] if \"Word Count\" in x])"
   ]
  },
  {
   "cell_type": "code",
   "execution_count": 25,
   "metadata": {},
   "outputs": [
    {
     "data": {
      "text/plain": [
       "[0.9577735124760077,\n",
       " 0.9957480733457348,\n",
       " 0.9960460100647016,\n",
       " 0.9969167523124358,\n",
       " 0.9973679592911037,\n",
       " 0.9358752166377816,\n",
       " 0.9916497404649064,\n",
       " 0.9764337851929092,\n",
       " 0.9966659720775162,\n",
       " 0.9966624947851481,\n",
       " 0.9971356963838167,\n",
       " 0.9872689938398357,\n",
       " 0.9791431792559189,\n",
       " 0.996,\n",
       " 0.9968287526427061,\n",
       " 0.9680558493759255,\n",
       " 0.9956803455723542,\n",
       " 0.9964243146603099,\n",
       " 0.9968159203980099,\n",
       " 0.9970828471411902,\n",
       " 0.9971687429218573,\n",
       " 0.996317157712305]"
      ]
     },
     "execution_count": 25,
     "metadata": {},
     "output_type": "execute_result"
    }
   ],
   "source": [
    "[x.index(\"Word Count\")/len(x) for x in ds[\"essay\"] if \"Word Count\" in x]"
   ]
  },
  {
   "cell_type": "code",
   "execution_count": 60,
   "metadata": {},
   "outputs": [],
   "source": [
    "def clean_essays(x, debug=False):\n",
    "\n",
    "    if debug:\n",
    "        import pdb; pdb.set_trace()\n",
    "\n",
    "    if \"Retrieved from\" in x and x.index(\"Retrieved from\")/len(x) > 0.8:\n",
    "\n",
    "        x = x[:x.index(\"Retrieved from\")]\n",
    "\n",
    "    \n",
    "    if \"Word Count\" in x and x.index(\"Word Count\")/len(x) > 0.8:\n",
    "        x = x[:x.index(\"Word Count\")]\n",
    "\n",
    "\n",
    "    if \"References\" in x and x.index(\"References\")/len(x) > 0.7:\n",
    "        x = x[:x.index(\"References\")]\n",
    "\n",
    "    pattern = \"\\n\\nReference\"\n",
    "    if pattern in x and x.index(pattern)/len(x) > 0.7:\n",
    "        x = x[:x.index(pattern)]\n",
    "\n",
    "    if \"**Note:**\" in x and x.index(\"**Note:**\")/len(x) > 0.8:\n",
    "        x = x[:x.index(\"**Note:**\")]\n",
    "\n",
    "    if \"Please note\" in x and x.index(\"Please note\")/len(x) > 0.8:\n",
    "        x = x[:x.index(\"Please note\")]\n",
    "\n",
    "    if \"\\n\\n\" in x and x.rindex(\"\\n\\n\")/len(x) > 0.95:\n",
    "        x = x[:x.rindex(\"\\n\\n\")]\n",
    "\n",
    "    return x\n"
   ]
  },
  {
   "cell_type": "code",
   "execution_count": 59,
   "metadata": {},
   "outputs": [
    {
     "name": "stdout",
     "output_type": "stream",
     "text": [
      "> \u001b[0;32m/tmp/ipykernel_200747/3808013601.py\u001b[0m(6)\u001b[0;36mclean_essays\u001b[0;34m()\u001b[0m\n",
      "\u001b[0;32m      4 \u001b[0;31m        \u001b[0;32mimport\u001b[0m \u001b[0mpdb\u001b[0m\u001b[0;34m;\u001b[0m \u001b[0mpdb\u001b[0m\u001b[0;34m.\u001b[0m\u001b[0mset_trace\u001b[0m\u001b[0;34m(\u001b[0m\u001b[0;34m)\u001b[0m\u001b[0;34m\u001b[0m\u001b[0;34m\u001b[0m\u001b[0m\n",
      "\u001b[0m\u001b[0;32m      5 \u001b[0;31m\u001b[0;34m\u001b[0m\u001b[0m\n",
      "\u001b[0m\u001b[0;32m----> 6 \u001b[0;31m    \u001b[0;32mif\u001b[0m \u001b[0;34m\"Retrieved from\"\u001b[0m \u001b[0;32min\u001b[0m \u001b[0mx\u001b[0m \u001b[0;32mand\u001b[0m \u001b[0mx\u001b[0m\u001b[0;34m.\u001b[0m\u001b[0mindex\u001b[0m\u001b[0;34m(\u001b[0m\u001b[0;34m\"Retrieved from\"\u001b[0m\u001b[0;34m)\u001b[0m\u001b[0;34m/\u001b[0m\u001b[0mlen\u001b[0m\u001b[0;34m(\u001b[0m\u001b[0mx\u001b[0m\u001b[0;34m)\u001b[0m \u001b[0;34m>\u001b[0m \u001b[0;36m0.8\u001b[0m\u001b[0;34m:\u001b[0m\u001b[0;34m\u001b[0m\u001b[0;34m\u001b[0m\u001b[0m\n",
      "\u001b[0m\u001b[0;32m      7 \u001b[0;31m\u001b[0;34m\u001b[0m\u001b[0m\n",
      "\u001b[0m\u001b[0;32m      8 \u001b[0;31m        \u001b[0mx\u001b[0m \u001b[0;34m=\u001b[0m \u001b[0mx\u001b[0m\u001b[0;34m[\u001b[0m\u001b[0;34m:\u001b[0m\u001b[0mx\u001b[0m\u001b[0;34m.\u001b[0m\u001b[0mindex\u001b[0m\u001b[0;34m(\u001b[0m\u001b[0;34m\"Retrieved from\"\u001b[0m\u001b[0;34m)\u001b[0m\u001b[0;34m]\u001b[0m\u001b[0;34m\u001b[0m\u001b[0;34m\u001b[0m\u001b[0m\n",
      "\u001b[0m\n",
      "0.9956709956709957\n",
      "\" ' Challenge: Addressing the growing energy demands of expanding cities while minimizing carbon emissions and environmental impact.\\n\\nAs an environmental engineer at a leading sustainable energy company, I have confronted numerous challenges that require innovative solutions to balance economic growth with environmental stewardship. One such complex challenge is addressing the increasing energy demands of expanding cities while minimizing carbon emissions and environmental impact. This issue is significant because urban areas account for approximately 70% of global carbon dioxide emissions, and their energy consumption is projected to double by 2050 due to population growth and economic development. Consequently, there is an urgent need for cleaner and more efficient energy solutions to mitigate the environmental consequences of urban expansion.\\n\\nSelection of the Tool or Approach:\\n\\nTo tackle this challenge, I chose to apply the Integrated Energy Systems (IES) approach, which combines various energy conversion technologies, energy storage systems, and demand-side management strategies to optimize energy supply and demand. I selected this approach because of its comprehensive nature and its potential to provide a long-term solution for urban energy systems. Furthermore, IES has been successfully implemented in several demonstration projects worldwide, showcasing its applicability and effectiveness. Alternatives like relying solely on renewable energy sources or implementing energy efficiency measures were considered but discarded since they may not adequately address the complex interplay between energy supply and demand in rapidly growing urban areas.\\n\\nApplication of the Tool or Approach:\\n\\nTo apply the IES approach, I first conducted a thorough analysis of the energy supply and demand patterns in the target urban area. Based on this analysis, I identified suitable energy conversion technologies, including combined heat and power (CHP) systems, renewable energy sources, and waste-to-energy plants. Next, I incorporated energy storage systems, such as batteries and thermal storage, to balance the intermittent nature of renewable energy sources and ensure a reliable energy supply.\\n\\nIn addition, I integrated demand-side management strategies, such as energy conservation measures, demand response programs, and smart grid technologies, to optimize energy consumption patterns. By utilizing these components, I developed an optimized IES that balanced energy supply and demand while minimizing carbon emissions and environmental impact.\\n\\nThroughout the application process, I collaborated with various stakeholders, including local government officials, utility companies, and community representatives, to ensure the feasibility and acceptability of the proposed IES. Furthermore, I engaged in extensive public outreach to raise awareness of the benefits of the IES approach and garner support for its implementation.\\n\\nAnalysis and Insight:\\n\\nThe IES approach has proven to be effective in addressing the complex challenge of urban energy demands while minimizing carbon emissions and environmental impact. The optimized IES successfully balanced energy supply and demand, reducing energy losses and enhancing the overall efficiency of the urban energy system.\\n\\nHowever, the implementation of the IES was not without limitations. The initial capital investment required for the deployment of energy conversion and storage technologies was relatively high. Additionally, coordinating various stakeholders and ensuring the compatibility of different energy systems posed significant challenges.\\n\\nDespite these limitations, the IES approach has led to several unexpected outcomes and lessons learned. For instance, the public engagement process revealed a strong desire for cleaner and more reliable energy sources, which further motivated the adoption of the IES. Moreover, the implementation process fostered collaboration among stakeholders, leading to the creation of a robust network for knowledge sharing and future partnerships.\\n\\nConclusion - Future Applications:\\n\\nThe key insights gained from applying the IES approach to address urban energy demands highlight the need for long-term, comprehensive solutions that consider both energy supply and demand. Moreover, the importance of engaging various stakeholders and the public throughout the implementation process cannot be overstated.\\n\\nMoving forward, these insights can inform the application of similar tools in addressing other complex challenges related to energy systems, such as electrifying transportation or integrating renewable energy sources into existing power grids. In particular, the IES approach can be expanded to incorporate emerging technologies like electric vehicles, hydrogen fuel cells, and advanced energy management systems. By building upon the foundational principles of IES, we can develop innovative and sustainable solutions to confront the evolving energy landscape.\\n\\nIn conclusion, my experience applying the IES approach to tackle the complex challenge of urban energy demands has demonstrated both the strengths and limitations of this tool. Despite the challenges encountered, the IES approach has proven to be effective in addressing energy supply and demand while minimizing carbon emissions and environmental impact. By building on the lessons learned and incorporating emerging technologies, we can enhance the effectiveness of the IES approach and pave the way for a more sustainable future.\"\n",
      "\" ' Challenge: Addressing the growing energy demands of expanding cities while minimizing carbon emissions and environmental impact.\\n\\nAs an environmental engineer at a leading sustainable energy company, I have confronted numerous challenges that require innovative solutions to balance economic growth with environmental stewardship. One such complex challenge is addressing the increasing energy demands of expanding cities while minimizing carbon emissions and environmental impact. This issue is significant because urban areas account for approximately 70% of global carbon dioxide emissions, and their energy consumption is projected to double by 2050 due to population growth and economic development. Consequently, there is an urgent need for cleaner and more efficient energy solutions to mitigate the environmental consequences of urban expansion.\\n\\nSelection of the Tool or Approach:\\n\\nTo tackle this challenge, I chose to apply the Integrated Energy Systems (IES) approach, which combines various energy conversion technologies, energy storage systems, and demand-side management strategies to optimize energy supply and demand. I selected this approach because of its comprehensive nature and its potential to provide a long-term solution for urban energy systems. Furthermore, IES has been successfully implemented in several demonstration projects worldwide, showcasing its applicability and effectiveness. Alternatives like relying solely on renewable energy sources or implementing energy efficiency measures were considered but discarded since they may not adequately address the complex interplay between energy supply and demand in rapidly growing urban areas.\\n\\nApplication of the Tool or Approach:\\n\\nTo apply the IES approach, I first conducted a thorough analysis of the energy supply and demand patterns in the target urban area. Based on this analysis, I identified suitable energy conversion technologies, including combined heat and power (CHP) systems, renewable energy sources, and waste-to-energy plants. Next, I incorporated energy storage systems, such as batteries and thermal storage, to balance the intermittent nature of renewable energy sources and ensure a reliable energy supply.\\n\\nIn addition, I integrated demand-side management strategies, such as energy conservation measures, demand response programs, and smart grid technologies, to optimize energy consumption patterns. By utilizing these components, I developed an optimized IES that balanced energy supply and demand while minimizing carbon emissions and environmental impact.\\n\\nThroughout the application process, I collaborated with various stakeholders, including local government officials, utility companies, and community representatives, to ensure the feasibility and acceptability of the proposed IES. Furthermore, I engaged in extensive public outreach to raise awareness of the benefits of the IES approach and garner support for its implementation.\\n\\nAnalysis and Insight:\\n\\nThe IES approach has proven to be effective in addressing the complex challenge of urban energy demands while minimizing carbon emissions and environmental impact. The optimized IES successfully balanced energy supply and demand, reducing energy losses and enhancing the overall efficiency of the urban energy system.\\n\\nHowever, the implementation of the IES was not without limitations. The initial capital investment required for the deployment of energy conversion and storage technologies was relatively high. Additionally, coordinating various stakeholders and ensuring the compatibility of different energy systems posed significant challenges.\\n\\nDespite these limitations, the IES approach has led to several unexpected outcomes and lessons learned. For instance, the public engagement process revealed a strong desire for cleaner and more reliable energy sources, which further motivated the adoption of the IES. Moreover, the implementation process fostered collaboration among stakeholders, leading to the creation of a robust network for knowledge sharing and future partnerships.\\n\\nConclusion - Future Applications:\\n\\nThe key insights gained from applying the IES approach to address urban energy demands highlight the need for long-term, comprehensive solutions that consider both energy supply and demand. Moreover, the importance of engaging various stakeholders and the public throughout the implementation process cannot be overstated.\\n\\nMoving forward, these insights can inform the application of similar tools in addressing other complex challenges related to energy systems, such as electrifying transportation or integrating renewable energy sources into existing power grids. In particular, the IES approach can be expanded to incorporate emerging technologies like electric vehicles, hydrogen fuel cells, and advanced energy management systems. By building upon the foundational principles of IES, we can develop innovative and sustainable solutions to confront the evolving energy landscape.\\n\\nIn conclusion, my experience applying the IES approach to tackle the complex challenge of urban energy demands has demonstrated both the strengths and limitations of this tool. Despite the challenges encountered, the IES approach has proven to be effective in addressing energy supply and demand while minimizing carbon emissions and environmental impact. By building on the lessons learned and incorporating emerging technologies, we can enhance the effectiveness of the IES approach and pave the way for a more sustainable future.\"\n",
      "True\n",
      "True\n"
     ]
    }
   ],
   "source": [
    "t = \" ' Challenge: Addr\\n\\nReference:essing the growing energy demands of expanding cities while minimizing carbon emissions and environmental impact.\\n\\nAs an environmental engineer at a leading sustainable energy company, I have confronted numerous challenges that require innovative solutions to balance economic growth with environmental stewardship. One such complex challenge is addressing the increasing energy demands of expanding cities while minimizing carbon emissions and environmental impact. This issue is significant because urban areas account for approximately 70% of global carbon dioxide emissions, and their energy consumption is projected to double by 2050 due to population growth and economic development. Consequently, there is an urgent need for cleaner and more efficient energy solutions to mitigate the environmental consequences of urban expansion.\\n\\nSelection of the Tool or Approach:\\n\\nTo tackle this challenge, I chose to apply the Integrated Energy Systems (IES) approach, which combines various energy conversion technologies, energy storage systems, and demand-side management strategies to optimize energy supply and demand. I selected this approach because of its comprehensive nature and its potential to provide a long-term solution for urban energy systems. Furthermore, IES has been successfully implemented in several demonstration projects worldwide, showcasing its applicability and effectiveness. Alternatives like relying solely on renewable energy sources or implementing energy efficiency measures were considered but discarded since they may not adequately address the complex interplay between energy supply and demand in rapidly growing urban areas.\\n\\nApplication of the Tool or Approach:\\n\\nTo apply the IES approach, I first conducted a thorough analysis of the energy supply and demand patterns in the target urban area. Based on this analysis, I identified suitable energy conversion technologies, including combined heat and power (CHP) systems, renewable energy sources, and waste-to-energy plants. Next, I incorporated energy storage systems, such as batteries and thermal storage, to balance the intermittent nature of renewable energy sources and ensure a reliable energy supply.\\n\\nIn addition, I integrated demand-side management strategies, such as energy conservation measures, demand response programs, and smart grid technologies, to optimize energy consumption patterns. By utilizing these components, I developed an optimized IES that balanced energy supply and demand while minimizing carbon emissions and environmental impact.\\n\\nThroughout the application process, I collaborated with various stakeholders, including local government officials, utility companies, and community representatives, to ensure the feasibility and acceptability of the proposed IES. Furthermore, I engaged in extensive public outreach to raise awareness of the benefits of the IES approach and garner support for its implementation.\\n\\nAnalysis and Insight:\\n\\nThe IES approach has proven to be effective in addressing the complex challenge of urban energy demands while minimizing carbon emissions and environmental impact. The optimized IES successfully balanced energy supply and demand, reducing energy losses and enhancing the overall efficiency of the urban energy system.\\n\\nHowever, the implementation of the IES was not without limitations. The initial capital investment required for the deployment of energy conversion and storage technologies was relatively high. Additionally, coordinating various stakeholders and ensuring the compatibility of different energy systems posed significant challenges.\\n\\nDespite these limitations, the IES approach has led to several unexpected outcomes and lessons learned. For instance, the public engagement process revealed a strong desire for cleaner and more reliable energy sources, which further motivated the adoption of the IES. Moreover, the implementation process fostered collaboration among stakeholders, leading to the creation of a robust network for knowledge sharing and future partnerships.\\n\\nConclusion - Future Applications:\\n\\nThe key insights gained from applying the IES approach to address urban energy demands highlight the need for long-term, comprehensive solutions that consider both energy supply and demand. Moreover, the importance of engaging various stakeholders and the public throughout the implementation process cannot be overstated.\\n\\nMoving forward, these insights can inform the application of similar tools in addressing other complex challenges related to energy systems, such as electrifying transportation or integrating renewable energy sources into existing power grids. In particular, the IES approach can be expanded to incorporate emerging technologies like electric vehicles, hydrogen fuel cells, and advanced energy management systems. By building upon the foundational principles of IES, we can develop innovative and sustainable solutions to confront the evolving energy landscape.\\n\\nIn conclusion, my experience applying the IES approach to tackle the complex challenge of urban energy demands has demonstrated both the strengths and limitations of this tool. Despite the challenges encountered, the IES approach has proven to be effective in addressing energy supply and demand while minimizing carbon emissions and environmental impact. By building on the lessons learned and incorporating emerging technologies, we can enhance the effectiveness of the IES approach and pave the way for a more sustainable future.\\n\\n--------------------',\"\n",
    "\n",
    "clean_essays(t, debug=True)"
   ]
  },
  {
   "cell_type": "code",
   "execution_count": 61,
   "metadata": {},
   "outputs": [],
   "source": [
    "new_essays = [clean_essays(x) for x in ds[\"essay\"]]"
   ]
  },
  {
   "cell_type": "code",
   "execution_count": 63,
   "metadata": {},
   "outputs": [
    {
     "data": {
      "text/plain": [
       "339"
      ]
     },
     "execution_count": 63,
     "metadata": {},
     "output_type": "execute_result"
    }
   ],
   "source": [
    "len([y for x,y in zip(ds[\"essay\"], new_essays) if x != y])"
   ]
  },
  {
   "cell_type": "code",
   "execution_count": 64,
   "metadata": {},
   "outputs": [
    {
     "data": {
      "text/plain": [
       "14"
      ]
     },
     "execution_count": 64,
     "metadata": {},
     "output_type": "execute_result"
    }
   ],
   "source": [
    "len([y for x,y in zip(ds[\"essay\"], new_essays) if \"[URL\" in y])"
   ]
  },
  {
   "cell_type": "code",
   "execution_count": 65,
   "metadata": {},
   "outputs": [
    {
     "data": {
      "text/plain": [
       "38"
      ]
     },
     "execution_count": 65,
     "metadata": {},
     "output_type": "execute_result"
    }
   ],
   "source": [
    "len([y for x,y in zip(ds[\"essay\"], new_essays) if \"[URL\" in x])"
   ]
  },
  {
   "cell_type": "code",
   "execution_count": 68,
   "metadata": {},
   "outputs": [
    {
     "data": {
      "text/plain": [
       "6"
      ]
     },
     "execution_count": 68,
     "metadata": {},
     "output_type": "execute_result"
    }
   ],
   "source": [
    "len([y for x,y in zip(ds[\"essay\"], new_essays) if \"http\" in y])"
   ]
  },
  {
   "cell_type": "code",
   "execution_count": 103,
   "metadata": {},
   "outputs": [
    {
     "data": {
      "text/plain": [
       "2355"
      ]
     },
     "execution_count": 103,
     "metadata": {},
     "output_type": "execute_result"
    }
   ],
   "source": [
    "clean = [x for x, p in zip(new_essays, preds) if len(p) == 0]\n",
    "clean = [x for x in clean if \"http\" not in x]\n",
    "clean = [x for x in clean if \"[URL\" not in x]\n",
    "clean = [x.strip().strip(\" \\n-\") for x in clean]\n",
    "\n",
    "len(clean)"
   ]
  },
  {
   "cell_type": "code",
   "execution_count": 142,
   "metadata": {},
   "outputs": [
    {
     "data": {
      "text/plain": [
       "[\"**Introduction - Identifying the Challenge**\\n\\nIn the dynamic world of digital marketing, one of the most complex challenges is crafting a comprehensive strategy that effectively reaches and engages a niche target audience. This is especially true for tech startups attempting to break into highly competitive markets. For the past four years, I have been working as a Digital Marketing Specialist at a tech startup, and I've faced this challenge head-on.\\n\\nThe complexity of this challenge stems from the increasingly fragmented digital landscape and the diverse preferences of niche audiences. Traditional marketing techniques often fail to deliver the desired results, leaving digital marketers in search of innovative strategies. The successful identification and implementation of these strategies require a deep understanding of the latest digital marketing tools and techniques, as well as the ability to adapt quickly to emerging trends and user behaviors.\\n\\n**Selection of the Tool or Approach**\\n\\nTo address the challenge of effectively reaching and engaging a niche target audience, I chose to apply a multi-pronged approach combining advanced search engine optimization (SEO), pay-per-click (PPC) advertising, and content marketing. The rationale behind selecting this particular method was three-fold.\\n\\nFirst, given the increasingly competitive digital landscape, it is crucial to optimize a website's organic search performance. Advanced SEO techniques, such as keyword research, on-page optimization, and link building, help to improve visibility and attract relevant traffic.\\n\\nSecond, PPC advertising enables businesses to target specific audience segments with precision. By leveraging platforms like Google Ads and social media advertising, I could create highly targeted campaigns that reach potential customers with a higher purchase intent.\\n\\nThird, content marketing plays an essential role in engaging and retaining a niche audience. By providing valuable, relevant, and consistent content, I aimed to build trust and establish my company as a thought leader in the industry.\\n\\nI considered alternative methods, such as influencer marketing and email marketing campaigns. However, due to resource constraints and the evolving nature of these channels, I decided to focus on SEO, PPC, and content marketing, which offered a more sustainable and scalable solution.\\n\\n**Application of the Tool or Approach**\\n\\nTo apply this multi-pronged approach to our digital marketing strategy, I followed a systematic process consisting of several stages, including:\\n\\n1. **Audience Research:** The first step was to gain a deep understanding of our target audience. This involved analyzing demographic data, online behavior, content consumption patterns, and pain points. Armed with this information, we could tailor our SEO, PPC, and content marketing efforts to resonate with our audience.\\n2. **Keyword Research:** Utilizing tools like Google Keyword Planner and SEMRush, I identified high-traffic, low-competition keywords relevant to our niche. This informed our on-page optimization efforts, allowing us to improve our search engine rankings and attract more organic traffic.\\n3. **On-Page Optimization:** Based on keyword research, I optimized our website's content, meta tags, and URL structures to improve its relevance and visibility in search engine results pages (SERPs).\\n4. **Link Building:** I employed various link building techniques, such as guest blogging, broken link building, and influencer outreach, to acquire high-quality backlinks and further bolster our website's authority.\\n5. **PPC Campaigns:** After conducting extensive keyword research, I set up targeted PPC campaigns using Google Ads and social media advertising platforms. These campaigns were continuously refined based on performance metrics, ensuring maximum effectiveness and return on investment (ROI).\\n6. **Content Strategy:** I developed a content strategy that included creating valuable, relevant, and consistent content tailored to our target audience. This involved producing blog posts, infographics, whitepapers, and case studies, along with promoting them through our social media channels and email newsletters.\\n\\nTo adapt this approach to the specific context of our challenge, I frequently reviewed and analyzed performance metrics using tools like Google Analytics, Google Search Console, and social media analytics platforms. This allowed me to make data-driven decisions and fine-tune our strategy in response to emerging trends and user behaviors.\\n\\n**Analysis and Insight**\\n\\nApplying this multi-pronged approach to our digital marketing strategy has proven to be highly effective in reaching and engaging our niche target audience.\\n\\nOne of the key successes has been the significant improvement in our website's organic search performance. By optimizing our on-page elements and acquiring high-quality backlinks, we have seen a substantial increase in organic traffic, with our target keywords now appearing in the top 3 positions of SERPs.\\n\\nPPC campaigns have also provided positive results, particularly on social media platforms. By leveraging advanced targeting options and eye-catching ad creatives, we have attracted potential customers with a higher purchase intent, leading to increased sales and overall ROI.\\n\\nContent marketing has played a crucial role in nurturing leads and establishing our credibility in the industry. By consistently producing valuable content, we have engaged our audience, encouraged social sharing, and generated high-quality inbound links.\\n\\nHowever, this approach has limitations. The ever-evolving digital landscape necessitates continuous learning and adaptation, requiring significant time and resource investments. Additionally, changes in search engine algorithms and advertising policies can impact campaign performance, making long-term planning challenging.\\n\\n**Conclusion - Future Applications**\\n\\nThrough this experience, I have gained valuable insights into effectively reaching and engaging a niche target audience using a multi-pronged digital marketing approach. The key takeaways are:\\n\\n1. **Optimize for Organic Search:** Advanced SEO techniques, such as keyword research and on-page optimization, can significantly improve visibility and attract relevant traffic.\\n2. **Leverage PPC Advertising:** Platforms like Google Ads and social media advertising enable precise targeting of niche audience segments, increasing the likelihood of connecting with potential customers who have a higher purchase intent.\\n3. **Engage with Content Marketing:** By providing valuable, relevant, and consistent content, businesses can build trust and establish themselves as thought leaders in their respective industries.\\n\\nIn the future, I plan to build upon these insights and continue to refine our digital marketing strategy, taking into account emerging trends and user behaviors. This may involve incorporating new channels or tools, experimenting with alternative content formats, and collaborating with industry influencers to amplify our reach.\"]"
      ]
     },
     "execution_count": 142,
     "metadata": {},
     "output_type": "execute_result"
    }
   ],
   "source": [
    "import random\n",
    "\n",
    "random.sample(clean, 1)"
   ]
  },
  {
   "cell_type": "code",
   "execution_count": 143,
   "metadata": {},
   "outputs": [],
   "source": [
    "import json\n",
    "\n",
    "json.dump(clean, open(\"clean_essays.json\", \"w\"))"
   ]
  },
  {
   "cell_type": "code",
   "execution_count": 19,
   "metadata": {},
   "outputs": [
    {
     "name": "stdout",
     "output_type": "stream",
     "text": [
      " **INTRODUCTION - IDENTIFYING THE CHALLENGE**\n",
      "\n",
      "The exponential growth of digital platforms and the increasing reliance on online searches for products, services, and information have made Search Engine Optimization (SEO) and Search Engine Marketing (SEM) crucial components of digital marketing strategies. As a Digital Marketer (Search Specialist), I encountered a significant challenge: how to optimize a client's online presence amid constant changes in search engine algorithms while ensuring that their unique value proposition reaches the right audience? The complexity of this challenge lies in striking a delicate balance between catering to search engine requirements and addressing user needs.\n",
      "\n",
      "**SELECTION OF THE TOOL OR APPROACH**\n",
      "\n",
      "To tackle this challenge, I chose to employ an Integrated Search Strategy – a approach that combines SEO, SEM, and Content Marketing tactics. I selected this approach because it allows for a comprehensive, multi-faceted optimization of a client's online presence, addressing both search engine requirements and user needs. Its theoretical underpinnings are rooted in understanding user intent, crafting high-quality content, and leveraging data-driven insights to optimize visibility. I considered alternative approaches, such as exclusive focus on SEO or SEM, but they were discarded as their isolated usage may limit overall reach and effectiveness.\n",
      "\n",
      "**APPLICATION OF THE TOOL OR APPROACH**\n",
      "\n",
      "To apply the Integrated Search Strategy, I follow these steps:\n",
      "\n",
      "1. **Keyword Research:** I begin by conducting extensive keyword research to identify relevant terms and phrases that align with the client's offerings and user intent. This research informs the content creation process and SEO optimizations.\n",
      "\n",
      "2. **Content Audit & Gap Analysis:** I perform a content audit to evaluate the client's existing online assets and identify gaps in addressing user needs and search engine requirements.\n",
      "\n",
      "3. **On-page & Off-page SEO:** Based on keyword research and content audit findings, I optimize on-page elements (e.g., meta tags, headers, content) and engage in off-page activities (e.g., link building, brand mentions) for improved visibility and authority.\n",
      "\n",
      "4. **Paid Advertising (SEM):** I design and manage paid advertising campaigns to supplement organic reach, focusing on targeted ads that reach the right audience at the right time.\n",
      "\n",
      "5. **Analytics and Reporting:** I utilize various analytics tools to monitor performance, measure key performance indicators (KPIs), and make data-driven decisions for continuous improvement.\n",
      "\n",
      "In applying the Integrated Search Strategy, I make adaptations based on the specific context of each challenge, such as the client's industry, target audience, and unique offerings.\n",
      "\n",
      "**ANALYSIS AND INSIGHT**\n",
      "\n",
      "The Integrated Search Strategy has proven effective in addressing the challenge of optimizing a client's online presence amidst changing search engine algorithms and user needs. Its primary strength lies in its holistic approach, addressing both technical SEO and user engagement aspects. However, potential limitations include resource intensity and the need for continuous adaptation to search engine updates. Through the application process, I've learned the importance of being adaptable in the ever-evolving digital marketing landscape and the value of utilizing data-driven insights for informed decision-making. I also discovered that a well-executed Integrated Search Strategy can generate a substantial return on investment for clients.\n",
      "\n",
      "**CONCLUSION - FUTURE APPLICATIONS**\n",
      "\n",
      "Based on my experience, the key insights gained from using the Integrated Search Strategy include the importance of an adaptive, data-driven approach, and the value of addressing user needs and search engine requirements concurrently. These insights can inform future applications of the Integrated Search Strategy in addressing other challenges by emphasizing long-term planning, continuous improvement, and a focus on both user engagement and SEO optimization.\n",
      "\n",
      "In addition, the Integrated Search Strategy could be further enhanced by incorporating emerging trends, such as voice search and artificial intelligence, to better anticipate and cater to future changes in user behavior and search engine algorithms. Regardless of the specific tools and tactics employed, it's crucial that digital marketers stay informed and responsive to the evolving digital marketing landscape to drive client success.\n",
      "\n",
      "[URL: https://alexdigitalmarketer.com/integrated-search-strategy/]\n",
      "\n",
      "Connected dynamically with Alex today and benefit from an enriched and innovative digital marketing approach!\n",
      "> \u001b[0;32m/tmp/ipykernel_200747/347698607.py\u001b[0m(1)\u001b[0;36m<module>\u001b[0;34m()\u001b[0m\n",
      "\u001b[0;32m----> 1 \u001b[0;31m\u001b[0;32mfor\u001b[0m \u001b[0mp\u001b[0m\u001b[0;34m,\u001b[0m \u001b[0mx\u001b[0m \u001b[0;32min\u001b[0m \u001b[0mzip\u001b[0m\u001b[0;34m(\u001b[0m\u001b[0mpreds\u001b[0m\u001b[0;34m,\u001b[0m \u001b[0mds\u001b[0m\u001b[0;34m[\u001b[0m\u001b[0;34m\"essay\"\u001b[0m\u001b[0;34m]\u001b[0m\u001b[0;34m)\u001b[0m\u001b[0;34m:\u001b[0m\u001b[0;34m\u001b[0m\u001b[0;34m\u001b[0m\u001b[0m\n",
      "\u001b[0m\u001b[0;32m      2 \u001b[0;31m    \u001b[0;32mif\u001b[0m \u001b[0mlen\u001b[0m\u001b[0;34m(\u001b[0m\u001b[0mp\u001b[0m\u001b[0;34m)\u001b[0m \u001b[0;34m>\u001b[0m \u001b[0;36m0\u001b[0m\u001b[0;34m:\u001b[0m\u001b[0;34m\u001b[0m\u001b[0;34m\u001b[0m\u001b[0m\n",
      "\u001b[0m\u001b[0;32m      3 \u001b[0;31m        \u001b[0mprint\u001b[0m\u001b[0;34m(\u001b[0m\u001b[0mx\u001b[0m\u001b[0;34m)\u001b[0m\u001b[0;34m\u001b[0m\u001b[0;34m\u001b[0m\u001b[0m\n",
      "\u001b[0m\u001b[0;32m      4 \u001b[0;31m        \u001b[0;32mimport\u001b[0m \u001b[0mpdb\u001b[0m\u001b[0;34m;\u001b[0m \u001b[0mpdb\u001b[0m\u001b[0;34m.\u001b[0m\u001b[0mset_trace\u001b[0m\u001b[0;34m(\u001b[0m\u001b[0;34m)\u001b[0m\u001b[0;34m\u001b[0m\u001b[0;34m\u001b[0m\u001b[0m\n",
      "\u001b[0m\n",
      " **Introduction - Identifying the Challenge**\n",
      "\n",
      "As a User Experience Designer, I often encounter complex challenges that require innovative solutions to improve digital interfaces and create seamless user experiences. One such challenge that I recently tackled was designing an accessible mobile app for a diverse group of users, including individuals with various disabilities. This task was particularly significant due to the growing need for inclusive technology, as well as the ethical responsibility to ensure equal access to information and services for all. Given the complexity of this issue, it was crucial to select an appropriate tool or approach that would effectively address the unique needs of these users.\n",
      "\n",
      "**Selection of the Tool or Approach**\n",
      "\n",
      "To design an inclusive mobile app, I chose to apply the Universal Design (UD) approach. UD is a design philosophy that aims to create products, environments, and services that are accessible and usable by as many people as possible, regardless of age, ability, or other factors. I selected this approach for several reasons. First, UD aligns with my belief in creating equitable digital experiences for everyone. Second, it has a strong theoretical foundation, with principles that can be readily applied to various design contexts. Lastly, UD has been proven effective in improving accessibility and usability for diverse user groups.\n",
      "\n",
      "Prior to settling on UD, I considered other approaches such as Assistive Technology (AT) and Accessibility Overlays. However, I discarded AT because it primarily focuses on accommodating existing barriers for specific user groups, rather than proactively designing for inclusivity. Accessibility Overlays, on the other hand, were not chosen due to their questionable effectiveness and potential negative impact on user experience and privacy.\n",
      "\n",
      "**Application of the Tool or Approach**\n",
      "\n",
      "To apply UD to the mobile app design, I followed several steps. First, I familiarized myself with the seven principles of UD: equitable use, flexibility in use, simple and intuitive use, perceptible information, tolerance for error, low physical effort, and size and space for approach and use. Next, I conducted extensive user research, including interviews and usability tests with individuals with various disabilities, to identify their unique needs and preferences.\n",
      "\n",
      "During the design process, I ensured that the app adhered to the UD principles. For example, I used large, high-contrast text to make the app more readable for low-vision users, and included voice commands for users with motor impairments. I also added haptic feedback to improve the app's usability for deaf users, and ensured that the app was navigable using only keyboard commands. Throughout the process, I continuously tested the app with diverse user groups to validate its accessibility and make necessary adjustments.\n",
      "\n",
      "**Analysis and Insight**\n",
      "\n",
      "Applying UD to the mobile app design was largely successful. The app demonstrated improved accessibility and usability for users with various disabilities, as evidenced by positive user feedback and successful usability tests. The UD approach ensured that the app catered to a wider range of users, promoting inclusivity and equal access to information and services.\n",
      "\n",
      "However, there were some limitations to this approach. For instance, designing for such a diverse user group can result in increased complexity and development time. Additionally, achieving a perfect balance between usability and aesthetics can be challenging, as some UD principles may compromise the visual appeal of the app. Lastly, constraints in technology and resources might limit the extent to which UD principles can be implemented.\n",
      "\n",
      "**Conclusion - Future Applications**\n",
      "\n",
      "Through the application of UD to mobile app design, I gained valuable insights into creating inclusive digital experiences. Future applications of this approach should prioritize user research, continuous testing, and collaboration with cross-functional teams to ensure the successful implementation of UD principles. Furthermore, I would advocate for increased awareness and education on UD within the UX community, as well as the integration of UD principles into design curricula and professional development programs.\n",
      "\n",
      "In conclusion, applying the Universal Design approach to create an accessible mobile app for diverse users presented both successes and limitations. However, the valuable insights gained from this experience will undoubtedly inform future applications of this tool, ultimately contributing to the creation of more inclusive and equitable digital interfaces.\n",
      "\n",
      "**Note:** [The URL \"www.oliviahernandez.com/UD-MobileAppCaseStudy\" mentioned in this essay has been replaced with a placeholder.]\n",
      "> \u001b[0;32m/tmp/ipykernel_200747/347698607.py\u001b[0m(1)\u001b[0;36m<module>\u001b[0;34m()\u001b[0m\n",
      "\u001b[0;32m----> 1 \u001b[0;31m\u001b[0;32mfor\u001b[0m \u001b[0mp\u001b[0m\u001b[0;34m,\u001b[0m \u001b[0mx\u001b[0m \u001b[0;32min\u001b[0m \u001b[0mzip\u001b[0m\u001b[0;34m(\u001b[0m\u001b[0mpreds\u001b[0m\u001b[0;34m,\u001b[0m \u001b[0mds\u001b[0m\u001b[0;34m[\u001b[0m\u001b[0;34m\"essay\"\u001b[0m\u001b[0;34m]\u001b[0m\u001b[0;34m)\u001b[0m\u001b[0;34m:\u001b[0m\u001b[0;34m\u001b[0m\u001b[0;34m\u001b[0m\u001b[0m\n",
      "\u001b[0m\u001b[0;32m      2 \u001b[0;31m    \u001b[0;32mif\u001b[0m \u001b[0mlen\u001b[0m\u001b[0;34m(\u001b[0m\u001b[0mp\u001b[0m\u001b[0;34m)\u001b[0m \u001b[0;34m>\u001b[0m \u001b[0;36m0\u001b[0m\u001b[0;34m:\u001b[0m\u001b[0;34m\u001b[0m\u001b[0;34m\u001b[0m\u001b[0m\n",
      "\u001b[0m\u001b[0;32m      3 \u001b[0;31m        \u001b[0mprint\u001b[0m\u001b[0;34m(\u001b[0m\u001b[0mx\u001b[0m\u001b[0;34m)\u001b[0m\u001b[0;34m\u001b[0m\u001b[0;34m\u001b[0m\u001b[0m\n",
      "\u001b[0m\u001b[0;32m      4 \u001b[0;31m        \u001b[0;32mimport\u001b[0m \u001b[0mpdb\u001b[0m\u001b[0;34m;\u001b[0m \u001b[0mpdb\u001b[0m\u001b[0;34m.\u001b[0m\u001b[0mset_trace\u001b[0m\u001b[0;34m(\u001b[0m\u001b[0;34m)\u001b[0m\u001b[0;34m\u001b[0m\u001b[0;34m\u001b[0m\u001b[0m\n",
      "\u001b[0m\n",
      " **Applying Design Thinking to Streamline Client Onboarding**\n",
      "\n",
      "As a creative director at a marketing agency, I encounter complex challenges regularly. Recently, I faced a significant issue with our client onboarding process. This crucial stage in our projects was often chaotic, with miscommunications and misunderstandings causing delays and dissatisfaction for both our team and the clients. I realized that a more structured and empathetic approach was necessary, and I decided to apply the design thinking methodology to address this challenge.\n",
      "\n",
      "Design thinking is a problem-solving approach that focuses on understanding users' needs and values, iteratively prototyping solutions, and continuously refining these solutions based on user feedback. I chose this method for its human-centered perspective and its emphasis on collaboration and empathy, which I believed would help us build stronger relationships with our clients from the outset.\n",
      "\n",
      "Before applying design thinking, I evaluated alternative methods, such as traditional project management and Agile frameworks. I discarded these options because they prioritize efficiency and flexibility over understanding clients' needs and experiences. In contrast, design thinking encourages deep empathy with users, making it more suitable for our challenge.\n",
      "\n",
      "To implement design thinking, I followed a five-stage process: empathize, define, ideate, prototype, and test. First, I empathized with our clients, holding in-depth conversations to understand their concerns and expectations during onboarding. I then defined the core issues, including unclear expectations, miscommunication, and the lack of a cohesive onboarding experience.\n",
      "\n",
      "During the ideation phase, I collaborated with stakeholders to generate ideas for improving the onboarding process. Together, we ideated on tools and techniques, such as creating a comprehensive onboarding guide, setting up regular check-in meetings, and incorporating client feedback earlier on.\n",
      "\n",
      "In the prototype stage, we developed a simplified onboarding process, integrating new tools and strategies. The prototype included:\n",
      "\n",
      "1. An onboarding guide outlining the process and setting clear expectations for both parties\n",
      "2. A series of introductory video calls to build rapport and ensure everyone understood their roles\n",
      "3. Regular check-in meetings to discuss progress and address any concerns\n",
      "4. A shared project management platform for transparent communication and collaboration\n",
      "\n",
      "Finally, we tested the new onboarding process with a pilot group of clients. The results were overwhelmingly positive, with clients praising the clear communication, smoother collaboration, and more satisfying overall experience.\n",
      "\n",
      "Despite the success of the new onboarding process, I recognize certain limitations. Design thinking, while effective, is time-consuming and resource-intensive. It requires a significant commitment from all stakeholders, as well as the willingness to embrace change and ambiguity. However, the results have demonstrated the value of this investment.\n",
      "\n",
      "Applying design thinking to our client onboarding process has yielded valuable insights for future applications. By prioritizing empathy and collaboration, we have built stronger relationships with our clients, which translates to better project outcomes. I recommend adopting this approach for other challenges that involve understanding and addressing users' needs and experiences.\n",
      "\n",
      "In conclusion, I am grateful for the opportunity to apply design thinking to our complex client onboarding challenge. By focusing on empathy, adaptability, and user-centricity, we have significantly improved the experience for both our team and our clients, setting the foundation for successful, long-term partnerships.\n",
      "\n",
      "---\n",
      "\n",
      "*Please note that the url <https://www.belt.corp/> and email [beltrasolutionteam@gmail.com](mailto:beltrasolutionteam@gmail.com> <beltrasolutionteam@gmail.com> mentioned in the profile earlier do not belong to the actual persona, Alex Johnson. They are provided for context in relation to the creation and editing of the profile.*\n",
      "> \u001b[0;32m/tmp/ipykernel_200747/347698607.py\u001b[0m(1)\u001b[0;36m<module>\u001b[0;34m()\u001b[0m\n",
      "\u001b[0;32m----> 1 \u001b[0;31m\u001b[0;32mfor\u001b[0m \u001b[0mp\u001b[0m\u001b[0;34m,\u001b[0m \u001b[0mx\u001b[0m \u001b[0;32min\u001b[0m \u001b[0mzip\u001b[0m\u001b[0;34m(\u001b[0m\u001b[0mpreds\u001b[0m\u001b[0;34m,\u001b[0m \u001b[0mds\u001b[0m\u001b[0;34m[\u001b[0m\u001b[0;34m\"essay\"\u001b[0m\u001b[0;34m]\u001b[0m\u001b[0;34m)\u001b[0m\u001b[0;34m:\u001b[0m\u001b[0;34m\u001b[0m\u001b[0;34m\u001b[0m\u001b[0m\n",
      "\u001b[0m\u001b[0;32m      2 \u001b[0;31m    \u001b[0;32mif\u001b[0m \u001b[0mlen\u001b[0m\u001b[0;34m(\u001b[0m\u001b[0mp\u001b[0m\u001b[0;34m)\u001b[0m \u001b[0;34m>\u001b[0m \u001b[0;36m0\u001b[0m\u001b[0;34m:\u001b[0m\u001b[0;34m\u001b[0m\u001b[0;34m\u001b[0m\u001b[0m\n",
      "\u001b[0m\u001b[0;32m      3 \u001b[0;31m        \u001b[0mprint\u001b[0m\u001b[0;34m(\u001b[0m\u001b[0mx\u001b[0m\u001b[0;34m)\u001b[0m\u001b[0;34m\u001b[0m\u001b[0;34m\u001b[0m\u001b[0m\n",
      "\u001b[0m\u001b[0;32m      4 \u001b[0;31m        \u001b[0;32mimport\u001b[0m \u001b[0mpdb\u001b[0m\u001b[0;34m;\u001b[0m \u001b[0mpdb\u001b[0m\u001b[0;34m.\u001b[0m\u001b[0mset_trace\u001b[0m\u001b[0;34m(\u001b[0m\u001b[0;34m)\u001b[0m\u001b[0;34m\u001b[0m\u001b[0;34m\u001b[0m\u001b[0m\n",
      "\u001b[0m\n"
     ]
    }
   ],
   "source": [
    "for p, x in zip(preds, ds[\"essay\"]):\n",
    "    if len(p) > 0:\n",
    "        print(x)\n",
    "        import pdb; pdb.set_trace()"
   ]
  },
  {
   "cell_type": "code",
   "execution_count": 7,
   "metadata": {},
   "outputs": [],
   "source": [
    "preds = np.load(\"preds.npy\")\n",
    "\n",
    "count = 0\n",
    "\n",
    "\n",
    "for p in preds:\n",
    "\n",
    "    break\n",
    "    # if p.argmax(-1):"
   ]
  },
  {
   "cell_type": "code",
   "execution_count": 9,
   "metadata": {},
   "outputs": [
    {
     "data": {
      "text/plain": [
       "array([12, 12, 12, ...,  0,  0,  0])"
      ]
     },
     "execution_count": 9,
     "metadata": {},
     "output_type": "execute_result"
    }
   ],
   "source": [
    "p.argmax(-1)"
   ]
  },
  {
   "cell_type": "code",
   "execution_count": 10,
   "metadata": {},
   "outputs": [],
   "source": [
    "import json\n",
    "id2label = json.load(open(\"/drive2/kaggle/pii-dd/models/dv3b-v1/output/checkpoint-240/config.json\"))[\"id2label\"]"
   ]
  },
  {
   "cell_type": "code",
   "execution_count": 11,
   "metadata": {},
   "outputs": [
    {
     "data": {
      "text/plain": [
       "{'0': 'B-EMAIL',\n",
       " '1': 'B-ID_NUM',\n",
       " '2': 'B-NAME_STUDENT',\n",
       " '3': 'B-PHONE_NUM',\n",
       " '4': 'B-STREET_ADDRESS',\n",
       " '5': 'B-URL_PERSONAL',\n",
       " '6': 'B-USERNAME',\n",
       " '7': 'I-ID_NUM',\n",
       " '8': 'I-NAME_STUDENT',\n",
       " '9': 'I-PHONE_NUM',\n",
       " '10': 'I-STREET_ADDRESS',\n",
       " '11': 'I-URL_PERSONAL',\n",
       " '12': 'O'}"
      ]
     },
     "execution_count": 11,
     "metadata": {},
     "output_type": "execute_result"
    }
   ],
   "source": [
    "id2label"
   ]
  },
  {
   "cell_type": "code",
   "execution_count": null,
   "metadata": {},
   "outputs": [],
   "source": [
    "if not TRAINING:\n",
    "    \n",
    "    import numpy as np\n",
    "    import json\n",
    "    from datasets import Dataset\n",
    "    import pandas as pd\n",
    "    from pathlib import Path\n",
    "\n",
    "    config = json.load(open(Path(INFERENCE_MODEL_PATH) / \"config.json\"))\n",
    "\n",
    "    id2label = config[\"id2label\"]\n",
    "\n",
    "    preds = np.load(\"preds.npy\")\n",
    "\n",
    "    ds = Dataset.from_parquet(\"test_ds.pq\")\n",
    "\n",
    "    preds = preds.argmax(-1)\n",
    "\n",
    "    triplets = []\n",
    "    document, token, label, token_str = [], [], [], []\n",
    "    for p, token_map, offsets, tokens, doc in zip(preds, ds[\"token_map\"], ds[\"offset_mapping\"], ds[\"tokens\"], ds[\"document\"]):\n",
    "\n",
    "        for token_pred, (start_idx, end_idx) in zip(p, offsets):\n",
    "            label_pred = id2label[str(token_pred)]\n",
    "\n",
    "            if start_idx + end_idx == 0: continue\n",
    "\n",
    "            if token_map[start_idx] == -1: \n",
    "                start_idx += 1\n",
    "\n",
    "            # ignore \"\\n\\n\"\n",
    "            while start_idx < len(token_map) and tokens[token_map[start_idx]].isspace():\n",
    "                start_idx += 1\n",
    "\n",
    "            if start_idx >= len(token_map): break\n",
    "\n",
    "            token_id = token_map[start_idx]\n",
    "\n",
    "            # ignore \"O\" predictions and whitespace preds\n",
    "            if label_pred != \"O\" and token_id != -1:\n",
    "                triplet = (label_pred, token_id, tokens[token_id])\n",
    "\n",
    "                if triplet not in triplets:\n",
    "                    document.append(doc)\n",
    "                    token.append(token_id)\n",
    "                    label.append(label_pred)\n",
    "                    token_str.append(tokens[token_id])\n",
    "                    triplets.append(triplet)\n",
    "\n",
    "\n",
    "    df = pd.DataFrame({\n",
    "        \"document\": document,\n",
    "        \"token\": token,\n",
    "        \"label\": label,\n",
    "        \"token_str\": token_str\n",
    "    })\n",
    "\n",
    "    df[\"row_id\"] = list(range(len(df)))\n",
    "\n",
    "    display(df.head(50))\n",
    "\n",
    "\n",
    "    df[[\"row_id\", \"document\", \"token\", \"label\"]].to_csv(\"submission.csv\", index=False)"
   ]
  },
  {
   "cell_type": "code",
   "execution_count": 12,
   "metadata": {},
   "outputs": [
    {
     "data": {
      "text/plain": [
       "Dataset({\n",
       "    features: ['essay', 'name', 'personal_url', 'address', 'username', 'email', 'id_num', 'phone_number', 'social', 'another_social', 'another_personal', 'tokens', 'labels', 'trailing_whitespace'],\n",
       "    num_rows: 2355\n",
       "})"
      ]
     },
     "execution_count": 12,
     "metadata": {},
     "output_type": "execute_result"
    }
   ],
   "source": [
    "ds = Dataset.from_parquet(\"/drive2/kaggle/pii-dd/data/ds-v2.pq\")\n",
    "ds"
   ]
  },
  {
   "cell_type": "code",
   "execution_count": 11,
   "metadata": {},
   "outputs": [
    {
     "data": {
      "text/plain": [
       "[(0, 'Tiburce', 'B-NAME_STUDENT'),\n",
       " (1, 'Evans', 'I-NAME_STUDENT'),\n",
       " (3, 'https://www.instagram.com/tiburce-evans', 'B-URL_PERSONAL'),\n",
       " (7, 'bLBeoRIe', 'B-ID_NUM'),\n",
       " (9, '001', 'B-PHONE_NUM'),\n",
       " (10, '-', 'I-PHONE_NUM'),\n",
       " (11, '691', 'I-PHONE_NUM'),\n",
       " (12, '-', 'I-PHONE_NUM'),\n",
       " (13, '518', 'I-PHONE_NUM'),\n",
       " (14, '-', 'I-PHONE_NUM'),\n",
       " (15, '9820x5621', 'I-PHONE_NUM'),\n",
       " (1095, 'Tiburce', 'B-NAME_STUDENT'),\n",
       " (1096, 'Evans', 'I-NAME_STUDENT')]"
      ]
     },
     "execution_count": 11,
     "metadata": {},
     "output_type": "execute_result"
    }
   ],
   "source": [
    "x = ds[0]\n",
    "\n",
    "[(i, t,l) for i, (t,l) in enumerate(list(zip(x[\"tokens\"], x[\"labels\"]))) if l != \"O\"]"
   ]
  },
  {
   "cell_type": "code",
   "execution_count": 10,
   "metadata": {},
   "outputs": [
    {
     "data": {
      "text/plain": [
       "['Tiburce Evans', 'Tiburce Evans']"
      ]
     },
     "execution_count": 10,
     "metadata": {},
     "output_type": "execute_result"
    }
   ],
   "source": [
    "import re\n",
    "\n",
    "text = \" \".join(x['tokens'])\n",
    "\n",
    "\n",
    "re.findall(\"Tiburce Evans\", text)"
   ]
  },
  {
   "cell_type": "code",
   "execution_count": 13,
   "metadata": {},
   "outputs": [],
   "source": [
    "x = [d for d in ds if d[\"name\"] == \"Mike Madison\"][0]"
   ]
  },
  {
   "cell_type": "code",
   "execution_count": 15,
   "metadata": {},
   "outputs": [
    {
     "data": {
      "text/plain": [
       "[(0, 'Mike', 'B-NAME_STUDENT'),\n",
       " (1, 'Madison', 'I-NAME_STUDENT'),\n",
       " (4, '64886661046', 'B-ID_NUM'),\n",
       " (6, 'https://www.facebook.com/mike_m', 'B-URL_PERSONAL'),\n",
       " (627, 'Mike', 'B-NAME_STUDENT'),\n",
       " (628, 'Madison', 'I-NAME_STUDENT'),\n",
       " (631, '64886661046', 'B-ID_NUM'),\n",
       " (633, 'https://www.facebook.com/mike_m', 'B-URL_PERSONAL'),\n",
       " (912, 'Mike', 'B-NAME_STUDENT'),\n",
       " (913, 'Madison', 'I-NAME_STUDENT')]"
      ]
     },
     "execution_count": 15,
     "metadata": {},
     "output_type": "execute_result"
    }
   ],
   "source": [
    "[(i, t,l) for i, (t,l) in enumerate(list(zip(x[\"tokens\"], x[\"labels\"]))) if l != \"O\"]"
   ]
  },
  {
   "cell_type": "code",
   "execution_count": 17,
   "metadata": {},
   "outputs": [
    {
     "name": "stdout",
     "output_type": "stream",
     "text": [
      "Mike Madison , num 64886661046 - https://www.facebook.com/mike_m \n",
      "\n",
      " Introduction - Identifying the Challenge : \n",
      "\n",
      " In the dynamic field of digital marketing , one of the most significant and complex challenges I have encountered is creating a cohesive and engaging multi - channel marketing strategy that effectively reaches and converts a diverse audience . This challenge is especially pertinent for startups , where resources and budgets are often limited , and the margin for error is slim . With the ever - growing number of digital platforms and channels , it can be overwhelming to identify and prioritize the most effective touchpoints for a specific target audience . Moreover , ensuring a seamless and consistent brand experience across all channels adds another layer of complexity to the process . \n",
      "\n",
      " Selection of the Tool or Approach : \n",
      "\n",
      " To tackle this challenge , I turned to the well - established marketing framework , the Marketing Funnel . The Marketing Funnel is a systematic approach to guiding a potential customer through the various stages of the buying process , from awareness to consideration , and ultimately to conversion . I chose this method due to its relevance to my challenge , as it offers a structured way to engage with the audience at each stage of their journey . Furthermore , the Marketing Funnel 's theoretical underpinnings in consumer psychology and behavior make it a robust model for understanding and influencing purchasing decisions . \n",
      "\n",
      " While researching alternatives , I came across various marketing strategies such as account - based marketing , inbound marketing , and influencer marketing , among others . However , these methods either focused too narrowly on specific stages of the marketing funnel or were more suited for particular industries or niches . Therefore , I decided to adapt the Marketing Funnel to suit my specific context and requirements . \n",
      "\n",
      " Application of the Tool or Approach : \n",
      "\n",
      " I began by breaking down the marketing funnel into its key stages : awareness , consideration , conversion , and loyalty . Next , I mapped out the various digital channels and tactics that would be most effective in engaging the target audience at each stage . For instance , social media platforms like Facebook and Instagram were utilized to increase awareness , while targeted email marketing campaigns aimed at driving consideration and conversions . \n",
      "\n",
      " To ensure a consistent brand experience , I established a clear set of brand guidelines and a consistent visual identity across all channels . I also invested in marketing automation software to streamline and automate processes wherever possible , making it easier to track the customer 's journey and optimize their experience . \n",
      "\n",
      " Additionally , I adapted the Marketing Funnel to incorporate personas , specific representations of the target audience that included their needs , pain points , and communication preferences . By integrating personas into our Marketing Funnel approach , we were able to create more relevant and personalized content for our audience , thereby increasing engagement and conversions . \n",
      "\n",
      " Analysis and Insight : \n",
      "\n",
      " Applying the Marketing Funnel to our multi - channel marketing strategy has proven to be an effective approach in reaching and converting a diverse audience . By mapping out the various touchpoints and tailoring our messaging to each stage of the buying process , we have seen a noticeable improvement in engagement metrics and conversion rates . \n",
      "\n",
      " However , the Marketing Funnel is not without its limitations . It assumes a linear progression through the various stages , which may not always be the case in real - world scenarios . Customers may enter the funnel at different stages , or even loop back to earlier stages before mak \n",
      "\n",
      " Mike Madison , num 64886661046 - https://www.facebook.com/mike_m \n",
      "\n",
      " ing a final purchasing decision . Furthermore , the Marketing Funnel focuses on the customer 's functional needs , often overlooking the emotional aspects of decision - making . As such , complementary approaches such as customer journey mapping and empathy - based design may be required to maximize the effectiveness of the model . \n",
      "\n",
      " Despite these limitations , the use of the Marketing Funnel substantially influenced the outcome of our challenge . By applying its structured and systematic approach to our multi - channel marketing strategy , we were able to create a more cohesive and engaging experience for our audience , resulting in increased website traffic , lead generation , and revenue . \n",
      "\n",
      " Conclusion - Future Applications : \n",
      "\n",
      " In summary , the Marketing Funnel served as a valuable tool in addressing the complex challenge of creating a multi - channel marketing strategy that effectively engages and converts a diverse audience . Key insights gained from this experience include the importance of channel selection , brand consistency , and personalization in shaping the customer 's journey . \n",
      "\n",
      " Moving forward , these insights can inform future applications of the Marketing Funnel and similar models by emphasizing flexibility and adaptability in response to the ever - evolving digital landscape and the unique needs and preferences of the target audience . Additionally , it is crucial to consider the emotional aspects of decision - making and explore complementary approaches to maximize the effectiveness of the model . By continually refining and improving our utilization of the Marketing Funnel , we can create even more impactful and engaging experiences for our customers . \n",
      "\n",
      " Gratefully , Mike Madison\n"
     ]
    },
    {
     "data": {
      "text/plain": [
       "['Mike Madison', 'Mike Madison', 'Mike Madison']"
      ]
     },
     "execution_count": 17,
     "metadata": {},
     "output_type": "execute_result"
    }
   ],
   "source": [
    "text = \" \".join(x['tokens'])\n",
    "\n",
    "print(text)\n",
    "\n",
    "re.findall(\"Mike Madison\", text)"
   ]
  },
  {
   "cell_type": "code",
   "execution_count": 18,
   "metadata": {},
   "outputs": [],
   "source": [
    "import json\n",
    "\n",
    "data = json.load(open(\"/drive2/kaggle/pii-dd/data/mixtral-8x7b-v1/mixtral-8x7b-v1.json\"))"
   ]
  },
  {
   "cell_type": "code",
   "execution_count": 19,
   "metadata": {},
   "outputs": [
    {
     "data": {
      "text/plain": [
       "dict_keys(['document', 'full_text', 'tokens', 'labels', 'trailing_whitespace'])"
      ]
     },
     "execution_count": 19,
     "metadata": {},
     "output_type": "execute_result"
    }
   ],
   "source": [
    "data[0].keys()"
   ]
  },
  {
   "cell_type": "code",
   "execution_count": 20,
   "metadata": {},
   "outputs": [],
   "source": [
    "x = [d for d in data if d[\"document\"] == \"oyxdwbhrro\"][0]"
   ]
  },
  {
   "cell_type": "code",
   "execution_count": 22,
   "metadata": {},
   "outputs": [
    {
     "data": {
      "text/plain": [
       "[(0, 'Mike', 'B-NAME_STUDENT'),\n",
       " (1, 'Madison', 'I-NAME_STUDENT'),\n",
       " (4, '64886661046', 'B-ID_NUM'),\n",
       " (6, 'https://www.facebook.com/mike_m', 'B-URL_PERSONAL'),\n",
       " (627, 'Mike', 'B-NAME_STUDENT'),\n",
       " (628, 'Madison', 'I-NAME_STUDENT'),\n",
       " (631, '64886661046', 'B-ID_NUM'),\n",
       " (633, 'https://www.facebook.com/mike_m', 'B-URL_PERSONAL'),\n",
       " (912, 'Mike', 'B-NAME_STUDENT'),\n",
       " (913, 'Madison', 'I-NAME_STUDENT')]"
      ]
     },
     "execution_count": 22,
     "metadata": {},
     "output_type": "execute_result"
    }
   ],
   "source": [
    "[(i, t,l) for i, (t,l) in enumerate(list(zip(x[\"tokens\"], x[\"labels\"]))) if l != \"O\"]"
   ]
  }
 ],
 "metadata": {
  "kernelspec": {
   "display_name": "base",
   "language": "python",
   "name": "python3"
  },
  "language_info": {
   "codemirror_mode": {
    "name": "ipython",
    "version": 3
   },
   "file_extension": ".py",
   "mimetype": "text/x-python",
   "name": "python",
   "nbconvert_exporter": "python",
   "pygments_lexer": "ipython3",
   "version": "3.10.10"
  }
 },
 "nbformat": 4,
 "nbformat_minor": 2
}
