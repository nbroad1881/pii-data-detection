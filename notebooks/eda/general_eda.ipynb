{
 "cells": [
  {
   "cell_type": "code",
   "execution_count": 2,
   "metadata": {},
   "outputs": [
    {
     "name": "stdout",
     "output_type": "stream",
     "text": [
      "Loaded .env file!\n"
     ]
    }
   ],
   "source": [
    "import json\n",
    "import os\n",
    "from dotenv import load_dotenv\n",
    "from pathlib import Path\n",
    "\n",
    "dotenv_path = Path(\"../../.env\")\n",
    "if dotenv_path.exists():\n",
    "    print(\"Loaded .env file!\")\n",
    "    load_dotenv(str(dotenv_path))\n",
    "\n",
    "\n",
    "data = json.load(open(Path(os.environ[\"PROJECT_HOME_DIR\"]) / \"data/train.json\"))"
   ]
  },
  {
   "cell_type": "code",
   "execution_count": 3,
   "metadata": {},
   "outputs": [
    {
     "name": "stdout",
     "output_type": "stream",
     "text": [
      "Total non 'O' 2739\n"
     ]
    },
    {
     "data": {
      "text/plain": [
       "Counter({'O': 4989794,\n",
       "         'B-NAME_STUDENT': 1365,\n",
       "         'I-NAME_STUDENT': 1096,\n",
       "         'B-URL_PERSONAL': 110,\n",
       "         'B-ID_NUM': 78,\n",
       "         'B-EMAIL': 39,\n",
       "         'I-STREET_ADDRESS': 20,\n",
       "         'I-PHONE_NUM': 15,\n",
       "         'B-USERNAME': 6,\n",
       "         'B-PHONE_NUM': 6,\n",
       "         'B-STREET_ADDRESS': 2,\n",
       "         'I-URL_PERSONAL': 1,\n",
       "         'I-ID_NUM': 1})"
      ]
     },
     "execution_count": 3,
     "metadata": {},
     "output_type": "execute_result"
    }
   ],
   "source": [
    "from collections import Counter\n",
    "\n",
    "labels = []\n",
    "\n",
    "for d in data:\n",
    "    labels.extend(d[\"labels\"])\n",
    "\n",
    "print(\"Total non 'O'\", sum([1 for l in labels if l != \"O\"]))\n",
    "\n",
    "cntr = Counter(labels)\n",
    "cntr"
   ]
  },
  {
   "cell_type": "code",
   "execution_count": 4,
   "metadata": {},
   "outputs": [
    {
     "name": "stdout",
     "output_type": "stream",
     "text": [
      "Fold 0\n",
      "Total non 'O' 658\n",
      "Counter({'O': 1259432, 'B-NAME_STUDENT': 320, 'I-NAME_STUDENT': 278, 'B-URL_PERSONAL': 25, 'B-ID_NUM': 25, 'B-EMAIL': 8, 'B-USERNAME': 1, 'I-ID_NUM': 1})\n",
      "Fold 1\n",
      "Total non 'O' 728\n",
      "Counter({'O': 1265149, 'B-NAME_STUDENT': 364, 'I-NAME_STUDENT': 282, 'B-URL_PERSONAL': 33, 'B-ID_NUM': 27, 'B-EMAIL': 14, 'I-PHONE_NUM': 6, 'B-PHONE_NUM': 2})\n",
      "Fold 2\n",
      "Total non 'O' 738\n",
      "Counter({'O': 1235353, 'B-NAME_STUDENT': 385, 'I-NAME_STUDENT': 276, 'B-URL_PERSONAL': 27, 'I-STREET_ADDRESS': 20, 'B-ID_NUM': 14, 'B-EMAIL': 8, 'B-USERNAME': 4, 'B-STREET_ADDRESS': 2, 'I-URL_PERSONAL': 1, 'B-PHONE_NUM': 1})\n",
      "Fold 3\n",
      "Total non 'O' 615\n",
      "Counter({'O': 1229860, 'B-NAME_STUDENT': 296, 'I-NAME_STUDENT': 260, 'B-URL_PERSONAL': 25, 'B-ID_NUM': 12, 'B-EMAIL': 9, 'I-PHONE_NUM': 9, 'B-PHONE_NUM': 3, 'B-USERNAME': 1})\n"
     ]
    }
   ],
   "source": [
    "fold_labels = [[] for _ in range(4)]\n",
    "\n",
    "for d in data:\n",
    "    idx = d[\"document\"] % 4\n",
    "    fold_labels[idx].extend(d[\"labels\"])\n",
    "\n",
    "for f in range(4):\n",
    "    print(f\"Fold {f}\")\n",
    "    print(\"Total non 'O'\", sum([1 for l in fold_labels[f] if l != \"O\"]))\n",
    "    cntr = Counter(fold_labels[f])\n",
    "    print(cntr)"
   ]
  },
  {
   "cell_type": "code",
   "execution_count": 8,
   "metadata": {},
   "outputs": [
    {
     "data": {
      "text/plain": [
       "2739"
      ]
     },
     "execution_count": 8,
     "metadata": {},
     "output_type": "execute_result"
    }
   ],
   "source": [
    "num_pii_labels = 0\n",
    "for k,v in cntr.items():\n",
    "    if k == \"O\":\n",
    "        continue\n",
    "    num_pii_labels += v\n",
    "\n",
    "num_pii_labels"
   ]
  },
  {
   "cell_type": "markdown",
   "metadata": {},
   "source": [
    "### 90% of the labels are names"
   ]
  },
  {
   "cell_type": "code",
   "execution_count": 10,
   "metadata": {},
   "outputs": [
    {
     "data": {
      "text/plain": [
       "(2461, 0.8985031033223805)"
      ]
     },
     "execution_count": 10,
     "metadata": {},
     "output_type": "execute_result"
    }
   ],
   "source": [
    "num_name_student = cntr[\"B-NAME_STUDENT\"] + cntr[\"I-NAME_STUDENT\"]\n",
    "\n",
    "num_name_student, num_name_student/num_pii_labels"
   ]
  },
  {
   "cell_type": "markdown",
   "metadata": {},
   "source": [
    "### 4% are urls"
   ]
  },
  {
   "cell_type": "code",
   "execution_count": 11,
   "metadata": {},
   "outputs": [
    {
     "data": {
      "text/plain": [
       "(111, 0.040525739320920046)"
      ]
     },
     "execution_count": 11,
     "metadata": {},
     "output_type": "execute_result"
    }
   ],
   "source": [
    "num_url_personal = cntr[\"B-URL_PERSONAL\"] + cntr[\"I-URL_PERSONAL\"]\n",
    "\n",
    "num_url_personal, num_url_personal/num_pii_labels"
   ]
  },
  {
   "cell_type": "markdown",
   "metadata": {},
   "source": [
    "# MOST OF THE FOCUS SHOULD BE ON IDENTIFYING NAMES\n",
    "\n",
    "but... the deciding factor could be one of the lesser-represented labels. 1 FN to 1 TP on public lb is +0.001"
   ]
  }
 ],
 "metadata": {
  "kernelspec": {
   "display_name": "base",
   "language": "python",
   "name": "python3"
  },
  "language_info": {
   "codemirror_mode": {
    "name": "ipython",
    "version": 3
   },
   "file_extension": ".py",
   "mimetype": "text/x-python",
   "name": "python",
   "nbconvert_exporter": "python",
   "pygments_lexer": "ipython3",
   "version": "3.10.10"
  }
 },
 "nbformat": 4,
 "nbformat_minor": 2
}
