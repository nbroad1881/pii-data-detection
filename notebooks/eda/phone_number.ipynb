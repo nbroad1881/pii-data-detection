{
 "cells": [
  {
   "cell_type": "code",
   "execution_count": 1,
   "metadata": {},
   "outputs": [
    {
     "name": "stdout",
     "output_type": "stream",
     "text": [
      "Loaded .env file!\n"
     ]
    }
   ],
   "source": [
    "import os\n",
    "import json\n",
    "from dotenv import load_dotenv\n",
    "from pathlib import Path\n",
    "import random\n",
    "\n",
    "dotenv_path = Path(\"../../.env\")\n",
    "if dotenv_path.exists():\n",
    "    print(\"Loaded .env file!\")\n",
    "    load_dotenv(str(dotenv_path))\n",
    "\n",
    "\n",
    "data = json.load(open(Path(os.environ[\"PROJECT_HOME_DIR\"]) / \"data/train.json\"))"
   ]
  },
  {
   "cell_type": "code",
   "execution_count": 3,
   "metadata": {},
   "outputs": [
    {
     "name": "stdout",
     "output_type": "stream",
     "text": [
      "(320)202-0688x95843 \n",
      "**********\n",
      "(223)392-2765\n",
      "**********\n",
      "(820)913-3241x894\n",
      "(820)913-3241x894\n",
      "(820)913-3241x894\n",
      "**********\n",
      "410.526.1667 \n",
      "**********\n"
     ]
    }
   ],
   "source": [
    "for d in data:\n",
    "    temp = \"\"\n",
    "    for token, ll, ws in zip(d[\"tokens\"], d[\"labels\"], d[\"trailing_whitespace\"]):\n",
    "        if \"PHONE\" in ll:\n",
    "            if temp != \"\" and ll.startswith(\"B\"):\n",
    "                temp += \"\\n\"\n",
    "            temp += token\n",
    "            if ws:\n",
    "                temp += \" \"\n",
    "\n",
    "    if temp != \"\":\n",
    "        print(temp)\n",
    "        print(\"*\"*10)"
   ]
  },
  {
   "cell_type": "markdown",
   "metadata": {},
   "source": [
    "Only 4 different phone numbers. "
   ]
  },
  {
   "cell_type": "code",
   "execution_count": null,
   "metadata": {},
   "outputs": [],
   "source": []
  }
 ],
 "metadata": {
  "kernelspec": {
   "display_name": "base",
   "language": "python",
   "name": "python3"
  },
  "language_info": {
   "codemirror_mode": {
    "name": "ipython",
    "version": 3
   },
   "file_extension": ".py",
   "mimetype": "text/x-python",
   "name": "python",
   "nbconvert_exporter": "python",
   "pygments_lexer": "ipython3",
   "version": "3.10.10"
  }
 },
 "nbformat": 4,
 "nbformat_minor": 2
}
