{
 "cells": [
  {
   "cell_type": "markdown",
   "metadata": {},
   "source": [
    "Every email present in the training set is considered PII. "
   ]
  },
  {
   "cell_type": "code",
   "execution_count": 4,
   "metadata": {},
   "outputs": [
    {
     "name": "stdout",
     "output_type": "stream",
     "text": [
      "Loaded .env file!\n"
     ]
    }
   ],
   "source": [
    "import json\n",
    "import os\n",
    "from dotenv import load_dotenv\n",
    "from pathlib import Path\n",
    "\n",
    "dotenv_path = Path(\"../../.env\")\n",
    "if dotenv_path.exists():\n",
    "    print(\"Loaded .env file!\")\n",
    "    load_dotenv(str(dotenv_path))\n",
    "\n",
    "\n",
    "data = json.load(open(Path(os.environ[\"PROJECT_HOME_DIR\"]) / \"data/train.json\"))"
   ]
  },
  {
   "cell_type": "code",
   "execution_count": 5,
   "metadata": {},
   "outputs": [
    {
     "data": {
      "text/plain": [
       "(39,\n",
       " 26,\n",
       " {'agood@gmail.com',\n",
       "  'andrew58@gmail.com',\n",
       "  'belindarojas@yahoo.com',\n",
       "  'boydcynthia@yahoo.com',\n",
       "  'catherine19@hotmail.com',\n",
       "  'diazkristen@gmail.com',\n",
       "  'djones@gmail.com',\n",
       "  'gday@hotmail.com',\n",
       "  'hbrown@yahoo.com',\n",
       "  'hwillis@gmail.com',\n",
       "  'jarviscindy@hotmail.com',\n",
       "  'john03@yahoo.com',\n",
       "  'johnsondavid@hotmail.com',\n",
       "  'jray@hotmail.com',\n",
       "  'kellyharrison@gmail.com',\n",
       "  'kennethevans@hotmail.com',\n",
       "  'laurie33@yahoo.com',\n",
       "  'lisarose@gmail.com',\n",
       "  'lowetyler@hotmail.com',\n",
       "  'matthew72@hotmail.com',\n",
       "  'murraythomas@gmail.com',\n",
       "  'nbarker@hotmail.com',\n",
       "  'noah14@hotmail.com',\n",
       "  'pauljohnson@hotmail.com',\n",
       "  'sheena82@yahoo.com',\n",
       "  'vmartinez@hotmail.com'})"
      ]
     },
     "execution_count": 5,
     "metadata": {},
     "output_type": "execute_result"
    }
   ],
   "source": [
    "emails = []\n",
    "\n",
    "for d in data:\n",
    "    for t,l in zip(d[\"tokens\"], d[\"labels\"]):\n",
    "        if \"EMAIL\" in l:\n",
    "            emails.append(t)\n",
    "\n",
    "\n",
    "len(emails), len(set(emails)), set(emails)"
   ]
  },
  {
   "cell_type": "code",
   "execution_count": 10,
   "metadata": {},
   "outputs": [
    {
     "name": "stdout",
     "output_type": "stream",
     "text": [
      "40 27 26\n"
     ]
    },
    {
     "data": {
      "text/plain": [
       "({'vpi@mn.nl'}, set())"
      ]
     },
     "execution_count": 10,
     "metadata": {},
     "output_type": "execute_result"
    }
   ],
   "source": [
    "has_at = []\n",
    "\n",
    "for d in data:\n",
    "    for t, l in zip(d[\"tokens\"], d[\"labels\"]):\n",
    "        if \"@\" in t and \".\" in t:\n",
    "            has_at.append(t)\n",
    "\n",
    "\n",
    "print(len(has_at), len(set(has_at)), len(set(has_at) & set(emails)))\n",
    "\n",
    "set(has_at) - set(emails), set(emails) - set(has_at)"
   ]
  },
  {
   "cell_type": "markdown",
   "metadata": {},
   "source": [
    "# Spacy tokenizer seems to be able to find all just fine\n",
    "\n",
    "A regular expression would be fine\n",
    "\n",
    "`vpi@mn.nl` wasn't labeled as PII, but it looks like it is"
   ]
  },
  {
   "cell_type": "code",
   "execution_count": 6,
   "metadata": {},
   "outputs": [
    {
     "name": "stdout",
     "output_type": "stream",
     "text": [
      "djones@gmail.com\n",
      "matthew72@hotmail.com\n",
      "belindarojas@yahoo.com\n",
      "kennethevans@hotmail.com\n",
      "agood@gmail.com\n",
      "agood@gmail.com\n",
      "hwillis@gmail.com\n",
      "kellyharrison@gmail.com\n",
      "kellyharrison@gmail.com\n",
      "lowetyler@hotmail.com\n",
      "murraythomas@gmail.com\n",
      "vmartinez@hotmail.com\n",
      "sheena82@yahoo.com\n",
      "nbarker@hotmail.com\n",
      "nbarker@hotmail.com\n",
      "nbarker@hotmail.com\n",
      "johnsondavid@hotmail.com\n",
      "johnsondavid@hotmail.com\n",
      "catherine19@hotmail.com\n",
      "john03@yahoo.com\n",
      "john03@yahoo.com\n",
      "lisarose@gmail.com\n",
      "diazkristen@gmail.com\n",
      "lisarose@gmail.com\n",
      "diazkristen@gmail.com\n",
      "andrew58@gmail.com\n",
      "boydcynthia@yahoo.com\n",
      "laurie33@yahoo.com\n",
      "laurie33@yahoo.com\n",
      "vpi@mn.nl\n",
      "pauljohnson@hotmail.com\n",
      "pauljohnson@hotmail.com\n",
      "jarviscindy@hotmail.com\n",
      "jarviscindy@hotmail.com\n",
      "jray@hotmail.com\n",
      "gday@hotmail.com\n",
      "gday@hotmail.com\n",
      "gday@hotmail.com\n",
      "noah14@hotmail.com\n",
      "hbrown@yahoo.com\n"
     ]
    }
   ],
   "source": [
    "from spacy.lang.en import English\n",
    "\n",
    "tokenizer = English().tokenizer\n",
    "\n",
    "\n",
    "for d in data:\n",
    "    for token in tokenizer(d[\"full_text\"]):\n",
    "        if token.like_email:\n",
    "            print(token.text)"
   ]
  },
  {
   "cell_type": "code",
   "execution_count": 8,
   "metadata": {},
   "outputs": [
    {
     "name": "stdout",
     "output_type": "stream",
     "text": [
      "[nicholas.broad@gmail.com]\n",
      "[nicholas_broad@gmail.com]\n",
      "[nicholas-broad@gmail.com]\n",
      "[nicholas, broad@gmail.com]\n"
     ]
    }
   ],
   "source": [
    "# will certain tokens cause it to break?\n",
    "# It looks like only spaces which shouldn't be included\n",
    "\n",
    "emails = [\n",
    "    \"nicholas.broad@gmail.com\",\n",
    "    \"nicholas_broad@gmail.com\",\n",
    "    \"nicholas-broad@gmail.com\",\n",
    "    \"nicholas broad@gmail.com\",\n",
    "]\n",
    "\n",
    "for e in emails:\n",
    "    print([x for x in tokenizer(e)])"
   ]
  },
  {
   "cell_type": "code",
   "execution_count": null,
   "metadata": {},
   "outputs": [],
   "source": []
  }
 ],
 "metadata": {
  "kernelspec": {
   "display_name": "base",
   "language": "python",
   "name": "python3"
  },
  "language_info": {
   "codemirror_mode": {
    "name": "ipython",
    "version": 3
   },
   "file_extension": ".py",
   "mimetype": "text/x-python",
   "name": "python",
   "nbconvert_exporter": "python",
   "pygments_lexer": "ipython3",
   "version": "3.10.10"
  }
 },
 "nbformat": 4,
 "nbformat_minor": 2
}
