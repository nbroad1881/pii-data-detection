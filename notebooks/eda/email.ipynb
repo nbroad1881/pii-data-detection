{
 "cells": [
  {
   "cell_type": "markdown",
   "metadata": {},
   "source": [
    "Every email present in the training set is considered PII. "
   ]
  },
  {
   "cell_type": "code",
   "execution_count": 4,
   "metadata": {},
   "outputs": [
    {
     "name": "stdout",
     "output_type": "stream",
     "text": [
      "Loaded .env file!\n"
     ]
    }
   ],
   "source": [
    "import json\n",
    "import os\n",
    "from dotenv import load_dotenv\n",
    "from pathlib import Path\n",
    "\n",
    "dotenv_path = Path(\"../../.env\")\n",
    "if dotenv_path.exists():\n",
    "    print(\"Loaded .env file!\")\n",
    "    load_dotenv(str(dotenv_path))\n",
    "\n",
    "\n",
    "data = json.load(open(Path(os.environ[\"PROJECT_HOME_DIR\"]) / \"data/train.json\"))"
   ]
  },
  {
   "cell_type": "code",
   "execution_count": 5,
   "metadata": {},
   "outputs": [
    {
     "data": {
      "text/plain": [
       "(39,\n",
       " 26,\n",
       " {'agood@gmail.com',\n",
       "  'andrew58@gmail.com',\n",
       "  'belindarojas@yahoo.com',\n",
       "  'boydcynthia@yahoo.com',\n",
       "  'catherine19@hotmail.com',\n",
       "  'diazkristen@gmail.com',\n",
       "  'djones@gmail.com',\n",
       "  'gday@hotmail.com',\n",
       "  'hbrown@yahoo.com',\n",
       "  'hwillis@gmail.com',\n",
       "  'jarviscindy@hotmail.com',\n",
       "  'john03@yahoo.com',\n",
       "  'johnsondavid@hotmail.com',\n",
       "  'jray@hotmail.com',\n",
       "  'kellyharrison@gmail.com',\n",
       "  'kennethevans@hotmail.com',\n",
       "  'laurie33@yahoo.com',\n",
       "  'lisarose@gmail.com',\n",
       "  'lowetyler@hotmail.com',\n",
       "  'matthew72@hotmail.com',\n",
       "  'murraythomas@gmail.com',\n",
       "  'nbarker@hotmail.com',\n",
       "  'noah14@hotmail.com',\n",
       "  'pauljohnson@hotmail.com',\n",
       "  'sheena82@yahoo.com',\n",
       "  'vmartinez@hotmail.com'})"
      ]
     },
     "execution_count": 5,
     "metadata": {},
     "output_type": "execute_result"
    }
   ],
   "source": [
    "emails = []\n",
    "\n",
    "for d in data:\n",
    "    for t,l in zip(d[\"tokens\"], d[\"labels\"]):\n",
    "        if \"EMAIL\" in l:\n",
    "            emails.append(t)\n",
    "\n",
    "\n",
    "len(emails), len(set(emails)), set(emails)"
   ]
  },
  {
   "cell_type": "code",
   "execution_count": 10,
   "metadata": {},
   "outputs": [
    {
     "name": "stdout",
     "output_type": "stream",
     "text": [
      "40 27 26\n"
     ]
    },
    {
     "data": {
      "text/plain": [
       "({'vpi@mn.nl'}, set())"
      ]
     },
     "execution_count": 10,
     "metadata": {},
     "output_type": "execute_result"
    }
   ],
   "source": [
    "has_at = []\n",
    "\n",
    "for d in data:\n",
    "    for t, l in zip(d[\"tokens\"], d[\"labels\"]):\n",
    "        if \"@\" in t and \".\" in t:\n",
    "            has_at.append(t)\n",
    "\n",
    "\n",
    "print(len(has_at), len(set(has_at)), len(set(has_at) & set(emails)))\n",
    "\n",
    "set(has_at) - set(emails), set(emails) - set(has_at)"
   ]
  },
  {
   "cell_type": "markdown",
   "metadata": {},
   "source": [
    "# Spacy tokenizer seems to be able to find all just fine\n",
    "\n",
    "A regular expression would be fine\n",
    "\n",
    "`vpi@mn.nl` wasn't labeled as PII, but it looks like it is"
   ]
  },
  {
   "cell_type": "code",
   "execution_count": 1,
   "metadata": {},
   "outputs": [
    {
     "ename": "NameError",
     "evalue": "name 'data' is not defined",
     "output_type": "error",
     "traceback": [
      "\u001b[0;31m---------------------------------------------------------------------------\u001b[0m",
      "\u001b[0;31mNameError\u001b[0m                                 Traceback (most recent call last)",
      "Cell \u001b[0;32mIn[1], line 6\u001b[0m\n\u001b[1;32m      1\u001b[0m \u001b[38;5;28;01mfrom\u001b[39;00m \u001b[38;5;21;01mspacy\u001b[39;00m\u001b[38;5;21;01m.\u001b[39;00m\u001b[38;5;21;01mlang\u001b[39;00m\u001b[38;5;21;01m.\u001b[39;00m\u001b[38;5;21;01men\u001b[39;00m \u001b[38;5;28;01mimport\u001b[39;00m English\n\u001b[1;32m      3\u001b[0m tokenizer \u001b[38;5;241m=\u001b[39m English()\u001b[38;5;241m.\u001b[39mtokenizer\n\u001b[0;32m----> 6\u001b[0m \u001b[38;5;28;01mfor\u001b[39;00m d \u001b[38;5;129;01min\u001b[39;00m \u001b[43mdata\u001b[49m:\n\u001b[1;32m      7\u001b[0m     \u001b[38;5;28;01mfor\u001b[39;00m token \u001b[38;5;129;01min\u001b[39;00m tokenizer(d[\u001b[38;5;124m\"\u001b[39m\u001b[38;5;124mfull_text\u001b[39m\u001b[38;5;124m\"\u001b[39m]):\n\u001b[1;32m      8\u001b[0m         \u001b[38;5;28;01mif\u001b[39;00m token\u001b[38;5;241m.\u001b[39mlike_email:\n",
      "\u001b[0;31mNameError\u001b[0m: name 'data' is not defined"
     ]
    }
   ],
   "source": [
    "from spacy.lang.en import English\n",
    "\n",
    "tokenizer = English().tokenizer\n",
    "\n",
    "\n",
    "for d in data:\n",
    "    for token in tokenizer(d[\"full_text\"]):\n",
    "        if token.like_email:\n",
    "            print(token.text)"
   ]
  },
  {
   "cell_type": "code",
   "execution_count": 8,
   "metadata": {},
   "outputs": [
    {
     "name": "stdout",
     "output_type": "stream",
     "text": [
      "[nicholas.broad@gmail.com]\n",
      "[nicholas_broad@gmail.com]\n",
      "[nicholas-broad@gmail.com]\n",
      "[nicholas, broad@gmail.com]\n"
     ]
    }
   ],
   "source": [
    "# will certain tokens cause it to break?\n",
    "# It looks like only spaces which shouldn't be included\n",
    "\n",
    "emails = [\n",
    "    \"nicholas.broad@gmail.com\",\n",
    "    \"nicholas_broad@gmail.com\",\n",
    "    \"nicholas-broad@gmail.com\",\n",
    "    \"nicholas broad@gmail.com\",\n",
    "]\n",
    "\n",
    "for e in emails:\n",
    "    print([x for x in tokenizer(e)])"
   ]
  },
  {
   "cell_type": "code",
   "execution_count": null,
   "metadata": {},
   "outputs": [],
   "source": []
  }
 ],
 "metadata": {
  "kernelspec": {
   "display_name": "base",
   "language": "python",
   "name": "python3"
  },
  "language_info": {
   "codemirror_mode": {
    "name": "ipython",
    "version": 3
   },
   "file_extension": ".py",
   "mimetype": "text/x-python",
   "name": "python",
   "nbconvert_exporter": "python",
   "pygments_lexer": "ipython3",
   "version": "3.10.10"
  }
 },
 "nbformat": 4,
 "nbformat_minor": 2
}
