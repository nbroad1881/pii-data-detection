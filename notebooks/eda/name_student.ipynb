{
 "cells": [
  {
   "cell_type": "code",
   "execution_count": 2,
   "metadata": {},
   "outputs": [
    {
     "name": "stdout",
     "output_type": "stream",
     "text": [
      "Loaded .env file!\n"
     ]
    }
   ],
   "source": [
    "import json\n",
    "from dotenv import load_dotenv\n",
    "from pathlib import Path\n",
    "\n",
    "dotenv_path = Path(\"../../.env\")\n",
    "if dotenv_path.exists():\n",
    "    print(\"Loaded .env file!\")\n",
    "    load_dotenv(str(dotenv_path))\n",
    "\n",
    "\n",
    "data = json.load(open(\"/drive2/kaggle/pii-dd/data/train.json\"))"
   ]
  },
  {
   "cell_type": "code",
   "execution_count": 2,
   "metadata": {},
   "outputs": [
    {
     "data": {
      "text/plain": [
       "(1365, 685, 1096, 643)"
      ]
     },
     "execution_count": 2,
     "metadata": {},
     "output_type": "execute_result"
    }
   ],
   "source": [
    "b_name, i_name = [], []\n",
    "\n",
    "for d in data:\n",
    "    for t, l in zip(d[\"tokens\"], d[\"labels\"]):\n",
    "        if l == \"B-NAME_STUDENT\":\n",
    "            b_name.append(t)\n",
    "        elif l == \"I-NAME_STUDENT\":\n",
    "            i_name.append(t)\n",
    "\n",
    "\n",
    "len(b_name), len(set(b_name)), len(i_name), len(set(i_name))"
   ]
  },
  {
   "cell_type": "markdown",
   "metadata": {},
   "source": [
    "Many repeat names"
   ]
  },
  {
   "cell_type": "code",
   "execution_count": 3,
   "metadata": {},
   "outputs": [
    {
     "data": {
      "text/plain": [
       "(2, 11, 2, 15)"
      ]
     },
     "execution_count": 3,
     "metadata": {},
     "output_type": "execute_result"
    }
   ],
   "source": [
    "# shortest is 2 letters, longest is 11/15\n",
    "\n",
    "min([len(x) for x in b_name]), max([len(x) for x in b_name]), min([len(x) for x in i_name]), max([len(x) for x in i_name])"
   ]
  },
  {
   "cell_type": "code",
   "execution_count": 5,
   "metadata": {},
   "outputs": [
    {
     "name": "stdout",
     "output_type": "stream",
     "text": [
      "['El', 'Jo', 'Om', 'Md', 'Fa', 'Bk', 'Sk', 'Yu', 'Al']\n",
      "['Lu', 'De', 'Xu', 'M.', 'Li', 'Ka', 'Bk', 'Ng', 'Kt', 'Na', 'Kl', 'Da']\n"
     ]
    }
   ],
   "source": [
    "print([i for i in set(b_name) if len(i) == 2])\n",
    "print([i for i in set(i_name) if len(i) == 2])"
   ]
  },
  {
   "cell_type": "code",
   "execution_count": 14,
   "metadata": {},
   "outputs": [
    {
     "data": {
      "text/plain": [
       "[('Al',\n",
       "  'find some value in it.\\n\\nRegards,\\n\\nAl\\n\\nMy First Mind-Mapping Session\\n\\nChallenge'),\n",
       " ('Lu',\n",
       "  'Reflection – Stakeholder Mind Mapping\\n\\nBy Melvin Lu\\n\\nChallenge\\n\\nAs a Senior Manager of a '),\n",
       " ('Md', 'they need and  want.\\n\\nWritten by: Md Hamid\\n\\n'),\n",
       " ('Ka',\n",
       "  'Peer Graded Assignment\\n\\nJoyce Ka\\n\\n14 December 2015\\n\\nChallenge  I work '),\n",
       " ('Kl',\n",
       "  'Michael Kl Reflection: Visualization\\n\\nChallenge\\n\\nCompetitive organizations continuously '),\n",
       " ('Md',\n",
       "  'Behavioural Change towards\\n\\nSanitation\\n\\nReflection: Storytelling\\n\\nMd Rashid\\n\\nChallenge\\n\\nAs part of my role '),\n",
       " ('Md',\n",
       "  'Using Learning Launch\\n\\nChallenge and Selection\\n\\nI, Md Shamim, am an executive of workshop and event '),\n",
       " ('Al',\n",
       "  'Design Thinking\\n\\nFeb 7, 2016\\n\\nAl Kain\\n\\nDesign Thinking Tools used for Aspira Diagnostics '),\n",
       " ('Jo', 'Submitted by Jo Kelly, PHR, SHRM-CP\\n\\nMay '),\n",
       " ('De',\n",
       "  'Example of Reflection - Value Chain Analysis – Jhonatan De Oliveira\\n\\nChalenge & Selection\\n\\nI, as '),\n",
       " ('Kt',\n",
       "  'of Virginia  on Coursera.\\n\\n-  Rashid Kt\\n\\nChallenge    I am a member of a '),\n",
       " ('Md',\n",
       "  'Md Carrillo\\n\\nlisarose@gmail.com\\n\\ndiazkristen@gmail.com\\n\\nhttps://www.facebook.com/amanda37\\n\\nReflection '),\n",
       " ('Md',\n",
       "  'experiences, supported by Empathy Maps and Personas.\\n\\nMd Carrillo\\n\\nlisarose@gmail.com\\n\\ndiazkristen@gmail.com\\n\\nhttps://www.facebook.com/amanda37\\n\\nApplication'),\n",
       " ('Om',\n",
       "  'on: 17th April 2020  Submitted by:  Om Ahmed Teto\\n\\nChallenge\\n\\nI am a staff '),\n",
       " ('Ng', 'Pong Ng – Reflection – Visualization\\n\\nChallenge    I am '),\n",
       " ('Li',\n",
       "  'Final Assignment – Learning Launch\\n\\nBy Komal Li\\n\\nChallenge\\n\\nI work in the planning department '),\n",
       " ('El',\n",
       "  'Classification : Giuseppe Petrosillo - Confidential El Petrosillo 7/1/2019 12:02 AM\\n\\nVisualization Tool\\n\\nChallenge '),\n",
       " ('Md',\n",
       "  '(Deemed to be University))\\n\\nDownloaded by Md Yadav (laurie33@yahoo.com)\\n\\nnMFtUVxSUI|33529258\\n\\nDesign thinking '),\n",
       " ('Md',\n",
       "  'Design thinking for innovation – Week5  Assignment\\n\\n-by Md Yadav\\n\\nTool Applied: VISUALIZATION\\n\\n1.Challenge and '),\n",
       " ('Md',\n",
       "  'skip center  messages.\\n\\n2.Application\\n\\nDownloaded by Md Yadav (laurie33@yahoo.com)\\n\\nnMFtUVxSUI|33529258\\n\\n'),\n",
       " ('Bk', 'Name: Bk Bk  Roll No: 172801513686\\n\\n1 | '),\n",
       " ('Bk', 'Name: Bk Bk  Roll No: 172801513686\\n\\n1 | P '),\n",
       " ('Bk',\n",
       "  ' you family and friends location.\\n\\nName: Bk Bk  Roll No: 172801513686\\n\\n2 | '),\n",
       " ('Bk',\n",
       "  'you family and friends location.\\n\\nName: Bk Bk  Roll No: 172801513686\\n\\n2 | P '),\n",
       " ('Md',\n",
       "  'locate their  forgotten things  and pets.\\n\\nMd    347376430553\\n\\nHow this is  used in '),\n",
       " ('Sk',\n",
       "  'Reflection on Visualisation\\n\\nSk Rana\\n\\nChallenge    I work in a Fintech '),\n",
       " ('Yu', 'Yu Wang\\n\\nChallenge\\n\\nIn the payments industry, '),\n",
       " ('Fa',\n",
       "  'Using storytelling to understand roadblocks towards equality\\n\\nFa Leclercq\\n\\nChallenge\\n\\nBecause my organization wants to '),\n",
       " ('Om',\n",
       "  'My  Reflection –Storytelling by Om Islam    Challenge & Selection     Storytelling is a '),\n",
       " ('Xu',\n",
       "  'Reflection – Mind Mapping\\n\\nMichael Xu\\n\\nChallenge\\n\\nNourishment is an essential function of '),\n",
       " ('Da',\n",
       "  'FOR INOVATION IN BUSINESS\\n\\nUNIVERSITY OF VIRGINIA\\n\\nDulce Da Silva – gday@hotmail.com                                               1\\n\\nDulce Da Silva '),\n",
       " ('Da',\n",
       "  '\\n\\nDulce Da Silva – gday@hotmail.com                                               1\\n\\nDulce Da Silva   gday@hotmail.com\\n\\nChallenge & Selection\\n\\nWhen '),\n",
       " ('Da',\n",
       "  'FOR INOVATION IN BUSINESS\\n\\nUNIVERSITY OF VIRGINIA\\n\\nDulce Da Silva – gday@hotmail.com                                               2\\n\\nthat they could '),\n",
       " ('M.', 'It brings  your design to life.\\n\\nAhmed M. Ali\\n\\n'),\n",
       " ('Md', 'STORY TELLING\\n\\nMd Ahamad\\n\\n369615882777\\n\\nCs-1\\n\\nI love to '),\n",
       " ('Md',\n",
       "  'Challenge & Selection\\n\\nI’m Md Sobuj Islam working as an Executive Engineer in a '),\n",
       " ('Na', 'Michael Na\\n\\nAssignment „Design Thinking “, Tool „')]"
      ]
     },
     "execution_count": 14,
     "metadata": {},
     "output_type": "execute_result"
    }
   ],
   "source": [
    "two_letter_context = []\n",
    "\n",
    "for d in data:\n",
    "    for i, (t, l, ws) in enumerate(zip(d[\"tokens\"], d[\"labels\"], d[\"trailing_whitespace\"])):\n",
    "        if (l == \"B-NAME_STUDENT\" or  l == \"I-NAME_STUDENT\") and len(t) == 2:\n",
    "            start_idx = max(0, i-10)\n",
    "            end_idx = min(len(d[\"tokens\"]), i+10)\n",
    "\n",
    "            span = \"\"\n",
    "            for j in range(start_idx, end_idx):\n",
    "                span += d[\"tokens\"][j]\n",
    "                if d[\"trailing_whitespace\"][j]:\n",
    "                    span += \" \"\n",
    "            two_letter_context.append((t, span))\n",
    "\n",
    "two_letter_context\n"
   ]
  },
  {
   "cell_type": "markdown",
   "metadata": {},
   "source": [
    "Only one has a character not in [a-zA-Z]  \n",
    "\n",
    "`Ahmed M. Ali`"
   ]
  },
  {
   "cell_type": "code",
   "execution_count": 8,
   "metadata": {},
   "outputs": [
    {
     "name": "stdout",
     "output_type": "stream",
     "text": [
      "[]\n",
      "['M.']\n"
     ]
    }
   ],
   "source": [
    "import re\n",
    "\n",
    "print([x for x in set(b_name) if re.findall(r\"[^a-zA-Z]\", x)])\n",
    "print([x for x in set(i_name) if re.findall(r\"[^a-zA-Z]\", x)])"
   ]
  },
  {
   "cell_type": "markdown",
   "metadata": {},
   "source": [
    "# Multiple names back-to-back\n",
    "\n",
    "It looks like there are never B-Names back to back, there are some that are 2 apart"
   ]
  },
  {
   "cell_type": "code",
   "execution_count": 11,
   "metadata": {},
   "outputs": [
    {
     "name": "stdout",
     "output_type": "stream",
     "text": [
      "II\n",
      "['Van', 'Der']\n",
      "II\n",
      "['Der', 'Wal']\n",
      "II\n",
      "['Garcia', 'Lopez']\n",
      "II\n",
      "['Khan', 'Pandey']\n",
      "II\n",
      "['Kumar', 'Aakash']\n",
      "II\n",
      "['Aakash', 'Kumar']\n",
      "II\n",
      "['Kumar', 'Aakash']\n",
      "II\n",
      "['Aakash', 'Kumar']\n",
      "II\n",
      "['Marie', 'Sanquer']\n",
      "II\n",
      "['Marie', 'Sanquer']\n",
      "II\n",
      "['Pierre', 'Jouanne']\n",
      "II\n",
      "['Abo', 'Fatma']\n",
      "II\n",
      "['Jose', 'Diaz']\n",
      "II\n",
      "['De', 'Oliveira']\n",
      "II\n",
      "['Van', 'Den']\n",
      "II\n",
      "['Den', 'Heuvel']\n",
      "II\n",
      "['Ahmed', 'Teto']\n",
      "II\n",
      "['Sofia', 'Rayo']\n",
      "II\n",
      "['Marina', 'Mora']\n",
      "II\n",
      "['Aakash', 'Kumar']\n",
      "II\n",
      "['Kumar', 'Ahmad']\n",
      "II\n",
      "['Kumar', 'Ahmad']\n",
      "II\n",
      "['Man', 'Kwok']\n",
      "II\n",
      "['Kumar', 'Zeeshan']\n",
      "II\n",
      "['Da', 'Silva']\n",
      "II\n",
      "['Da', 'Silva']\n",
      "II\n",
      "['Da', 'Silva']\n",
      "II\n",
      "['M.', 'Ali']\n",
      "II\n",
      "['Kumar', 'Ajay']\n",
      "II\n",
      "['Ajay', 'Rana']\n",
      "II\n",
      "['David', 'Medina']\n",
      "II\n",
      "['Sobuj', 'Islam']\n",
      "II\n",
      "['Luis', 'Llamas']\n",
      "II\n",
      "['Luis', 'Llamas']\n"
     ]
    }
   ],
   "source": [
    "dist = 1\n",
    "for d in data:\n",
    "    for i in range(len(d[\"tokens\"])-dist):\n",
    "        if d[\"labels\"][i] == \"B-NAME_STUDENT\" and d[\"labels\"][i+dist] == \"B-NAME_STUDENT\":\n",
    "            print(\"BB\")\n",
    "            print([d[\"tokens\"][i], d[\"tokens\"][i+dist]])\n",
    "\n",
    "        elif d[\"labels\"][i] == \"I-NAME_STUDENT\" and d[\"labels\"][i+dist] == \"B-NAME_STUDENT\":\n",
    "            print(\"IB\")\n",
    "            print([d[\"tokens\"][i], d[\"tokens\"][i+dist]])\n",
    "\n",
    "        elif d[\"labels\"][i] == \"I-NAME_STUDENT\" and d[\"labels\"][i+dist] == \"I-NAME_STUDENT\":\n",
    "            print(\"II\")\n",
    "            print([d[\"tokens\"][i], d[\"tokens\"][i+dist]])"
   ]
  },
  {
   "cell_type": "code",
   "execution_count": 12,
   "metadata": {},
   "outputs": [
    {
     "name": "stdout",
     "output_type": "stream",
     "text": [
      "IB\n",
      "['Saeed', 'Ahmed']\n",
      "II\n",
      "['Van', 'Wal']\n",
      "IB\n",
      "['Johnson', 'Katia']\n",
      "IB\n",
      "['Johnson', 'Katia']\n",
      "IB\n",
      "['Johnson', 'Denis']\n",
      "BB\n",
      "['Irina', 'Luca']\n",
      "II\n",
      "['Kumar', 'Kumar']\n",
      "II\n",
      "['Kumar', 'Kumar']\n",
      "IB\n",
      "['Chan', 'Karen']\n",
      "II\n",
      "['Van', 'Heuvel']\n",
      "IB\n",
      "['Gonzales', 'Daniel']\n",
      "BB\n",
      "['Naser', 'Naser']\n",
      "IB\n",
      "['Rajput', 'Lupe']\n",
      "IB\n",
      "['King', 'Jose']\n",
      "IB\n",
      "['Luis', 'Jose']\n",
      "BB\n",
      "['Stella', 'Junaid']\n",
      "BB\n",
      "['Stella', 'Junaid']\n",
      "IB\n",
      "['Birra', 'Jeff']\n",
      "IB\n",
      "['Carrasco', 'Jeff']\n",
      "IB\n",
      "['Cruz', 'Yara']\n",
      "BB\n",
      "['Emily', 'Giuseppe']\n",
      "BB\n",
      "['Giuseppe', 'Giuseppe']\n",
      "BB\n",
      "['Giuseppe', 'Giuseppe']\n",
      "BB\n",
      "['Lisa', 'Benjamin']\n",
      "BB\n",
      "['Kate', 'Daniel']\n",
      "IB\n",
      "['Huerta', 'Elisangela']\n",
      "II\n",
      "['Kumar', 'Rana']\n"
     ]
    }
   ],
   "source": [
    "dist = 2\n",
    "for d in data:\n",
    "    for i in range(len(d[\"tokens\"])-dist):\n",
    "        if d[\"labels\"][i] == \"B-NAME_STUDENT\" and d[\"labels\"][i+dist] == \"B-NAME_STUDENT\":\n",
    "            print(\"BB\")\n",
    "            print([d[\"tokens\"][i], d[\"tokens\"][i+dist]])\n",
    "\n",
    "        elif d[\"labels\"][i] == \"I-NAME_STUDENT\" and d[\"labels\"][i+dist] == \"B-NAME_STUDENT\":\n",
    "            print(\"IB\")\n",
    "            print([d[\"tokens\"][i], d[\"tokens\"][i+dist]])\n",
    "\n",
    "        elif d[\"labels\"][i] == \"I-NAME_STUDENT\" and d[\"labels\"][i+dist] == \"I-NAME_STUDENT\":\n",
    "            print(\"II\")\n",
    "            print([d[\"tokens\"][i], d[\"tokens\"][i+dist]])"
   ]
  },
  {
   "cell_type": "markdown",
   "metadata": {},
   "source": [
    "There are 29 occurrences of 2 I-NAME_STUDENT back-to-back  \n",
    "There are 5 occurrences of 3 I-NAME_STUDENT back-to-back-to-back"
   ]
  },
  {
   "cell_type": "code",
   "execution_count": 14,
   "metadata": {},
   "outputs": [
    {
     "data": {
      "text/plain": [
       "Counter({2: 29, 3: 5})"
      ]
     },
     "execution_count": 14,
     "metadata": {},
     "output_type": "execute_result"
    }
   ],
   "source": [
    "from collections import Counter\n",
    "\n",
    "# consecutive I\n",
    "\n",
    "counts = []\n",
    "\n",
    "for d in data:\n",
    "    for i in range(len(d[\"tokens\"])):\n",
    "        if d[\"labels\"][i] == \"I-NAME_STUDENT\":\n",
    "            temp = i\n",
    "            count = 0\n",
    "            while temp < len(d[\"tokens\"]) and d[\"labels\"][temp] == \"I-NAME_STUDENT\":\n",
    "                temp += 1\n",
    "                count += 1\n",
    "\n",
    "            if count > 1:\n",
    "                counts.append(count)\n",
    "\n",
    "Counter(counts)"
   ]
  }
 ],
 "metadata": {
  "kernelspec": {
   "display_name": "base",
   "language": "python",
   "name": "python3"
  },
  "language_info": {
   "codemirror_mode": {
    "name": "ipython",
    "version": 3
   },
   "file_extension": ".py",
   "mimetype": "text/x-python",
   "name": "python",
   "nbconvert_exporter": "python",
   "pygments_lexer": "ipython3",
   "version": "3.10.10"
  }
 },
 "nbformat": 4,
 "nbformat_minor": 2
}
