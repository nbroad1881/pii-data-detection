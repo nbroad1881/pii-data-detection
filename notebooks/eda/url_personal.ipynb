{
 "cells": [
  {
   "cell_type": "code",
   "execution_count": 1,
   "metadata": {},
   "outputs": [
    {
     "name": "stdout",
     "output_type": "stream",
     "text": [
      "Loaded .env file!\n"
     ]
    }
   ],
   "source": [
    "import json\n",
    "from dotenv import load_dotenv\n",
    "from pathlib import Path\n",
    "\n",
    "dotenv_path = Path(\"../../.env\")\n",
    "if dotenv_path.exists():\n",
    "    print(\"Loaded .env file!\")\n",
    "    load_dotenv(str(dotenv_path))\n",
    "\n",
    "\n",
    "data = json.load(open(\"/drive2/kaggle/pii-dd/data/train.json\"))"
   ]
  },
  {
   "cell_type": "code",
   "execution_count": 2,
   "metadata": {},
   "outputs": [
    {
     "data": {
      "text/plain": [
       "(110, 95, 1, 1)"
      ]
     },
     "execution_count": 2,
     "metadata": {},
     "output_type": "execute_result"
    }
   ],
   "source": [
    "b_url, i_url = [], []\n",
    "\n",
    "for d in data:\n",
    "    for t, l in zip(d[\"tokens\"], d[\"labels\"]):\n",
    "        if l == \"B-URL_PERSONAL\":\n",
    "            b_url.append(t)\n",
    "        elif l == \"I-URL_PERSONAL\":\n",
    "            i_url.append(t)\n",
    "\n",
    "\n",
    "len(b_url), len(set(b_url)), len(i_url), len(set(i_url))"
   ]
  },
  {
   "cell_type": "code",
   "execution_count": 35,
   "metadata": {},
   "outputs": [
    {
     "data": {
      "text/plain": [
       "['http://beck-calhoun.biz/bloghome.jsp',\n",
       " 'http://camacho.biz/blog/main/appfaq.jsp',\n",
       " 'http://chang.com/tagspost.asp',\n",
       " 'http://fisher.com/category/wp-contentregister.htm',\n",
       " 'http://hensley.info/exploreabout.jsp',\n",
       " 'http://hodge-ramsey.com/tagmain.html',\n",
       " 'http://hogan.com/app/categoriesindex.php',\n",
       " 'http://jacobs-fisher.com/listpost.html',\n",
       " 'http://jones-mendoza.com/blog/search/searchprivacy.php',\n",
       " 'http://martin.com/app/tags/searchregister.php',\n",
       " 'http://mcdonald-pope.com/categorycategory.jsp',\n",
       " 'http://mcneil.org/list/taghomepage.htm',\n",
       " 'http://moore.com/explore/tagterms.php',\n",
       " 'http://osborne.org/main/posts/tagprivacy.asp',\n",
       " 'http://owens-farley.com/blogprivacy.asp',\n",
       " 'http://perry-king.biz/main/exploreregister.jsp',\n",
       " 'http://thomas.biz/list/taghome.php',\n",
       " 'http://www.barry.com/main/list/postshomepage.html',\n",
       " 'http://www.bonilla.org/category/tags/wp-contentfaq.htm',\n",
       " 'http://www.burns-lopez.com/categories/appabout.asp',\n",
       " 'http://www.chambers.com/wp-content/app/categorieshomepage.jsp',\n",
       " 'http://www.chapman-robinson.com/explorelogin.htm',\n",
       " 'http://www.daniels.biz/tagssearch.php',\n",
       " 'http://www.frederick-curtis.net/posts/wp-content/categoryauthor.php',\n",
       " 'http://www.green.info/wp-content/wp-contentpost.html',\n",
       " 'http://www.jackson.com/appcategory.html',\n",
       " 'http://www.jackson.com/categories/search/tagsmain.html',\n",
       " 'http://www.johnson.com/categories/wp-content/tagabout.html',\n",
       " 'http://www.melendez.biz/postsabout.html',\n",
       " 'http://www.miller.org/search/tags/tagsearch.php',\n",
       " 'http://www.moore.com/',\n",
       " 'http://www.olsen.org/posts/blog/searchabout.html',\n",
       " 'http://www.stokes.com/wp-content/main/searchregister.htm',\n",
       " 'http://www.tate.com/',\n",
       " 'https://alvarado.com/categoriesindex.html',\n",
       " 'https://brown.info/posts/searchauthor.php',\n",
       " 'https://buck-flores.com/list/postshomepage.jsp',\n",
       " 'https://butler.com/search/wp-content/categorypost.jsp',\n",
       " 'https://diaz.com/tag/wp-contentlogin.htm',\n",
       " 'https://glenn.org/postsindex.jsp',\n",
       " 'https://hernandez.com/exploremain.html',\n",
       " 'https://howell-brooks.com/wp-content/mainprivacy.htm',\n",
       " 'https://ingram-castro.com/tagsmain.html',\n",
       " 'https://jones-hernandez.com/main/tag/listindex.htm',\n",
       " 'https://jones.com/tags/wp-contentpost.html',\n",
       " 'https://oconnell-townsend.com/wp-content/categorieshomepage.html',\n",
       " 'https://soto.com/listregister.asp',\n",
       " 'https://vargas.com/list/exploreauthor.html',\n",
       " 'https://www.bell-kelly.net/tag/tags/categoriesprivacy.htm',\n",
       " 'https://www.brooks.net/exploreprivacy.html',\n",
       " 'https://www.campbell-silva.org/app/tagsauthor.html',\n",
       " 'https://www.clark-winters.com/tag/searchauthor.html',\n",
       " 'https://www.cuevas.info/blogsearch.html',\n",
       " 'https://www.facebook.com/amanda37',\n",
       " 'https://www.facebook.com/pamela23',\n",
       " 'https://www.fitzgerald-nicholson.com/search/categories/wp-contentlogin.htm',\n",
       " 'https://www.hall.biz/wp-contenthome.html',\n",
       " 'https://www.hart.com/posts/tagspost.htm',\n",
       " 'https://www.jackson.com/list/explorehomepage.htm',\n",
       " 'https://www.johnson.biz/wp-content/appcategory.php',\n",
       " 'https://www.kramer.info/wp-content/category/bloghome.php',\n",
       " 'https://www.linkedin.com/feevanessacook',\n",
       " 'https://www.linkedin.com/in/michael16',\n",
       " 'https://www.linkedin.com/in/mmartinez',\n",
       " 'https://www.linkedin.com/pulmarkkelly',\n",
       " 'https://www.lopez.com/category/tagprivacy.php',\n",
       " 'https://www.park-baker.com/tags/explore/blogpost.php',\n",
       " 'https://www.peterson.net/tag/app/listmain.php',\n",
       " 'https://www.price.info/categories/search/tagprivacy.htm',\n",
       " 'https://www.rice-trevino.org/tag/blogindex.asp',\n",
       " 'https://www.roman.info/list/appindex.html',\n",
       " 'https://www.shaw-smith.net/tags/listfaq.html',\n",
       " 'https://www.smith-flores.com/mainlogin.htm',\n",
       " 'https://www.williamson.net/wp-contentcategory.php',\n",
       " 'https://www.youtube.com/channel/UC1ElAcppeuhfet',\n",
       " 'https://www.youtube.com/user/vdrake',\n",
       " 'https://www.youtube.com/watch?v=2W2A1l98qVg',\n",
       " 'https://www.youtube.com/watch?v=2sOzgGAeiQV',\n",
       " 'https://www.youtube.com/watch?v=B131Tm9Iex1',\n",
       " 'https://www.youtube.com/watch?v=EnVUhYZvCFr',\n",
       " 'https://www.youtube.com/watch?v=HePCiQaZo2X',\n",
       " 'https://www.youtube.com/watch?v=e2D2mFcZzeW',\n",
       " 'https://www.youtube.com/watch?v=jhw3sb6ZCAZ',\n",
       " 'https://www.youtube.com/watch?v=n-ajTPJ1h-J',\n",
       " 'https://www.youtube.com/watch?v=tIBN9VJ0S4a',\n",
       " 'https://www.youtube.com/watch?v=tQSdE32O5KE',\n",
       " 'https://www.youtube.com/watch?v=x5Y6nYsYmtA',\n",
       " 'https://www.youtube.com/watch?v=y1ZQmZmkaDD',\n",
       " 'https://youtu.be/1pM3sb7AMPs',\n",
       " 'https://youtu.be/AsSLvOLkUYn',\n",
       " 'https://youtu.be/Kb-hqNGr5lJ',\n",
       " 'https://youtu.be/bDPejFHJSsT',\n",
       " 'https://youtu.be/h9YTxzr_HPS',\n",
       " 'https://youtu.be/rFD2lJuvace',\n",
       " 'tps://www.facebook.com/bclark']"
      ]
     },
     "execution_count": 35,
     "metadata": {},
     "output_type": "execute_result"
    }
   ],
   "source": [
    "sorted(set(b_url))"
   ]
  },
  {
   "cell_type": "markdown",
   "metadata": {},
   "source": [
    "The one instance of \"I-URL_PERSONAL\" looks like a space was accidentally added into the random string of characters\n",
    "\n",
    "My channel is https://www.youtube.com/channel/UCGPfGD2QatRVmwiqZ8UjPCQ\n",
    "\n",
    "which has 24 random looking characters.\n",
    "\n",
    "\n",
    "The \"I-URL_PERSONAL\" in the training data has 25 including the space. Somehow a space found its way into it. It looks like it is the actual URL (if you delete the space it goes to a channel that seems related to this essay).\n",
    "\n",
    "All of the youtube links that are marked as PII don't work. The ones that are not PII appear to work.\n",
    "\n",
    "Url features in Non-PII youtube urls:\n",
    "  - ending in \"&t=1s\" which indicates where in the video it should start. \n",
    "  - ending in \"&feature=emb_title\"\n",
    "  - includes \"results\" in the url"
   ]
  },
  {
   "cell_type": "code",
   "execution_count": 8,
   "metadata": {},
   "outputs": [
    {
     "data": {
      "text/plain": [
       "24"
      ]
     },
     "execution_count": 8,
     "metadata": {},
     "output_type": "execute_result"
    }
   ],
   "source": [
    "len(\"UCGPfGD2QatRVmwiqZ8UjPCQ\")"
   ]
  },
  {
   "cell_type": "code",
   "execution_count": 9,
   "metadata": {},
   "outputs": [
    {
     "data": {
      "text/plain": [
       "25"
      ]
     },
     "execution_count": 9,
     "metadata": {},
     "output_type": "execute_result"
    }
   ],
   "source": [
    "len(\"UC1ElAcppeuhfet nYZqnhEXw\")"
   ]
  },
  {
   "cell_type": "code",
   "execution_count": 4,
   "metadata": {},
   "outputs": [
    {
     "name": "stdout",
     "output_type": "stream",
     "text": [
      "Salem\n",
      "\n",
      "FinTech Consultant and Trainer\n",
      "\n",
      "tps://www.facebook.com/bclark\n",
      "\n",
      "https://www.youtube.com/channel/UC1ElAcppeuhfet nYZqnhEXw\n",
      "\n",
      "Ahmed Salem Reflection - Learning Launch\n",
      "\n",
      "Challenge\n"
     ]
    }
   ],
   "source": [
    "for d in data:\n",
    "    for i, (t, l, ws) in enumerate(zip(d[\"tokens\"], d[\"labels\"], d[\"trailing_whitespace\"])):\n",
    "        if l == \"I-URL_PERSONAL\":\n",
    "            start_idx = max(0, i - 10)\n",
    "            end_idx = min(len(d[\"tokens\"]), i + 10)\n",
    "            span = \"\"\n",
    "            for j in range(start_idx, end_idx):\n",
    "                span += d[\"tokens\"][j]\n",
    "                if d[\"trailing_whitespace\"][j]:\n",
    "                    span += \" \"\n",
    "            print(span)"
   ]
  },
  {
   "cell_type": "markdown",
   "metadata": {},
   "source": [
    "Let's look for more youtube channels mentioned"
   ]
  },
  {
   "cell_type": "code",
   "execution_count": 5,
   "metadata": {},
   "outputs": [
    {
     "name": "stdout",
     "output_type": "stream",
     "text": [
      "Final Assignment\n",
      "\n",
      "University of Virginia's Darden School of\n",
      "\n",
      "Business Coursera Course: Design Thinking\n",
      "\n",
      "for Innovation\n",
      "\n",
      "By: Ahmed Salem\n",
      "\n",
      "FinTech Consultant and Trainer\n",
      "\n",
      "tps://www.facebook.com/bclark\n",
      "\n",
      "https://www.youtube.com/channel/UC1ElAcppeuhfet nYZqnhEXw\n",
      "\n",
      "Ahmed Salem Reflection - Learning Launch\n",
      "\n",
      "Challenge\n",
      "\n",
      "I am a Management, Banking Trainer and Consultant, I  provide and deliver training and on the job training in  different banking domains beside I deliver sessions about  Financial technology. I seek to develop my training tools and  the ways of providing training and shift it from offline- training to online training. I decided to make this shift  because of the covid-19 pandemic which make me to rethink  and try to design a new way of providing training especially  for me about the future of the training industry and the new  normal that will occur in the coming months.\n",
      "\n",
      "Selection\n",
      "\n",
      "I decided to use the learning launch tool because I have the  idea of launching my training courses online in a platform,  beside short educational videos on my YouTube channel\n",
      "\n",
      "Application\n",
      "\n",
      "I have started uploading short educational videos on my  YouTube channel and my audience is very satisfied and eager  to know more\n",
      "\n",
      "Insight\n",
      "\n",
      "By applying the learning launch tool, my assumption and I is  very sure that my trainees and my audience will be excited  and satisfied\n",
      "\n",
      "Approach\n",
      "\n",
      "I have tested providing online training by making short  educational videos on my\n",
      "\n",
      "and my\n",
      "\n",
      "; the feedback from the audience was\n",
      "\n",
      "very compelling, and they want to hear from me more and  more\n",
      "\n",
      "\n"
     ]
    }
   ],
   "source": [
    "for d in data:\n",
    "    if \"youtube.com/channel\" in d[\"full_text\"]:\n",
    "        print(d[\"full_text\"])"
   ]
  },
  {
   "cell_type": "code",
   "execution_count": 6,
   "metadata": {},
   "outputs": [
    {
     "data": {
      "text/plain": [
       "(53, 53)"
      ]
     },
     "execution_count": 6,
     "metadata": {},
     "output_type": "execute_result"
    }
   ],
   "source": [
    "youtube_tokens = []\n",
    "\n",
    "for d in data:\n",
    "    for t in d[\"tokens\"]:\n",
    "        if \"youtube.com\" in t:\n",
    "            youtube_tokens.append(t)\n",
    "        elif \"youtu.be\" in t:\n",
    "            youtube_tokens.append(t)\n",
    "\n",
    "len(youtube_tokens), len(set(youtube_tokens))"
   ]
  },
  {
   "cell_type": "code",
   "execution_count": 7,
   "metadata": {},
   "outputs": [
    {
     "data": {
      "text/plain": [
       "['https://youtu.be/rFD2lJuvace',\n",
       " 'https://www.youtube.com/watch?v=n-ajTPJ1h-J',\n",
       " 'https://www.youtube.com/channel/UC1ElAcppeuhfet',\n",
       " 'http://au.youtube.com/results?search_query=tony+buzan',\n",
       " 'https://www.youtube.com/watch?v=2sOzgGAeiQV',\n",
       " 'https://www.youtube.com/watch?v=Nj-hdQMa3uA',\n",
       " 'https://www.youtube.com/watch?v=e2D2mFcZzeW',\n",
       " 'https://www.youtube.com/watch?v=EnVUhYZvCFr',\n",
       " 'https://www.youtube.com/watch?v=tQSdE32O5KE',\n",
       " 'https://www.youtube.com/watch?v=5Zuq92PUr5E',\n",
       " 'https://www.youtube.com/watch?v=al3-Kl4BDUQ',\n",
       " 'https://www.youtube.com/watch?v=NuacmGHLDqw',\n",
       " 'https://youtu.be/bDPejFHJSsT',\n",
       " 'https://www.youtube.com/watch?v=t3kKechcwYM&feature=emb_title',\n",
       " 'https://www.youtube.com/user/vdrake',\n",
       " 'https://www.youtube.com/watch?v=y1ZQmZmkaDD',\n",
       " 'https://www.youtube.com/watch?v=HePCiQaZo2X',\n",
       " 'https://youtu.be/AsSLvOLkUYn',\n",
       " 'https://www.youtube.com/watch?v=tIBN9VJ0S4a',\n",
       " 'https://youtu.be/h9YTxzr_HPS',\n",
       " 'https://www.youtube.com/watch?v=2W2A1l98qVg',\n",
       " 'https://www.youtube.com/watch?v=5nTuScU70As',\n",
       " 'https://www.youtube.com/watch?v=fiyaYII7ROA',\n",
       " 'https://www.youtube.com/watch?v=B131Tm9Iex1',\n",
       " 'https://www.youtube.com/watch?v=n90uKuFh9Go',\n",
       " 'https://www.youtube.com/watch?v=sh1-9xMZIfQ',\n",
       " 'https://www.youtube.com/watch?v=Z4fO_NAFQ3c',\n",
       " 'https://www.youtube.com/watch?v=yWEqiyia-Qs',\n",
       " 'https://youtu.be/Am8EE3SBnAo',\n",
       " 'https://youtu.be/1pM3sb7AMPs',\n",
       " 'https://youtu.be/Kb-hqNGr5lJ',\n",
       " 'https://www.youtube.com/watch?v=x5Y6nYsYmtA',\n",
       " 'https://www.youtube.com/watch?v=jhw3sb6ZCAZ',\n",
       " '\\u200bhttps://www.youtube.com',\n",
       " 'https://www.youtube.com/watch?v=twbHCOQkspY',\n",
       " 'https://www.youtube.com/watch?v=SONOxZkG5xk',\n",
       " 'https://www.youtube.com/watch?v=usX9vkxK5xA',\n",
       " 'https://www.youtube.com/watch?v=wouXuqJiCro',\n",
       " 'https://www.youtube.com/watch?v=9URSbTOE4YI',\n",
       " 'https://www.youtube.com/watch?v=oR__WIK_yqk',\n",
       " 'https://www.youtube.com/watch?v=PqS-bWQ3YA8',\n",
       " 'https://youtu.be/_vS_b7cJn2A',\n",
       " 'https://www.youtube.com/watch?v=V5BQnifIwA0',\n",
       " 'http://youtu.be/2PBeRbWE79w',\n",
       " 'https://www.youtube.com/watch?v=iXmXczQFQLQ',\n",
       " 'https://youtu.be/LyaUS2PNiVQ',\n",
       " 'https://youtu.be/xCyjFipytRE',\n",
       " 'https://www.youtube.com/watch?v=HZ4gVlT93R4&t=1s',\n",
       " 'https://www.youtube.com/watch?v=2Ev1ciZ5e1g&t=1s',\n",
       " 'https://www.youtube.com/watch?v=r1A3yThBaiQ&t=11s',\n",
       " 'https://youtu.be/fPAnKZjejmU',\n",
       " 'https://www.youtube.com/watch?v=I0qsOs1Y4Do',\n",
       " 'https://www.youtube.com/watch?v=FZSpUfsoezY']"
      ]
     },
     "execution_count": 7,
     "metadata": {},
     "output_type": "execute_result"
    }
   ],
   "source": [
    "youtube_tokens"
   ]
  },
  {
   "cell_type": "code",
   "execution_count": 12,
   "metadata": {},
   "outputs": [
    {
     "data": {
      "text/plain": [
       "(20, 20)"
      ]
     },
     "execution_count": 12,
     "metadata": {},
     "output_type": "execute_result"
    }
   ],
   "source": [
    "youtube_pii = []\n",
    "\n",
    "for d in data:\n",
    "    for t, l in zip(d[\"tokens\"], d[\"labels\"]):\n",
    "        if \"youtube.com\" in t and l == \"B-URL_PERSONAL\":\n",
    "            youtube_pii.append(t)\n",
    "        elif \"youtu.be\" in t and l == \"B-URL_PERSONAL\":\n",
    "            youtube_pii.append(t)\n",
    "\n",
    "len(youtube_pii), len(set(youtube_pii))"
   ]
  },
  {
   "cell_type": "code",
   "execution_count": 13,
   "metadata": {},
   "outputs": [
    {
     "data": {
      "text/plain": [
       "['https://youtu.be/rFD2lJuvace',\n",
       " 'https://www.youtube.com/watch?v=n-ajTPJ1h-J',\n",
       " 'https://www.youtube.com/channel/UC1ElAcppeuhfet',\n",
       " 'https://www.youtube.com/watch?v=2sOzgGAeiQV',\n",
       " 'https://www.youtube.com/watch?v=e2D2mFcZzeW',\n",
       " 'https://www.youtube.com/watch?v=EnVUhYZvCFr',\n",
       " 'https://www.youtube.com/watch?v=tQSdE32O5KE',\n",
       " 'https://youtu.be/bDPejFHJSsT',\n",
       " 'https://www.youtube.com/user/vdrake',\n",
       " 'https://www.youtube.com/watch?v=y1ZQmZmkaDD',\n",
       " 'https://www.youtube.com/watch?v=HePCiQaZo2X',\n",
       " 'https://youtu.be/AsSLvOLkUYn',\n",
       " 'https://www.youtube.com/watch?v=tIBN9VJ0S4a',\n",
       " 'https://youtu.be/h9YTxzr_HPS',\n",
       " 'https://www.youtube.com/watch?v=2W2A1l98qVg',\n",
       " 'https://www.youtube.com/watch?v=B131Tm9Iex1',\n",
       " 'https://youtu.be/1pM3sb7AMPs',\n",
       " 'https://youtu.be/Kb-hqNGr5lJ',\n",
       " 'https://www.youtube.com/watch?v=x5Y6nYsYmtA',\n",
       " 'https://www.youtube.com/watch?v=jhw3sb6ZCAZ']"
      ]
     },
     "execution_count": 13,
     "metadata": {},
     "output_type": "execute_result"
    }
   ],
   "source": [
    "youtube_pii"
   ]
  },
  {
   "cell_type": "code",
   "execution_count": 14,
   "metadata": {},
   "outputs": [
    {
     "data": {
      "text/plain": [
       "(33, 33)"
      ]
     },
     "execution_count": 14,
     "metadata": {},
     "output_type": "execute_result"
    }
   ],
   "source": [
    "youtube_non_pii = []\n",
    "\n",
    "for d in data:\n",
    "    for t, l in zip(d[\"tokens\"], d[\"labels\"]):\n",
    "        if \"youtube.com\" in t and l != \"B-URL_PERSONAL\":\n",
    "            youtube_non_pii.append(t)\n",
    "        elif \"youtu.be\" in t and l != \"B-URL_PERSONAL\":\n",
    "            youtube_non_pii.append(t)\n",
    "\n",
    "len(youtube_non_pii), len(set(youtube_non_pii))"
   ]
  },
  {
   "cell_type": "code",
   "execution_count": 15,
   "metadata": {},
   "outputs": [
    {
     "data": {
      "text/plain": [
       "['http://au.youtube.com/results?search_query=tony+buzan',\n",
       " 'https://www.youtube.com/watch?v=Nj-hdQMa3uA',\n",
       " 'https://www.youtube.com/watch?v=5Zuq92PUr5E',\n",
       " 'https://www.youtube.com/watch?v=al3-Kl4BDUQ',\n",
       " 'https://www.youtube.com/watch?v=NuacmGHLDqw',\n",
       " 'https://www.youtube.com/watch?v=t3kKechcwYM&feature=emb_title',\n",
       " 'https://www.youtube.com/watch?v=5nTuScU70As',\n",
       " 'https://www.youtube.com/watch?v=fiyaYII7ROA',\n",
       " 'https://www.youtube.com/watch?v=n90uKuFh9Go',\n",
       " 'https://www.youtube.com/watch?v=sh1-9xMZIfQ',\n",
       " 'https://www.youtube.com/watch?v=Z4fO_NAFQ3c',\n",
       " 'https://www.youtube.com/watch?v=yWEqiyia-Qs',\n",
       " 'https://youtu.be/Am8EE3SBnAo',\n",
       " '\\u200bhttps://www.youtube.com',\n",
       " 'https://www.youtube.com/watch?v=twbHCOQkspY',\n",
       " 'https://www.youtube.com/watch?v=SONOxZkG5xk',\n",
       " 'https://www.youtube.com/watch?v=usX9vkxK5xA',\n",
       " 'https://www.youtube.com/watch?v=wouXuqJiCro',\n",
       " 'https://www.youtube.com/watch?v=9URSbTOE4YI',\n",
       " 'https://www.youtube.com/watch?v=oR__WIK_yqk',\n",
       " 'https://www.youtube.com/watch?v=PqS-bWQ3YA8',\n",
       " 'https://youtu.be/_vS_b7cJn2A',\n",
       " 'https://www.youtube.com/watch?v=V5BQnifIwA0',\n",
       " 'http://youtu.be/2PBeRbWE79w',\n",
       " 'https://www.youtube.com/watch?v=iXmXczQFQLQ',\n",
       " 'https://youtu.be/LyaUS2PNiVQ',\n",
       " 'https://youtu.be/xCyjFipytRE',\n",
       " 'https://www.youtube.com/watch?v=HZ4gVlT93R4&t=1s',\n",
       " 'https://www.youtube.com/watch?v=2Ev1ciZ5e1g&t=1s',\n",
       " 'https://www.youtube.com/watch?v=r1A3yThBaiQ&t=11s',\n",
       " 'https://youtu.be/fPAnKZjejmU',\n",
       " 'https://www.youtube.com/watch?v=I0qsOs1Y4Do',\n",
       " 'https://www.youtube.com/watch?v=FZSpUfsoezY']"
      ]
     },
     "execution_count": 15,
     "metadata": {},
     "output_type": "execute_result"
    }
   ],
   "source": [
    "youtube_non_pii"
   ]
  },
  {
   "cell_type": "markdown",
   "metadata": {},
   "source": [
    "# linkedin\n",
    "\n",
    "\n",
    "Looks like pii includes personal profiles.  \n",
    "Non-pii is for an article"
   ]
  },
  {
   "cell_type": "code",
   "execution_count": 21,
   "metadata": {},
   "outputs": [
    {
     "name": "stdout",
     "output_type": "stream",
     "text": [
      "['https://www.linkedin.com/in/mmartinez', 'https://www.linkedin.com/in/michael16', 'https://www.linkedin.com/pulmarkkelly', 'https://www.linkedin.com/feevanessacook']\n"
     ]
    },
    {
     "data": {
      "text/plain": [
       "(4, 4)"
      ]
     },
     "execution_count": 21,
     "metadata": {},
     "output_type": "execute_result"
    }
   ],
   "source": [
    "linkedin_pii = []\n",
    "\n",
    "for d in data:\n",
    "    for t, l in zip(d[\"tokens\"], d[\"labels\"]):\n",
    "        if \"linkedin.com\" in t and l == \"B-URL_PERSONAL\":\n",
    "            linkedin_pii.append(t)\n",
    "\n",
    "print(linkedin_pii)\n",
    "len(linkedin_pii), len(set(linkedin_pii))"
   ]
  },
  {
   "cell_type": "code",
   "execution_count": 20,
   "metadata": {},
   "outputs": [
    {
     "name": "stdout",
     "output_type": "stream",
     "text": [
      "['https://www.linkedin.com/pulse/importance-visualisation-design-thinking-rizan-rizvi/']\n"
     ]
    },
    {
     "data": {
      "text/plain": [
       "(1, 1)"
      ]
     },
     "execution_count": 20,
     "metadata": {},
     "output_type": "execute_result"
    }
   ],
   "source": [
    "linkedin_non_pii = []\n",
    "\n",
    "for d in data:\n",
    "    for t, l in zip(d[\"tokens\"], d[\"labels\"]):\n",
    "        if \"linkedin.com\" in t and l != \"B-URL_PERSONAL\":\n",
    "            linkedin_non_pii.append(t)\n",
    "\n",
    "print(linkedin_non_pii)\n",
    "len(linkedin_non_pii), len(set(linkedin_non_pii))"
   ]
  },
  {
   "cell_type": "markdown",
   "metadata": {},
   "source": [
    "# Facebook\n",
    "\n",
    "Pretty straight forward. If it comes from facebook.com/username, then it is PII."
   ]
  },
  {
   "cell_type": "code",
   "execution_count": 22,
   "metadata": {},
   "outputs": [
    {
     "name": "stdout",
     "output_type": "stream",
     "text": [
      "['tps://www.facebook.com/bclark', 'https://www.facebook.com/amanda37', 'https://www.facebook.com/amanda37', 'https://www.facebook.com/pamela23']\n"
     ]
    },
    {
     "data": {
      "text/plain": [
       "(4, 3)"
      ]
     },
     "execution_count": 22,
     "metadata": {},
     "output_type": "execute_result"
    }
   ],
   "source": [
    "fb_pii = []\n",
    "\n",
    "for d in data:\n",
    "    for t, l in zip(d[\"tokens\"], d[\"labels\"]):\n",
    "        if \"facebook\" in t and l == \"B-URL_PERSONAL\":\n",
    "            fb_pii.append(t)\n",
    "        elif \"fb.com\" in t and l == \"B-URL_PERSONAL\":\n",
    "            fb_pii.append(t)\n",
    "\n",
    "print(fb_pii)\n",
    "len(fb_pii), len(set(fb_pii))"
   ]
  },
  {
   "cell_type": "code",
   "execution_count": 23,
   "metadata": {},
   "outputs": [
    {
     "name": "stdout",
     "output_type": "stream",
     "text": [
      "['facebook', 'facebook', 'facebook', 'facebook', 'facebook', 'facebook', 'facebook', 'facebook', 'facebook', 'facebook', 'facebook', 'facebook', 'facebook', 'facebook', 'facebook', 'facebook', 'facebook', 'https://www.healthcaresuccess.com/blog/medical-marketing-advertising/facebook-', 'facebook', 'facebook', 'facebook', 'facebook', 'facebook', 'facebook', 'facebook', 'facebook', 'facebook', 'facebook', 'facebook', 'facebook', 'facebook', 'facebook']\n"
     ]
    },
    {
     "data": {
      "text/plain": [
       "(32, 2)"
      ]
     },
     "execution_count": 23,
     "metadata": {},
     "output_type": "execute_result"
    }
   ],
   "source": [
    "fb_non_pii = []\n",
    "\n",
    "for d in data:\n",
    "    for t, l in zip(d[\"tokens\"], d[\"labels\"]):\n",
    "        if \"facebook\" in t and l != \"B-URL_PERSONAL\":\n",
    "            fb_non_pii.append(t)\n",
    "        elif \"fb.com\" in t and l != \"B-URL_PERSONAL\":\n",
    "            fb_non_pii.append(t)\n",
    "\n",
    "print(fb_non_pii)\n",
    "len(fb_non_pii), len(set(fb_non_pii))"
   ]
  },
  {
   "cell_type": "markdown",
   "metadata": {},
   "source": [
    "# Personal site"
   ]
  },
  {
   "cell_type": "code",
   "execution_count": 25,
   "metadata": {},
   "outputs": [
    {
     "data": {
      "text/plain": [
       "{'http://beck-calhoun.biz/bloghome.jsp',\n",
       " 'http://camacho.biz/blog/main/appfaq.jsp',\n",
       " 'http://chang.com/tagspost.asp',\n",
       " 'http://fisher.com/category/wp-contentregister.htm',\n",
       " 'http://hensley.info/exploreabout.jsp',\n",
       " 'http://hodge-ramsey.com/tagmain.html',\n",
       " 'http://hogan.com/app/categoriesindex.php',\n",
       " 'http://jacobs-fisher.com/listpost.html',\n",
       " 'http://jones-mendoza.com/blog/search/searchprivacy.php',\n",
       " 'http://martin.com/app/tags/searchregister.php',\n",
       " 'http://mcdonald-pope.com/categorycategory.jsp',\n",
       " 'http://mcneil.org/list/taghomepage.htm',\n",
       " 'http://moore.com/explore/tagterms.php',\n",
       " 'http://osborne.org/main/posts/tagprivacy.asp',\n",
       " 'http://owens-farley.com/blogprivacy.asp',\n",
       " 'http://perry-king.biz/main/exploreregister.jsp',\n",
       " 'http://thomas.biz/list/taghome.php',\n",
       " 'http://www.barry.com/main/list/postshomepage.html',\n",
       " 'http://www.bonilla.org/category/tags/wp-contentfaq.htm',\n",
       " 'http://www.burns-lopez.com/categories/appabout.asp',\n",
       " 'http://www.chambers.com/wp-content/app/categorieshomepage.jsp',\n",
       " 'http://www.chapman-robinson.com/explorelogin.htm',\n",
       " 'http://www.daniels.biz/tagssearch.php',\n",
       " 'http://www.frederick-curtis.net/posts/wp-content/categoryauthor.php',\n",
       " 'http://www.green.info/wp-content/wp-contentpost.html',\n",
       " 'http://www.jackson.com/appcategory.html',\n",
       " 'http://www.jackson.com/categories/search/tagsmain.html',\n",
       " 'http://www.johnson.com/categories/wp-content/tagabout.html',\n",
       " 'http://www.melendez.biz/postsabout.html',\n",
       " 'http://www.miller.org/search/tags/tagsearch.php',\n",
       " 'http://www.moore.com/',\n",
       " 'http://www.olsen.org/posts/blog/searchabout.html',\n",
       " 'http://www.stokes.com/wp-content/main/searchregister.htm',\n",
       " 'http://www.tate.com/',\n",
       " 'https://alvarado.com/categoriesindex.html',\n",
       " 'https://brown.info/posts/searchauthor.php',\n",
       " 'https://buck-flores.com/list/postshomepage.jsp',\n",
       " 'https://butler.com/search/wp-content/categorypost.jsp',\n",
       " 'https://diaz.com/tag/wp-contentlogin.htm',\n",
       " 'https://glenn.org/postsindex.jsp',\n",
       " 'https://hernandez.com/exploremain.html',\n",
       " 'https://howell-brooks.com/wp-content/mainprivacy.htm',\n",
       " 'https://ingram-castro.com/tagsmain.html',\n",
       " 'https://jones-hernandez.com/main/tag/listindex.htm',\n",
       " 'https://jones.com/tags/wp-contentpost.html',\n",
       " 'https://oconnell-townsend.com/wp-content/categorieshomepage.html',\n",
       " 'https://soto.com/listregister.asp',\n",
       " 'https://vargas.com/list/exploreauthor.html',\n",
       " 'https://www.bell-kelly.net/tag/tags/categoriesprivacy.htm',\n",
       " 'https://www.brooks.net/exploreprivacy.html',\n",
       " 'https://www.campbell-silva.org/app/tagsauthor.html',\n",
       " 'https://www.clark-winters.com/tag/searchauthor.html',\n",
       " 'https://www.cuevas.info/blogsearch.html',\n",
       " 'https://www.fitzgerald-nicholson.com/search/categories/wp-contentlogin.htm',\n",
       " 'https://www.hall.biz/wp-contenthome.html',\n",
       " 'https://www.hart.com/posts/tagspost.htm',\n",
       " 'https://www.jackson.com/list/explorehomepage.htm',\n",
       " 'https://www.johnson.biz/wp-content/appcategory.php',\n",
       " 'https://www.kramer.info/wp-content/category/bloghome.php',\n",
       " 'https://www.lopez.com/category/tagprivacy.php',\n",
       " 'https://www.park-baker.com/tags/explore/blogpost.php',\n",
       " 'https://www.peterson.net/tag/app/listmain.php',\n",
       " 'https://www.price.info/categories/search/tagprivacy.htm',\n",
       " 'https://www.rice-trevino.org/tag/blogindex.asp',\n",
       " 'https://www.roman.info/list/appindex.html',\n",
       " 'https://www.shaw-smith.net/tags/listfaq.html',\n",
       " 'https://www.smith-flores.com/mainlogin.htm',\n",
       " 'https://www.williamson.net/wp-contentcategory.php'}"
      ]
     },
     "execution_count": 25,
     "metadata": {},
     "output_type": "execute_result"
    }
   ],
   "source": [
    "personal_site_urls = set(b_url) - set(youtube_pii) - set(linkedin_pii) - set(fb_pii)\n",
    "\n",
    "personal_site_urls"
   ]
  },
  {
   "cell_type": "code",
   "execution_count": 34,
   "metadata": {},
   "outputs": [
    {
     "name": "stdout",
     "output_type": "stream",
     "text": [
      "File endings {'jsp', 'asp', 'html', 'php', 'htm'}\n",
      "Domain extensions {'biz', 'info', 'com', 'net', 'org'}\n",
      "Path items {'blogprivacy', 'tagsmain', 'listmain', 'tagmain', 'tags', 'tagsauthor', 'postshomepage', 'appcategory', 'tagspost', 'listregister', 'wp-contenthome', 'postsabout', 'explorelogin', 'categorypost', 'exploreabout', 'app', 'listindex', 'blogindex', 'wp-contentregister', 'list', 'categoriesprivacy', 'taghome', 'search', 'searchabout', 'blogpost', 'tag', 'tagterms', 'searchprivacy', 'listfaq', 'blog', 'tagprivacy', 'explore', 'wp-contentfaq', 'appindex', 'wp-content', 'categoryauthor', 'category', 'searchregister', 'mainprivacy', 'exploreauthor', 'searchauthor', 'categorieshomepage', 'exploreregister', 'categorycategory', 'appfaq', 'exploremain', 'explorehomepage', 'wp-contentpost', 'bloghome', 'posts', 'taghomepage', 'tagsearch', 'appabout', 'blogsearch', 'tagssearch', 'tagabout', 'categories', 'categoriesindex', 'mainlogin', 'exploreprivacy', 'wp-contentcategory', 'main', 'wp-contentlogin', 'postsindex', 'listpost'}\n"
     ]
    }
   ],
   "source": [
    "# File endings\n",
    "\n",
    "file_endings = set()\n",
    "for u in personal_site_urls:\n",
    "    if u.endswith(\".com/\"):\n",
    "        continue\n",
    "    file_endings.add(u.split(\".\")[-1])\n",
    "\n",
    "print(\"File endings\", file_endings)\n",
    "\n",
    "\n",
    "# domain extensions\n",
    "\n",
    "domain_exts = set()\n",
    "for u in personal_site_urls:\n",
    "    if \"www.\" in u:\n",
    "        u = u.split(\"www.\")[1]\n",
    "\n",
    "    ending = u.split(\".\")[1]\n",
    "    domain_ext = ending.split(\"/\")[0]\n",
    "\n",
    "    domain_exts.add(domain_ext)\n",
    "\n",
    "print(\"Domain extensions\", domain_exts)\n",
    "\n",
    "\n",
    "# path items\n",
    "\n",
    "path_items = set()\n",
    "\n",
    "for u in personal_site_urls:\n",
    "    u = u.split(\"//\")[1]\n",
    "    u = u.split(\"/\")[1:]\n",
    "    for i in u:\n",
    "        if i == \"\":\n",
    "            continue\n",
    "        if \".\" in i:\n",
    "            path_items.add(i.split(\".\")[0])\n",
    "        else:\n",
    "            path_items.add(i)\n",
    "\n",
    "print(\"Path items\", path_items)"
   ]
  },
  {
   "cell_type": "code",
   "execution_count": null,
   "metadata": {},
   "outputs": [],
   "source": []
  }
 ],
 "metadata": {
  "kernelspec": {
   "display_name": "base",
   "language": "python",
   "name": "python3"
  },
  "language_info": {
   "codemirror_mode": {
    "name": "ipython",
    "version": 3
   },
   "file_extension": ".py",
   "mimetype": "text/x-python",
   "name": "python",
   "nbconvert_exporter": "python",
   "pygments_lexer": "ipython3",
   "version": "3.10.10"
  }
 },
 "nbformat": 4,
 "nbformat_minor": 2
}
