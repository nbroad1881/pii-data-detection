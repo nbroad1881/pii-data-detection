{
 "cells": [
  {
   "cell_type": "markdown",
   "metadata": {},
   "source": [
    "This is to look into the essays that do not have any labels"
   ]
  },
  {
   "cell_type": "code",
   "execution_count": 6,
   "metadata": {},
   "outputs": [],
   "source": [
    "import json\n",
    "\n",
    "data = json.load(open(\"../data/train.json\"))\n",
    "\n",
    "no_pii = [d for d in data if all([x == \"O\" for x in d[\"labels\"]])]"
   ]
  },
  {
   "cell_type": "code",
   "execution_count": 3,
   "metadata": {},
   "outputs": [
    {
     "data": {
      "text/plain": [
       "5862"
      ]
     },
     "execution_count": 3,
     "metadata": {},
     "output_type": "execute_result"
    }
   ],
   "source": [
    "len(no_pii)"
   ]
  },
  {
   "cell_type": "code",
   "execution_count": 4,
   "metadata": {},
   "outputs": [
    {
     "data": {
      "text/plain": [
       "123"
      ]
     },
     "execution_count": 4,
     "metadata": {},
     "output_type": "execute_result"
    }
   ],
   "source": [
    "has_url = [x for x in no_pii if \"http\" in x[\"full_text\"] or \"://\" in x[\"full_text\"] or \"www\" in x[\"full_text\"] or \".com\" in x[\"full_text\"]]\n",
    "\n",
    "len(has_url)"
   ]
  },
  {
   "cell_type": "code",
   "execution_count": 6,
   "metadata": {},
   "outputs": [
    {
     "data": {
      "text/plain": [
       "\"Challenge\\n\\nThere is a well known web-hosting company in my country. It is valued mainly for their support – if you have any hosting-related problem, you can chat instantly with one of their many support  specialists and you'll almost certainly get things sorted.\\n\\nHowever, the company recently undergone a large rise in popularity and their support staff started  to be overwhelmed with all the support requests. Internally, they decided they need to lower number of support chats to keep the quality of support.\\n\\nTheir administration interface was identified as one huge source of confusion (and thus support  requests). So, the challenge became to make smaller incremental changes to eliminate most of the  misunderstanding coming from this interface. That is where I came in.\\n\\nSelection\\n\\nIn the first “What is” phase we were able to collect a lot of information – we needed some way to  put them together & give them structure. We chose mind-mapping, as seen in Week 3 lecture “Mind Mapping Tool” - as a visual and tangible way to group & sort all the scattered information.\\n\\nApplication\\n\\nFirst, we focused on just one part of administration interface, namely DNS (Domain Name System)  settings screens, and gathered together all the information we had:\\n\\n• personas (there were just two main personas – advanced user administering larger amount of domains and web-hostings and a basic user setting up his own website)\\n\\n• transcriptions of support chats that dealt with DNS settings (complete conversations  between client and support agent)\\n\\n• testers' feedback (we asked a group of close webdevelopers, admins and freelancers using  this part of interface daily to review it and give us feedback)\\n\\n• Google Analytics data\\n\\n• wiki pages containing help for users\\n\\n• screenshots of actual interface\\n\\n• screenshots of similar interfaces from competition\\n\\nAs we work remotely, we couldn't use a large room to put up the information on the walls and walk  around. As an online alternative, we used a trello board (https://trello.com/) where we created  several lists based on the categories of information above and filled 'em with information. Then we  went through them individually and jotted down some notes as they came to us.\\n\\nAfter this we scheduled a virtual Hangouts call. The aim was to share observations with each other.  As a tool for collaborative visualisation of this step we used draw.io with Google Drive  (https://www.draw.io) where we put boxes with observations (just like post-it notes) and them  moved them around and clustered (which actually took considerably more time than just writing a\\n\\npost-it and sticking it on a board).\\n\\nInsight\\n\\nPutting together all the available information alone helped a lot. We were forced to put information  from various sources (online doc, Google Analytics, basecamp discussions, support agent  conversations folder) into one place (Trello), which allowed us to get better overview. Thanks to  this we also realized we had more available data than we initially thought.\\n\\nHard part was holding the whole process online. Although I am a big fan of remote work, I had to  admit it would be easier to meet & do this in person.\\n\\nThanks to this process (which took place very recently) we came up with ideas that will hopefully  help us with solving the challenge and eventually lowering the number of support requests coming  from this part of administration interface:\\n\\n• low level of knowledge – basic users are confused about the settings → our solution needs  to educate them so they know what they are doing\\n\\n• scattered settings – current interface doesn't allow to set everything on one place, users can't  find what they are looking for → our solution needs to put things together rather than scatter them more\\n\\n• UI bugs → there is a list of technical bugs that our solution needs to address and fix\\n\\n• current interface doesn't give you access to most used features → our solution should accept  what users need most\\n\\nApproach\\n\\nInviting stakeholders can be hard. We ended up being three (me as a designer, the product manager  and a programmer). There should definitely be 2-3 more persons the next time. In such a small  group the ideas didn't flow so naturally and we could easily oversee important insights.\\n\\nAlso, if possible, I'd like to try this in person to see people working in groups, interacting with each  other, moving around in physical space – it should move this process to another level.\\n\\n\""
      ]
     },
     "execution_count": 6,
     "metadata": {},
     "output_type": "execute_result"
    }
   ],
   "source": [
    "import random\n",
    "\n",
    "random.choice(has_url)[\"full_text\"]"
   ]
  },
  {
   "cell_type": "code",
   "execution_count": 3,
   "metadata": {},
   "outputs": [
    {
     "data": {
      "application/vnd.jupyter.widget-view+json": {
       "model_id": "79953518f63b4017918d96565e9b0136",
       "version_major": 2,
       "version_minor": 0
      },
      "text/plain": [
       "  0%|          | 0/445 [00:00<?, ?it/s]"
      ]
     },
     "metadata": {},
     "output_type": "display_data"
    }
   ],
   "source": [
    "from pathlib import Path\n",
    "import pandas as pd\n",
    "from tqdm.auto import tqdm\n",
    "\n",
    "directory_path = '/drive2/kaggle/pii-dd/piidd/training/basic'\n",
    "directory = Path(directory_path)\n",
    "\n",
    "# Using rglob to find all CSV files recursively\n",
    "csv_files = list(directory.rglob('*.csv'))\n",
    "\n",
    "\n",
    "fp_docs = set()\n",
    "# Printing the paths of found CSV files\n",
    "for csv_file in tqdm(csv_files):\n",
    "    df = pd.read_csv(csv_file, engine=\"python\")\n",
    "\n",
    "    if \"cm\" in df.columns:\n",
    "        FP = (df[\"cm\"].isin({\"FP\", \"FNFP\"})).sum()\n",
    "        FN = (df[\"cm\"].isin({\"FN\", \"FNFP\"})).sum()\n",
    "        TP = (df[\"cm\"] == \"TP\").sum()   \n",
    "        beta = 5\n",
    "        s_micro = (1 + (beta**2)) * TP / (((1 + (beta**2)) * TP) + ((beta**2) * FN) + FP)\n",
    "\n",
    "        if s_micro > 0.9:\n",
    "            fp_docs.update(df.loc[df[\"cm\"].isin({\"FP\", \"FNFP\"}), \"document\"].tolist())\n"
   ]
  },
  {
   "cell_type": "code",
   "execution_count": 5,
   "metadata": {},
   "outputs": [
    {
     "data": {
      "text/plain": [
       "786"
      ]
     },
     "execution_count": 5,
     "metadata": {},
     "output_type": "execute_result"
    }
   ],
   "source": [
    "len(fp_docs)"
   ]
  },
  {
   "cell_type": "code",
   "execution_count": 7,
   "metadata": {},
   "outputs": [
    {
     "data": {
      "text/plain": [
       "'1) Challenge & Selection\\n\\na. The tool I used for this is the tool of Visualization, to understand the problem\\n\\nspace among a diverse group our customers, before proceeding with the  solutions to the problem.\\n\\nb. Our customers are the IT teams, which reach out to us get the solutions for\\n\\nthe business intelligence problems, and we provide solutions specific to their  needs. The customers are primarily the IT folks, who have in-depth  knowledge of the IT tools.\\n\\nc. I have used the technique of using sketching and pictures to describe the\\n\\nproblem domain with a set of questions for discussion and to allow different  stakeholders to learn from each other. During this process, it help to define  the scope and relationships between elements to consider while identifying  pain points and opportunities for improvements.\\n\\nd. For Selection - I selected three out of the five pain points, which came up\\n\\nwith the above exercise, and decided to continue with the sub-set of the pain  points.\\n\\n2) Application\\n\\na. I start the process by sketching and creating pictures of the problem domain.  b. To sketch and draw pictures, I used the existing material available to\\n\\nunderstand the environment. This material included the existing technical  specifications, business models, and reports currently used. I also met with  some of the stakeholders to conduct interviews for any additional details that  would be added to this.\\n\\nc. For the application, I also went through some of the tools from the website -\\n\\nhttp://www.designkit.org/methods like interviews and group interviews.  Each group got the copy of the sketch, and was asked to improve on the  sketch, identify if any of the key elements were to be added, and do these  reflect the actual problems they are facing.\\n\\nd. I recorded the insights gathered from this exercise to help understand the\\n\\n\"WHAT-WOWS\" factor, this was shared in a common forum, and the final  feedback was incorporated.\\n\\n3) Insights and Final Thoughts\\n\\na. Key learning from the above activity was that the graphics helped them come\\n\\nto the same page and get a common understanding of the problem all of  them were facing as the Business Group.\\n\\nb. Sketches helped on getting more details on the problem, and allowed the\\n\\nstakeholders to get more insights on the problem, and uncover problems that  were never thought about earlier, while remaining in the scope of work.\\n\\nc. Key learning by doing this with multiple groups is that instead of creating the\\n\\nsketch from zero, they can use the initial set and build up on that, giving  more time to get new insights on the problems never discussed earlier.\\n\\nd. Overall, the visualization tools helped in getting new ideas and innovations\\n\\nfrom people who were never thought as thought leaders, and this underlines  the fact that Moses Myth - is really a myth, and anyone can Innovate.\\n\\n'"
      ]
     },
     "execution_count": 7,
     "metadata": {},
     "output_type": "execute_result"
    }
   ],
   "source": [
    "import random\n",
    "\n",
    "random_doc = random.choice(list(fp_docs))\n",
    "\n",
    "[d for d in data if d['document'] == random_doc][0][\"full_text\"]"
   ]
  }
 ],
 "metadata": {
  "kernelspec": {
   "display_name": "base",
   "language": "python",
   "name": "python3"
  },
  "language_info": {
   "codemirror_mode": {
    "name": "ipython",
    "version": 3
   },
   "file_extension": ".py",
   "mimetype": "text/x-python",
   "name": "python",
   "nbconvert_exporter": "python",
   "pygments_lexer": "ipython3",
   "version": "3.10.10"
  }
 },
 "nbformat": 4,
 "nbformat_minor": 2
}
