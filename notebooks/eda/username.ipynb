{
 "cells": [
  {
   "cell_type": "code",
   "execution_count": 1,
   "metadata": {},
   "outputs": [
    {
     "name": "stdout",
     "output_type": "stream",
     "text": [
      "Loaded .env file!\n"
     ]
    }
   ],
   "source": [
    "import os\n",
    "import json\n",
    "from dotenv import load_dotenv\n",
    "from pathlib import Path\n",
    "import random\n",
    "\n",
    "dotenv_path = Path(\"../../.env\")\n",
    "if dotenv_path.exists():\n",
    "    print(\"Loaded .env file!\")\n",
    "    load_dotenv(str(dotenv_path))\n",
    "\n",
    "\n",
    "data = json.load(open(Path(os.environ[\"PROJECT_HOME_DIR\"]) / \"data/train.json\"))"
   ]
  },
  {
   "cell_type": "code",
   "execution_count": 2,
   "metadata": {},
   "outputs": [
    {
     "data": {
      "text/plain": [
       "['castanedagabriel',\n",
       " 'fdixon',\n",
       " 'fdixon',\n",
       " 'meyermichelle',\n",
       " 'jacob59',\n",
       " 'holmespatrick']"
      ]
     },
     "execution_count": 2,
     "metadata": {},
     "output_type": "execute_result"
    }
   ],
   "source": [
    "usernames = []\n",
    "for d in data:\n",
    "    for t, ll in zip(d[\"tokens\"], d[\"labels\"]):\n",
    "        if \"USERNAME\" in ll:\n",
    "            usernames.append(t)\n",
    "\n",
    "usernames"
   ]
  },
  {
   "cell_type": "markdown",
   "metadata": {},
   "source": [
    "If there are dashses in the username, then it will have I-username"
   ]
  },
  {
   "cell_type": "code",
   "execution_count": 6,
   "metadata": {},
   "outputs": [
    {
     "data": {
      "text/plain": [
       "[nicholas,\n",
       " -,\n",
       " broad18,\n",
       " is,\n",
       " my,\n",
       " username,\n",
       " .,\n",
       " or,\n",
       " it,\n",
       " might,\n",
       " be,\n",
       " nicholas.broad18,\n",
       " or,\n",
       " n_broad18]"
      ]
     },
     "execution_count": 6,
     "metadata": {},
     "output_type": "execute_result"
    }
   ],
   "source": [
    "from spacy.lang.en import English\n",
    "\n",
    "tokenizer = English().tokenizer\n",
    "\n",
    "\n",
    "[x for x in tokenizer(\"nicholas-broad18 is my username. or it might be nicholas.broad18 or n_broad18\")]"
   ]
  }
 ],
 "metadata": {
  "kernelspec": {
   "display_name": "base",
   "language": "python",
   "name": "python3"
  },
  "language_info": {
   "codemirror_mode": {
    "name": "ipython",
    "version": 3
   },
   "file_extension": ".py",
   "mimetype": "text/x-python",
   "name": "python",
   "nbconvert_exporter": "python",
   "pygments_lexer": "ipython3",
   "version": "3.10.10"
  }
 },
 "nbformat": 4,
 "nbformat_minor": 2
}
