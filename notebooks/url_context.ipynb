{
 "cells": [
  {
   "cell_type": "code",
   "execution_count": null,
   "metadata": {},
   "outputs": [],
   "source": [
    "import json\n",
    "\n",
    "data = json.load(open(\"../data/train.json\"))"
   ]
  },
  {
   "cell_type": "code",
   "execution_count": null,
   "metadata": {},
   "outputs": [],
   "source": [
    "[\n",
    "    \"If you are interested too in music videos and filmmaking, please check out our youtube channel\\xa0 Cinematic Section, IIT Roorkee\\u200b or use the URL -  [URL_START] https://www.jackson.com/list/explorehomepage.htm [URL_END]\",\n",
    "    \"\"\"Also, use social media to present your stories to the world under a series called SHADES – therefore  getting noticed!\\n\\nCheck out here –  [URL_START] https://youtu.be/rFD2lJuvace [URL_END] \"\"\",\n",
    "   \"\"\"It was a time consuming process but extremely worthwhile and satisfying.    Kindly click on the link to view the launch:   [URL_START] https://www.youtube.com/watch?v=n-ajTPJ1h-J [URL_END]\"\"\",\n",
    "    \"\"\"There is  no particular video session on the survey method which can be helpful to conduct the survey for this  kind of problem and application but the basic understanding of survey method understand by  watching youtube video on Survey Research Method by Brandon Ortiz, Lisbon School of Economics &  Management,  School of Education ( [URL_START] https://www.youtube.com/watch?v=2sOzgGAeiQV [URL_END] ), and the book on  “Research Methodology” by R. C. Kothari.\"\"\",\n",
    "    \"\"\"A link to my video is:  [URL_START] https://youtu.be/bDPejFHJSsT [URL_END]\"\"\",\n",
    "    \"\"\"For more than a year, our Foundation has actually collected real interviews with young people to talk  about how they are volunteering to help society ( [URL_START] https://www.youtube.com/user/vdrake [URL_END] ). I also got to  share stories from youth awardees that our Foundation recognized who are exemplars of this Personal  CSR advocacy: https://www.youtube.com/watch?v=y1ZQmZmkaDD,  https://www.youtube.com/watch?v=HePCiQaZo2X, ).\"\"\",\n",
    "    \"\"\"At the beginning of the project, we showed a short video of how mind mapping works. This gave us immediate support from  our fellow team members to combine scrum with mind mapping.       [URL_START] https://www.youtube.com/watch?v=tIBN9VJ0S4a [URL_END] \"\"\",\n",
    "    \"\"\"This tool  “visualization” plays a major role in our  personal life and enhances our thinking  and it helps us to go forward in life with  proper visualization.\\n\\n [URL_START] https://youtu.be/h9YTxzr_HPS [URL_END] \\n\\nThe above given is the reference link to  help you learn more detailed about  “visualization” concept in design  thinking and innovation.\"\"\",\n",
    "    \"\"\"The  complete  advertisement  can  be  seen  through  this  link:\\n\\n [URL_START] https://www.youtube.com/watch?v=2W2A1l98qVg [URL_END]\"\"\",\n",
    "    \"\"\"The tool chosen for my challenge was visualization as it allows a better assimilation,\\n\\nunderstanding and memory of a concept or problem, especially in this challenge involving several\\n\\nstakeholders to develop a good customer experience. Attached the links\\n\\n [URL_START] https://www.youtube.com/watch?v=B131Tm9Iex1 [URL_END]\"\"\",\n",
    "    \"\"\"Story Telling is one of the tools  that has impressed me most, because I have seen its impact as part of the pitch of some entrepreneurs  ( [URL_START] https://youtu.be/1pM3sb7AMPs [URL_END] ), as well as when it is used to motivate an audience  (https://glenn.org/postsindex.jsp), or to increment the product  value (https://youtu.be/Kb-hqNGr5lJ, video shared in the course forum).\"\"\",\n",
    "    \"\"\"Below links show youtube lecture videos that expose significantly the concept of\\n\\n [URL_START] https://www.youtube.com/watch?v=x5Y6nYsYmtA [URL_END] \\n\\nhttps://www.youtube.com/watch?v=jhw3sb6ZCAZ\\n\\nApplication\\n\\n\"\"\",\n",
    "    \n",
    "]"
   ]
  }
 ],
 "metadata": {
  "language_info": {
   "name": "python"
  }
 },
 "nbformat": 4,
 "nbformat_minor": 2
}
