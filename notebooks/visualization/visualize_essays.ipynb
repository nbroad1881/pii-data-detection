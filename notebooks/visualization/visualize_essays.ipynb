{
 "cells": [
  {
   "cell_type": "markdown",
   "metadata": {},
   "source": [
    "# Visualizing essays\n",
    "\n",
    "The purpose of this is to conveniently look at essays with the spans highlighted according to their label."
   ]
  },
  {
   "cell_type": "code",
   "execution_count": 1,
   "metadata": {},
   "outputs": [
    {
     "name": "stdout",
     "output_type": "stream",
     "text": [
      "Running on local URL:  http://127.0.0.1:7860\n",
      "\n",
      "To create a public link, set `share=True` in `launch()`.\n"
     ]
    },
    {
     "data": {
      "text/html": [
       "<div><iframe src=\"http://127.0.0.1:7860/\" width=\"100%\" height=\"500\" allow=\"autoplay; camera; microphone; clipboard-read; clipboard-write;\" frameborder=\"0\" allowfullscreen></iframe></div>"
      ],
      "text/plain": [
       "<IPython.core.display.HTML object>"
      ]
     },
     "metadata": {},
     "output_type": "display_data"
    },
    {
     "data": {
      "text/plain": []
     },
     "execution_count": 1,
     "metadata": {},
     "output_type": "execute_result"
    },
    {
     "name": "stderr",
     "output_type": "stream",
     "text": [
      "/home/nicholas/miniconda3/lib/python3.10/site-packages/spacy/displacy/__init__.py:213: UserWarning: [W006] No entities to visualize found in Doc object. If this is surprising to you, make sure the Doc was processed using a model that supports named entity recognition, and check the `doc.ents` property manually if necessary.\n",
      "  warnings.warn(Warnings.W006)\n"
     ]
    }
   ],
   "source": [
    "import json\n",
    "import os\n",
    "import random\n",
    "\n",
    "import gradio as gr\n",
    "import spacy\n",
    "from spacy import displacy\n",
    "from spacy.tokens import Span\n",
    "\n",
    "# download spacy model ---\n",
    "# os.system('python -m spacy download en_core_web_sm')\n",
    "\n",
    "# # set up colors for PII types ---\n",
    "\n",
    "options = {\n",
    "    \"colors\": {\n",
    "        \"NAME_STUDENT\": \"#6EB5FF\",    # Lighter blue\n",
    "        \"EMAIL\": \"#42D4B5\",           # Light teal\n",
    "        \"USERNAME\": \"#D8B4E2\",        # Light lavender\n",
    "        \"ID_NUM\": \"#7AE88F\",          # Light green\n",
    "        \"PHONE_NUM\": \"#FFB87D\",       # Light peach\n",
    "        \"URL_PERSONAL\": \"#C9B4E2\",    # Pale purple\n",
    "        \"STREET_ADDRESS\": \"#B4B77F\"   # Light olive\n",
    "    }\n",
    "}\n",
    "\n",
    "\n",
    "# load data ---\n",
    "with open(\"../../data/datamix.json\") as f:\n",
    "    data = json.load(f)\n",
    "\n",
    "\n",
    "pii_types = list(options[\"colors\"].keys())\n",
    "pii_types.append(\"Random\")\n",
    "\n",
    "data[\"mixtral-v1a\"] = json.load(open(\"/drive2/kaggle/pii-dd/data/mixtral-v1a.json\"))\n",
    "\n",
    "subsets = list(data.keys())\n",
    "\n",
    "nlp = spacy.load(\"en_core_web_sm\")\n",
    "# render sample ---\n",
    "\n",
    "\n",
    "def render_sample(subset, pii_type, doc_id=-1):\n",
    "    candidates = data[subset]\n",
    "    while True:\n",
    "        sample = random.choice(candidates)\n",
    "        if doc_id != -1:\n",
    "            break\n",
    "        if pii_type == \"Random\":\n",
    "            break\n",
    "        elif pii_type in sample['piis']:\n",
    "            break\n",
    "\n",
    "    if doc_id != -1:\n",
    "        \n",
    "        sample = [d for d in candidates if d['document'] == doc_id][0]\n",
    "\n",
    "    # render\n",
    "    doc = spacy.tokens.Doc(nlp.vocab, words=sample['tokens'], spaces=sample['trailing_whitespace'])\n",
    "\n",
    "    #\n",
    "    ents = []\n",
    "    in_entity = False\n",
    "    start, end = 0, 0\n",
    "\n",
    "    for index, label in enumerate(sample['labels']):\n",
    "        if label.startswith('B-'):\n",
    "            if in_entity:  # End the previous entity\n",
    "                ents.append(Span(doc, start, end, sample['labels'][start][2:]))\n",
    "            start, end = index, index + 1  # Start a new entity\n",
    "            in_entity = True\n",
    "        elif label.startswith('I-') and in_entity:\n",
    "            end = index + 1  # Continue the entity\n",
    "        elif in_entity:\n",
    "            # End the current entity and reset\n",
    "            ents.append(Span(doc, start, end, sample['labels'][start][2:]))\n",
    "            in_entity = False\n",
    "\n",
    "    # Add the last entity if we're still in one\n",
    "    if in_entity:\n",
    "        ents.append(Span(doc, start, end, sample['labels'][start][2:]))\n",
    "\n",
    "    doc.ents = ents\n",
    "    output = displacy.render(doc, style=\"ent\", jupyter=False, options=options)\n",
    "    return {'document': sample['document']}, output\n",
    "\n",
    "\n",
    "# app layout & callback ---\n",
    "# with gr.Blocks(theme=gr.themes.Soft()) as demo:\n",
    "with gr.Blocks() as demo:\n",
    "    with gr.Row():\n",
    "        subset_dropdown = gr.Dropdown(\n",
    "            subsets,\n",
    "            value=subsets[0],\n",
    "            label=\"Subset\",\n",
    "            info=\"Select data subset...\"\n",
    "        )\n",
    "\n",
    "        focus_pii = gr.Dropdown(\n",
    "            pii_types,\n",
    "            value=\"Random\",\n",
    "            label=\"PII Focus\",\n",
    "            info=\"Select a PII type to focus on...\"\n",
    "        )\n",
    "\n",
    "        doc_id_input = gr.Number(\n",
    "            value=-1,\n",
    "            label=\"Document ID\",\n",
    "            info=\"Enter a document ID to focus on...\"\n",
    "        )\n",
    "\n",
    "    sample_btn = gr.Button(\"Sample\")\n",
    "    document_id_display = gr.JSON(label=\"Document ID\")\n",
    "\n",
    "    sample_display = gr.HTML(label=\"Example\")\n",
    "\n",
    "    # callback ---\n",
    "    sample_btn.click(\n",
    "        fn=render_sample,\n",
    "        inputs=[subset_dropdown, focus_pii, doc_id_input],\n",
    "        outputs=[document_id_display, sample_display],\n",
    "    )\n",
    "\n",
    "# launch app ----\n",
    "demo.launch()"
   ]
  },
  {
   "cell_type": "code",
   "execution_count": null,
   "metadata": {},
   "outputs": [],
   "source": []
  }
 ],
 "metadata": {
  "kernelspec": {
   "display_name": "base",
   "language": "python",
   "name": "python3"
  },
  "language_info": {
   "codemirror_mode": {
    "name": "ipython",
    "version": 3
   },
   "file_extension": ".py",
   "mimetype": "text/x-python",
   "name": "python",
   "nbconvert_exporter": "python",
   "pygments_lexer": "ipython3",
   "version": "3.10.10"
  }
 },
 "nbformat": 4,
 "nbformat_minor": 2
}
