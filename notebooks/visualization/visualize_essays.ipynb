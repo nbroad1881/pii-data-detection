{
 "cells": [
  {
   "cell_type": "markdown",
   "metadata": {},
   "source": [
    "# Visualizing essays\n",
    "\n",
    "The purpose of this is to conveniently look at essays with the spans highlighted according to their label."
   ]
  },
  {
   "cell_type": "code",
   "execution_count": 2,
   "metadata": {},
   "outputs": [
    {
     "name": "stdout",
     "output_type": "stream",
     "text": [
      "Running on local URL:  http://127.0.0.1:7861\n",
      "\n",
      "To create a public link, set `share=True` in `launch()`.\n"
     ]
    },
    {
     "data": {
      "text/html": [
       "<div><iframe src=\"http://127.0.0.1:7861/\" width=\"100%\" height=\"500\" allow=\"autoplay; camera; microphone; clipboard-read; clipboard-write;\" frameborder=\"0\" allowfullscreen></iframe></div>"
      ],
      "text/plain": [
       "<IPython.core.display.HTML object>"
      ]
     },
     "metadata": {},
     "output_type": "display_data"
    },
    {
     "data": {
      "text/plain": []
     },
     "execution_count": 2,
     "metadata": {},
     "output_type": "execute_result"
    }
   ],
   "source": [
    "import json\n",
    "import os\n",
    "import random\n",
    "\n",
    "import gradio as gr\n",
    "import spacy\n",
    "from spacy import displacy\n",
    "from spacy.tokens import Span\n",
    "\n",
    "# download spacy model ---\n",
    "# os.system('python -m spacy download en_core_web_sm')\n",
    "\n",
    "# # set up colors for PII types ---\n",
    "\n",
    "options = {\n",
    "    \"colors\": {\n",
    "        \"NAME_STUDENT\": \"#6EB5FF\",    # Lighter blue\n",
    "        \"EMAIL\": \"#42D4B5\",           # Light teal\n",
    "        \"USERNAME\": \"#D8B4E2\",        # Light lavender\n",
    "        \"ID_NUM\": \"#7AE88F\",          # Light green\n",
    "        \"PHONE_NUM\": \"#FFB87D\",       # Light peach\n",
    "        \"URL_PERSONAL\": \"#C9B4E2\",    # Pale purple\n",
    "        \"STREET_ADDRESS\": \"#B4B77F\"   # Light olive\n",
    "    }\n",
    "}\n",
    "\n",
    "\n",
    "# load data ---\n",
    "with open(\"../../data/datamix.json\") as f:\n",
    "    data = json.load(f)\n",
    "\n",
    "\n",
    "pii_types = list(options[\"colors\"].keys())\n",
    "pii_types.append(\"Random\")\n",
    "\n",
    "data[\"mixtral-v1a\"] = json.load(open(\"/drive2/kaggle/pii-dd/data/mixtral-v1a.json\"))\n",
    "data[\"mixtral-v2\"] = json.load(open(\"/drive2/kaggle/pii-dd/data/mixtral-v2.json\"))\n",
    "data[\"mixtral-v3\"] = json.load(open(\"/drive2/kaggle/pii-dd/data/mixtral-v3.json\"))\n",
    "\n",
    "subsets = list(data.keys())\n",
    "\n",
    "nlp = spacy.load(\"en_core_web_sm\")\n",
    "# render sample ---\n",
    "\n",
    "\n",
    "def render_sample(subset, pii_type, doc_id=-1):\n",
    "    candidates = data[subset]\n",
    "    while True:\n",
    "        sample = random.choice(candidates)\n",
    "        if doc_id != -1:\n",
    "            break\n",
    "        if pii_type == \"Random\":\n",
    "            break\n",
    "        elif pii_type in sample['piis']:\n",
    "            break\n",
    "\n",
    "    if doc_id != -1:\n",
    "        \n",
    "        sample = [d for d in candidates if d['document'] == doc_id][0]\n",
    "\n",
    "    # render\n",
    "    doc = spacy.tokens.Doc(nlp.vocab, words=sample['tokens'], spaces=sample['trailing_whitespace'])\n",
    "\n",
    "    #\n",
    "    ents = []\n",
    "    in_entity = False\n",
    "    start, end = 0, 0\n",
    "\n",
    "    for index, label in enumerate(sample['labels']):\n",
    "        if label.startswith('B-'):\n",
    "            if in_entity:  # End the previous entity\n",
    "                ents.append(Span(doc, start, end, sample['labels'][start][2:]))\n",
    "            start, end = index, index + 1  # Start a new entity\n",
    "            in_entity = True\n",
    "        elif label.startswith('I-') and in_entity:\n",
    "            end = index + 1  # Continue the entity\n",
    "        elif in_entity:\n",
    "            # End the current entity and reset\n",
    "            ents.append(Span(doc, start, end, sample['labels'][start][2:]))\n",
    "            in_entity = False\n",
    "\n",
    "    # Add the last entity if we're still in one\n",
    "    if in_entity:\n",
    "        ents.append(Span(doc, start, end, sample['labels'][start][2:]))\n",
    "\n",
    "    doc.ents = ents\n",
    "    output = displacy.render(doc, style=\"ent\", jupyter=False, options=options)\n",
    "    return {'document': sample['document']}, output\n",
    "\n",
    "\n",
    "# app layout & callback ---\n",
    "# with gr.Blocks(theme=gr.themes.Soft()) as demo:\n",
    "with gr.Blocks() as demo:\n",
    "    with gr.Row():\n",
    "        subset_dropdown = gr.Dropdown(\n",
    "            subsets,\n",
    "            value=subsets[0],\n",
    "            label=\"Subset\",\n",
    "            info=\"Select data subset...\"\n",
    "        )\n",
    "\n",
    "        focus_pii = gr.Dropdown(\n",
    "            pii_types,\n",
    "            value=\"Random\",\n",
    "            label=\"PII Focus\",\n",
    "            info=\"Select a PII type to focus on...\"\n",
    "        )\n",
    "\n",
    "        doc_id_input = gr.Number(\n",
    "            value=-1,\n",
    "            label=\"Document ID\",\n",
    "            info=\"Enter a document ID to focus on...\"\n",
    "        )\n",
    "\n",
    "    sample_btn = gr.Button(\"Sample\")\n",
    "    document_id_display = gr.JSON(label=\"Document ID\")\n",
    "\n",
    "    sample_display = gr.HTML(label=\"Example\")\n",
    "\n",
    "    # callback ---\n",
    "    sample_btn.click(\n",
    "        fn=render_sample,\n",
    "        inputs=[subset_dropdown, focus_pii, doc_id_input],\n",
    "        outputs=[document_id_display, sample_display],\n",
    "    )\n",
    "\n",
    "# launch app ----\n",
    "demo.launch()"
   ]
  },
  {
   "cell_type": "code",
   "execution_count": 4,
   "metadata": {},
   "outputs": [
    {
     "data": {
      "text/plain": [
       "1"
      ]
     },
     "execution_count": 4,
     "metadata": {},
     "output_type": "execute_result"
    }
   ],
   "source": [
    "len('�')"
   ]
  },
  {
   "cell_type": "code",
   "execution_count": 7,
   "metadata": {},
   "outputs": [],
   "source": [
    "# from spacy.lang.en import English\n",
    "\n",
    "# tokenizer = English().tokenizer\n",
    "# [[str(x)] for x in tokenizer(\"Hello there \\n\\n good\\n\\nsir\")]\n",
    "# [['Hello'], ['there'], ['\\n\\n '], ['good'], ['\\n\\n'], ['sir']]"
   ]
  },
  {
   "cell_type": "code",
   "execution_count": 17,
   "metadata": {},
   "outputs": [
    {
     "data": {
      "text/plain": [
       "'Kolusu'"
      ]
     },
     "execution_count": 17,
     "metadata": {},
     "output_type": "execute_result"
    }
   ],
   "source": [
    "d[\"tokens\"][562]"
   ]
  },
  {
   "cell_type": "code",
   "execution_count": 5,
   "metadata": {},
   "outputs": [
    {
     "data": {
      "text/plain": [
       "('\\xa0', False)"
      ]
     },
     "execution_count": 5,
     "metadata": {},
     "output_type": "execute_result"
    }
   ],
   "source": [
    "d[\"tokens\"][11], d[\"trailing_whitespace\"][11]"
   ]
  },
  {
   "cell_type": "code",
   "execution_count": 6,
   "metadata": {},
   "outputs": [
    {
     "data": {
      "text/plain": [
       "'Assignment:\\xa0 Visualization\\xa0Reflection\\xa0 Submitted\\xa0by:\\xa0Nadine Born\\xa0 Course:\\xa0 Design\\xa0Thinking\\xa0for\\xa0Innovation\\xa0 \\xa0 Trail\\xa0Challenge:\\xa0To\\xa0Build\\xa0or\\xa0Not\\xa0to\\xa0Build\\xa0 \\xa0 An\\xa0environmental\\xa0charity\\xa0wanted\\xa0to\\xa0conduct\\xa0a\\xa0f'"
      ]
     },
     "execution_count": 6,
     "metadata": {},
     "output_type": "execute_result"
    }
   ],
   "source": [
    "d[\"full_text\"][:200]"
   ]
  },
  {
   "cell_type": "code",
   "execution_count": 3,
   "metadata": {},
   "outputs": [
    {
     "name": "stdout",
     "output_type": "stream",
     "text": [
      "['Assignment', ':', '\\xa0 ', 'Visualization', '\\xa0', 'Reflection', '\\xa0 ', 'Submitted', '\\xa0', 'by', ':', '\\xa0', 'Nadine', 'Born', '\\xa0 ', 'Course', ':', '\\xa0 ', 'Design', '\\xa0', 'Thinking', '\\xa0', 'for', '\\xa0', 'Innovation', '\\xa0 \\xa0 ', 'Trail', '\\xa0', 'Challenge', ':', '\\xa0', 'To', '\\xa0', 'Build', '\\xa0', 'or', '\\xa0', 'Not', '\\xa0', 'to', '\\xa0', 'Build', '\\xa0 \\xa0 ', 'An', '\\xa0', 'environmental', '\\xa0', 'charity', '\\xa0', 'wanted', '\\xa0', 'to', '\\xa0', 'conduct', '\\xa0', 'a', '\\xa0', 'fundraising', '\\xa0', 'campaign', '\\xa0', 'to', '\\xa0', 'raise', '\\xa0', '$', '4', '\\xa0', 'million', '\\xa0', 'to', '\\xa0', 'build', '\\xa0', 'a', '\\xa0 ', 'public', '\\xa0', 'path', '\\xa0', 'in', '\\xa0', 'a', '\\xa0', 'busy', '\\xa0', 'tourist', '\\xa0', 'area', '\\xa0', 'of', '\\xa0', 'a', '\\xa0', 'small', '\\xa0', 'town', '\\xa0', 'in', '\\xa0', 'British', '\\xa0', 'Columbia', ',', '\\xa0', 'Canada', '.', '\\xa0', 'They', '\\xa0', 'had', '\\xa0', 'been', '\\xa0', 'gifted', '\\xa0', 'a', '\\xa0 ', 'large', '\\xa0', 'piece', '\\xa0', 'of', '\\xa0', 'land', '\\xa0', 'by', '\\xa0', 'a', '\\xa0', 'local', '\\xa0', 'landowner', ',', '\\xa0', 'which', '\\xa0', 'was', '\\xa0', 'a', '\\xa0', 'substantial', '\\xa0', 'gift', '\\xa0', 'and', '\\xa0', 'prevented', '\\xa0', 'them', '\\xa0', 'from', '\\xa0 ', 'needing', '\\xa0', 'to', '\\xa0', 'purchase', '\\xa0', 'the', '\\xa0', 'land', ',', '\\xa0', 'however', ',', '\\xa0', 'they', '\\xa0', 'still', '\\xa0', 'needed', '\\xa0', 'to', '\\xa0', 'raise', '\\xa0', 'a', '\\xa0', 'large', '\\xa0', 'amount', '\\xa0', 'of', '\\xa0', 'money', '\\xa0', 'in', '\\xa0', 'order', '\\xa0', 'to', '\\xa0 ', 'pay', '\\xa0', 'for', '\\xa0', 'the', '\\xa0', 'supplies', '\\xa0', 'and', '\\xa0', 'labor', '\\xa0', 'to', '\\xa0', 'build', '\\xa0', 'the', '\\xa0', 'trail', '.', '\\xa0\\xa0 \\xa0 ', 'Even', '\\xa0', 'though', '\\xa0', 'the', '\\xa0', 'local', '\\xa0', 'community', '\\xa0', 'appeared', '\\xa0', 'to', '\\xa0', 'be', '\\xa0', 'supportive', '\\xa0', 'of', '\\xa0', 'the', '\\xa0', 'trail', ',', '\\xa0', 'they', '\\xa0', 'could', '\\xa0', 'not', '\\xa0', 'provide', '\\xa0 ', 'enough', '\\xa0', 'money', '\\xa0', 'from', '\\xa0', 'private', '\\xa0', 'donations', '\\xa0', 'to', '\\xa0', 'build', '\\xa0', 'it', '.', '\\xa0', 'If', '\\xa0', 'the', '\\xa0', 'summer', '\\xa0', 'vacation', '\\xa0', 'property', '\\xa0', 'owners', '\\xa0', 'did', '\\xa0', 'not', '\\xa0 ', 'provide', '\\xa0', 'some', '\\xa0', 'funding', ',', '\\xa0', 'then', '\\xa0', 'there', '\\xa0', 'was', '\\xa0', 'a', '\\xa0', 'strong', '\\xa0', 'possibility', '\\xa0', 'that', '\\xa0', 'they', '\\xa0', 'would', '\\xa0', 'not', '\\xa0', 'raise', '\\xa0', 'enough', '\\xa0', 'money', '\\xa0', 'to', '\\xa0 ', 'complete', '\\xa0', 'the', '\\xa0', 'trail', '.', '\\xa0', 'The', '\\xa0', 'charity', '\\xa0', 'did', '\\xa0', 'not', '\\xa0', 'know', '\\xa0', 'if', '\\xa0', 'the', '\\xa0', 'community', '\\xa0', 'as', '\\xa0', 'a', '\\xa0', 'whole', '\\xa0', 'would', '\\xa0', 'support', '\\xa0', 'the', '\\xa0', 'project', '\\xa0 ', 'and', '\\xa0', 'needed', '\\xa0', 'to', '\\xa0', 'conduct', '\\xa0', 'testing', '\\xa0', 'with', '\\xa0', 'key', '\\xa0', 'influencers', '\\xa0', 'and', '\\xa0', 'potential', '\\xa0', 'donors', '\\xa0', 'to', '\\xa0', 'gauge', '\\xa0', 'their', '\\xa0', 'interest', '.', '\\xa0 ', 'Building', '\\xa0', 'the', '\\xa0', 'trail', '\\xa0', 'without', '\\xa0', 'testing', '\\xa0', 'the', '\\xa0', 'support', '\\xa0', 'first', '\\xa0', 'was', '\\xa0', 'too', '\\xa0', 'risky', '\\xa0', 'because', '\\xa0', 'the', '\\xa0', 'charity', '\\xa0', 'did', '\\xa0', 'not', '\\xa0', 'have', '\\xa0 ', 'enough', '\\xa0', 'money', '\\xa0', 'in', '\\xa0', 'reserve', '\\xa0', 'to', '\\xa0', 'cover', '\\xa0', 'the', '\\xa0', 'cost', '\\xa0', 'of', '\\xa0', 'the', '\\xa0', 'trail', '\\xa0', 'if', '\\xa0', 'the', '\\xa0', 'fundraising', '\\xa0', 'efforts', '\\xa0', 'were', '\\xa0', 'not', '\\xa0', 'successful', '.', '\\xa0\\xa0 \\xa0 ', 'Tool', '\\xa0', 'Selection', ':', '\\xa0', 'Visualization', '\\xa0 \\xa0 ', 'Visualization', '\\xa0', 'is', '\\xa0', 'the', '\\xa0', 'process', '\\xa0', 'of', '\\xa0', '“', 'assembling', '\\xa0', 'scattered', '\\xa0', 'ideas', '\\xa0', 'into', '\\xa0', 'a', '\\xa0', 'compelling', '\\xa0', 'story', '\\xa0', 'that', '\\xa0', 'can', '\\xa0', 'generate', '\\xa0 ', 'vivid', '\\xa0', 'mental', '\\xa0', 'images', '”', '\\xa0', '(', 'Designing', '\\xa0', 'for', '\\xa0', 'Growth', ',', '\\xa0', 'p49', ')', '.', '\\xa0\\xa0', 'As', '\\xa0', 'the', '\\xa0', 'consultant', '\\xa0', 'for', '\\xa0', 'the', '\\xa0', 'study', ',', '\\xa0', 'I', '\\xa0', 'chose', '\\xa0 ', 'visualization', '\\xa0', 'because', '\\xa0', 'the', '\\xa0', 'charity', '\\xa0', 'had', '\\xa0', 'a', '\\xa0', 'firm', '\\xa0', 'concept', '\\xa0', 'of', '\\xa0', 'why', '\\xa0', 'they', '\\xa0', 'needed', '\\xa0', 'the', '\\xa0', 'trail', ',', '\\xa0', 'how', '\\xa0', 'it', '\\xa0', 'would', '\\xa0 ', 'benefit', '\\xa0', 'the', '\\xa0', 'town', ',', '\\xa0', 'and', '\\xa0', 'how', '\\xa0', 'much', '\\xa0', 'it', '\\xa0', 'would', '\\xa0', 'cost', '\\xa0', 'but', '\\xa0', 'needed', '\\xa0', 'a', '\\xa0', 'persuasive', '\\xa0', 'way', '\\xa0', 'to', '\\xa0', 'tie', '\\xa0', 'it', '\\xa0', 'all', '\\xa0', 'together', '.', '\\xa0', 'The', '\\xa0 ', 'business', '\\xa0', 'case', '\\xa0', 'for', '\\xa0', 'the', '\\xa0', 'project', '\\xa0', 'was', '\\xa0', 'strong', '\\xa0', 'but', '\\xa0', 'without', '\\xa0', 'a', '\\xa0', 'tool', '\\xa0', 'to', '\\xa0', 'help', '\\xa0', 'them', '\\xa0', 'illustrate', '\\xa0', 'how', '\\xa0', 'the', '\\xa0', 'trail', '\\xa0', 'would', '\\xa0 ', 'positively', '\\xa0', 'impact', '\\xa0', 'the', '\\xa0', 'residents', ',', '\\xa0', 'there', '\\xa0', 'was', '\\xa0', 'little', '\\xa0', 'chance', '\\xa0', 'people', '\\xa0', 'would', '\\xa0', 'donate', '\\xa0', 'enough', '\\xa0', 'to', '\\xa0', 'meet', '\\xa0', 'the', '\\xa0 ', 'budget', '.', '\\xa0', 'We', '\\xa0', 'needed', '\\xa0', 'a', '\\xa0', 'tool', '\\xa0', 'that', '\\xa0', 'provided', '\\xa0', 'a', '\\xa0', '“', 'head', '\\xa0', 'and', '\\xa0', 'heart', '”', '\\xa0', 'message', '\\xa0', 'to', '\\xa0', 'convince', '\\xa0', 'people', '\\xa0', 'to', '\\xa0', 'support', '\\xa0 ', 'the', '\\xa0', 'project', '.', '\\xa0', 'Visualization', '\\xa0', 'provided', '\\xa0', 'the', '\\xa0', 'perfect', '\\xa0', 'combination', '\\xa0', 'of', '\\xa0', 'key', '\\xa0', 'messaging', ',', '\\xa0', 'beautiful', '\\xa0', 'photography', ',', '\\xa0 ', 'architectural', '\\xa0', 'renderings', ',', '\\xa0', 'safety', '\\xa0', 'data', ',', '\\xa0', 'and', '\\xa0', 'budget', '\\xa0', 'criteria', '\\xa0', 'to', '\\xa0', 'create', '\\xa0', 'the', '\\xa0', 'vision', '\\xa0', 'for', '\\xa0', 'the', '\\xa0', 'project', '\\xa0', 'in', '\\xa0', 'an', '\\xa0 ', 'easy‐to‐read', '\\xa0', 'document', '\\xa0', 'that', '\\xa0', 'was', '\\xa0', 'only', '\\xa0', 'four', '\\xa0', 'pages', '\\xa0', 'in', '\\xa0', 'length', '.', '\\xa0', 'Visualization', '\\xa0', 'allowed', '\\xa0', 'us', '\\xa0', 'to', '\\xa0', 'describe', '\\xa0', 'the', '\\xa0 ', 'urgent', '\\xa0', 'and', '\\xa0', 'compelling', '\\xa0', 'need', '\\xa0', 'for', '\\xa0', 'the', '\\xa0', 'trail', '\\xa0', 'in', '\\xa0', 'a', '\\xa0', 'succinct', '\\xa0', 'and', '\\xa0', 'tangible', '\\xa0', 'way', '.', '\\xa0\\xa0 \\xa0 ', 'Application', '\\xa0 \\xa0 ', 'Once', '\\xa0', 'we', '\\xa0', 'drafted', '\\xa0', 'the', '\\xa0', 'vision', '\\xa0', 'document', ',', '\\xa0', 'we', '\\xa0', 'worked', '\\xa0', 'with', '\\xa0', 'the', '\\xa0', 'charity', '\\xa0', 'to', '\\xa0', 'identify', '\\xa0', 'a', '\\xa0', 'list', '\\xa0', 'of', '\\xa0', 'people', '\\xa0', 'whose', '\\xa0 ', 'opinion', '\\xa0', 'would', '\\xa0', 'be', '\\xa0', 'important', '\\xa0', 'to', '\\xa0', 'the', '\\xa0', 'success', '\\xa0', '(', 'or', '\\xa0', 'failure', ')', '\\xa0', 'of', '\\xa0', 'the', '\\xa0', 'fundraising', '\\xa0', 'campaign', '.', '\\xa0', 'The', '\\xa0', 'list', '\\xa0', 'included', '\\xa0 ', 'past', '\\xa0', 'and', '\\xa0', 'potential', '\\xa0', 'donors', ',', '\\xa0', 'key', '\\xa0', 'influencers', '\\xa0', 'in', '\\xa0', 'the', '\\xa0', 'community', '\\xa0', 'such', '\\xa0', 'as', '\\xa0', 'large', '\\xa0', 'landowners', '\\xa0', 'and', '\\xa0', 'business', '\\xa0 ', 'owners', ',', '\\xa0', 'affluent', '\\xa0', 'summer‐only', '\\xa0', 'residents', ',', '\\xa0', 'and', '\\xa0', 'elected', '\\xa0', 'officials', '.', '\\xa0', 'We', '\\xa0', 'requested', '\\xa0', 'one‐hour', '\\xa0', 'meetings', '\\xa0', 'with', '\\xa0 ', 'all', '\\xa0', 'of', '\\xa0', 'the', '\\xa0', 'people', '\\xa0', 'on', '\\xa0', 'the', '\\xa0', 'list', '.', '\\xa0', 'If', '\\xa0', 'people', '\\xa0', 'did', '\\xa0', 'not', '\\xa0', 'want', '\\xa0', 'to', '\\xa0', 'meet', '\\xa0', 'with', '\\xa0', 'us', '\\xa0', 'in', '\\xa0', 'person', ',', '\\xa0', 'which', '\\xa0', 'was', '\\xa0', 'often', '\\xa0', 'the', '\\n\\n', 'case', '\\xa0', 'with', '\\xa0', 'the', '\\xa0', 'part‐time', '\\xa0', 'residents', ',', '\\xa0', 'we', '\\xa0', 'offered', '\\xa0', 'to', '\\xa0', 'conduct', '\\xa0', 'the', '\\xa0', 'meetings', '\\xa0', 'by', '\\xa0', 'phone', '.', '\\xa0', 'When', '\\xa0', 'someone', '\\xa0 ', 'agreed', '\\xa0', 'to', '\\xa0', 'meet', '\\xa0', 'with', '\\xa0', 'us', ',', '\\xa0', 'we', '\\xa0', 'emailed', '\\xa0', 'them', '\\xa0', 'the', '\\xa0', 'vision', '\\xa0', 'document', '\\xa0', 'so', '\\xa0', 'they', '\\xa0', 'could', '\\xa0', 'read', '\\xa0', 'it', '\\xa0', 'in', '\\xa0', 'advance', '\\xa0', 'and', '\\xa0 ', 'prepare', '\\xa0', 'their', '\\xa0', 'questions', '.', '\\xa0', 'This', '\\xa0', 'created', '\\xa0', 'a', '\\xa0', 'good', '\\xa0', 'environment', '\\xa0', 'for', '\\xa0', 'an', '\\xa0', 'informed', '\\xa0', 'and', '\\xa0', 'candid', '\\xa0', 'dialogue', '.', '\\xa0 \\xa0 ', 'While', '\\xa0', 'the', '\\xa0', 'scheduling', '\\xa0', 'of', '\\xa0', 'the', '\\xa0', 'interviews', '\\xa0', 'was', '\\xa0', 'in', '\\xa0', 'progress', ',', '\\xa0', 'we', '\\xa0', 'designed', '\\xa0', 'a', '\\xa0', 'questionnaire', '\\xa0', 'to', '\\xa0', 'guide', '\\xa0', 'our', '\\xa0 ', 'discussions', '.', '\\xa0', 'Consistently', '\\xa0', 'using', '\\xa0', 'the', '\\xa0', 'questionnaire', '\\xa0', 'ensured', '\\xa0', 'that', '\\xa0', 'we', '\\xa0', 'covered', '\\xa0', 'the', '\\xa0', 'same', '\\xa0', 'questions', '\\xa0', 'with', '\\xa0', 'all', '\\xa0 ', 'the', '\\xa0', 'interviewees', '.', '\\xa0', 'The', '\\xa0', 'goal', '\\xa0', 'was', '\\xa0', 'to', '\\xa0', 'speak', '\\xa0', 'with', '\\xa0', '20', '\\xa0', '–', '\\xa0', '25', '\\xa0', 'key', '\\xa0', 'influencers', '\\xa0', 'in', '\\xa0', 'the', '\\xa0', 'community', '\\xa0', 'and', '\\xa0', 'gauge', '\\xa0 ', 'their', '\\xa0', 'interest', '\\xa0', 'in', ',', '\\xa0', 'or', '\\xa0', 'opposition', '\\xa0', 'to', ',', '\\xa0', 'supporting', '\\xa0', 'the', '\\xa0', 'fundraising', '\\xa0', 'efforts', '\\xa0', 'for', '\\xa0', 'the', '\\xa0', 'trail', '\\xa0', 'as', '\\xa0', 'either', '\\xa0', 'donors', '\\xa0', 'or', '\\xa0 ', 'campaign', '\\xa0', 'volunteers', '\\xa0', 'or', '\\xa0', 'both', '.', '\\xa0', 'We', '\\xa0', 'successfully', '\\xa0', 'met', '\\xa0', 'with', '\\xa0', '24', '\\xa0', 'interviewees', '\\xa0', 'and', '\\xa0', 'compiled', '\\xa0', 'the', '\\xa0', 'feedback', '\\xa0 ', 'into', '\\xa0', 'a', '\\xa0', 'summary', '\\xa0', 'report', '\\xa0', 'along', '\\xa0', 'with', '\\xa0', 'recommendations', '\\xa0', 'for', '\\xa0', 'the', '\\xa0', 'charity', '.', '\\xa0', 'The', '\\xa0', 'entire', '\\xa0', 'process', '\\xa0', 'took', '\\xa0', 'three', '\\xa0 ', 'months', '.', '\\xa0 \\xa0 ', 'Insight', '\\xa0 \\xa0 ', 'Fundraising', '\\xa0', 'and', '\\xa0', 'design', '\\xa0', 'thinking', '\\xa0', 'both', '\\xa0', 'require', '\\xa0', 'a', '\\xa0', 'willingness', '\\xa0', 'to', '\\xa0', 'adapt', '\\xa0', 'and', '\\xa0', 'fail', '\\xa0', 'fast', '.', '\\xa0', 'Good', '\\xa0', 'fundraisers', '\\xa0', 'are', '\\xa0 ', 'responsive', '\\xa0', 'to', '\\xa0', 'their', '\\xa0', 'donors', '\\xa0', 'and', '\\xa0', 'design', '\\xa0', 'thinking', '\\xa0', 'serves', '\\xa0', 'as', '\\xa0', 'the', '\\xa0', 'perfect', '\\xa0', 'platform', '\\xa0', 'to', '\\xa0', 'plan', '\\xa0', 'and', '\\xa0', 'launch', '\\xa0', 'new', '\\xa0 ', 'fundraising', '\\xa0', 'initiatives', ';', '\\xa0', 'it', '\\xa0', 'is', '\\xa0', 'an', '\\xa0', 'ideal', '\\xa0', 'methodology', '\\xa0', 'for', '\\xa0', 'solving', '\\xa0', 'complex', '\\xa0', 'philanthropic', '\\xa0', 'issues', '.', '\\xa0', 'We', '\\xa0', 'are', '\\xa0', 'not', '\\xa0 ', 'formally', '\\xa0', 'taught', '\\xa0', 'design', '\\xa0', 'thinking', '\\xa0', 'models', '\\xa0', 'in', '\\xa0', 'fundraising', '\\xa0', 'classes', '\\xa0', 'but', '\\xa0', 'they', '\\xa0', 'should', '\\xa0', 'be', '\\xa0', 'added', '\\xa0', 'to', '\\xa0', 'the', '\\xa0 ', 'curriculum', '.', '\\xa0\\xa0 \\xa0 ', 'Although', '\\xa0', 'it', '\\xa0', 'is', '\\xa0', 'not', '\\xa0', 'explicitly', '\\xa0', 'stated', '\\xa0', 'in', '\\xa0', 'the', '\\xa0', 'course', '\\xa0', 'videos', ',', '\\xa0', 'it', '\\xa0', 'occurred', '\\xa0', 'to', '\\xa0', 'me', '\\xa0', 'that', '\\xa0', 'both', '\\xa0', 'fundraising', '\\xa0', 'and', '\\xa0 ', 'design', '\\xa0', 'thinking', '\\xa0', 'are', '\\xa0', 'rooted', '\\xa0', 'in', '\\xa0', 'communication', '\\xa0', 'and', '\\xa0', 'relationships', '\\xa0', 'and', '\\xa0', 'both', '\\xa0', 'are', '\\xa0', 'iterative', '\\xa0', 'processes', '\\xa0', 'based', '\\xa0 ', 'on', '\\xa0', 'testing', '\\xa0', 'and', '\\xa0', 'investigation', '.', '\\xa0', 'The', '\\xa0', 'elusive', '\\xa0', 'synergy', '\\xa0', 'between', '\\xa0', 'art', '\\xa0', 'and', '\\xa0', 'science', '\\xa0', 'is', '\\xa0', 'as', '\\xa0', 'beautifully', '\\xa0', 'illustrated', '\\xa0 ', 'by', '\\xa0', 'design', '\\xa0', 'thinking', '\\xa0', 'as', '\\xa0', 'it', '\\xa0', 'is', '\\xa0', 'as', '\\xa0', 'inherent', '\\xa0', 'in', '\\xa0', 'daily', '\\xa0', 'fundraising', '\\xa0', 'practice', '.', '\\xa0\\xa0\\xa0 \\xa0 ', 'Improvements', '\\xa0', 'for', '\\xa0', 'Next', '\\xa0', 'Time', '\\xa0 \\xa0 ', 'Visualization', '\\xa0', 'was', '\\xa0', 'an', '\\xa0', 'effective', '\\xa0', 'tool', '\\xa0', 'in', '\\xa0', 'this', '\\xa0', 'circumstance', '\\xa0', 'and', '\\xa0', 'I', '\\xa0', 'would', '\\xa0', 'use', '\\xa0', 'it', '\\xa0', 'again', '\\xa0', 'in', '\\xa0', 'a', '\\xa0', 'similar', '\\xa0', 'situation', '.', '\\xa0 ', 'However', ',', '\\xa0', 'it', '\\xa0', 'would', '\\xa0', 'also', '\\xa0', 'be', '\\xa0', 'enlightening', '\\xa0', 'to', '\\xa0', 'create', '\\xa0', 'a', '\\xa0', 'journey', '\\xa0', 'map', '\\xa0', 'with', '\\xa0', 'a', '\\xa0', 'wide', '\\xa0', 'spectrum', '\\xa0', 'of', '\\xa0', 'people', '\\xa0', 'from', '\\xa0 ', 'the', '\\xa0', 'town', '\\xa0', 'because', '\\xa0', 'there', '\\xa0', 'were', '\\xa0', 'many', '\\xa0', 'assumptions', '\\xa0', 'made', '\\xa0', 'during', '\\xa0', 'the', '\\xa0', 'visualization', '\\xa0', 'process', '\\xa0', 'about', '\\xa0', 'how', '\\xa0', 'the', '\\xa0 ', 'trail', '\\xa0', 'would', '\\xa0', 'be', '\\xa0', 'used', '\\xa0', 'and', '\\xa0', 'what', '\\xa0', 'benefits', '\\xa0', 'would', '\\xa0', 'be', '\\xa0', 'desired', '\\xa0', 'by', '\\xa0', 'the', '\\xa0', 'tourists', ',', '\\xa0', 'local', '\\xa0', 'public', ',', '\\xa0', 'and', '\\xa0', 'sponsors', '.', '\\xa0 ', 'Journey', '\\xa0', 'mapping', '\\xa0', 'would', '\\xa0', 'have', '\\xa0', 'confirmed', '\\xa0', 'the', '\\xa0', 'validity', '\\xa0', 'of', '\\xa0', 'those', '\\xa0', 'assumptions', '\\xa0', 'and', '\\xa0', 'supplemented', '\\xa0', 'the', '\\xa0', 'data', '\\xa0 ', 'gathered', '\\xa0', 'during', '\\xa0', 'the', '\\xa0', 'interviews', '.', '\\xa0\\xa0 \\xa0 ', 'The', '\\xa0', 'other', '\\xa0', 'tool', '\\xa0', 'that', '\\xa0', 'I', '\\xa0', 'would', '\\xa0', 'use', '\\xa0', 'next', '\\xa0', 'time', '\\xa0', 'in', '\\xa0', 'conjunction', '\\xa0', 'with', '\\xa0', 'visualization', '\\xa0', 'is', '\\xa0', 'storytelling', '.', '\\xa0', 'I', '\\xa0', 'would', '\\xa0', 'take', '\\xa0 ', 'someone', '’s', '\\xa0', 'first', '\\xa0', 'hand', '\\xa0', 'account', '\\xa0', 'of', '\\xa0', 'the', '\\xa0', 'situation', '\\xa0', 'and', '\\xa0', 'create', '\\xa0', 'a', '\\xa0', 'short', '\\xa0', 'video', '\\xa0', 'to', '\\xa0', 'showcase', '\\xa0', 'the', '\\xa0', 'urgency', '\\xa0', 'of', '\\xa0', 'the', '\\xa0 ', 'project', '\\xa0', 'or', '\\xa0', 'program', '\\xa0', 'from', '\\xa0', 'his', '/', 'her', '\\xa0', 'perspective', '.', '\\xa0', 'A', '\\xa0', 'link', '\\xa0', 'to', '\\xa0', 'the', '\\xa0', 'video', '\\xa0', 'would', '\\xa0', 'be', '\\xa0', 'included', '\\xa0', 'in', '\\xa0', 'the', '\\xa0', 'email', '\\xa0', 'about', '\\xa0 ', 'the', '\\xa0', 'interview', '\\xa0', 'along', '\\xa0', 'with', '\\xa0', 'a', '\\xa0', 'PDF', '\\xa0', 'of', '\\xa0', 'the', '\\xa0', 'vision', '\\xa0', 'document', '.', '\\xa0', 'I', '\\xa0', 'think', '\\xa0', 'this', '\\xa0', 'would', '\\xa0', 'provide', '\\xa0', 'a', '\\xa0', 'holistic', '\\xa0', 'micro', '\\xa0', 'and', '\\xa0 ', 'macro', '\\xa0', 'perspective', '\\xa0', 'to', '\\xa0', 'the', '\\xa0', 'exercise', '\\xa0', 'and', '\\xa0', 'spark', '\\xa0', 'some', '\\xa0', 'interesting', '\\xa0', 'conversations', '\\xa0', 'in', '\\xa0', 'the', '\\xa0', 'interviews', '.', '\\n\\n']\n"
     ]
    }
   ],
   "source": [
    "d = [d for d in data[\"competition\"] if d[\"document\"] == 56][0]\n",
    "\n",
    "print(d[\"tokens\"])"
   ]
  }
 ],
 "metadata": {
  "kernelspec": {
   "display_name": "base",
   "language": "python",
   "name": "python3"
  },
  "language_info": {
   "codemirror_mode": {
    "name": "ipython",
    "version": 3
   },
   "file_extension": ".py",
   "mimetype": "text/x-python",
   "name": "python",
   "nbconvert_exporter": "python",
   "pygments_lexer": "ipython3",
   "version": "3.10.10"
  }
 },
 "nbformat": 4,
 "nbformat_minor": 2
}
