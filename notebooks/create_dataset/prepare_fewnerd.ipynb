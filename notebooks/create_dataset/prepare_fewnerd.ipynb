{
 "cells": [
  {
   "cell_type": "markdown",
   "metadata": {},
   "source": [
    "This isolates all examples that contain a person's name, ignoring the other labels."
   ]
  },
  {
   "cell_type": "code",
   "execution_count": 1,
   "metadata": {},
   "outputs": [
    {
     "name": "stdout",
     "output_type": "stream",
     "text": [
      "Loaded .env file!\n"
     ]
    },
    {
     "data": {
      "application/vnd.jupyter.widget-view+json": {
       "model_id": "146425aff1fd43bc822d7ab83219f272",
       "version_major": 2,
       "version_minor": 0
      },
      "text/plain": [
       "Downloading data:   0%|          | 0.00/16.9M [00:00<?, ?B/s]"
      ]
     },
     "metadata": {},
     "output_type": "display_data"
    },
    {
     "data": {
      "application/vnd.jupyter.widget-view+json": {
       "model_id": "f8ad4490787e44b79f40818bdcd3cbae",
       "version_major": 2,
       "version_minor": 0
      },
      "text/plain": [
       "Downloading data:   0%|          | 0.00/2.43M [00:00<?, ?B/s]"
      ]
     },
     "metadata": {},
     "output_type": "display_data"
    },
    {
     "data": {
      "application/vnd.jupyter.widget-view+json": {
       "model_id": "e2f0e50681f14aac9156ed9fa81425e7",
       "version_major": 2,
       "version_minor": 0
      },
      "text/plain": [
       "Downloading data:   0%|          | 0.00/4.84M [00:00<?, ?B/s]"
      ]
     },
     "metadata": {},
     "output_type": "display_data"
    },
    {
     "data": {
      "application/vnd.jupyter.widget-view+json": {
       "model_id": "67ea7d017ee643a7be39e21ac9e1bcc8",
       "version_major": 2,
       "version_minor": 0
      },
      "text/plain": [
       "Generating train split:   0%|          | 0/131767 [00:00<?, ? examples/s]"
      ]
     },
     "metadata": {},
     "output_type": "display_data"
    },
    {
     "data": {
      "application/vnd.jupyter.widget-view+json": {
       "model_id": "e481f6e0c0244b4fb5da87ca747b01f6",
       "version_major": 2,
       "version_minor": 0
      },
      "text/plain": [
       "Generating validation split:   0%|          | 0/18824 [00:00<?, ? examples/s]"
      ]
     },
     "metadata": {},
     "output_type": "display_data"
    },
    {
     "data": {
      "application/vnd.jupyter.widget-view+json": {
       "model_id": "89e9590439c248789639996684611903",
       "version_major": 2,
       "version_minor": 0
      },
      "text/plain": [
       "Generating test split:   0%|          | 0/37648 [00:00<?, ? examples/s]"
      ]
     },
     "metadata": {},
     "output_type": "display_data"
    },
    {
     "data": {
      "application/vnd.jupyter.widget-view+json": {
       "model_id": "db1baf29808c41a4aae64f61ae036a1e",
       "version_major": 2,
       "version_minor": 0
      },
      "text/plain": [
       "Downloading data:   0%|          | 0.00/16.3M [00:00<?, ?B/s]"
      ]
     },
     "metadata": {},
     "output_type": "display_data"
    },
    {
     "data": {
      "application/vnd.jupyter.widget-view+json": {
       "model_id": "cb02e6268517474a8b26bfbff0256b45",
       "version_major": 2,
       "version_minor": 0
      },
      "text/plain": [
       "Downloading data:   0%|          | 0.00/2.14M [00:00<?, ?B/s]"
      ]
     },
     "metadata": {},
     "output_type": "display_data"
    },
    {
     "data": {
      "application/vnd.jupyter.widget-view+json": {
       "model_id": "e53f6696eb5143b5a1a4a816afda7047",
       "version_major": 2,
       "version_minor": 0
      },
      "text/plain": [
       "Downloading data:   0%|          | 0.00/1.56M [00:00<?, ?B/s]"
      ]
     },
     "metadata": {},
     "output_type": "display_data"
    },
    {
     "data": {
      "application/vnd.jupyter.widget-view+json": {
       "model_id": "f7a538b49f234a4e9da335a8b035454b",
       "version_major": 2,
       "version_minor": 0
      },
      "text/plain": [
       "Generating train split:   0%|          | 0/130112 [00:00<?, ? examples/s]"
      ]
     },
     "metadata": {},
     "output_type": "display_data"
    },
    {
     "data": {
      "application/vnd.jupyter.widget-view+json": {
       "model_id": "f039635973e04334aeb3dfad2fcb7da8",
       "version_major": 2,
       "version_minor": 0
      },
      "text/plain": [
       "Generating validation split:   0%|          | 0/18817 [00:00<?, ? examples/s]"
      ]
     },
     "metadata": {},
     "output_type": "display_data"
    },
    {
     "data": {
      "application/vnd.jupyter.widget-view+json": {
       "model_id": "0f1b9eced70c4f89850461edb4464af6",
       "version_major": 2,
       "version_minor": 0
      },
      "text/plain": [
       "Generating test split:   0%|          | 0/14007 [00:00<?, ? examples/s]"
      ]
     },
     "metadata": {},
     "output_type": "display_data"
    },
    {
     "data": {
      "application/vnd.jupyter.widget-view+json": {
       "model_id": "345b69a2a08d4e5aad5ae25e79e77f58",
       "version_major": 2,
       "version_minor": 0
      },
      "text/plain": [
       "Downloading data:   0%|          | 0.00/12.7M [00:00<?, ?B/s]"
      ]
     },
     "metadata": {},
     "output_type": "display_data"
    },
    {
     "data": {
      "application/vnd.jupyter.widget-view+json": {
       "model_id": "96f016e1dfc34f1a90ea19b1d75bbf34",
       "version_major": 2,
       "version_minor": 0
      },
      "text/plain": [
       "Downloading data:   0%|          | 0.00/2.20M [00:00<?, ?B/s]"
      ]
     },
     "metadata": {},
     "output_type": "display_data"
    },
    {
     "data": {
      "application/vnd.jupyter.widget-view+json": {
       "model_id": "69f58f3f882d401b96aaa47f1c660405",
       "version_major": 2,
       "version_minor": 0
      },
      "text/plain": [
       "Downloading data:   0%|          | 0.00/4.76M [00:00<?, ?B/s]"
      ]
     },
     "metadata": {},
     "output_type": "display_data"
    },
    {
     "data": {
      "application/vnd.jupyter.widget-view+json": {
       "model_id": "8b8b5b0a80a740bb9ddcbd5d87539471",
       "version_major": 2,
       "version_minor": 0
      },
      "text/plain": [
       "Generating train split:   0%|          | 0/99519 [00:00<?, ? examples/s]"
      ]
     },
     "metadata": {},
     "output_type": "display_data"
    },
    {
     "data": {
      "application/vnd.jupyter.widget-view+json": {
       "model_id": "d0bd31ff4a574259be1cd102f5d12268",
       "version_major": 2,
       "version_minor": 0
      },
      "text/plain": [
       "Generating validation split:   0%|          | 0/19358 [00:00<?, ? examples/s]"
      ]
     },
     "metadata": {},
     "output_type": "display_data"
    },
    {
     "data": {
      "application/vnd.jupyter.widget-view+json": {
       "model_id": "1148b8b9a90a4d4d887ee1d524cdcc22",
       "version_major": 2,
       "version_minor": 0
      },
      "text/plain": [
       "Generating test split:   0%|          | 0/44059 [00:00<?, ? examples/s]"
      ]
     },
     "metadata": {},
     "output_type": "display_data"
    }
   ],
   "source": [
    "from datasets import load_dataset\n",
    "from dotenv import load_dotenv\n",
    "from pathlib import Path\n",
    "\n",
    "if Path(\"../.env\").exists():\n",
    "    print(\"Loaded .env file!\")\n",
    "    load_dotenv(\"../.env\")\n",
    "\n",
    "sds = load_dataset(\"DFKI-SLT/few-nerd\", \"supervised\")\n",
    "interds = load_dataset(\"DFKI-SLT/few-nerd\", \"inter\")\n",
    "intrads = load_dataset(\"DFKI-SLT/few-nerd\", \"intra\")"
   ]
  },
  {
   "cell_type": "code",
   "execution_count": 2,
   "metadata": {},
   "outputs": [],
   "source": [
    "person_id = sds[\"train\"].features[\"ner_tags\"].feature.str2int(\"person\")"
   ]
  },
  {
   "cell_type": "code",
   "execution_count": 3,
   "metadata": {},
   "outputs": [
    {
     "data": {
      "application/vnd.jupyter.widget-view+json": {
       "model_id": "ec2acfd24365460bb24cc3db7f2640f4",
       "version_major": 2,
       "version_minor": 0
      },
      "text/plain": [
       "Filter (num_proc=8):   0%|          | 0/131767 [00:00<?, ? examples/s]"
      ]
     },
     "metadata": {},
     "output_type": "display_data"
    },
    {
     "data": {
      "application/vnd.jupyter.widget-view+json": {
       "model_id": "12772068415c41f4ac76d894a51d7781",
       "version_major": 2,
       "version_minor": 0
      },
      "text/plain": [
       "Filter (num_proc=8):   0%|          | 0/18824 [00:00<?, ? examples/s]"
      ]
     },
     "metadata": {},
     "output_type": "display_data"
    },
    {
     "data": {
      "application/vnd.jupyter.widget-view+json": {
       "model_id": "68842bbf3a784794aa08a22a59ef3142",
       "version_major": 2,
       "version_minor": 0
      },
      "text/plain": [
       "Filter (num_proc=8):   0%|          | 0/37648 [00:00<?, ? examples/s]"
      ]
     },
     "metadata": {},
     "output_type": "display_data"
    },
    {
     "data": {
      "application/vnd.jupyter.widget-view+json": {
       "model_id": "59eb2bdb449a4f3f8c21a98d38206526",
       "version_major": 2,
       "version_minor": 0
      },
      "text/plain": [
       "Filter (num_proc=8):   0%|          | 0/130112 [00:00<?, ? examples/s]"
      ]
     },
     "metadata": {},
     "output_type": "display_data"
    },
    {
     "data": {
      "application/vnd.jupyter.widget-view+json": {
       "model_id": "3e46fc6d37b041629da862ffc4f6d967",
       "version_major": 2,
       "version_minor": 0
      },
      "text/plain": [
       "Filter (num_proc=8):   0%|          | 0/18817 [00:00<?, ? examples/s]"
      ]
     },
     "metadata": {},
     "output_type": "display_data"
    },
    {
     "data": {
      "application/vnd.jupyter.widget-view+json": {
       "model_id": "ff6c50ff7da2459a9ce15b6512021341",
       "version_major": 2,
       "version_minor": 0
      },
      "text/plain": [
       "Filter (num_proc=8):   0%|          | 0/14007 [00:00<?, ? examples/s]"
      ]
     },
     "metadata": {},
     "output_type": "display_data"
    },
    {
     "data": {
      "application/vnd.jupyter.widget-view+json": {
       "model_id": "3a07c1665bbf442cb3388b41e0ea1b64",
       "version_major": 2,
       "version_minor": 0
      },
      "text/plain": [
       "Filter (num_proc=8):   0%|          | 0/99519 [00:00<?, ? examples/s]"
      ]
     },
     "metadata": {},
     "output_type": "display_data"
    },
    {
     "data": {
      "application/vnd.jupyter.widget-view+json": {
       "model_id": "b46f512b3f5a4d89a0a3a9b0bddc328d",
       "version_major": 2,
       "version_minor": 0
      },
      "text/plain": [
       "Filter (num_proc=8):   0%|          | 0/19358 [00:00<?, ? examples/s]"
      ]
     },
     "metadata": {},
     "output_type": "display_data"
    },
    {
     "data": {
      "application/vnd.jupyter.widget-view+json": {
       "model_id": "eb026dc57ea241839b821b3fcc6cb1fd",
       "version_major": 2,
       "version_minor": 0
      },
      "text/plain": [
       "Filter (num_proc=8):   0%|          | 0/44059 [00:00<?, ? examples/s]"
      ]
     },
     "metadata": {},
     "output_type": "display_data"
    }
   ],
   "source": [
    "def filter_non_person(example):\n",
    "    return person_id in example[\"ner_tags\"]\n",
    "\n",
    "\n",
    "sds = sds.filter(filter_non_person, num_proc=8)\n",
    "interds = interds.filter(filter_non_person, num_proc=8)\n",
    "intrads = intrads.filter(filter_non_person, num_proc=8)"
   ]
  },
  {
   "cell_type": "code",
   "execution_count": 4,
   "metadata": {},
   "outputs": [],
   "source": [
    "from datasets import concatenate_datasets\n",
    "\n",
    "ds = concatenate_datasets([sds[\"train\"], interds[\"train\"], intrads[\"train\"]])\n",
    "vds = concatenate_datasets([sds[\"validation\"], interds[\"validation\"], intrads[\"validation\"]])\n",
    "tds = concatenate_datasets([sds[\"test\"], interds[\"test\"], intrads[\"test\"]])"
   ]
  },
  {
   "cell_type": "code",
   "execution_count": 5,
   "metadata": {},
   "outputs": [],
   "source": [
    "df = ds.to_pandas()\n",
    "vdf = vds.to_pandas()\n",
    "tdf = tds.to_pandas()"
   ]
  },
  {
   "cell_type": "code",
   "execution_count": 6,
   "metadata": {},
   "outputs": [
    {
     "data": {
      "text/html": [
       "<div>\n",
       "<style scoped>\n",
       "    .dataframe tbody tr th:only-of-type {\n",
       "        vertical-align: middle;\n",
       "    }\n",
       "\n",
       "    .dataframe tbody tr th {\n",
       "        vertical-align: top;\n",
       "    }\n",
       "\n",
       "    .dataframe thead th {\n",
       "        text-align: right;\n",
       "    }\n",
       "</style>\n",
       "<table border=\"1\" class=\"dataframe\">\n",
       "  <thead>\n",
       "    <tr style=\"text-align: right;\">\n",
       "      <th></th>\n",
       "      <th>id</th>\n",
       "      <th>tokens</th>\n",
       "      <th>ner_tags</th>\n",
       "      <th>fine_ner_tags</th>\n",
       "    </tr>\n",
       "  </thead>\n",
       "  <tbody>\n",
       "    <tr>\n",
       "      <th>0</th>\n",
       "      <td>1</td>\n",
       "      <td>[It, starred, Hicks, 's, wife, ,, Ellaline, Te...</td>\n",
       "      <td>[0, 0, 7, 0, 0, 0, 7, 7, 0, 7, 7, 0]</td>\n",
       "      <td>[0, 0, 51, 0, 0, 0, 50, 50, 0, 50, 50, 0]</td>\n",
       "    </tr>\n",
       "    <tr>\n",
       "      <th>1</th>\n",
       "      <td>2</td>\n",
       "      <td>[``, Time, ``, magazine, said, the, film, was,...</td>\n",
       "      <td>[0, 1, 0, 0, 0, 0, 0, 0, 0, 0, 0, 0, 0, 0, 0, ...</td>\n",
       "      <td>[0, 6, 0, 0, 0, 0, 0, 0, 0, 0, 0, 0, 0, 0, 0, ...</td>\n",
       "    </tr>\n",
       "    <tr>\n",
       "      <th>2</th>\n",
       "      <td>12</td>\n",
       "      <td>[Imelda, de, ', Lambertazzi, is, a, ``, melodr...</td>\n",
       "      <td>[1, 1, 1, 1, 0, 0, 0, 0, 0, 0, 0, 0, 0, 0, 0, ...</td>\n",
       "      <td>[6, 6, 6, 6, 0, 0, 0, 0, 0, 0, 0, 0, 0, 0, 0, ...</td>\n",
       "    </tr>\n",
       "    <tr>\n",
       "      <th>3</th>\n",
       "      <td>17</td>\n",
       "      <td>[In, 1783, Campbell, married, Olympia, Elizabe...</td>\n",
       "      <td>[0, 0, 7, 0, 7, 7, 0, 0, 0, 0, 0, 0, 0, 0, 7, ...</td>\n",
       "      <td>[0, 0, 54, 0, 54, 54, 0, 0, 0, 0, 0, 0, 0, 0, ...</td>\n",
       "    </tr>\n",
       "    <tr>\n",
       "      <th>4</th>\n",
       "      <td>18</td>\n",
       "      <td>[Neville, performed, a, Spinning, Back, Kick, ...</td>\n",
       "      <td>[7, 0, 0, 0, 0, 0, 0, 7, 0, 0, 0, 0, 0]</td>\n",
       "      <td>[52, 0, 0, 0, 0, 0, 0, 52, 0, 0, 0, 0, 0]</td>\n",
       "    </tr>\n",
       "    <tr>\n",
       "      <th>...</th>\n",
       "      <td>...</td>\n",
       "      <td>...</td>\n",
       "      <td>...</td>\n",
       "      <td>...</td>\n",
       "    </tr>\n",
       "    <tr>\n",
       "      <th>15967</th>\n",
       "      <td>13987</td>\n",
       "      <td>[Another, adaptation, -, written, ,, again, ,,...</td>\n",
       "      <td>[0, 0, 0, 0, 0, 0, 0, 0, 0, 0, 0, 7, 7, 0, 0, ...</td>\n",
       "      <td>[0, 0, 0, 0, 0, 0, 0, 0, 0, 0, 0, 50, 50, 0, 0...</td>\n",
       "    </tr>\n",
       "    <tr>\n",
       "      <th>15968</th>\n",
       "      <td>13988</td>\n",
       "      <td>[Infuriated, ,, the, director, immediately, fi...</td>\n",
       "      <td>[0, 0, 0, 0, 0, 0, 7, 0, 0, 0, 0, 0, 0, 0, 0, ...</td>\n",
       "      <td>[0, 0, 0, 0, 0, 0, 50, 0, 0, 0, 0, 0, 0, 0, 0,...</td>\n",
       "    </tr>\n",
       "    <tr>\n",
       "      <th>15969</th>\n",
       "      <td>13989</td>\n",
       "      <td>[Hines, Ward, got, the, Super, Bowl, MVP, reco...</td>\n",
       "      <td>[7, 7, 0, 0, 3, 3, 0, 0, 0, 0, 0, 0, 0, 0, 0, 0]</td>\n",
       "      <td>[52, 52, 0, 0, 20, 20, 0, 0, 0, 0, 0, 0, 0, 0,...</td>\n",
       "    </tr>\n",
       "    <tr>\n",
       "      <th>15970</th>\n",
       "      <td>13991</td>\n",
       "      <td>[Brady, ended, the, 1973–74, season, with, 13,...</td>\n",
       "      <td>[7, 0, 0, 0, 0, 0, 0, 0, 0, 0, 0, 0, 0, 0, 0, ...</td>\n",
       "      <td>[52, 0, 0, 0, 0, 0, 0, 0, 0, 0, 0, 0, 0, 0, 0,...</td>\n",
       "    </tr>\n",
       "    <tr>\n",
       "      <th>15971</th>\n",
       "      <td>13994</td>\n",
       "      <td>[Benítez, won, a, fifteen-round, unanimous, de...</td>\n",
       "      <td>[7, 0, 0, 0, 0, 0, 0]</td>\n",
       "      <td>[52, 0, 0, 0, 0, 0, 0]</td>\n",
       "    </tr>\n",
       "  </tbody>\n",
       "</table>\n",
       "<p>160782 rows × 4 columns</p>\n",
       "</div>"
      ],
      "text/plain": [
       "          id                                             tokens  \\\n",
       "0          1  [It, starred, Hicks, 's, wife, ,, Ellaline, Te...   \n",
       "1          2  [``, Time, ``, magazine, said, the, film, was,...   \n",
       "2         12  [Imelda, de, ', Lambertazzi, is, a, ``, melodr...   \n",
       "3         17  [In, 1783, Campbell, married, Olympia, Elizabe...   \n",
       "4         18  [Neville, performed, a, Spinning, Back, Kick, ...   \n",
       "...      ...                                                ...   \n",
       "15967  13987  [Another, adaptation, -, written, ,, again, ,,...   \n",
       "15968  13988  [Infuriated, ,, the, director, immediately, fi...   \n",
       "15969  13989  [Hines, Ward, got, the, Super, Bowl, MVP, reco...   \n",
       "15970  13991  [Brady, ended, the, 1973–74, season, with, 13,...   \n",
       "15971  13994  [Benítez, won, a, fifteen-round, unanimous, de...   \n",
       "\n",
       "                                                ner_tags  \\\n",
       "0                   [0, 0, 7, 0, 0, 0, 7, 7, 0, 7, 7, 0]   \n",
       "1      [0, 1, 0, 0, 0, 0, 0, 0, 0, 0, 0, 0, 0, 0, 0, ...   \n",
       "2      [1, 1, 1, 1, 0, 0, 0, 0, 0, 0, 0, 0, 0, 0, 0, ...   \n",
       "3      [0, 0, 7, 0, 7, 7, 0, 0, 0, 0, 0, 0, 0, 0, 7, ...   \n",
       "4                [7, 0, 0, 0, 0, 0, 0, 7, 0, 0, 0, 0, 0]   \n",
       "...                                                  ...   \n",
       "15967  [0, 0, 0, 0, 0, 0, 0, 0, 0, 0, 0, 7, 7, 0, 0, ...   \n",
       "15968  [0, 0, 0, 0, 0, 0, 7, 0, 0, 0, 0, 0, 0, 0, 0, ...   \n",
       "15969   [7, 7, 0, 0, 3, 3, 0, 0, 0, 0, 0, 0, 0, 0, 0, 0]   \n",
       "15970  [7, 0, 0, 0, 0, 0, 0, 0, 0, 0, 0, 0, 0, 0, 0, ...   \n",
       "15971                              [7, 0, 0, 0, 0, 0, 0]   \n",
       "\n",
       "                                           fine_ner_tags  \n",
       "0              [0, 0, 51, 0, 0, 0, 50, 50, 0, 50, 50, 0]  \n",
       "1      [0, 6, 0, 0, 0, 0, 0, 0, 0, 0, 0, 0, 0, 0, 0, ...  \n",
       "2      [6, 6, 6, 6, 0, 0, 0, 0, 0, 0, 0, 0, 0, 0, 0, ...  \n",
       "3      [0, 0, 54, 0, 54, 54, 0, 0, 0, 0, 0, 0, 0, 0, ...  \n",
       "4              [52, 0, 0, 0, 0, 0, 0, 52, 0, 0, 0, 0, 0]  \n",
       "...                                                  ...  \n",
       "15967  [0, 0, 0, 0, 0, 0, 0, 0, 0, 0, 0, 50, 50, 0, 0...  \n",
       "15968  [0, 0, 0, 0, 0, 0, 50, 0, 0, 0, 0, 0, 0, 0, 0,...  \n",
       "15969  [52, 52, 0, 0, 20, 20, 0, 0, 0, 0, 0, 0, 0, 0,...  \n",
       "15970  [52, 0, 0, 0, 0, 0, 0, 0, 0, 0, 0, 0, 0, 0, 0,...  \n",
       "15971                             [52, 0, 0, 0, 0, 0, 0]  \n",
       "\n",
       "[160782 rows x 4 columns]"
      ]
     },
     "execution_count": 6,
     "metadata": {},
     "output_type": "execute_result"
    }
   ],
   "source": [
    "import pandas as pd\n",
    "\n",
    "df = pd.concat([df, vdf, tdf])\n",
    "\n",
    "df"
   ]
  },
  {
   "cell_type": "code",
   "execution_count": 7,
   "metadata": {},
   "outputs": [],
   "source": [
    "df[\"text\"] = [\"\".join(t) for t in df[\"tokens\"]]"
   ]
  },
  {
   "cell_type": "code",
   "execution_count": 9,
   "metadata": {},
   "outputs": [],
   "source": [
    "unq = set()\n",
    "\n",
    "\n",
    "unq_label = []\n",
    "for t in df[\"text\"]:\n",
    "    if t not in unq:\n",
    "        unq_label.append(1)\n",
    "        unq.add(t)\n",
    "    else:\n",
    "        unq_label.append(0)"
   ]
  },
  {
   "cell_type": "code",
   "execution_count": 10,
   "metadata": {},
   "outputs": [],
   "source": [
    "df[\"unq\"] = unq_label"
   ]
  },
  {
   "cell_type": "code",
   "execution_count": 11,
   "metadata": {},
   "outputs": [
    {
     "data": {
      "text/html": [
       "<div>\n",
       "<style scoped>\n",
       "    .dataframe tbody tr th:only-of-type {\n",
       "        vertical-align: middle;\n",
       "    }\n",
       "\n",
       "    .dataframe tbody tr th {\n",
       "        vertical-align: top;\n",
       "    }\n",
       "\n",
       "    .dataframe thead th {\n",
       "        text-align: right;\n",
       "    }\n",
       "</style>\n",
       "<table border=\"1\" class=\"dataframe\">\n",
       "  <thead>\n",
       "    <tr style=\"text-align: right;\">\n",
       "      <th></th>\n",
       "      <th>id</th>\n",
       "      <th>tokens</th>\n",
       "      <th>ner_tags</th>\n",
       "      <th>fine_ner_tags</th>\n",
       "      <th>text</th>\n",
       "      <th>unq</th>\n",
       "    </tr>\n",
       "  </thead>\n",
       "  <tbody>\n",
       "    <tr>\n",
       "      <th>0</th>\n",
       "      <td>1</td>\n",
       "      <td>[It, starred, Hicks, 's, wife, ,, Ellaline, Te...</td>\n",
       "      <td>[0, 0, 7, 0, 0, 0, 7, 7, 0, 7, 7, 0]</td>\n",
       "      <td>[0, 0, 51, 0, 0, 0, 50, 50, 0, 50, 50, 0]</td>\n",
       "      <td>ItstarredHicks'swife,EllalineTerrissandEdmundP...</td>\n",
       "      <td>1</td>\n",
       "    </tr>\n",
       "    <tr>\n",
       "      <th>1</th>\n",
       "      <td>2</td>\n",
       "      <td>[``, Time, ``, magazine, said, the, film, was,...</td>\n",
       "      <td>[0, 1, 0, 0, 0, 0, 0, 0, 0, 0, 0, 0, 0, 0, 0, ...</td>\n",
       "      <td>[0, 6, 0, 0, 0, 0, 0, 0, 0, 0, 0, 0, 0, 0, 0, ...</td>\n",
       "      <td>``Time``magazinesaidthefilmwas``amultimilliond...</td>\n",
       "      <td>1</td>\n",
       "    </tr>\n",
       "    <tr>\n",
       "      <th>2</th>\n",
       "      <td>12</td>\n",
       "      <td>[Imelda, de, ', Lambertazzi, is, a, ``, melodr...</td>\n",
       "      <td>[1, 1, 1, 1, 0, 0, 0, 0, 0, 0, 0, 0, 0, 0, 0, ...</td>\n",
       "      <td>[6, 6, 6, 6, 0, 0, 0, 0, 0, 0, 0, 0, 0, 0, 0, ...</td>\n",
       "      <td>Imeldade'Lambertazziisa``melodrammatragico''or...</td>\n",
       "      <td>1</td>\n",
       "    </tr>\n",
       "    <tr>\n",
       "      <th>3</th>\n",
       "      <td>17</td>\n",
       "      <td>[In, 1783, Campbell, married, Olympia, Elizabe...</td>\n",
       "      <td>[0, 0, 7, 0, 7, 7, 0, 0, 0, 0, 0, 0, 0, 0, 7, ...</td>\n",
       "      <td>[0, 0, 54, 0, 54, 54, 0, 0, 0, 0, 0, 0, 0, 0, ...</td>\n",
       "      <td>In1783CampbellmarriedOlympiaElizabeth(died1794...</td>\n",
       "      <td>1</td>\n",
       "    </tr>\n",
       "    <tr>\n",
       "      <th>4</th>\n",
       "      <td>18</td>\n",
       "      <td>[Neville, performed, a, Spinning, Back, Kick, ...</td>\n",
       "      <td>[7, 0, 0, 0, 0, 0, 0, 7, 0, 0, 0, 0, 0]</td>\n",
       "      <td>[52, 0, 0, 0, 0, 0, 0, 52, 0, 0, 0, 0, 0]</td>\n",
       "      <td>NevilleperformedaSpinningBackKickonTozawatoret...</td>\n",
       "      <td>1</td>\n",
       "    </tr>\n",
       "    <tr>\n",
       "      <th>...</th>\n",
       "      <td>...</td>\n",
       "      <td>...</td>\n",
       "      <td>...</td>\n",
       "      <td>...</td>\n",
       "      <td>...</td>\n",
       "      <td>...</td>\n",
       "    </tr>\n",
       "    <tr>\n",
       "      <th>15967</th>\n",
       "      <td>13987</td>\n",
       "      <td>[Another, adaptation, -, written, ,, again, ,,...</td>\n",
       "      <td>[0, 0, 0, 0, 0, 0, 0, 0, 0, 0, 0, 7, 7, 0, 0, ...</td>\n",
       "      <td>[0, 0, 0, 0, 0, 0, 0, 0, 0, 0, 0, 50, 50, 0, 0...</td>\n",
       "      <td>Anotheradaptation-written,again,byanactor:Mark...</td>\n",
       "      <td>0</td>\n",
       "    </tr>\n",
       "    <tr>\n",
       "      <th>15968</th>\n",
       "      <td>13988</td>\n",
       "      <td>[Infuriated, ,, the, director, immediately, fi...</td>\n",
       "      <td>[0, 0, 0, 0, 0, 0, 7, 0, 0, 0, 0, 0, 0, 0, 0, ...</td>\n",
       "      <td>[0, 0, 0, 0, 0, 0, 50, 0, 0, 0, 0, 0, 0, 0, 0,...</td>\n",
       "      <td>Infuriated,thedirectorimmediatelyfiredPallette...</td>\n",
       "      <td>0</td>\n",
       "    </tr>\n",
       "    <tr>\n",
       "      <th>15969</th>\n",
       "      <td>13989</td>\n",
       "      <td>[Hines, Ward, got, the, Super, Bowl, MVP, reco...</td>\n",
       "      <td>[7, 7, 0, 0, 3, 3, 0, 0, 0, 0, 0, 0, 0, 0, 0, 0]</td>\n",
       "      <td>[52, 52, 0, 0, 20, 20, 0, 0, 0, 0, 0, 0, 0, 0,...</td>\n",
       "      <td>HinesWardgottheSuperBowlMVPrecording5catches14...</td>\n",
       "      <td>0</td>\n",
       "    </tr>\n",
       "    <tr>\n",
       "      <th>15970</th>\n",
       "      <td>13991</td>\n",
       "      <td>[Brady, ended, the, 1973–74, season, with, 13,...</td>\n",
       "      <td>[7, 0, 0, 0, 0, 0, 0, 0, 0, 0, 0, 0, 0, 0, 0, ...</td>\n",
       "      <td>[52, 0, 0, 0, 0, 0, 0, 0, 0, 0, 0, 0, 0, 0, 0,...</td>\n",
       "      <td>Bradyendedthe1973–74seasonwith13appearances(fo...</td>\n",
       "      <td>0</td>\n",
       "    </tr>\n",
       "    <tr>\n",
       "      <th>15971</th>\n",
       "      <td>13994</td>\n",
       "      <td>[Benítez, won, a, fifteen-round, unanimous, de...</td>\n",
       "      <td>[7, 0, 0, 0, 0, 0, 0]</td>\n",
       "      <td>[52, 0, 0, 0, 0, 0, 0]</td>\n",
       "      <td>Benítezwonafifteen-roundunanimousdecision.</td>\n",
       "      <td>0</td>\n",
       "    </tr>\n",
       "  </tbody>\n",
       "</table>\n",
       "<p>160782 rows × 6 columns</p>\n",
       "</div>"
      ],
      "text/plain": [
       "          id                                             tokens  \\\n",
       "0          1  [It, starred, Hicks, 's, wife, ,, Ellaline, Te...   \n",
       "1          2  [``, Time, ``, magazine, said, the, film, was,...   \n",
       "2         12  [Imelda, de, ', Lambertazzi, is, a, ``, melodr...   \n",
       "3         17  [In, 1783, Campbell, married, Olympia, Elizabe...   \n",
       "4         18  [Neville, performed, a, Spinning, Back, Kick, ...   \n",
       "...      ...                                                ...   \n",
       "15967  13987  [Another, adaptation, -, written, ,, again, ,,...   \n",
       "15968  13988  [Infuriated, ,, the, director, immediately, fi...   \n",
       "15969  13989  [Hines, Ward, got, the, Super, Bowl, MVP, reco...   \n",
       "15970  13991  [Brady, ended, the, 1973–74, season, with, 13,...   \n",
       "15971  13994  [Benítez, won, a, fifteen-round, unanimous, de...   \n",
       "\n",
       "                                                ner_tags  \\\n",
       "0                   [0, 0, 7, 0, 0, 0, 7, 7, 0, 7, 7, 0]   \n",
       "1      [0, 1, 0, 0, 0, 0, 0, 0, 0, 0, 0, 0, 0, 0, 0, ...   \n",
       "2      [1, 1, 1, 1, 0, 0, 0, 0, 0, 0, 0, 0, 0, 0, 0, ...   \n",
       "3      [0, 0, 7, 0, 7, 7, 0, 0, 0, 0, 0, 0, 0, 0, 7, ...   \n",
       "4                [7, 0, 0, 0, 0, 0, 0, 7, 0, 0, 0, 0, 0]   \n",
       "...                                                  ...   \n",
       "15967  [0, 0, 0, 0, 0, 0, 0, 0, 0, 0, 0, 7, 7, 0, 0, ...   \n",
       "15968  [0, 0, 0, 0, 0, 0, 7, 0, 0, 0, 0, 0, 0, 0, 0, ...   \n",
       "15969   [7, 7, 0, 0, 3, 3, 0, 0, 0, 0, 0, 0, 0, 0, 0, 0]   \n",
       "15970  [7, 0, 0, 0, 0, 0, 0, 0, 0, 0, 0, 0, 0, 0, 0, ...   \n",
       "15971                              [7, 0, 0, 0, 0, 0, 0]   \n",
       "\n",
       "                                           fine_ner_tags  \\\n",
       "0              [0, 0, 51, 0, 0, 0, 50, 50, 0, 50, 50, 0]   \n",
       "1      [0, 6, 0, 0, 0, 0, 0, 0, 0, 0, 0, 0, 0, 0, 0, ...   \n",
       "2      [6, 6, 6, 6, 0, 0, 0, 0, 0, 0, 0, 0, 0, 0, 0, ...   \n",
       "3      [0, 0, 54, 0, 54, 54, 0, 0, 0, 0, 0, 0, 0, 0, ...   \n",
       "4              [52, 0, 0, 0, 0, 0, 0, 52, 0, 0, 0, 0, 0]   \n",
       "...                                                  ...   \n",
       "15967  [0, 0, 0, 0, 0, 0, 0, 0, 0, 0, 0, 50, 50, 0, 0...   \n",
       "15968  [0, 0, 0, 0, 0, 0, 50, 0, 0, 0, 0, 0, 0, 0, 0,...   \n",
       "15969  [52, 52, 0, 0, 20, 20, 0, 0, 0, 0, 0, 0, 0, 0,...   \n",
       "15970  [52, 0, 0, 0, 0, 0, 0, 0, 0, 0, 0, 0, 0, 0, 0,...   \n",
       "15971                             [52, 0, 0, 0, 0, 0, 0]   \n",
       "\n",
       "                                                    text  unq  \n",
       "0      ItstarredHicks'swife,EllalineTerrissandEdmundP...    1  \n",
       "1      ``Time``magazinesaidthefilmwas``amultimilliond...    1  \n",
       "2      Imeldade'Lambertazziisa``melodrammatragico''or...    1  \n",
       "3      In1783CampbellmarriedOlympiaElizabeth(died1794...    1  \n",
       "4      NevilleperformedaSpinningBackKickonTozawatoret...    1  \n",
       "...                                                  ...  ...  \n",
       "15967  Anotheradaptation-written,again,byanactor:Mark...    0  \n",
       "15968  Infuriated,thedirectorimmediatelyfiredPallette...    0  \n",
       "15969  HinesWardgottheSuperBowlMVPrecording5catches14...    0  \n",
       "15970  Bradyendedthe1973–74seasonwith13appearances(fo...    0  \n",
       "15971         Benítezwonafifteen-roundunanimousdecision.    0  \n",
       "\n",
       "[160782 rows x 6 columns]"
      ]
     },
     "execution_count": 11,
     "metadata": {},
     "output_type": "execute_result"
    }
   ],
   "source": [
    "df"
   ]
  },
  {
   "cell_type": "code",
   "execution_count": 16,
   "metadata": {},
   "outputs": [
    {
     "data": {
      "text/plain": [
       "(54432, 6)"
      ]
     },
     "execution_count": 16,
     "metadata": {},
     "output_type": "execute_result"
    }
   ],
   "source": [
    "deduped = df[df[\"unq\"] == 1]\n",
    "\n",
    "deduped.shape"
   ]
  },
  {
   "cell_type": "code",
   "execution_count": 17,
   "metadata": {},
   "outputs": [],
   "source": [
    "from datasets import Dataset\n",
    "\n",
    "deduped_ds = Dataset.from_pandas(deduped.drop(columns=[\"unq\", \"text\", \"fine_ner_tags\"]), preserve_index=False)"
   ]
  },
  {
   "cell_type": "code",
   "execution_count": 22,
   "metadata": {},
   "outputs": [
    {
     "data": {
      "text/plain": [
       "{'id': '1',\n",
       " 'tokens': ['It',\n",
       "  'starred',\n",
       "  'Hicks',\n",
       "  \"'s\",\n",
       "  'wife',\n",
       "  ',',\n",
       "  'Ellaline',\n",
       "  'Terriss',\n",
       "  'and',\n",
       "  'Edmund',\n",
       "  'Payne',\n",
       "  '.'],\n",
       " 'ner_tags': [0, 0, 7, 0, 0, 0, 7, 7, 0, 7, 7, 0]}"
      ]
     },
     "execution_count": 22,
     "metadata": {},
     "output_type": "execute_result"
    }
   ],
   "source": [
    "deduped_ds[0]"
   ]
  },
  {
   "cell_type": "code",
   "execution_count": 23,
   "metadata": {},
   "outputs": [
    {
     "data": {
      "application/vnd.jupyter.widget-view+json": {
       "model_id": "00cf25bc64384b80a419b4f535fabb27",
       "version_major": 2,
       "version_minor": 0
      },
      "text/plain": [
       "Creating parquet from Arrow format:   0%|          | 0/55 [00:00<?, ?ba/s]"
      ]
     },
     "metadata": {},
     "output_type": "display_data"
    },
    {
     "data": {
      "text/plain": [
       "25524514"
      ]
     },
     "execution_count": 23,
     "metadata": {},
     "output_type": "execute_result"
    }
   ],
   "source": [
    "deduped_ds.to_parquet(\"../data/fewnerd/persons.parquet\")"
   ]
  },
  {
   "cell_type": "markdown",
   "metadata": {},
   "source": [
    "Let's pack the sequences together to make them longer"
   ]
  },
  {
   "cell_type": "code",
   "execution_count": 24,
   "metadata": {},
   "outputs": [
    {
     "data": {
      "application/vnd.jupyter.widget-view+json": {
       "model_id": "2cfd390d831d46a4b1f375b9d673ee56",
       "version_major": 2,
       "version_minor": 0
      },
      "text/plain": [
       "Map (num_proc=4):   0%|          | 0/54432 [00:00<?, ? examples/s]"
      ]
     },
     "metadata": {},
     "output_type": "display_data"
    }
   ],
   "source": [
    "dds = deduped_ds.map(lambda x: {\"length\": len(x[\"tokens\"])}, num_proc=4)"
   ]
  },
  {
   "cell_type": "code",
   "execution_count": 25,
   "metadata": {},
   "outputs": [
    {
     "data": {
      "image/png": "[encoded data removed]",
      "text/plain": [
       "<Figure size 640x480 with 1 Axes>"
      ]
     },
     "metadata": {},
     "output_type": "display_data"
    }
   ],
   "source": [
    "import matplotlib.pyplot as plt\n",
    "\n",
    "\n",
    "plt.hist(dds[\"length\"], bins=100);"
   ]
  },
  {
   "cell_type": "code",
   "execution_count": 28,
   "metadata": {},
   "outputs": [
    {
     "data": {
      "application/vnd.jupyter.widget-view+json": {
       "model_id": "44f03026398244b4902e248dcee52898",
       "version_major": 2,
       "version_minor": 0
      },
      "text/plain": [
       "Map (num_proc=4):   0%|          | 0/54432 [00:00<?, ? examples/s]"
      ]
     },
     "metadata": {},
     "output_type": "display_data"
    }
   ],
   "source": [
    "from itertools import chain\n",
    "\n",
    "max_seq_length = 100\n",
    "\n",
    "\n",
    "def group_texts(examples):\n",
    "    # Concatenate all texts.\n",
    "    concatenated_examples = {k: list(chain(*examples[k])) for k in examples.keys()}\n",
    "    total_length = len(concatenated_examples[list(examples.keys())[0]])\n",
    "    # We drop the small remainder, and if the total_length < max_seq_length  we exclude this batch and return an empty dict.\n",
    "    # We could add padding if the model supported it instead of this drop, you can customize this part to your needs.\n",
    "    total_length = (total_length // max_seq_length) * max_seq_length\n",
    "    # Split by chunks of max_len.\n",
    "    result = {\n",
    "        k: [t[i : i + max_seq_length] for i in range(0, total_length, max_seq_length)]\n",
    "        for k, t in concatenated_examples.items()\n",
    "    }\n",
    "    return result\n",
    "\n",
    "dds = dds.remove_columns([\"id\", \"length\"]).map(group_texts, batched=True, batch_size=1000, num_proc=4, remove_columns=[\"ner_tags\", \"tokens\"])"
   ]
  },
  {
   "cell_type": "code",
   "execution_count": 30,
   "metadata": {},
   "outputs": [
    {
     "data": {
      "text/plain": [
       "Dataset({\n",
       "    features: ['tokens', 'ner_tags'],\n",
       "    num_rows: 14919\n",
       "})"
      ]
     },
     "execution_count": 30,
     "metadata": {},
     "output_type": "execute_result"
    }
   ],
   "source": [
    "dds"
   ]
  },
  {
   "cell_type": "code",
   "execution_count": null,
   "metadata": {},
   "outputs": [],
   "source": [
    "def convert_to_string_tags(example):\n",
    "    mapper = {0: \"O\", 7: \"PERSON\"}\n",
    "    example[\"ner_tags\"] = [mapper.get(t, \"O\") for t in example[\"ner_tags\"]]\n",
    "    return example\n",
    "\n",
    "\n",
    "dds = dds.map(convert_to_string_tags, num_proc=4)"
   ]
  },
  {
   "cell_type": "code",
   "execution_count": 2,
   "metadata": {},
   "outputs": [
    {
     "data": {
      "application/vnd.jupyter.widget-view+json": {
       "model_id": "838dd97913ee43c19fc1335ddadac62d",
       "version_major": 2,
       "version_minor": 0
      },
      "text/plain": [
       "Generating train split: 0 examples [00:00, ? examples/s]"
      ]
     },
     "metadata": {},
     "output_type": "display_data"
    }
   ],
   "source": [
    "# from datasets import Dataset\n",
    "\n",
    "# dds = Dataset.from_parquet(\"../data/fewnerd/persons_grouped_into_100.parquet\")\n",
    "\n",
    "dds.to_parquet(\"../data/fewnerd/persons_grouped_into_100.parquet\")"
   ]
  }
 ],
 "metadata": {
  "kernelspec": {
   "display_name": "base",
   "language": "python",
   "name": "python3"
  },
  "language_info": {
   "codemirror_mode": {
    "name": "ipython",
    "version": 3
   },
   "file_extension": ".py",
   "mimetype": "text/x-python",
   "name": "python",
   "nbconvert_exporter": "python",
   "pygments_lexer": "ipython3",
   "version": "3.10.10"
  }
 },
 "nbformat": 4,
 "nbformat_minor": 2
}
