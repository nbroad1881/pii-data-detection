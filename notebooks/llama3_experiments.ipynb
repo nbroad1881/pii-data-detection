{
 "cells": [
  {
   "cell_type": "code",
   "execution_count": 1,
   "metadata": {},
   "outputs": [
    {
     "name": "stdout",
     "output_type": "stream",
     "text": [
      "Loaded .env file!\n"
     ]
    }
   ],
   "source": [
    "import os\n",
    "import json\n",
    "from dotenv import load_dotenv\n",
    "from pathlib import Path\n",
    "\n",
    "dotenv_path = Path(\"../.env\")\n",
    "if dotenv_path.exists():\n",
    "    print(\"Loaded .env file!\")\n",
    "    load_dotenv(str(dotenv_path))"
   ]
  },
  {
   "cell_type": "code",
   "execution_count": 2,
   "metadata": {},
   "outputs": [
    {
     "name": "stderr",
     "output_type": "stream",
     "text": [
      "Special tokens have been added in the vocabulary, make sure the associated word embeddings are fine-tuned or trained.\n"
     ]
    },
    {
     "data": {
      "application/vnd.jupyter.widget-view+json": {
       "model_id": "acb097c2338a464f85b14232fc69800a",
       "version_major": 2,
       "version_minor": 0
      },
      "text/plain": [
       "Loading checkpoint shards:   0%|          | 0/4 [00:00<?, ?it/s]"
      ]
     },
     "metadata": {},
     "output_type": "display_data"
    }
   ],
   "source": [
    "# Load model directly\n",
    "from transformers import AutoTokenizer, AutoModelForCausalLM\n",
    "import torch\n",
    "\n",
    "tokenizer = AutoTokenizer.from_pretrained(\"meta-llama/Meta-Llama-3-8B-Instruct\")\n",
    "model = AutoModelForCausalLM.from_pretrained(\"meta-llama/Meta-Llama-3-8B-Instruct\", device_map=0, torch_dtype=torch.float16)"
   ]
  },
  {
   "cell_type": "code",
   "execution_count": 4,
   "metadata": {},
   "outputs": [],
   "source": [
    "messages = [\n",
    "    {\"role\": \"system\", \"content\": \"You are an expert at finding identification numbers.\"},\n",
    "    {\"role\": \"user\", \"content\": \"\"\"Text:\\nPre- Induction Assignment 3 MediPath  #ItGetsBetter\n",
    "\n",
    "Anil Dubey\n",
    "\n",
    "276795361801\n",
    "\n",
    "Customer Segments Unfair advantage\n",
    "\n",
    "• Search Engine  Optimization\n",
    "\n",
    "• Social Media Marketing\n",
    "\n",
    "• Influencer marketing\n",
    "\n",
    "• Mobile booths\n",
    "\n",
    "• Billboards\n",
    "\n",
    "#itgetsbetter\n",
    "\n",
    "Channels\n",
    "\n",
    "Unique Value Proposition\n",
    "\n",
    "Create a brand uniquely\n",
    "\n",
    "associated with mental\n",
    "\n",
    "health\n",
    "\n",
    "Showcase sample audio\n",
    "\n",
    "therapy sessions on\n",
    "     \n",
    "\n",
    "In the above text, is 276795361801 more likely to be an identification number or a phone number?\n",
    "     \n",
    "A. Identification number\n",
    "B. Phone number\n",
    "\"\"\"},\n",
    "]\n",
    "\n",
    "input_ids = tokenizer.apply_chat_template(\n",
    "    messages,\n",
    "    add_generation_prompt=True,\n",
    "    return_tensors=\"pt\"\n",
    ").to(model.device)\n",
    "\n",
    "terminators = [\n",
    "    tokenizer.eos_token_id,\n",
    "    tokenizer.convert_tokens_to_ids(\"<|eot_id|>\")\n",
    "]"
   ]
  },
  {
   "cell_type": "code",
   "execution_count": 4,
   "metadata": {},
   "outputs": [
    {
     "name": "stderr",
     "output_type": "stream",
     "text": [
      "The attention mask and the pad token id were not set. As a consequence, you may observe unexpected behavior. Please pass your input's `attention_mask` to obtain reliable results.\n",
      "Setting `pad_token_id` to `eos_token_id`:128001 for open-end generation.\n"
     ]
    }
   ],
   "source": [
    "outputs = model.generate(\n",
    "    input_ids,\n",
    "    max_new_tokens=1,\n",
    "    eos_token_id=terminators,\n",
    "    do_sample=False,\n",
    "    output_scores=True,\n",
    "    return_dict_in_generate =True\n",
    ")"
   ]
  },
  {
   "cell_type": "code",
   "execution_count": 9,
   "metadata": {},
   "outputs": [
    {
     "data": {
      "text/plain": [
       "['system\\n\\nYou are an expert at finding identification numbers.user\\n\\nText:\\nPre- Induction Assignment 3 MediPath  #ItGetsBetter\\n\\nAnil Dubey\\n\\n276795361801\\n\\nCustomer Segments Unfair advantage\\n\\n• Search Engine  Optimization\\n\\n• Social Media Marketing\\n\\n• Influencer marketing\\n\\n• Mobile booths\\n\\n• Billboards\\n\\n#itgetsbetter\\n\\nChannels\\n\\nUnique Value Proposition\\n\\nCreate a brand uniquely\\n\\nassociated with mental\\n\\nhealth\\n\\nShowcase sample audio\\n\\ntherapy sessions on\\n     \\n\\nIn the above text, is 276795361801 more likely to be an identification number or a phone number?\\n     \\nA. Identification number\\nB. Phone numberassistant\\n\\nBased']"
      ]
     },
     "execution_count": 9,
     "metadata": {},
     "output_type": "execute_result"
    }
   ],
   "source": [
    "tokenizer.batch_decode(outputs, skip_special_tokens=True)"
   ]
  },
  {
   "cell_type": "code",
   "execution_count": 15,
   "metadata": {},
   "outputs": [
    {
     "data": {
      "text/plain": [
       "tensor([[  779,   393,   328,  ...,    32,    40, 29815]], device='cuda:0')"
      ]
     },
     "execution_count": 15,
     "metadata": {},
     "output_type": "execute_result"
    }
   ],
   "source": [
    "outputs[\"scores\"][0].argsort()"
   ]
  },
  {
   "cell_type": "code",
   "execution_count": 18,
   "metadata": {},
   "outputs": [
    {
     "data": {
      "text/plain": [
       "{'input_ids': [198, 33], 'attention_mask': [1, 1]}"
      ]
     },
     "execution_count": 18,
     "metadata": {},
     "output_type": "execute_result"
    }
   ],
   "source": [
    "tokenizer(\"\\nB\")"
   ]
  },
  {
   "cell_type": "code",
   "execution_count": 19,
   "metadata": {},
   "outputs": [
    {
     "data": {
      "text/plain": [
       "{'input_ids': [198, 32], 'attention_mask': [1, 1]}"
      ]
     },
     "execution_count": 19,
     "metadata": {},
     "output_type": "execute_result"
    }
   ],
   "source": [
    "tokenizer(\"\\nA\")"
   ]
  },
  {
   "cell_type": "code",
   "execution_count": 6,
   "metadata": {},
   "outputs": [
    {
     "data": {
      "text/plain": [
       "tensor([21.1562, 15.7109], device='cuda:0')"
      ]
     },
     "execution_count": 6,
     "metadata": {},
     "output_type": "execute_result"
    }
   ],
   "source": [
    "outputs[\"scores\"][0][0, [32, 33]]"
   ]
  },
  {
   "cell_type": "code",
   "execution_count": 9,
   "metadata": {},
   "outputs": [
    {
     "name": "stderr",
     "output_type": "stream",
     "text": [
      "The attention mask and the pad token id were not set. As a consequence, you may observe unexpected behavior. Please pass your input's `attention_mask` to obtain reliable results.\n",
      "Setting `pad_token_id` to `eos_token_id`:128001 for open-end generation.\n"
     ]
    },
    {
     "data": {
      "text/plain": [
       "['system\\n\\nYou are an expert at finding identification numbers.user\\n\\nText:\\nTechnical and Artistic Theatre and Performing Art division\\n\\nZ.S. 30407059\\n\\nChallenge\\n\\nWorking in the Technical and Artistic \\n     \\n     \\nIn the above text, list all identification numbers and phone numbers.assistant\\n\\nBased on the provided text, I found one identification number:\\n\\n* Z.S. 30407059']"
      ]
     },
     "execution_count": 9,
     "metadata": {},
     "output_type": "execute_result"
    }
   ],
   "source": [
    "messages = [\n",
    "    {\"role\": \"system\", \"content\": \"You are an expert at finding identification numbers.\"},\n",
    "    {\"role\": \"user\", \"content\": \"\"\"Text:\\nTechnical and Artistic Theatre and Performing Art division\n",
    "\n",
    "Z.S. 30407059\n",
    "\n",
    "Challenge\n",
    "\n",
    "Working in the Technical and Artistic \n",
    "     \n",
    "     \n",
    "In the above text, list all identification numbers and phone numbers.\n",
    "\"\"\"}\n",
    "]\n",
    "\n",
    "input_ids = tokenizer.apply_chat_template(\n",
    "    messages,\n",
    "    add_generation_prompt=True,\n",
    "    return_tensors=\"pt\"\n",
    ").to(model.device)\n",
    "\n",
    "outputs = model.generate(\n",
    "    input_ids,\n",
    "    max_new_tokens=20,\n",
    "    eos_token_id=terminators,\n",
    "    do_sample=False,\n",
    ")\n",
    "\n",
    "tokenizer.batch_decode(outputs, skip_special_tokens=True)"
   ]
  },
  {
   "cell_type": "code",
   "execution_count": 6,
   "metadata": {},
   "outputs": [
    {
     "name": "stderr",
     "output_type": "stream",
     "text": [
      "The attention mask and the pad token id were not set. As a consequence, you may observe unexpected behavior. Please pass your input's `attention_mask` to obtain reliable results.\n",
      "Setting `pad_token_id` to `eos_token_id`:128001 for open-end generation.\n"
     ]
    },
    {
     "data": {
      "text/plain": [
       "['system\\n\\nYou are an expert at finding human person names.user\\n\\nReflection – Visualization   Deiby\\n\\nChallenge    For some time I frequented a public gym and showered there before my work day.  Although the  showers may have been cleaned daily, they were not cleaned between each use - sometimes  the floor was, well “icky” and traditional flip-flops just didn’t cut it.  I searched and searched, for  an existing product that would provide the protection I needed, without any success.  I then  realized a need for a solution for increased sanitation when using any facility that has communal  showers - gyms, dorms, camps, athletic training facilities, etc.\\n\\nIn the above text, is `Deiby` a human person name? Yes or No?assistant\\n\\nYes.']"
      ]
     },
     "execution_count": 6,
     "metadata": {},
     "output_type": "execute_result"
    }
   ],
   "source": [
    "text = \"\"\"Reflection – Visualization   Deiby\\n\\nChallenge    For some time I frequented a public gym and showered there before my work day.  Although the  showers may have been cleaned daily, they were not cleaned between each use - sometimes  the floor was, well “icky” and traditional flip-flops just didn’t cut it.  I searched and searched, for  an existing product that would provide the protection I needed, without any success.  I then  realized a need for a solution for increased sanitation when using any facility that has communal  showers - gyms, dorms, camps, athletic training facilities, etc.\"\"\"\n",
    "\n",
    "messages = [\n",
    "    {\"role\": \"system\", \"content\": \"You are an expert at finding human person names.\"},\n",
    "    {\"role\": \"user\", \"content\": text + \"\\n\\nIn the above text, is `Deiby` a human person name? Yes or No?\"}\n",
    "]\n",
    "\n",
    "input_ids = tokenizer.apply_chat_template(\n",
    "    messages,\n",
    "    add_generation_prompt=True,\n",
    "    return_tensors=\"pt\"\n",
    ").to(model.device)\n",
    "\n",
    "outputs = model.generate(\n",
    "    input_ids,\n",
    "    max_new_tokens=20,\n",
    "    eos_token_id=terminators,\n",
    "    do_sample=False,\n",
    ")\n",
    "\n",
    "tokenizer.batch_decode(outputs, skip_special_tokens=True)"
   ]
  },
  {
   "cell_type": "code",
   "execution_count": 8,
   "metadata": {},
   "outputs": [
    {
     "name": "stderr",
     "output_type": "stream",
     "text": [
      "The attention mask and the pad token id were not set. As a consequence, you may observe unexpected behavior. Please pass your input's `attention_mask` to obtain reliable results.\n",
      "Setting `pad_token_id` to `eos_token_id`:128001 for open-end generation.\n"
     ]
    },
    {
     "data": {
      "text/plain": [
       "['system\\n\\nYou are an expert at finding human person names.user\\n\\nName: Bk Bk  Roll No: 172801513686\\n\\n1 | P a g e\\n\\nSTORY TELLING\\n\\nNow-a-days the usage of technology is at the next level. All of  us are very much interested in using the present technology  and making their work easy and perfectly. The usage of  technology has many advantages and disadvantages based on  our usage it is helpful.\\n\\nIn present days the people in our society are very busy through  their daily works and forget their things and security of others,  even I forget many things which are not visible at the right time.  Now coming to the security now-a-days there is more of  increasing of women trafficking and rapes and kidnapping and  hence blackmailing their parents for money and other issues.\\n\\nSo to get a solution for this, I had introduced a GPS TRAKIN  app which is connected to different gadgets that work for all  users, like the things which are stolen and also forgotten; it is  used to locate your pets nearby, and in farming, security, track  you family and friends location.\\n\\nName: Bk Bk  Roll No: 172801513686\\n\\n2 | P a g e\\n\\nUser\\n\\nQueries\\n\\nMeaning\\n\\nConclusion\\n\\nSama    208798413907\\n\\nWhy did you  come up with  this idea?\\n\\nTo introduce  the type of  technology  which can be  used in our  daily-to-daily  life.\\n\\nTo make the  awareness and  maintain their  personal security  and to locate their  forgotten things  and pets.\\n\\nMd    347376430553\\n\\nHow this is  used in  farming?\\n\\nFarmers can  put the GPS  receivers on  their tractors  and other  framing  equipment.  This allows  them to map  their  plantations  and return to  same time.\\n\\nHence it is  suitable for use in  mapping soil  sample locations,  and the farmer  can locate the  areas that have  soil suitable for  framing.\\n\\nGiuseppe    943995368223\\n\\nAre these  gadgets are  affordable?\\n\\nYes, it is  affordable for  all people and  depends upon  their usage.\\n\\nHence the app  interface is also  so simple and  can  understandable  for uneducated  people also.\\n\\nIn the above text, list all human person names.assistant\\n\\nHere are the human person names mentioned in the text:\\n\\n1. Bk Bk\\n2. Sama\\n3. Md\\n4. Giuseppe']"
      ]
     },
     "execution_count": 8,
     "metadata": {},
     "output_type": "execute_result"
    }
   ],
   "source": [
    "text = \"\"\"\n",
    "Name: Bk Bk  Roll No: 172801513686\n",
    "\n",
    "1 | P a g e\n",
    "\n",
    "STORY TELLING\n",
    "\n",
    "Now-a-days the usage of technology is at the next level. All of  us are very much interested in using the present technology  and making their work easy and perfectly. The usage of  technology has many advantages and disadvantages based on  our usage it is helpful.\n",
    "\n",
    "In present days the people in our society are very busy through  their daily works and forget their things and security of others,  even I forget many things which are not visible at the right time.  Now coming to the security now-a-days there is more of  increasing of women trafficking and rapes and kidnapping and  hence blackmailing their parents for money and other issues.\n",
    "\n",
    "So to get a solution for this, I had introduced a GPS TRAKIN  app which is connected to different gadgets that work for all  users, like the things which are stolen and also forgotten; it is  used to locate your pets nearby, and in farming, security, track  you family and friends location.\n",
    "\n",
    "Name: Bk Bk  Roll No: 172801513686\n",
    "\n",
    "2 | P a g e\n",
    "\n",
    "User\n",
    "\n",
    "Queries\n",
    "\n",
    "Meaning\n",
    "\n",
    "Conclusion\n",
    "\n",
    "Sama    208798413907\n",
    "\n",
    "Why did you  come up with  this idea?\n",
    "\n",
    "To introduce  the type of  technology  which can be  used in our  daily-to-daily  life.\n",
    "\n",
    "To make the  awareness and  maintain their  personal security  and to locate their  forgotten things  and pets.\n",
    "\n",
    "Md    347376430553\n",
    "\n",
    "How this is  used in  farming?\n",
    "\n",
    "Farmers can  put the GPS  receivers on  their tractors  and other  framing  equipment.  This allows  them to map  their  plantations  and return to  same time.\n",
    "\n",
    "Hence it is  suitable for use in  mapping soil  sample locations,  and the farmer  can locate the  areas that have  soil suitable for  framing.\n",
    "\n",
    "Giuseppe    943995368223\n",
    "\n",
    "Are these  gadgets are  affordable?\n",
    "\n",
    "Yes, it is  affordable for  all people and  depends upon  their usage.\n",
    "\n",
    "Hence the app  interface is also  so simple and  can  understandable  for uneducated  people also.\"\"\"\n",
    "\n",
    "messages = [\n",
    "    {\"role\": \"system\", \"content\": \"You are an expert at finding human person names.\"},\n",
    "    {\"role\": \"user\", \"content\": text + \"\\n\\nIn the above text, list all human person names.\"}\n",
    "]\n",
    "\n",
    "input_ids = tokenizer.apply_chat_template(\n",
    "    messages,\n",
    "    add_generation_prompt=True,\n",
    "    return_tensors=\"pt\"\n",
    ").to(model.device)\n",
    "\n",
    "outputs = model.generate(\n",
    "    input_ids,\n",
    "    max_new_tokens=100,\n",
    "    eos_token_id=terminators,\n",
    "    do_sample=False,\n",
    ")\n",
    "\n",
    "tokenizer.batch_decode(outputs, skip_special_tokens=True)"
   ]
  },
  {
   "cell_type": "code",
   "execution_count": 9,
   "metadata": {},
   "outputs": [
    {
     "name": "stderr",
     "output_type": "stream",
     "text": [
      "The attention mask and the pad token id were not set. As a consequence, you may observe unexpected behavior. Please pass your input's `attention_mask` to obtain reliable results.\n",
      "Setting `pad_token_id` to `eos_token_id`:128001 for open-end generation.\n"
     ]
    },
    {
     "data": {
      "text/plain": [
       "['user\\n\\nName: Bk Bk  Roll No: 172801513686\\n\\n1 | P a g e\\n\\nSTORY TELLING\\n\\nNow-a-days the usage of technology is at the next level. All of  us are very much interested in using the present technology  and making their work easy and perfectly. The usage of  technology has many advantages and disadvantages based on  our usage it is helpful.\\n\\nIn present days the people in our society are very busy through  their daily works and forget their things and security of others,  even I forget many things which are not visible at the right time.  Now coming to the security now-a-days there is more of  increasing of women trafficking and rapes and kidnapping and  hence blackmailing their parents for money and other issues.\\n\\nSo to get a solution for this, I had introduced a GPS TRAKIN  app which is connected to different gadgets that work for all  users, like the things which are stolen and also forgotten; it is  used to locate your pets nearby, and in farming, security, track  you family and friends location.\\n\\nName: Bk Bk  Roll No: 172801513686\\n\\n2 | P a g e\\n\\nUser\\n\\nQueries\\n\\nMeaning\\n\\nConclusion\\n\\nSama    208798413907\\n\\nWhy did you  come up with  this idea?\\n\\nTo introduce  the type of  technology  which can be  used in our  daily-to-daily  life.\\n\\nTo make the  awareness and  maintain their  personal security  and to locate their  forgotten things  and pets.\\n\\nMd    347376430553\\n\\nHow this is  used in  farming?\\n\\nFarmers can  put the GPS  receivers on  their tractors  and other  framing  equipment.  This allows  them to map  their  plantations  and return to  same time.\\n\\nHence it is  suitable for use in  mapping soil  sample locations,  and the farmer  can locate the  areas that have  soil suitable for  framing.\\n\\nGiuseppe    943995368223\\n\\nAre these  gadgets are  affordable?\\n\\nYes, it is  affordable for  all people and  depends upon  their usage.\\n\\nHence the app  interface is also  so simple and  can  understandable  for uneducated  people also.\\n\\nIn the above text, list all identification numbers.assistant\\n\\nHere are the identification numbers mentioned in the text:\\n\\n1. Roll No: 172801513686 (mentioned twice)\\n2. Sama: 208798413907\\n3. Md: 347376430553\\n4. Giuseppe: 943995368223']"
      ]
     },
     "execution_count": 9,
     "metadata": {},
     "output_type": "execute_result"
    }
   ],
   "source": [
    "messages = [\n",
    "    # {\"role\": \"system\", \"content\": \"You are an expert at finding human person names.\"},\n",
    "    {\"role\": \"user\", \"content\": text + \"\\n\\nIn the above text, list all identification numbers.\"}\n",
    "]\n",
    "\n",
    "input_ids = tokenizer.apply_chat_template(\n",
    "    messages,\n",
    "    add_generation_prompt=True,\n",
    "    return_tensors=\"pt\"\n",
    ").to(model.device)\n",
    "\n",
    "outputs = model.generate(\n",
    "    input_ids,\n",
    "    max_new_tokens=100,\n",
    "    eos_token_id=terminators,\n",
    "    do_sample=False,\n",
    ")\n",
    "\n",
    "tokenizer.batch_decode(outputs, skip_special_tokens=True)"
   ]
  },
  {
   "cell_type": "code",
   "execution_count": 10,
   "metadata": {},
   "outputs": [
    {
     "name": "stderr",
     "output_type": "stream",
     "text": [
      "The attention mask and the pad token id were not set. As a consequence, you may observe unexpected behavior. Please pass your input's `attention_mask` to obtain reliable results.\n",
      "Setting `pad_token_id` to `eos_token_id`:128001 for open-end generation.\n"
     ]
    },
    {
     "data": {
      "text/plain": [
       "['system\\n\\nYou are an expert at finding human person names.user\\n\\nReflection paper of Art Street – Mind Mapping\\n\\nChallenge    I’m a 5th year Electronics Engineering student in school, a youth leader to our home parish which is\\n\\nSt. Rose of Lima Parish at Teresa, Rizal, and I can say that I’m a friendly person, because I have lots of  friends. In studying my lectures, doing my projects, guiding youth, and becoming a friend and big brother to  my siblings which requires so many attention, and decisions to make. In line with this, I encounter many  problems and challenges regarding decision making and thinking about the best idea that I could think of. In  my journey to become an Engineer, I find it hard to think of the best idea. I have lots of group work, laboratory  activities, and projects that need to be done by team, and most of the time, because we have different minds  and different thinking, we can’t agree on the best idea that we can have. In my experience as a youth leader,  as an individual, I must touch every life of each youth that I’m handling and inspire them to do more, and to  become better in life. As I coach them or give them advice, my always question in myself is that “How I can  do it in different but effective way?”, and “Does my advice help them to be motivated?” And the hardest role  that I can be is to be a friend to others, and to be the big brother to my siblings. It is because every detail that  I will tell to them, every story that I will share, and every idea that I will feed to them, is must be accurate,  real, and which can boost their courage to step forward in life. Because every word I say, it can affect the  path of life that will be taking.    Selection    As what I’ve learn, mind mapping is a tool that you will think of a subject and its idea and sub-idea. I\\n\\n\\nIn the above text, list all person names.assistant\\n\\nBased on the text, the person names mentioned are:\\n\\n1. Rose of Lima']"
      ]
     },
     "execution_count": 10,
     "metadata": {},
     "output_type": "execute_result"
    }
   ],
   "source": [
    "text = \"\"\"Reflection paper of Art Street – Mind Mapping\n",
    "\n",
    "Challenge    I’m a 5th year Electronics Engineering student in school, a youth leader to our home parish which is\n",
    "\n",
    "St. Rose of Lima Parish at Teresa, Rizal, and I can say that I’m a friendly person, because I have lots of  friends. In studying my lectures, doing my projects, guiding youth, and becoming a friend and big brother to  my siblings which requires so many attention, and decisions to make. In line with this, I encounter many  problems and challenges regarding decision making and thinking about the best idea that I could think of. In  my journey to become an Engineer, I find it hard to think of the best idea. I have lots of group work, laboratory  activities, and projects that need to be done by team, and most of the time, because we have different minds  and different thinking, we can’t agree on the best idea that we can have. In my experience as a youth leader,  as an individual, I must touch every life of each youth that I’m handling and inspire them to do more, and to  become better in life. As I coach them or give them advice, my always question in myself is that “How I can  do it in different but effective way?”, and “Does my advice help them to be motivated?” And the hardest role  that I can be is to be a friend to others, and to be the big brother to my siblings. It is because every detail that  I will tell to them, every story that I will share, and every idea that I will feed to them, is must be accurate,  real, and which can boost their courage to step forward in life. Because every word I say, it can affect the  path of life that will be taking.    Selection    As what I’ve learn, mind mapping is a tool that you will think of a subject and its idea and sub-idea. I\n",
    "\"\"\"\n",
    "\n",
    "messages = [\n",
    "    {\"role\": \"system\", \"content\": \"You are an expert at finding human person names.\"},\n",
    "    {\"role\": \"user\", \"content\": text + \"\\n\\nIn the above text, list all person names.\"}\n",
    "]\n",
    "\n",
    "input_ids = tokenizer.apply_chat_template(\n",
    "    messages,\n",
    "    add_generation_prompt=True,\n",
    "    return_tensors=\"pt\"\n",
    ").to(model.device)\n",
    "\n",
    "outputs = model.generate(\n",
    "    input_ids,\n",
    "    max_new_tokens=100,\n",
    "    eos_token_id=terminators,\n",
    "    do_sample=False,\n",
    ")\n",
    "\n",
    "tokenizer.batch_decode(outputs, skip_special_tokens=True)"
   ]
  },
  {
   "cell_type": "code",
   "execution_count": 11,
   "metadata": {},
   "outputs": [
    {
     "name": "stderr",
     "output_type": "stream",
     "text": [
      "The attention mask and the pad token id were not set. As a consequence, you may observe unexpected behavior. Please pass your input's `attention_mask` to obtain reliable results.\n",
      "Setting `pad_token_id` to `eos_token_id`:128001 for open-end generation.\n"
     ]
    },
    {
     "data": {
      "text/plain": [
       "['system\\n\\nYou are an expert at finding human person names.user\\n\\nReflection paper of Art Street – Mind Mapping\\n\\nChallenge    I’m a 5th year Electronics Engineering student in school, a youth leader to our home parish which is\\n\\nSt. Rose of Lima Parish at Teresa, Rizal, and I can say that I’m a friendly person, because I have lots of  friends. In studying my lectures, doing my projects, guiding youth, and becoming a friend and big brother to  my siblings which requires so many attention, and decisions to make. In line with this, I encounter many  problems and challenges regarding decision making and thinking about the best idea that I could think of. In  my journey to become an Engineer, I find it hard to think of the best idea. I have lots of group work, laboratory  activities, and projects that need to be done by team, and most of the time, because we have different minds  and different thinking, we can’t agree on the best idea that we can have. In my experience as a youth leader,  as an individual, I must touch every life of each youth that I’m handling and inspire them to do more, and to  become better in life. As I coach them or give them advice, my always question in myself is that “How I can  do it in different but effective way?”, and “Does my advice help them to be motivated?” And the hardest role  that I can be is to be a friend to others, and to be the big brother to my siblings. It is because every detail that  I will tell to them, every story that I will share, and every idea that I will feed to them, is must be accurate,  real, and which can boost their courage to step forward in life. Because every word I say, it can affect the  path of life that will be taking.    Selection    As what I’ve learn, mind mapping is a tool that you will think of a subject and its idea and sub-idea. I\\n\\n\\nIn the above text is `Art Street` a person name?assistant\\n\\nNo, \"Art Street\" is not a person name. It appears to be a title or a name for a project or a concept, rather than a human person name.']"
      ]
     },
     "execution_count": 11,
     "metadata": {},
     "output_type": "execute_result"
    }
   ],
   "source": [
    "text = \"\"\"Reflection paper of Art Street – Mind Mapping\n",
    "\n",
    "Challenge    I’m a 5th year Electronics Engineering student in school, a youth leader to our home parish which is\n",
    "\n",
    "St. Rose of Lima Parish at Teresa, Rizal, and I can say that I’m a friendly person, because I have lots of  friends. In studying my lectures, doing my projects, guiding youth, and becoming a friend and big brother to  my siblings which requires so many attention, and decisions to make. In line with this, I encounter many  problems and challenges regarding decision making and thinking about the best idea that I could think of. In  my journey to become an Engineer, I find it hard to think of the best idea. I have lots of group work, laboratory  activities, and projects that need to be done by team, and most of the time, because we have different minds  and different thinking, we can’t agree on the best idea that we can have. In my experience as a youth leader,  as an individual, I must touch every life of each youth that I’m handling and inspire them to do more, and to  become better in life. As I coach them or give them advice, my always question in myself is that “How I can  do it in different but effective way?”, and “Does my advice help them to be motivated?” And the hardest role  that I can be is to be a friend to others, and to be the big brother to my siblings. It is because every detail that  I will tell to them, every story that I will share, and every idea that I will feed to them, is must be accurate,  real, and which can boost their courage to step forward in life. Because every word I say, it can affect the  path of life that will be taking.    Selection    As what I’ve learn, mind mapping is a tool that you will think of a subject and its idea and sub-idea. I\n",
    "\"\"\"\n",
    "\n",
    "messages = [\n",
    "    {\"role\": \"system\", \"content\": \"You are an expert at finding human person names.\"},\n",
    "    {\"role\": \"user\", \"content\": text + \"\\n\\nIn the above text is `Art Street` a person name?\"}\n",
    "]\n",
    "\n",
    "input_ids = tokenizer.apply_chat_template(\n",
    "    messages,\n",
    "    add_generation_prompt=True,\n",
    "    return_tensors=\"pt\"\n",
    ").to(model.device)\n",
    "\n",
    "outputs = model.generate(\n",
    "    input_ids,\n",
    "    max_new_tokens=100,\n",
    "    eos_token_id=terminators,\n",
    "    do_sample=False,\n",
    ")\n",
    "\n",
    "tokenizer.batch_decode(outputs, skip_special_tokens=True)"
   ]
  }
 ],
 "metadata": {
  "kernelspec": {
   "display_name": "base",
   "language": "python",
   "name": "python3"
  },
  "language_info": {
   "codemirror_mode": {
    "name": "ipython",
    "version": 3
   },
   "file_extension": ".py",
   "mimetype": "text/x-python",
   "name": "python",
   "nbconvert_exporter": "python",
   "pygments_lexer": "ipython3",
   "version": "3.10.10"
  }
 },
 "nbformat": 4,
 "nbformat_minor": 2
}
