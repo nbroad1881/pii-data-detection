{
 "cells": [
  {
   "cell_type": "markdown",
   "metadata": {},
   "source": [
    "The purpose of this notebook is to generate short passages that contain names in context. This will be used to train an NER model that can identify names."
   ]
  },
  {
   "cell_type": "code",
   "execution_count": 1,
   "metadata": {},
   "outputs": [],
   "source": [
    "import pandas as pd\n",
    "import os\n",
    "import string\n",
    "import random\n",
    "import json\n",
    "\n",
    "\n",
    "from huggingface_hub import InferenceClient\n",
    "from dotenv import load_dotenv\n",
    "from datasets import Dataset\n",
    "\n",
    "load_dotenv(\"../../.env\")\n",
    "\n",
    "client = InferenceClient(token=os.environ[\"HF_TOKEN\"])"
   ]
  },
  {
   "cell_type": "code",
   "execution_count": 2,
   "metadata": {},
   "outputs": [],
   "source": [
    "settings = [\n",
    "    \"family event\",\n",
    "    \"wedding\",\n",
    "    \"reunion\",\n",
    "    \"birthday\",\n",
    "    \"holiday\",\n",
    "    \"workplace scenario\",\n",
    "    \"office meeting\",\n",
    "    \"conference\",\n",
    "    \"team event\",\n",
    "    \"educational setting\",\n",
    "    \"classroom\",\n",
    "    \"lecture\",\n",
    "    \"graduation\",\n",
    "    \"social gathering\",\n",
    "    \"party\",\n",
    "    \"community event\",\n",
    "    \"club meeting\",\n",
    "    \"travel scenario\",\n",
    "    \"tour\",\n",
    "    \"cruise\",\n",
    "    \"group trip\"\n",
    "]\n",
    "\n",
    "age_groups = [\n",
    "    \"children\",\n",
    "    \"teenagers\",\n",
    "    \"adults\",\n",
    "    \"elders\",\n",
    "    \"young adults\",\n",
    "    \"middle-aged adults\",\n",
    "]\n",
    "\n",
    "professions = [\n",
    "    \"teacher\",\n",
    "    \"doctor\",\n",
    "    \"engineer\",\n",
    "    \"artist\",\n",
    "]\n",
    "\n",
    "relationships = [\n",
    "    \"familial\",\n",
    "    \"romantic\",\n",
    "    \"professional\",\n",
    "    \"sibling\",\n",
    "    \"cousin\",\n",
    "    \"grandparent\",\n",
    "    \"colleague\",\n",
    "    \"boss\",\n",
    "    \"employee\",\n",
    "    \"friend\",\n",
    "    \"acquaintance\",\n",
    "    \"club member\",\n",
    "    \"teammate\",\n",
    "]"
   ]
  },
  {
   "cell_type": "code",
   "execution_count": 3,
   "metadata": {},
   "outputs": [],
   "source": [
    "prompt = \"\"\"\n",
    "Write 1 paragraph about 3-5 people at a family event. \n",
    "There are children and parents. \n",
    "Mention the following names multiple times: Sandra, Achraf, Dayo, and Maria. \n",
    "\n",
    "Do not include a preamble.\n",
    "\n",
    "Paragraph:\n",
    "\n",
    "\"\"\".lstrip()\n",
    "\n",
    "\n",
    "try:\n",
    "    r = client.post(\n",
    "        json={\n",
    "            \"inputs\": prompt,\n",
    "            \"parameters\": {\n",
    "                \"max_new_tokens\": 300,\n",
    "                \"top_k\": 50,\n",
    "                \"temperature\": 1.0,\n",
    "                \"return_full_text\": False,\n",
    "                \"stop\": [\"\\n\\n\"]\n",
    "            },\n",
    "            \"options\": {\"use_cache\": False},\n",
    "        },\n",
    "        model=\"mistralai/Mixtral-8x7B-Instruct-v0.1\",\n",
    "    )\n",
    "\n",
    "    text = json.loads(r.decode())[0][\"generated_text\"]\n",
    "\n",
    "except Exception as e:\n",
    "    print(e)\n",
    "    text = \"<|Error|>\""
   ]
  },
  {
   "cell_type": "code",
   "execution_count": 4,
   "metadata": {},
   "outputs": [
    {
     "data": {
      "text/plain": [
       "\"At the family barbecue, children Achraf and Dayo played around the bouncing castle under the watchful eye of their parents, Sandra and Maria. A friendly game of tug-of-war between the relatives broke out, and Sandra and Achraf teamed up against Maria and Dayo, resulting in much laughter and cheering from everyone around them. The delicious aroma of Maria's famous grilled kebabs filled the air, and soon enough, everyone gathered around the picnic tables to share a meal and reminisce about old times. Despite the occasional sibling rivalry, the love and camaraderie among Sandra, Achraf, Dayo, and Maria were palpable, making the family gathering a memorable one.\""
      ]
     },
     "execution_count": 4,
     "metadata": {},
     "output_type": "execute_result"
    }
   ],
   "source": [
    "text"
   ]
  },
  {
   "cell_type": "code",
   "execution_count": 5,
   "metadata": {},
   "outputs": [],
   "source": [
    "first_names = json.load(open(\"./mixtral_first_names.json\"))\n",
    "last_names = json.load(open(\"./mixtral_last_names.json\"))"
   ]
  },
  {
   "cell_type": "code",
   "execution_count": 6,
   "metadata": {},
   "outputs": [
    {
     "data": {
      "text/plain": [
       "['Wing-Hong', 'Geta', 'Orianne', 'Sharofat', 'Dcamot']"
      ]
     },
     "execution_count": 6,
     "metadata": {},
     "output_type": "execute_result"
    }
   ],
   "source": [
    "import random\n",
    "\n",
    "random.sample(first_names, 5)"
   ]
  },
  {
   "cell_type": "code",
   "execution_count": 7,
   "metadata": {},
   "outputs": [],
   "source": [
    "template = \"\"\"\n",
    "Write 1 paragraph about people in a random setting and occasion. \n",
    "There are people of all ages.\n",
    "Mention the following person names multiple times: {names}.\n",
    "Mention a city name and a name of a company or organization.\n",
    "Do not make the person names part of the city, company, or organization names.\n",
    "\n",
    "Do not include a preamble.\n",
    "\n",
    "Paragraph:\n",
    "\n",
    "\"\"\".lstrip()\n",
    "\n",
    "def call_api(example):\n",
    "\n",
    "    try:\n",
    "        r = client.post(\n",
    "            json={\n",
    "                \"inputs\": template.format(\n",
    "                    # setting=example[\"setting\"],\n",
    "                    # age_group=example[\"age_group\"],\n",
    "                    names=\", \".join(example[\"names\"]),\n",
    "                \n",
    "                ),\n",
    "                \"parameters\": {\n",
    "                    \"max_new_tokens\": 300,\n",
    "                    \"top_k\": 50,\n",
    "                    \"temperature\": 1.0,\n",
    "                    \"return_full_text\": False,\n",
    "                    \"stop\": [\"\\n\\n\"]\n",
    "                },\n",
    "                \"options\": {\"use_cache\": False},\n",
    "            },\n",
    "            model=\"mistralai/Mixtral-8x7B-Instruct-v0.1\",\n",
    "        )\n",
    "\n",
    "        text = json.loads(r.decode())[0][\"generated_text\"]\n",
    "\n",
    "    except Exception as e:\n",
    "        print(e)\n",
    "        text = \"<|Error|>\"\n",
    "\n",
    "    return {\n",
    "        \"text\": text\n",
    "    }"
   ]
  },
  {
   "cell_type": "code",
   "execution_count": 8,
   "metadata": {},
   "outputs": [
    {
     "data": {
      "application/vnd.jupyter.widget-view+json": {
       "model_id": "d2d25a4d4fe9409ab5a7f5cdde9c98fb",
       "version_major": 2,
       "version_minor": 0
      },
      "text/plain": [
       "Map (num_proc=8):   0%|          | 0/100 [00:00<?, ? examples/s]"
      ]
     },
     "metadata": {},
     "output_type": "display_data"
    },
    {
     "data": {
      "application/vnd.jupyter.widget-view+json": {
       "model_id": "3a62571eb7af48168c1f715b41550005",
       "version_major": 2,
       "version_minor": 0
      },
      "text/plain": [
       "Creating parquet from Arrow format:   0%|          | 0/1 [00:00<?, ?ba/s]"
      ]
     },
     "metadata": {},
     "output_type": "display_data"
    },
    {
     "data": {
      "application/vnd.jupyter.widget-view+json": {
       "model_id": "d5e08d1f245843e884a0c8264782a8ed",
       "version_major": 2,
       "version_minor": 0
      },
      "text/plain": [
       "Map (num_proc=8):   0%|          | 0/100 [00:00<?, ? examples/s]"
      ]
     },
     "metadata": {},
     "output_type": "display_data"
    },
    {
     "data": {
      "application/vnd.jupyter.widget-view+json": {
       "model_id": "d91b58e5f0a5482d8cd87b472ccb3084",
       "version_major": 2,
       "version_minor": 0
      },
      "text/plain": [
       "Creating parquet from Arrow format:   0%|          | 0/1 [00:00<?, ?ba/s]"
      ]
     },
     "metadata": {},
     "output_type": "display_data"
    },
    {
     "data": {
      "application/vnd.jupyter.widget-view+json": {
       "model_id": "5b5688268f1e49e49a893cf2749b6355",
       "version_major": 2,
       "version_minor": 0
      },
      "text/plain": [
       "Map (num_proc=8):   0%|          | 0/100 [00:00<?, ? examples/s]"
      ]
     },
     "metadata": {},
     "output_type": "display_data"
    },
    {
     "data": {
      "application/vnd.jupyter.widget-view+json": {
       "model_id": "25e8b79885f143dcadc936f129e5eb65",
       "version_major": 2,
       "version_minor": 0
      },
      "text/plain": [
       "Creating parquet from Arrow format:   0%|          | 0/1 [00:00<?, ?ba/s]"
      ]
     },
     "metadata": {},
     "output_type": "display_data"
    },
    {
     "data": {
      "application/vnd.jupyter.widget-view+json": {
       "model_id": "04700a6179654663ae75c3f135da1153",
       "version_major": 2,
       "version_minor": 0
      },
      "text/plain": [
       "Map (num_proc=8):   0%|          | 0/100 [00:00<?, ? examples/s]"
      ]
     },
     "metadata": {},
     "output_type": "display_data"
    },
    {
     "data": {
      "application/vnd.jupyter.widget-view+json": {
       "model_id": "ae149d5cc7f74df8bc81e9968c556e0a",
       "version_major": 2,
       "version_minor": 0
      },
      "text/plain": [
       "Creating parquet from Arrow format:   0%|          | 0/1 [00:00<?, ?ba/s]"
      ]
     },
     "metadata": {},
     "output_type": "display_data"
    },
    {
     "data": {
      "application/vnd.jupyter.widget-view+json": {
       "model_id": "372b076fb28e462a8285eb3d8779b04c",
       "version_major": 2,
       "version_minor": 0
      },
      "text/plain": [
       "Map (num_proc=8):   0%|          | 0/100 [00:00<?, ? examples/s]"
      ]
     },
     "metadata": {},
     "output_type": "display_data"
    },
    {
     "ename": "TimeoutError",
     "evalue": "",
     "output_type": "error",
     "traceback": [
      "\u001b[0;31m---------------------------------------------------------------------------\u001b[0m",
      "\u001b[0;31mKeyboardInterrupt\u001b[0m                         Traceback (most recent call last)",
      "File \u001b[0;32m~/miniconda3/lib/python3.10/site-packages/datasets/utils/py_utils.py:640\u001b[0m, in \u001b[0;36miflatmap_unordered\u001b[0;34m(pool, func, kwargs_iterable)\u001b[0m\n\u001b[1;32m    639\u001b[0m \u001b[38;5;28;01mtry\u001b[39;00m:\n\u001b[0;32m--> 640\u001b[0m     \u001b[38;5;28;01myield\u001b[39;00m \u001b[43mqueue\u001b[49m\u001b[38;5;241;43m.\u001b[39;49m\u001b[43mget\u001b[49m\u001b[43m(\u001b[49m\u001b[43mtimeout\u001b[49m\u001b[38;5;241;43m=\u001b[39;49m\u001b[38;5;241;43m0.05\u001b[39;49m\u001b[43m)\u001b[49m\n\u001b[1;32m    641\u001b[0m \u001b[38;5;28;01mexcept\u001b[39;00m Empty:\n",
      "File \u001b[0;32m<string>:2\u001b[0m, in \u001b[0;36mget\u001b[0;34m(self, *args, **kwds)\u001b[0m\n",
      "File \u001b[0;32m~/miniconda3/lib/python3.10/site-packages/multiprocess/managers.py:818\u001b[0m, in \u001b[0;36mBaseProxy._callmethod\u001b[0;34m(self, methodname, args, kwds)\u001b[0m\n\u001b[1;32m    817\u001b[0m conn\u001b[38;5;241m.\u001b[39msend((\u001b[38;5;28mself\u001b[39m\u001b[38;5;241m.\u001b[39m_id, methodname, args, kwds))\n\u001b[0;32m--> 818\u001b[0m kind, result \u001b[38;5;241m=\u001b[39m \u001b[43mconn\u001b[49m\u001b[38;5;241;43m.\u001b[39;49m\u001b[43mrecv\u001b[49m\u001b[43m(\u001b[49m\u001b[43m)\u001b[49m\n\u001b[1;32m    820\u001b[0m \u001b[38;5;28;01mif\u001b[39;00m kind \u001b[38;5;241m==\u001b[39m \u001b[38;5;124m'\u001b[39m\u001b[38;5;124m#RETURN\u001b[39m\u001b[38;5;124m'\u001b[39m:\n",
      "File \u001b[0;32m~/miniconda3/lib/python3.10/site-packages/multiprocess/connection.py:258\u001b[0m, in \u001b[0;36m_ConnectionBase.recv\u001b[0;34m(self)\u001b[0m\n\u001b[1;32m    257\u001b[0m \u001b[38;5;28mself\u001b[39m\u001b[38;5;241m.\u001b[39m_check_readable()\n\u001b[0;32m--> 258\u001b[0m buf \u001b[38;5;241m=\u001b[39m \u001b[38;5;28;43mself\u001b[39;49m\u001b[38;5;241;43m.\u001b[39;49m\u001b[43m_recv_bytes\u001b[49m\u001b[43m(\u001b[49m\u001b[43m)\u001b[49m\n\u001b[1;32m    259\u001b[0m \u001b[38;5;28;01mreturn\u001b[39;00m _ForkingPickler\u001b[38;5;241m.\u001b[39mloads(buf\u001b[38;5;241m.\u001b[39mgetbuffer())\n",
      "File \u001b[0;32m~/miniconda3/lib/python3.10/site-packages/multiprocess/connection.py:422\u001b[0m, in \u001b[0;36mConnection._recv_bytes\u001b[0;34m(self, maxsize)\u001b[0m\n\u001b[1;32m    421\u001b[0m \u001b[38;5;28;01mdef\u001b[39;00m \u001b[38;5;21m_recv_bytes\u001b[39m(\u001b[38;5;28mself\u001b[39m, maxsize\u001b[38;5;241m=\u001b[39m\u001b[38;5;28;01mNone\u001b[39;00m):\n\u001b[0;32m--> 422\u001b[0m     buf \u001b[38;5;241m=\u001b[39m \u001b[38;5;28;43mself\u001b[39;49m\u001b[38;5;241;43m.\u001b[39;49m\u001b[43m_recv\u001b[49m\u001b[43m(\u001b[49m\u001b[38;5;241;43m4\u001b[39;49m\u001b[43m)\u001b[49m\n\u001b[1;32m    423\u001b[0m     size, \u001b[38;5;241m=\u001b[39m struct\u001b[38;5;241m.\u001b[39munpack(\u001b[38;5;124m\"\u001b[39m\u001b[38;5;124m!i\u001b[39m\u001b[38;5;124m\"\u001b[39m, buf\u001b[38;5;241m.\u001b[39mgetvalue())\n",
      "File \u001b[0;32m~/miniconda3/lib/python3.10/site-packages/multiprocess/connection.py:387\u001b[0m, in \u001b[0;36mConnection._recv\u001b[0;34m(self, size, read)\u001b[0m\n\u001b[1;32m    386\u001b[0m \u001b[38;5;28;01mwhile\u001b[39;00m remaining \u001b[38;5;241m>\u001b[39m \u001b[38;5;241m0\u001b[39m:\n\u001b[0;32m--> 387\u001b[0m     chunk \u001b[38;5;241m=\u001b[39m \u001b[43mread\u001b[49m\u001b[43m(\u001b[49m\u001b[43mhandle\u001b[49m\u001b[43m,\u001b[49m\u001b[43m \u001b[49m\u001b[43mremaining\u001b[49m\u001b[43m)\u001b[49m\n\u001b[1;32m    388\u001b[0m     n \u001b[38;5;241m=\u001b[39m \u001b[38;5;28mlen\u001b[39m(chunk)\n",
      "\u001b[0;31mKeyboardInterrupt\u001b[0m: ",
      "\nDuring handling of the above exception, another exception occurred:\n",
      "\u001b[0;31mTimeoutError\u001b[0m                              Traceback (most recent call last)",
      "Cell \u001b[0;32mIn[8], line 19\u001b[0m\n\u001b[1;32m     12\u001b[0m \u001b[38;5;28;01mfor\u001b[39;00m i \u001b[38;5;129;01min\u001b[39;00m \u001b[38;5;28mrange\u001b[39m(\u001b[38;5;241m146\u001b[39m, \u001b[38;5;241m200\u001b[39m):\n\u001b[1;32m     14\u001b[0m     ds \u001b[38;5;241m=\u001b[39m Dataset\u001b[38;5;241m.\u001b[39mfrom_dict({\n\u001b[1;32m     15\u001b[0m         \u001b[38;5;124m\"\u001b[39m\u001b[38;5;124mnames\u001b[39m\u001b[38;5;124m\"\u001b[39m: [[random\u001b[38;5;241m.\u001b[39mchoice(first_names) \u001b[38;5;28;01mfor\u001b[39;00m _ \u001b[38;5;129;01min\u001b[39;00m \u001b[38;5;28mrange\u001b[39m(random\u001b[38;5;241m.\u001b[39mchoice([\u001b[38;5;241m3\u001b[39m, \u001b[38;5;241m5\u001b[39m]))] \u001b[38;5;28;01mfor\u001b[39;00m _ \u001b[38;5;129;01min\u001b[39;00m \u001b[38;5;28mrange\u001b[39m(k)]\n\u001b[1;32m     16\u001b[0m     })\n\u001b[0;32m---> 19\u001b[0m     temp \u001b[38;5;241m=\u001b[39m \u001b[43mds\u001b[49m\u001b[38;5;241;43m.\u001b[39;49m\u001b[43mmap\u001b[49m\u001b[43m(\u001b[49m\u001b[43mcall_api\u001b[49m\u001b[43m,\u001b[49m\u001b[43m \u001b[49m\u001b[43mnum_proc\u001b[49m\u001b[38;5;241;43m=\u001b[39;49m\u001b[38;5;241;43m8\u001b[39;49m\u001b[43m)\u001b[49m\n\u001b[1;32m     20\u001b[0m     temp\u001b[38;5;241m.\u001b[39mto_parquet(\u001b[38;5;124mf\u001b[39m\u001b[38;5;124m\"\u001b[39m\u001b[38;5;124mname_paragraphs_\u001b[39m\u001b[38;5;132;01m{\u001b[39;00mi\u001b[38;5;132;01m}\u001b[39;00m\u001b[38;5;124m.pq\u001b[39m\u001b[38;5;124m\"\u001b[39m)\n",
      "File \u001b[0;32m~/miniconda3/lib/python3.10/site-packages/datasets/arrow_dataset.py:592\u001b[0m, in \u001b[0;36mtransmit_tasks.<locals>.wrapper\u001b[0;34m(*args, **kwargs)\u001b[0m\n\u001b[1;32m    590\u001b[0m     \u001b[38;5;28mself\u001b[39m: \u001b[38;5;124m\"\u001b[39m\u001b[38;5;124mDataset\u001b[39m\u001b[38;5;124m\"\u001b[39m \u001b[38;5;241m=\u001b[39m kwargs\u001b[38;5;241m.\u001b[39mpop(\u001b[38;5;124m\"\u001b[39m\u001b[38;5;124mself\u001b[39m\u001b[38;5;124m\"\u001b[39m)\n\u001b[1;32m    591\u001b[0m \u001b[38;5;66;03m# apply actual function\u001b[39;00m\n\u001b[0;32m--> 592\u001b[0m out: Union[\u001b[38;5;124m\"\u001b[39m\u001b[38;5;124mDataset\u001b[39m\u001b[38;5;124m\"\u001b[39m, \u001b[38;5;124m\"\u001b[39m\u001b[38;5;124mDatasetDict\u001b[39m\u001b[38;5;124m\"\u001b[39m] \u001b[38;5;241m=\u001b[39m \u001b[43mfunc\u001b[49m\u001b[43m(\u001b[49m\u001b[38;5;28;43mself\u001b[39;49m\u001b[43m,\u001b[49m\u001b[43m \u001b[49m\u001b[38;5;241;43m*\u001b[39;49m\u001b[43margs\u001b[49m\u001b[43m,\u001b[49m\u001b[43m \u001b[49m\u001b[38;5;241;43m*\u001b[39;49m\u001b[38;5;241;43m*\u001b[39;49m\u001b[43mkwargs\u001b[49m\u001b[43m)\u001b[49m\n\u001b[1;32m    593\u001b[0m datasets: List[\u001b[38;5;124m\"\u001b[39m\u001b[38;5;124mDataset\u001b[39m\u001b[38;5;124m\"\u001b[39m] \u001b[38;5;241m=\u001b[39m \u001b[38;5;28mlist\u001b[39m(out\u001b[38;5;241m.\u001b[39mvalues()) \u001b[38;5;28;01mif\u001b[39;00m \u001b[38;5;28misinstance\u001b[39m(out, \u001b[38;5;28mdict\u001b[39m) \u001b[38;5;28;01melse\u001b[39;00m [out]\n\u001b[1;32m    594\u001b[0m \u001b[38;5;28;01mfor\u001b[39;00m dataset \u001b[38;5;129;01min\u001b[39;00m datasets:\n\u001b[1;32m    595\u001b[0m     \u001b[38;5;66;03m# Remove task templates if a column mapping of the template is no longer valid\u001b[39;00m\n",
      "File \u001b[0;32m~/miniconda3/lib/python3.10/site-packages/datasets/arrow_dataset.py:557\u001b[0m, in \u001b[0;36mtransmit_format.<locals>.wrapper\u001b[0;34m(*args, **kwargs)\u001b[0m\n\u001b[1;32m    550\u001b[0m self_format \u001b[38;5;241m=\u001b[39m {\n\u001b[1;32m    551\u001b[0m     \u001b[38;5;124m\"\u001b[39m\u001b[38;5;124mtype\u001b[39m\u001b[38;5;124m\"\u001b[39m: \u001b[38;5;28mself\u001b[39m\u001b[38;5;241m.\u001b[39m_format_type,\n\u001b[1;32m    552\u001b[0m     \u001b[38;5;124m\"\u001b[39m\u001b[38;5;124mformat_kwargs\u001b[39m\u001b[38;5;124m\"\u001b[39m: \u001b[38;5;28mself\u001b[39m\u001b[38;5;241m.\u001b[39m_format_kwargs,\n\u001b[1;32m    553\u001b[0m     \u001b[38;5;124m\"\u001b[39m\u001b[38;5;124mcolumns\u001b[39m\u001b[38;5;124m\"\u001b[39m: \u001b[38;5;28mself\u001b[39m\u001b[38;5;241m.\u001b[39m_format_columns,\n\u001b[1;32m    554\u001b[0m     \u001b[38;5;124m\"\u001b[39m\u001b[38;5;124moutput_all_columns\u001b[39m\u001b[38;5;124m\"\u001b[39m: \u001b[38;5;28mself\u001b[39m\u001b[38;5;241m.\u001b[39m_output_all_columns,\n\u001b[1;32m    555\u001b[0m }\n\u001b[1;32m    556\u001b[0m \u001b[38;5;66;03m# apply actual function\u001b[39;00m\n\u001b[0;32m--> 557\u001b[0m out: Union[\u001b[38;5;124m\"\u001b[39m\u001b[38;5;124mDataset\u001b[39m\u001b[38;5;124m\"\u001b[39m, \u001b[38;5;124m\"\u001b[39m\u001b[38;5;124mDatasetDict\u001b[39m\u001b[38;5;124m\"\u001b[39m] \u001b[38;5;241m=\u001b[39m \u001b[43mfunc\u001b[49m\u001b[43m(\u001b[49m\u001b[38;5;28;43mself\u001b[39;49m\u001b[43m,\u001b[49m\u001b[43m \u001b[49m\u001b[38;5;241;43m*\u001b[39;49m\u001b[43margs\u001b[49m\u001b[43m,\u001b[49m\u001b[43m \u001b[49m\u001b[38;5;241;43m*\u001b[39;49m\u001b[38;5;241;43m*\u001b[39;49m\u001b[43mkwargs\u001b[49m\u001b[43m)\u001b[49m\n\u001b[1;32m    558\u001b[0m datasets: List[\u001b[38;5;124m\"\u001b[39m\u001b[38;5;124mDataset\u001b[39m\u001b[38;5;124m\"\u001b[39m] \u001b[38;5;241m=\u001b[39m \u001b[38;5;28mlist\u001b[39m(out\u001b[38;5;241m.\u001b[39mvalues()) \u001b[38;5;28;01mif\u001b[39;00m \u001b[38;5;28misinstance\u001b[39m(out, \u001b[38;5;28mdict\u001b[39m) \u001b[38;5;28;01melse\u001b[39;00m [out]\n\u001b[1;32m    559\u001b[0m \u001b[38;5;66;03m# re-apply format to the output\u001b[39;00m\n",
      "File \u001b[0;32m~/miniconda3/lib/python3.10/site-packages/datasets/arrow_dataset.py:3185\u001b[0m, in \u001b[0;36mDataset.map\u001b[0;34m(self, function, with_indices, with_rank, input_columns, batched, batch_size, drop_last_batch, remove_columns, keep_in_memory, load_from_cache_file, cache_file_name, writer_batch_size, features, disable_nullable, fn_kwargs, num_proc, suffix_template, new_fingerprint, desc)\u001b[0m\n\u001b[1;32m   3179\u001b[0m logger\u001b[38;5;241m.\u001b[39minfo(\u001b[38;5;124mf\u001b[39m\u001b[38;5;124m\"\u001b[39m\u001b[38;5;124mSpawning \u001b[39m\u001b[38;5;132;01m{\u001b[39;00mnum_proc\u001b[38;5;132;01m}\u001b[39;00m\u001b[38;5;124m processes\u001b[39m\u001b[38;5;124m\"\u001b[39m)\n\u001b[1;32m   3180\u001b[0m \u001b[38;5;28;01mwith\u001b[39;00m hf_tqdm(\n\u001b[1;32m   3181\u001b[0m     unit\u001b[38;5;241m=\u001b[39m\u001b[38;5;124m\"\u001b[39m\u001b[38;5;124m examples\u001b[39m\u001b[38;5;124m\"\u001b[39m,\n\u001b[1;32m   3182\u001b[0m     total\u001b[38;5;241m=\u001b[39mpbar_total,\n\u001b[1;32m   3183\u001b[0m     desc\u001b[38;5;241m=\u001b[39m(desc \u001b[38;5;129;01mor\u001b[39;00m \u001b[38;5;124m\"\u001b[39m\u001b[38;5;124mMap\u001b[39m\u001b[38;5;124m\"\u001b[39m) \u001b[38;5;241m+\u001b[39m \u001b[38;5;124mf\u001b[39m\u001b[38;5;124m\"\u001b[39m\u001b[38;5;124m (num_proc=\u001b[39m\u001b[38;5;132;01m{\u001b[39;00mnum_proc\u001b[38;5;132;01m}\u001b[39;00m\u001b[38;5;124m)\u001b[39m\u001b[38;5;124m\"\u001b[39m,\n\u001b[1;32m   3184\u001b[0m ) \u001b[38;5;28;01mas\u001b[39;00m pbar:\n\u001b[0;32m-> 3185\u001b[0m     \u001b[38;5;28;01mfor\u001b[39;00m rank, done, content \u001b[38;5;129;01min\u001b[39;00m iflatmap_unordered(\n\u001b[1;32m   3186\u001b[0m         pool, Dataset\u001b[38;5;241m.\u001b[39m_map_single, kwargs_iterable\u001b[38;5;241m=\u001b[39mkwargs_per_job\n\u001b[1;32m   3187\u001b[0m     ):\n\u001b[1;32m   3188\u001b[0m         \u001b[38;5;28;01mif\u001b[39;00m done:\n\u001b[1;32m   3189\u001b[0m             shards_done \u001b[38;5;241m+\u001b[39m\u001b[38;5;241m=\u001b[39m \u001b[38;5;241m1\u001b[39m\n",
      "File \u001b[0;32m~/miniconda3/lib/python3.10/site-packages/datasets/utils/py_utils.py:654\u001b[0m, in \u001b[0;36miflatmap_unordered\u001b[0;34m(pool, func, kwargs_iterable)\u001b[0m\n\u001b[1;32m    651\u001b[0m \u001b[38;5;28;01mfinally\u001b[39;00m:\n\u001b[1;32m    652\u001b[0m     \u001b[38;5;28;01mif\u001b[39;00m \u001b[38;5;129;01mnot\u001b[39;00m pool_changed:\n\u001b[1;32m    653\u001b[0m         \u001b[38;5;66;03m# we get the result in case there's an error to raise\u001b[39;00m\n\u001b[0;32m--> 654\u001b[0m         [async_result\u001b[38;5;241m.\u001b[39mget(timeout\u001b[38;5;241m=\u001b[39m\u001b[38;5;241m0.05\u001b[39m) \u001b[38;5;28;01mfor\u001b[39;00m async_result \u001b[38;5;129;01min\u001b[39;00m async_results]\n",
      "File \u001b[0;32m~/miniconda3/lib/python3.10/site-packages/datasets/utils/py_utils.py:654\u001b[0m, in \u001b[0;36m<listcomp>\u001b[0;34m(.0)\u001b[0m\n\u001b[1;32m    651\u001b[0m \u001b[38;5;28;01mfinally\u001b[39;00m:\n\u001b[1;32m    652\u001b[0m     \u001b[38;5;28;01mif\u001b[39;00m \u001b[38;5;129;01mnot\u001b[39;00m pool_changed:\n\u001b[1;32m    653\u001b[0m         \u001b[38;5;66;03m# we get the result in case there's an error to raise\u001b[39;00m\n\u001b[0;32m--> 654\u001b[0m         [\u001b[43masync_result\u001b[49m\u001b[38;5;241;43m.\u001b[39;49m\u001b[43mget\u001b[49m\u001b[43m(\u001b[49m\u001b[43mtimeout\u001b[49m\u001b[38;5;241;43m=\u001b[39;49m\u001b[38;5;241;43m0.05\u001b[39;49m\u001b[43m)\u001b[49m \u001b[38;5;28;01mfor\u001b[39;00m async_result \u001b[38;5;129;01min\u001b[39;00m async_results]\n",
      "File \u001b[0;32m~/miniconda3/lib/python3.10/site-packages/multiprocess/pool.py:770\u001b[0m, in \u001b[0;36mApplyResult.get\u001b[0;34m(self, timeout)\u001b[0m\n\u001b[1;32m    768\u001b[0m \u001b[38;5;28mself\u001b[39m\u001b[38;5;241m.\u001b[39mwait(timeout)\n\u001b[1;32m    769\u001b[0m \u001b[38;5;28;01mif\u001b[39;00m \u001b[38;5;129;01mnot\u001b[39;00m \u001b[38;5;28mself\u001b[39m\u001b[38;5;241m.\u001b[39mready():\n\u001b[0;32m--> 770\u001b[0m     \u001b[38;5;28;01mraise\u001b[39;00m \u001b[38;5;167;01mTimeoutError\u001b[39;00m\n\u001b[1;32m    771\u001b[0m \u001b[38;5;28;01mif\u001b[39;00m \u001b[38;5;28mself\u001b[39m\u001b[38;5;241m.\u001b[39m_success:\n\u001b[1;32m    772\u001b[0m     \u001b[38;5;28;01mreturn\u001b[39;00m \u001b[38;5;28mself\u001b[39m\u001b[38;5;241m.\u001b[39m_value\n",
      "\u001b[0;31mTimeoutError\u001b[0m: "
     ]
    }
   ],
   "source": [
    "from datasets import Dataset\n",
    "\n",
    "def create_name():\n",
    "    if random.random() < 0.25:\n",
    "        return random.choice(first_names) + \" \" + random.choice(last_names)\n",
    "    return random.choice(first_names)\n",
    "\n",
    "\n",
    "k = 100\n",
    "\n",
    "\n",
    "for i in range(146, 200):\n",
    "\n",
    "    ds = Dataset.from_dict({\n",
    "        \"names\": [[random.choice(first_names) for _ in range(random.choice([3, 5]))] for _ in range(k)]\n",
    "    })\n",
    "\n",
    "\n",
    "    temp = ds.map(call_api, num_proc=8)\n",
    "    temp.to_parquet(f\"name_paragraphs_{i}.pq\")"
   ]
  },
  {
   "cell_type": "code",
   "execution_count": 31,
   "metadata": {},
   "outputs": [
    {
     "name": "stdout",
     "output_type": "stream",
     "text": [
      "502, message='Bad Gateway', url=URL('https://api-inference.huggingface.co/models/mistralai/Mixtral-8x7B-Instruct-v0.1')\n"
     ]
    }
   ],
   "source": [
    "import asyncio\n",
    "import aiohttp\n",
    "from huggingface_hub import AsyncInferenceClient\n",
    "\n",
    "from piidd.data_generation.utils import random_string\n",
    "\n",
    "\n",
    "client = AsyncInferenceClient(token=os.environ[\"HF_TOKEN\"])\n",
    "\n",
    "async def fetch(names, session, semaphore):\n",
    "    async with semaphore:\n",
    "        try:\n",
    "            r = await client.post(\n",
    "                json={\n",
    "                    \"inputs\": template.format(\n",
    "                        # setting=example[\"setting\"],\n",
    "                        # age_group=example[\"age_group\"],\n",
    "                        names=\", \".join(names),\n",
    "                    \n",
    "                    ),\n",
    "                    \"parameters\": {\n",
    "                        \"max_new_tokens\": 300,\n",
    "                        \"top_k\": 50,\n",
    "                        \"temperature\": 1.0,\n",
    "                        \"return_full_text\": False,\n",
    "                        \"stop\": [\"\\n\\n\"]\n",
    "                    },\n",
    "                    \"options\": {\"use_cache\": False},\n",
    "                },\n",
    "                model=\"mistralai/Mixtral-8x7B-Instruct-v0.1\",\n",
    "            )\n",
    "\n",
    "            t = json.loads(r.decode())[0][\"generated_text\"]\n",
    "\n",
    "            id_ = random_string(10)\n",
    "\n",
    "            with open(f\"outputs/name_paragraphs/{id_}.json\", \"w\") as f:\n",
    "                json.dump({\n",
    "                    \"names\": names,\n",
    "                    \"text\": t\n",
    "                }, f)\n",
    "        except Exception as e:\n",
    "            print(e)\n",
    "\n",
    "async def main(names):\n",
    "    tasks = []\n",
    "    semaphore = asyncio.Semaphore(20)  # Limit to 10 concurrent tasks\n",
    "    async with aiohttp.ClientSession() as session:\n",
    "        for n in names:\n",
    "            task = asyncio.create_task(fetch(n, session, semaphore))\n",
    "            tasks.append(task)\n",
    "        results = await asyncio.gather(*tasks)\n",
    "    return results\n",
    "\n",
    "# List of URLs to fetch\n",
    "names = [[random.choice(first_names) for _ in range(random.choice([3, 5]))] for _ in range(5000)]\n",
    "\n",
    "# Running the main function without asyncio.run() in environments with existing event loop\n",
    "loop = asyncio.get_event_loop()\n",
    "\n",
    "# Check if the loop is running\n",
    "if loop.is_running():\n",
    "    results = await main(names)\n",
    "else:\n",
    "    results = loop.run_until_complete(main(names))\n",
    "\n",
    "# Now, results contains the API responses"
   ]
  },
  {
   "cell_type": "code",
   "execution_count": 15,
   "metadata": {},
   "outputs": [
    {
     "data": {
      "text/plain": [
       "[b'[{\"generated_text\":\"At the New Orleans jazz club, Gerhard sat at the piano while Sebastien-Yvon and Emilien prepared the saxophones. The club teemed with people of all ages, who were excited to celebrate Saturday night with the New Orleans Symphony jazz band.\"}]',\n",
       " b'[{\"generated_text\":\"In the bustling City of Atlanta, Eveless is working as a volunteer for the non-profit organization, Hands Across the World. She is helping to distribute canned food to the underprivileged citizens of the city. As a result, the place is also filled with people like Alina, who came to collect food for her family of four, and Gilbert Ben, who has come to help Eveless with the distribution process. Everyone is working together to ensure that no one in the city goes to bed hungry tonight.\"}]',\n",
       " b'[{\"generated_text\":\"Mario stands in the midst of the bustling crowd at the annual technology fair in the city of San Jose, sponsored by the leading tech giant, Silicon Valley Innovations. He, along with Teburoro Tito and Janhavi, eagerly watches the keynote speaker discuss the breakthroughs in artificial intelligence. The trio, each with their unique perspectives and experiences, exchange thoughts and insights on the future of technology. With a renewed sense of excitement and curiosity, they continue to explore the booths, eager to engage with the bright minds of the industry.\"}]',\n",
       " b'[{\"generated_text\":\"Today in the bustling heart of New York, Suelen nervously awaits her interview at the renowned Morgan Stanley Corporation. She notices a kindred spirit sitting on a nearby bench; Hana, an aspiring journalist, is equally apprehensive. The atmosphere is charged with anticipation and excitement, as people flock to the scene for a chance to make a mark on the city\\'s thriving economy. Amidst the hustle and bustle, Felicity calmly practices her acceptance speech, humbled by the opportunity to represent the city\\'s vibrant and diverse community. Despite the jitters, this promising coterie of talent remains poised and eager to seize the day, each with their own dreams and aspirations.\"}]',\n",
       " b'[{\"generated_text\":\"Seattle, synonymous with coffee culture, saw crowds of diverse individuals converging at the annual Global Expo, a company dedicated to fostering innovation around the world. Puarata, an elderly gentleman, discussed his business ventures with Niguisse, a long-time friend. Meanwhile, Riquelma, a young professional, exchanged contact information with Hye-In, a recent college graduate, who showed immense promise. Amidst the bustling crowd, Lateyi, an art enthusiast, took a break from the chaos to appreciate the creative installations brought by artists around the world.\"}]',\n",
       " b'[{\"generated_text\":\"In the heart of bustling Boston, the city was alive with excitement as the Boston Symphony Orchestra held its annual charity gala. Amidst the sea of people, Ajala, a renowned violinist, stood in the corner, lost in thought. Nearby, Kheaner and Heiao, two of the city\\'s most successful entrepreneurs, were engaged in a lively conversation with Shantie, a renowned chef, and Hajnalka, a celebrated fashion designer. The energy in the room was palpable, as people mingled and celebrated the power of music and art to bring communities together.\"}]',\n",
       " b'[{\"generated_text\":\"At the annual charity dinner for the city of Nanjing, a group of people gather to celebrate the company called Detienne Engineering. Suayb, a 35-year-old architect, is deep in conversation with Yuchen, a 28-year-old civil engineer, about the latest building materials being used in Nanjing. Meanwhile, Maddalena, a 24-year-old intern, is chatting with Faka\\'Ofa, a 52-year-old project manager, about the challenges of working in the construction industry. As dinner is served, everyone takes their seats and enjoys the delicious meal provided by Detienne Engineering.\"}]',\n",
       " b'[{\"generated_text\":\"As the sun began to set over the bustling city of Portland, people gathered at the local non-profit, the Portland Housing Collaborative, for a charity fundraiser. Music filled the air, a blend of traditional and contemporary tunes, as Zinabe and Rafaelina made their way through the crowd, chatting with acquaintances and admiring the various art installations. Meanwhile, Sharjah was busy volunteering at the silent auction table, helping raise money for the organization\\'s mission to provide affordable housing for low-income families in the community. With delicious food, lively music, and a great cause, the fundraiser was a success, bringing people together to make a difference in Portland.\"}]',\n",
       " b'[{\"generated_text\":\"The annual Tampa Bay Art Festival brought together individuals from all ages and walks of life. Among the crowd were vibrant personalities, such as Kyson, Licia, and Muzan. Kyson, a renowned graphic designer from the city\\'s esteemed marketing firm, Kreative Kulture, stood out with his distinctive style and outgoing personality, drawing crowds to his booth to view his captivating artwork. Meanwhile, young Licia, an emerging visual artist and a recent Fine Arts graduate from the prestigious Tampa University, showcased her collection of paintings, reflecting her creative and expressive flair. Another attraction to the event was the presence of Muzan, a seasoned sculptor known for crafting breathtaking masterpieces out of recycled materials, drawing attention to the importance of sustainability within the artistic community.\"}]',\n",
       " b'[{\"generated_text\":\"At the annual business seminar, Ahotin, N\\'Dri, and Annamuhammet can often be found among the sea of attendees, diligently taking notes or engaging in meaningful conversations with fellow professionals. Meanwhile, Nandini and J\\'Vier, both representing their respective tech startups in New York City, often attract a crowd as they share their innovative ideas and insights on the latest industry trends. The seminar, hosted by the prestigious Innovative Solutions Foundation, always brings together a diverse group of people, each with their unique backgrounds and perspectives, making it an invaluable opportunity for networking and growth.\"}]']"
      ]
     },
     "execution_count": 15,
     "metadata": {},
     "output_type": "execute_result"
    }
   ],
   "source": [
    "results"
   ]
  },
  {
   "cell_type": "code",
   "execution_count": 93,
   "metadata": {},
   "outputs": [
    {
     "name": "stdout",
     "output_type": "stream",
     "text": [
      "{'names': ['In-Seong', 'Hady', 'Fortuna'], 'text': 'In this bustling metropolis of New York City, you can find all sorts of people gathering together for the annual charity event held by the Hope Foundation. Families of varied backgrounds stroll through the various booth stands, enjoying homemade baked goods and toys carefully crafted by the children in the neighborhood. In-Seong and Hady were seen volunteering behind the cupcake display, happily handing out one after the other to eager participants. Meanwhile, Fortuna was over near the bean bag toss, handing out scores and encouraging the young ones to try their best. A festive atmosphere filled the courtyard outside the charitable organization’s headquarters, as laughter, friendly conversation, and the scent of sweets swirled through the air. This special moment demonstrated the essence of unity, as diversity and common good became intertwined together.'}\n",
      "{'names': ['Moinoul', 'Aliyah', 'Lontum', 'Arnfinn', 'Dontae'], 'text': 'Moinoul, Aliyah, and Arnfinn were some of the many people working at the Seattle headquarters of the Rainmaker company. At the annual company picnic were Lontum, Arnfinn, and Dontae, all of whom were cheering for their boss during a dodgeball game. The picnic was packed with family and loved ones, and the joy within the park was contagious.'}\n",
      "{'names': ['Arabella', 'Naia', 'Billiaris', 'Mohand', 'Hiu'], 'text': \"Arabella, Naia, Billiaris, Mohand, and Hiu are all milling around in the bustling heart of Tokyo. Some of them wear business attire, working for the tech giant Orion Corp, but others don their most vibrant kimonos to celebrate the annual Sakura festival. While the workaholic Hiu checks her phone for emails, the more leisurely Arabella and Naia are buying festival treats to take back home. Meanwhile, Mohand can't help but snap pictures of the beautiful cherry blossoms, creating a memory to last a lifetime.\"}\n",
      "{'names': ['Meshach', 'Aminah', 'Amau', 'Corrado', 'Ailyn'], 'text': \"Several dozen people are excitedly exploring the new art installation in downtown Dallas. Meshach and Aminah are taking tons of pictures to post to social media, while Amau and Corrado are debating the artists’ use of color. Ailyn, a volunteer docent with the Dallas Museum of Art, is standing nearby, answering each person's questions about the piece's theme and background. This is sure to be a beloved piece of downtown!\"}\n",
      "{'names': ['Festher', 'Moneek', 'Ilias'], 'text': 'At TechCon 2022 in Miami Festher, Moneek, and Ilias were the stars of the event. Festher delivered a riveting speech on machine learning integration that gained a resounding applause from the audience. Moneek had the chance to meet with renowned tech influencers like Mark Zuckerberg and Elon Musk while the team took a group photo by the beach after TechCon closed. Ilias, a first-time TechCon visitor, won the grand prize: TechCon Ultimate Fan Badge along with the latest Samsung Galaxy Z Fold4. It was a memorable experience for everyone.'}\n",
      "{'names': ['Frosty', 'Kenyata', 'Oneal'], 'text': \"In sunny Orlando, Florida for Walt Disney World's 50th anniversary, Frosty smiles while reminiscing the company's history since childhood. Kenyata and Oneal, dressed in Mickey Mouse gear, are overjoyed to see the fireworks from Cinderella's Castle. They were grateful that the Disney Corporation provided an experience worth remembering for families across the nation. Frosty and his friends captured memories that night, ensuring that the magic of the moment would last a lifetime.\"}\n",
      "{'names': ['Lafaele', 'Ana Sofia', 'Kysa'], 'text': 'A diverse group of people clustered around the edge of the room, all eagerly watching the speakers at the front. Friends, family, and colleagues came out to support Lafaele, Ana Sofia, and Kysa at the Los Angeles chapter meeting of their non-profit, \"Hearts for Humanity.\" The energy was palpable as the three young professionals addressed their audience, sharing stories of their experiences helping displaced persons. Lafaele, with his radiant smile and booming laugh, spoke about the importance of community support for resettled refugees, Ana Sofia, a petite woman with striking eyes, told a touching story of resilience from the front lines, and Kysa, an eloquent and passionate speaker, inspired the listeners with her vision of a future where no one is left behind.'}\n",
      "{'names': ['Fidencio', 'Laila', 'Doroteya', 'Eutiquio', 'Lysidamus'], 'text': \"In the bustling business district of Arbil, the air is filled with the excited chatter of people preparing for the annual International Trade Conference. Fidencio diligently arranges the brochures at his company's booth, while Laila practices her pitch for their new product line. Across the hall, Doroteya is representing her local non-profit organization and greeting familiar faces warmly. Meanwhile, Eutiquio, one of the panel speakers, reviews his presentation notes and takes a few deep breaths to calm his nerves. Not far from them, Lysidamus, a renowned trade consultant, talks with attendees, discussing the latest industry trends and insights.\"}\n",
      "{'names': ['Fri D', 'Hui-Wen', 'Ndarason', 'Jannai', 'Neli'], 'text': 'In the bustling city of Seattle, Washington, hundreds gathered at the Amazon headquarters for a charity gala. Fri D and Hui-Wen, both experienced nonprofit volunteers, were setting up tables alongside Ndarason, a recent college graduate. As they worked, Jannai, a local artist, contributed by creating intricate flower arrangements for each table. Neli, a renowned chef, prepared delicious dishes for the guests. With everyone working together, the charity gala was sure to be a success.'}\n",
      "{'names': ['Kahukura', 'Olfa', 'Oney'], 'text': \"At the annual charity fair organized every year by the Red Cross in the bustling city of New York, families are having fun. Children are laughing and playing in the bouncy castles, while adults are browsing the various stalls, ranging from food to vintage clothes. Kahukura, an elderly woman with silver hair, is telling fortunes through palm reading with her granddaughter, Oney, looking on curiously. Olfa, a young marketing exec from a tech company, is volunteering at the hot dogs stand, wearing a smile despite the busy line. The community is coming together to support a good cause, and it's a joyous occasion for everyone involved.\"}\n",
      "{'names': ['Areeba', 'Pier', 'Dave', 'Gueswende', 'Yves-Thierry'], 'text': 'The annual fundraiser for the Seattle-based Wilderness Society brought people of all ages together for a night of good food and better intentions. Areeba, a young environmental activist, stopped by the refreshment table to grab some punch just as Pier, a board representative for the Society, headed in that direction. Across the room, Dave, an avid hiker, and Gueswende, who works in accounting for the organization, engaged in a spirited debate about the potential impact of new legislation on protected lands. Meanwhile, Yves-Thierry, a renowned photographer and conservationist, set up a small display of his work near the entrance, drawing a steady crowd of admirers.'}\n",
      "{'names': ['Savenaca', 'Karim', 'Hakeem', 'Keisha', 'Roh'], 'text': \"New York City's MetLife Stadium is bustling with sports fans today. Savenaca meets Karim while waiting in line for refreshments. Meanwhile, Keisha is busy taking photos for her social media page. Roh, a college student, is excited for his first ever professional soccer game. As the announcer calls for everyone to take their seats, Hakeem finally finds his friends after searching for them in the crowded aisles.\"}\n",
      "{'names': ['Vivienne-Rose', 'Nomali', 'Sitti'], 'text': 'In the midst of a bustling business district in Cape Town, there\\'s a company called \"Sitti Solutions\" having their annual charity event. The guests are a diverse group, with Vivienne-Rose, a young professional, striking up conversations with Sitti, an elderly woman, and Nomali, a mother of two. Vivienne-Rose is excitedly sharing her experiences working for the company and how it has taught her valuable skills, while Sitti listens with a warm smile, reminiscing about her own career. Nomali, with her children playing nearby, is grateful for the opportunity to give back to the community and connect with other like-minded individuals. The atmosphere is filled with positivity and a shared sense of purpose, making for a truly memorable occasion.'}\n",
      "{'names': ['Thong', 'Jirjel', 'Lianni'], 'text': 'Every year, the Annual Tech Fest draws more than a thousand tech enthusiasts from all around the world to Houston. Visitors were in for some exciting new offerings from bigwigs Amazon, Google, and Apple, which were showcased at the city Convention Center. 23-year-old intern Thong, from the Bay area, expressed her admiration for the latest Samsung product display. Next to her was 17-year-old Jirjel, a senior high school student from New York, who seemed mesmerized by the Oculus VR set. And not far from them was a beaming young 5-year-old Lianni, clinging to her father’s hand, taking it all in for the first time.'}\n",
      "{'names': [\"Ja'Shawn\", 'Dalise', 'Knox'], 'text': \"At the annual benefit gala for the Kids' Cancer Research Foundation held at the Hilton Hotel in downtown Philadelphia, Ja'Shawn and Dalise were having a wonderful time together. Knox, the gala director, gave a compelling speech highlighting the successes of the foundation and thanking everyone for their generous support. During the silent auction, Ja'Shawn successfully bid on a signed basketball from his favorite local basketball team, the 76ers. As they sipped on champagne and mingled with other guests, Dalise couldn't help but feel proud of the impact they were making together.\"}\n",
      "{'names': ['Yolonda', \"K'Avion\", 'Selu', 'Woleai', 'Jean-Marc'], 'text': 'In the crowded city center of New York, Yolonda, K\\'Avion, Selu, Woleai, and Jean-Marc sat together in the auditorium of the \"Evolving Minds\" event hosted by the \"New Beginnings Foundation.\" As they watched presentations by renowned thought leaders from various fields, Yolonda jotted down notes while K\\'Avion offered commentary on the side, occasionally challenging the ideas presented. Across the row, Selu kept a watchful eye on her energetic toddler, Woleai, who was fascinated by the array of lights and colors on stage. Meanwhile, Jean-Marc quietly reflected on the insights shared, looking forward to bringing these ideas back to his community in the hope of fostering meaningful change. Despite the diverse backgrounds and perspectives in the room, there was a shared sense of excitement and anticipation for what the future might hold.'}\n",
      "{'names': ['Boubany', 'Thenuka', 'Pejman', 'Luluai', 'Saleem'], 'text': 'In the bustling city of Seattle, the annual festival of \"Arts of the World\" had just begun. Families, students, and seniors had all gathered in the central square, excited for the festivities. Among the crowd, there were a few familiar faces. Six-year-old Boubany was holding his mother Thenuka\\'s hand tightly as they explored the stalls. Pejman, an artist, was already setting up his canvas while Saleem, an international student, couldn\\'t stop marveling at the diversity of cultures on display. Across the square, Luluai, a local school teacher, was sharing stories from her travels with her curious class. Each person brought their own unique touch to the jubilant event, making it a day to remember in the heart of Seattle.'}\n",
      "{'names': ['Xitlaly', 'Partho', 'Riordan', 'Lataika', 'Nangiharisoa'], 'text': 'At the charity event held by the company Aspiration based in the diverse and vibrant city of New York, a blend of people from all walks of life gathered to make a difference. Xitlaly, a passionate and dedicated individual, was seen conversing with Partho, a young and talented software engineer. Meanwhile, Riordan, a renowned artist, was busy sketching the lively scene. Lataika, a bubbly college student, was spotted helping out the staff, while Nangiharisoa, a seasoned philanthropist, was seen talking to the event organizers about future collaborations.'}\n",
      "{'names': ['Shadrak', 'Ouapaca', 'Baylor', 'Steinunn', 'Eeti'], 'text': 'Baylor is deep in thought as he checks the balance sheet for the charity concert in New York. He runs into Eeti, who is taking a break after distributing flyers for the upcoming benefit. Steinunn and Ouapaca, two dancers from Berlin, join their discussions about the projected revenues for their show, the \"Bridges of Love\". Shadrak, who is in charge of the set up for the concert, interjects to inform Baylor on the logistical issues they might face. The team from \"Love Unites Us All\" is determined and enthusiastic to bring a positive impact to the city with their grand show.'}\n",
      "{'names': ['Sarp', 'Katja', 'Vololoniaina', 'Ajdin', 'Amalasandy'], 'text': \"In Downtown Orlando, Sarp is a new employee at the Global Finance Firm that volunteers as team leader for a fundraiser for charity: water. His coworkers Ajdin and Amalasandy help pass out water bottles to attendees. Vololoniaina, who is a friend of Sarp from college, is a sponsor for the Global Finance Team. Katja, who is a friend of everyone in the company, is a volunteer that helps people sign up for monthly donations. Everyone gathered at Orlando's Community Center Plaza for the Global Finance Firm's annual company charity event for a water relay.\"}\n"
     ]
    }
   ],
   "source": [
    "for x in temp:\n",
    "    print(x)"
   ]
  },
  {
   "cell_type": "code",
   "execution_count": 79,
   "metadata": {},
   "outputs": [
    {
     "name": "stdout",
     "output_type": "stream",
     "text": [
      "{'names': ['Curlan', 'Mendoza', 'Folito', 'Danicy', 'Mmeamle'], 'text': \"As people gathered in the grand hall of Davenport Convention Center, various age groups could be seen in animated conversations, anticipating the announcement of the Civic Youth Organization's national winners for the year. From young Folito and Danicy, who were nervously checking their phones, to middle-aged Curlan, who was enthusiastically discussing strategies with his team from the city of Arlington, and elderly Mmeamle, who couldn't stop smiling while recalling memories of her own youth, the energy in the room was infectious. Everyone was eager to find out who would take home the prestigious awards, and the sense of community and camaraderie was palpable.\"}\n",
      "{'names': [\"J'Adale\", 'Remei', 'Orianna'], 'text': 'In the busy streets of New York City on a crisp November day, J’Adale, Remei, and Orianna were all wrapped up warm in thick winter coats, each of them heading to work at the tech company “Virtuosos Incorporated”, where they are all valued employees. As J’Adale crossed the busy intersection and blended into the crowd of other city dwellers going about their day, she made eye contact with Orianna and nodded a friendly greeting. Behind them, Remei noticed her friends and also smiled, happy to see them before walking the rest of the way to their shared workspace, all the while thinking about which project they would tackle first.'}\n",
      "{'names': ['Harkirit', 'Judson', 'Elliott', 'Leatualesa', 'Takara'], 'text': 'Amidst the bustling atmosphere of the annual New York City Marathon, individuals young and old, including Leatualesa, Takara, and Harkirit, gathered to commemorate the accomplishments of those racing on behalf of the charity group, Hope Runs. Judson, a seasoned runner himself, volunteered to distribute commemorative shirts to the participants under the \"Go the Distance\" banner, while Leatualesa, in true coach fashion, cheered on everyone in sight. The crowd erupted in applause as the runners crossed the finish line, and the day concluded with an inspiring ceremony, reminding everyone present to always strive for greatness.'}\n",
      "{'names': ['Dancer', 'Maricia', 'Jantila'], 'text': \"Los Angeles is a bustling city where people of all ages gather, from infants to the elderly. Maricia, a renowned dancer, can often be found rehearsing for her latest performance at a popular company known for showcasing local talent. Jantila, a bright-eyed young girl with dreams of becoming a dancer, often attends Maricia's rehearsals, eager to learn and be inspired. The two can often be found practicing together, with Jantila trying her best to mimic Maricia's graceful movements. The city of Los Angeles is full of people pursuing their passions, and the dance community is no exception.\"}\n",
      "{'names': ['Alderney', 'Momodou', 'Corrado'], 'text': 'In a bustling city park on a crisp Saturday morning, Alderney, a woman in her mid-thirties, was seen jogging along the winding trails. Across the park, children played on the swings and slides, led by Momodou, a friendly and energetic summer camp counselor. Nearby, parents and grandparents gathered around the outdoor amphitheater for a free concert sponsored by the local symphony orchestra. Despite the large crowd, the atmosphere was calm and peaceful.\\n\\n'}\n",
      "{'names': ['Meyomesse', 'Nukaka', 'Yariela', 'Mickelihood', 'Yeno'], 'text': 'The vibrant neighborhood park in the bustling city of San Francisco comes to life during the annual Meyomesse Festival, where people from all walks of life gather to celebrate their shared love for arts and culture. Among them are Nukaka, a lively grandmother who sells handcrafted jewelry at her vendor booth, and Yeno, an energetic teenager participating in a dance performance with his group, YARIELA. Meanwhile, Mickelihood, a renowned visual artist, sets up an exhibition showcasing his latest works, while local volunteers from the San Francisco Arts Council hand out festival brochures and answer questions from attendees. Regardless of age, background, or artistic interest, the Meyomesse Festival offers something for everyone, bringing the community together in a celebration of creativity and connection.'}\n"
     ]
    }
   ],
   "source": [
    "for x in temp:\n",
    "    if not all([y in x[\"text\"] for y in x[\"names\"]]):\n",
    "        print(x)"
   ]
  },
  {
   "cell_type": "code",
   "execution_count": 32,
   "metadata": {},
   "outputs": [
    {
     "data": {
      "text/plain": [
       "Dataset({\n",
       "    features: ['names', 'text'],\n",
       "    num_rows: 27500\n",
       "})"
      ]
     },
     "execution_count": 32,
     "metadata": {},
     "output_type": "execute_result"
    }
   ],
   "source": [
    "from pathlib import Path\n",
    "from datasets import Dataset, concatenate_datasets\n",
    "\n",
    "\n",
    "files = list(Path(\".\").glob(\"name_paragraphs_*.pq\"))\n",
    "\n",
    "ds = concatenate_datasets([Dataset.from_parquet(str(f)) for f in files])\n",
    "ds"
   ]
  },
  {
   "cell_type": "code",
   "execution_count": 20,
   "metadata": {},
   "outputs": [
    {
     "data": {
      "text/plain": [
       "['An', 'An', 'An']"
      ]
     },
     "execution_count": 20,
     "metadata": {},
     "output_type": "execute_result"
    }
   ],
   "source": [
    "import re\n",
    "\n",
    "\n",
    "t = \"An was a good (An)'s person. So was An\"\n",
    "\n",
    "re.findall(r\"\\b\" + \"An\" + r\"\\b\", t)"
   ]
  },
  {
   "cell_type": "code",
   "execution_count": 12,
   "metadata": {},
   "outputs": [
    {
     "data": {
      "text/plain": [
       "{'names': [['Jenna', 'Nizigama', 'Bolot', 'Sinkoun', 'Senay'],\n",
       "  ['Dipanwita', 'Karotu Butuka', 'Nikeisha', \"M'Kayla\", 'Perrine-Marie'],\n",
       "  ['Bahaar', 'Raimo', 'Nangor'],\n",
       "  ['Savier', 'Nawali', 'Rooney'],\n",
       "  ['Ncabezuluhlaza', 'Nauru', 'Ponchi', 'Trevaughn', 'Harquell'],\n",
       "  [\"S'Fiso\", 'Fation', 'Fidencia', 'Rois', 'Estrellita'],\n",
       "  ['Nang', 'Ngebuked', 'Ruzan'],\n",
       "  ['Kemdeng', 'Ouistin', 'Ludmila', 'Yue', 'Shawnequa'],\n",
       "  ['Charmaine', 'Tadanobu', 'Kubady'],\n",
       "  ['Mohamed-Djibril', 'Wieslaw', 'Xenofonte']],\n",
       " 'text': [\"Families come running into the city's most beloved park, the vibrant New Haven City Center Park. Children squeal with delight as they race towards the swings, their laughter echoing through the air, reaching the ears of the adults. Nizigama's family has brought a portable grill, sending an appetizing aroma wafting through the park, luring in Jenna and her friends. The group smiles as they approach, graciously accepting the grilled treats, savoring the taste. Meanwhile, the park's dance floor is bustling. Bolot, Sinkoun, and Senay show off their impressive breakdancing moves, attracting an enthusiastic crowd of cheering onlookers. Every now and then, a passerby would casually drop a dollar bill into a nearby hat, a silent gesture of appreciation and support for the performers. The spirit of unity at the park is palpable, as everyone comes together under the banner of local nonprofit, Dance Together, encouraging health and wellness through dance.\",\n",
       "  'In the bustling, lively city of San Francisco, Nikeisha and Dipanwita are preparing for their first annual conference as senior executives at the innovative tech start-up, \"Revoultionize\". On this occasion, their colleagues Karotu Butuka, M\\'Kayla, and Perrine-Marie are gathering to celebrate their recent success building a cutting-edge platform using sustainable technology. This platform revolutionizes the way businesses tackle the climate crisis, and it\\'s winning them accolades from leaders and companies worldwide. Today, they hope to foster an environment that encourages openness and unity, promoting sustainable solutions and setting an example for the community and future generations to come.',\n",
       "  \"It's a beautiful day in Los Angeles, and the annual tech conference hosted by the company Raimo works for, TechTonic, has brought together a diverse group of people. Everyone seems to be in high spirits, eager to learn about the latest innovations in technology. Bahaar, a seasoned tech journalist, can be seen mingling with Nangor, a young and ambitious developer. They are both deeply engaged in a conversation about the future of artificial intelligence. The atmosphere is abuzz with excitement and anticipation, as everyone looks forward to the keynote speech by Raimo, the CEO of TechTonic.\",\n",
       "  'Laughs echo through the small, cramped room. Savier and Nawali, two best friends since grade school, are playing a raucous game of Uno on a worn-out, coffee-stained card table. Across the room, Rooney, the older sister of Savier, is busy tapping away on her laptop, a look of serious concentration etched on her face. She is an engineer for the prestigious company Synergy Technologies located in the bustling city of Arlington, and is currently finishing up the final details on a major project that is due tomorrow. The aroma of freshly-brewed coffee wafts through the air, filling the room with warmth and comfort.',\n",
       "  \"In Portland during their annual Pride Festival, people of all ages gather in the sunny park. You can see Ncabezuluhlaza, a retired professor, sitting on a bench next to Trevaughn, a vibrant teenager, both with colorful rainbow beads around their wrists, chatting and laughing. Meanwhile, Ponchi, a pastry chef who works for Vortex Doughnuts, is distributing their multi-colored doughnuts to the crowd. Near the stage, where the Portland Gay Men's Chorus is soon to perform, Nauru, a young professional, is saving a spot for her friends, while Harquell, a local artist, is setting up his easel to capture the scene.\",\n",
       "  'In the bustling city of Chicago, people flocked to the annual charity ball held by the non-profit organization, \"Hope Beyond Borders.\" The ballroom was filled with the sound of laughter and excited chatter as Fation and Fidencia, a young and energetic couple, mingled with the crowd. Nearby, S\\'Fiso, a renowned chef, was seen talking to Estrellita, a local artist, as they enjoyed the delicious hors-d\\'oeuvres provided by S\\'Fiso\\'s catering company. Meanwhile, Rois, a talented musician, was playing a beautiful melody on the piano, captivating everyone in the room with her skillful fingers. It was a night of celebration and giving back, and the people couldn\\'t have been more joyful.',\n",
       "  'At the grand opening of the new Pitjantjatjara Community Center in Adelaide, one can observe a diverse crowd, reflecting the wide range of ages in the community. Volunteering their time, Nang, Ngebuked and Ruzan, all seniors, are serving refreshments to the many attendees. Despite their age, their energy and enthusiasm is apparent as they ensure everyone is enjoying themselves. Meanwhile, the younger generation is also well represented, with children excitedly playing games and running around the venue, taking breaks only to run to their parents for a quick hug or word of encouragement.',\n",
       "  \"In the vast hallways of the United Nations headquarters in New York City, Kemdeng, Ouistin, Ludmila, Yue, and Shawnequa mingled with diplomats, policymakers, and global citizens. Each one was representing their respective organizations, advocating for climate change, women's rights, and education. Kemdeng passionately spoke about the importance of renewable energy, while Ouistin highlighted the need for better access to healthcare in developing countries. Ludmila, on the other hand, shared her experiences working with marginalized communities, emphasizing the need for inclusive policies and initiatives. Yue contributed her insights on digital literacy and the role of technology in education, while Shawnequa advocated for criminal justice reform and the need to address systemic racism. The energy in the room was palpable, as people from different walks of life came together to address the world's most pressing issues.\",\n",
       "  'In the bustling city of New York, Charmaine, Tadanobu, and Kubady found themselves at a charity event organized by the well-known company, Tech Innovations. The crowd was a diverse mix of ages, from young children to elderly individuals, all gathered to support a good cause. Charmaine, a seasoned event planner, was busy making sure everything ran smoothly, while Tadanobu, a budding entrepreneur, was networking with other attendees. Meanwhile, Kubady, a renowned philanthropist, was mingling with the volunteers, expressing his gratitude for their efforts. Despite the large turnout, the atmosphere was one of unity and shared purpose. The night was filled with laughter, inspiration, and above all, a sense of community.',\n",
       "  \"At the company Christmas party of San Francisco Inc, Mohamed-Djibril made plans for after-party drinks with his old colleagues Wieslaw and Xenofonte. Excitement brewed in the room as everyone let loose and enjoyed themselves, while the younger employees bonded with the more senior ones over trivia games and raffle draws. Among all the cheer and commotion, Mohamed-Djibril couldn't help but notice how tight-knit the employees of San Francisco Inc were, as if they were part of one big family.\"]}"
      ]
     },
     "execution_count": 12,
     "metadata": {},
     "output_type": "execute_result"
    }
   ],
   "source": [
    "ds.shuffle()[:10]"
   ]
  },
  {
   "cell_type": "code",
   "execution_count": 33,
   "metadata": {},
   "outputs": [
    {
     "data": {
      "text/plain": [
       "16098"
      ]
     },
     "execution_count": 33,
     "metadata": {},
     "output_type": "execute_result"
    }
   ],
   "source": [
    "from pathlib import Path\n",
    "import json\n",
    "\n",
    "files = list(Path(\"/drive2/kaggle/pii-dd/piidd/data_generation/outputs/name_paragraphs\").glob(\"*.json\"))\n",
    "\n",
    "names = []\n",
    "texts = []\n",
    "\n",
    "for f in files:\n",
    "    d = json.load(open(f))\n",
    "    names.append(d[\"names\"])\n",
    "    texts.append(d[\"text\"])\n",
    "\n",
    "len(names)"
   ]
  },
  {
   "cell_type": "code",
   "execution_count": 34,
   "metadata": {},
   "outputs": [
    {
     "data": {
      "application/vnd.jupyter.widget-view+json": {
       "model_id": "7e372bcd24894eaea71a1aa41c3e326c",
       "version_major": 2,
       "version_minor": 0
      },
      "text/plain": [
       "Filter:   0%|          | 0/43598 [00:00<?, ? examples/s]"
      ]
     },
     "metadata": {},
     "output_type": "display_data"
    },
    {
     "data": {
      "text/plain": [
       "Dataset({\n",
       "    features: ['names', 'text'],\n",
       "    num_rows: 42477\n",
       "})"
      ]
     },
     "execution_count": 34,
     "metadata": {},
     "output_type": "execute_result"
    }
   ],
   "source": [
    "from datasets import Dataset, concatenate_datasets\n",
    "\n",
    "ds2 = Dataset.from_dict({\n",
    "    \"names\": names,\n",
    "    \"text\": texts\n",
    "})\n",
    "\n",
    "combined = concatenate_datasets([ds, ds2])\n",
    "\n",
    "combined = combined.filter(lambda x: all([y in x[\"text\"] for y in x[\"names\"]]))\n",
    "combined"
   ]
  },
  {
   "cell_type": "code",
   "execution_count": 35,
   "metadata": {},
   "outputs": [
    {
     "data": {
      "text/plain": [
       "[\"In the vibrant city of Vancouver, Horea and Strahinja arrived at the annual Mick Tech Symposium. As Mick Tech's keynote speaker, Horea was excited to share his expertise on technology and innovation. Meanwhile, Strahinja, as Mick Tech's program coordinator, ensured a successful event. It was the perfect occasion for Horea, Strahinja, and Mick (the founder of Mick Tech) to connect and share their innovative ideas.\",\n",
       " \"In the bustling city of San Francisco, a group of individuals gather in the headquarters of the tech company, Orion Innovations. Among them are employees like Kit-Yan and Nidhalie, who are busy preparing for the company's annual charity event, which is set to take place in the coming weeks. Meanwhile, Agnes-Laure, a long-time volunteer, is coordinating with the rest of the team to ensure everything runs smoothly. Despite the busy atmosphere, there is a sense of excitement and enthusiasm in the air as everyone works together to make a positive impact on the local community.\",\n",
       " 'The crowd is buzzing with an air of excitement as a local event commences, filling the streets of Portland, Maine. The company, Afful Enterprises are hosting the \"Art for Everyone\" festival, a weekend affair that brings together the best artists from around the world to showcase their work to the local community. Attendees of all ages, Pennoh, Isandre, Lua and Dafiyah included, wander from booth to booth, taking in the sights and sounds of the busy scene. Some are drawn to the captivating paintings and sculptures, while others are intrigued by the live music performances and interactive workshops. With so much to see and do, the festival-goers are left with memories they will treasure for a lifetime.',\n",
       " 'In the heart of bustling San Francisco, a diverse group of individuals gathered at the prestigious Tech Innovations headquarters. Tashi, an experienced engineer, engaged in a lively conversation with Varney, the charismatic CEO. Meanwhile, Tung-Yi, a young marketing intern, eagerly exchanged ideas with Hung, a seasoned project manager. At one corner, Juanse, a creative designer, discussed potential branding strategies for their upcoming project. The atmosphere in the room was buzzing with anticipation and excitement for what was to come.',\n",
       " 'Bustling with diverse attendees, the vibrant city of New York hosted the annual meeting for the prominent organization, \"Global Harmony Initiative.\" Mudthar, Zamenga, and Sariqa were among the many attendees, mingling with people of all ages. The atmosphere was awe-inspiring from the moment one stepped foot inside the colossal venue. While Mudthar was engrossed in the gathering, contributing to the occasion, taking diligent notes. Meanwhile, Zamenga and Sariqa engaged in lively conversations with other attendees, discussing issues of common concern, such as the role of arts and culture in creating harmonious communities. Everyone seemed enthusiastic about the theme and the objective of the gathering: promoting the concept of unity in diversity through various artistic expressions and occasions.',\n",
       " 'In the hustle and bustle of downtown Chicago, a group of individuals gather for a charity event hosted by the esteemed company, XYZ Inc. Among them are Maruae and Uazik, a middle-aged couple who have been long-time supporters of the organization. They are chatting with Birena, a young professional who recently moved to the city for work. Meanwhile, Chamara and Silvere, high school students from a local school, are excitedly exploring the event, taking in the sights and sounds of the lively atmosphere. The diverse group of people, brought together by their shared love for giving back, create a warm and welcoming environment in the midst of the bustling city.',\n",
       " \"Amidst the bustling, urban jungle of Mumbai, a myriad of personalities gathers to celebrate the annual symposium of the tech company, Kurlon. Dhruvika Kaurabwete, an intern from Bangalore, is networking with the CEO of Kurlon. Keanu, a long-time, dedicated employee of Kurlon, chats with Riyadh about the challenges they are facing with the latest project. Meanwhile, Laurette, a young, innovative designer, is sharing her experience of working in the company with Dhruvika. As the sun sets, the symposium concludes, and the group heads to a nearby rooftop bar, excited for the next part of the evening's agenda: a Q&A with the CTO of the company, who is also Keanu's mentor.\",\n",
       " 'Tabua, Baltasar, and Ksyusha had a lively conversation outside the offices of \"Innovative Minds\" in downtown Chicago. Inside, Jovani and Ignas were busy discussing their new project, oblivious to the commotion in the hallway. Tabua was trying to recall the name of another colleague, while Ksyusha busied herself with her phone, ignoring the incoherent mumbling of Baltasar nearby.',\n",
       " 'In the midst of the bustling New York City, numerous people gather at Madison Square Garden for a Knicks game. Among the diverse crowd, Ngobeni, Ngozi, and Niyelle enjoy the camaraderie and lively atmosphere. Ngobeni, an avid sports fan, is rooting for the Knicks while Ngozi and Niyelle are excited to be there for the first time. The three of them are all employees of TechCorp, a leading technology company in the city. As they watch the game, they share laughter and stories, creating memories that will last a lifetime.',\n",
       " 'Amidst the bustling city of Dubai, with the towering skyscrapers reaching for the sky, Solal could be seen mingling with fellow attendees at the annual meeting of the World Trade Organization. Raylin, a renowned economist, exchanged business cards with Haroldo, a prominent CEO of a multinational company. Meanwhile, Patinya, a successful entrepreneur, shared her experiences of overcoming adversities with Deidei, an up-and coming business analyst. With their ties loosened and their suits creased, everyone present at the meeting of the World Trade Organization left with valuable connections and an unforgettable experience.']"
      ]
     },
     "execution_count": 35,
     "metadata": {},
     "output_type": "execute_result"
    }
   ],
   "source": [
    "combined.shuffle()[:10][\"text\"]"
   ]
  },
  {
   "cell_type": "code",
   "execution_count": 36,
   "metadata": {},
   "outputs": [
    {
     "data": {
      "application/vnd.jupyter.widget-view+json": {
       "model_id": "01c9a0e934c34196929b617a34fb82f0",
       "version_major": 2,
       "version_minor": 0
      },
      "text/plain": [
       "Creating parquet from Arrow format:   0%|          | 0/43 [00:00<?, ?ba/s]"
      ]
     },
     "metadata": {},
     "output_type": "display_data"
    },
    {
     "data": {
      "text/plain": [
       "30160243"
      ]
     },
     "execution_count": 36,
     "metadata": {},
     "output_type": "execute_result"
    }
   ],
   "source": [
    "combined.to_parquet(\"/drive2/kaggle/pii-dd/data/name_paragraphs-v3.pq\")"
   ]
  }
 ],
 "metadata": {
  "kernelspec": {
   "display_name": "base",
   "language": "python",
   "name": "python3"
  },
  "language_info": {
   "codemirror_mode": {
    "name": "ipython",
    "version": 3
   },
   "file_extension": ".py",
   "mimetype": "text/x-python",
   "name": "python",
   "nbconvert_exporter": "python",
   "pygments_lexer": "ipython3",
   "version": "3.10.10"
  }
 },
 "nbformat": 4,
 "nbformat_minor": 2
}
