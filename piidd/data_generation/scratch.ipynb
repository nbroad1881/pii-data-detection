{
 "cells": [
  {
   "cell_type": "code",
   "execution_count": 14,
   "metadata": {},
   "outputs": [],
   "source": [
    "import os\n",
    "import json\n",
    "import random\n",
    "import string\n",
    "\n",
    "from huggingface_hub import InferenceClient\n",
    "from dotenv import load_dotenv\n",
    "from datasets import Dataset\n",
    "\n",
    "from piidd.data_generation.utils import random_string\n",
    "\n",
    "load_dotenv(\"../../.env\")\n",
    "client = InferenceClient(token=os.environ[\"HF_TOKEN\"])"
   ]
  },
  {
   "cell_type": "code",
   "execution_count": 8,
   "metadata": {},
   "outputs": [],
   "source": [
    "inspirational_people = list(set(open(\"./inspirational_people.txt\", \"r\").read().split(\"\\n\")))\n",
    "\n",
    "first_names = list(set(json.load(open(\"../../data/first_names.json\"))))\n",
    "bios = Dataset.from_json(\"../../data/professional_bios.json\")\n",
    "relations = [\n",
    "    \"friend\",\n",
    "    \"colleague\",\n",
    "    \"family member\",\n",
    "    \"mentor\",\n",
    "    \"coworker\",\n",
    "    \"teammate\",\n",
    "    \"acquaintance\",\n",
    "    \"partner\",\n",
    "    \"classmate\",\n",
    "    \"roommate\",\n",
    "    \"neighbor\",\n",
    "    \"associate\",\n",
    "    \"advisor\",\n",
    "    \"club member\",\n",
    "    \"peer\",\n",
    "    \"companion\",\n",
    "    \"fellow volunteer\",\n",
    "    \"protege\",\n",
    "    \"sponsor\",\n",
    "    \"confidant\",\n",
    "    \"collaborator\",\n",
    "    \"mentor\",\n",
    "    \"ally\",\n",
    "    \"consort\",\n",
    "    \"disciple\",\n",
    "    \"follower\",\n",
    "    \"mentee\",\n",
    "    \"subordinate\",\n",
    "    \"supervisor\",\n",
    "    \"trainee\",\n",
    "    \"apprentice\",\n",
    "    \"comrade\",\n",
    "]"
   ]
  },
  {
   "cell_type": "code",
   "execution_count": 9,
   "metadata": {},
   "outputs": [],
   "source": [
    "basic_prompt = open(\"./essay_instructions/basic_blog_post.txt\", \"r\").read()"
   ]
  },
  {
   "cell_type": "code",
   "execution_count": 16,
   "metadata": {},
   "outputs": [],
   "source": [
    "def make_full_prompt(example):\n",
    "\n",
    "    temp = \"# Instructions\\n\\n\"\n",
    "\n",
    "    temp += basic_prompt + \"\\n\\n\"\n",
    "\n",
    "    bio = random.choice(bios[\"bio\"])\n",
    "\n",
    "    temp += \"Write from the standpoint of the following person:\\n\\n\" + bio + \"\\n\\n\"\n",
    "\n",
    "    temp += \"## Guidelines\\n\\n\"\n",
    "\n",
    "    temp += \" - Write in 1st person\\n\"\n",
    "    temp += \" - Mention your website in the middle of the essay and use <<URL>> as a placeholder.\\n\"\n",
    "\n",
    "    relation = random.choice(relations)\n",
    "    rel_name = random.choice(first_names)\n",
    "    temp += f\" - Mention somewhere in the essay how your {relation} {rel_name} helped you.\\n\"\n",
    "\n",
    "    famous = random.choice(inspirational_people)\n",
    "\n",
    "    temp += f\" - Mention somewhere in the essay how {famous} affected you.\\n\"\n",
    "\n",
    "    temp += \" - The essay should be 500-1000 words\\n\\n\"\n",
    "\n",
    "    temp += \"# Essay\\n\\n\"\n",
    "\n",
    "    return {\n",
    "        \"starting_prompt\": \"basic_blog_post\",\n",
    "        \"rel_name\": rel_name,\n",
    "        \"famous\": famous,\n",
    "        \"bio\": bio,\n",
    "        \"full_prompt\": temp\n",
    "    }"
   ]
  },
  {
   "cell_type": "code",
   "execution_count": 27,
   "metadata": {},
   "outputs": [
    {
     "data": {
      "text/plain": [
       "{'starting_prompt': 'basic_blog_post',\n",
       " 'rel_name': 'Deborah',\n",
       " 'famous': 'Elie Wiesel',\n",
       " 'bio': 'A Cloud Virtualization Specialist in the Cloud Computing industry is a highly analytical and detail-oriented individual, dedicated to designing, implementing, and managing virtualized cloud environments. They possess exceptional problem-solving skills and a deep understanding of cloud infrastructure, enabling them to seamlessly integrate various virtualization technologies for optimized resource utilization. Friendly and approachable, they effectively collaborate with cross-functional teams and clients, ensuring smooth transitions to cloud-based systems while maintaining robust security and compliance standards.',\n",
       " 'full_prompt': '# Instructions\\n\\nWrite a blog about overcoming a challenge. Talk about what the problem was, how you approached it, what tools you used, how effective your approach was, and what you would do differently in the future.\\n\\nWrite from the standpoint of the following person:\\n\\nA Cloud Virtualization Specialist in the Cloud Computing industry is a highly analytical and detail-oriented individual, dedicated to designing, implementing, and managing virtualized cloud environments. They possess exceptional problem-solving skills and a deep understanding of cloud infrastructure, enabling them to seamlessly integrate various virtualization technologies for optimized resource utilization. Friendly and approachable, they effectively collaborate with cross-functional teams and clients, ensuring smooth transitions to cloud-based systems while maintaining robust security and compliance standards.\\n\\n## Guidelines\\n\\n - Write in 1st person\\n - Mention your website in the middle of the essay and use <<URL>> as a placeholder.\\n - Mention somewhere in the essay how your subordinate Deborah helped you.\\n - Mention somewhere in the essay how Elie Wiesel affected you.\\n - The essay should be 500-1000 words\\n\\n# Essay\\n\\n'}"
      ]
     },
     "execution_count": 27,
     "metadata": {},
     "output_type": "execute_result"
    }
   ],
   "source": [
    "x = make_full_prompt(1)\n",
    "x"
   ]
  },
  {
   "cell_type": "code",
   "execution_count": 15,
   "metadata": {},
   "outputs": [],
   "source": [
    "from datasets import Dataset\n",
    "\n",
    "ds = Dataset.from_dict({\"id\": [random_string(10) for _ in range(10)]})"
   ]
  },
  {
   "cell_type": "code",
   "execution_count": 19,
   "metadata": {},
   "outputs": [],
   "source": [
    "oai_key = os.environ[\"OPENAI_KEY\"]\n",
    "\n",
    "from openai import OpenAI\n",
    "\n",
    "client = OpenAI(\n",
    "    api_key=oai_key,\n",
    ")"
   ]
  },
  {
   "cell_type": "code",
   "execution_count": 30,
   "metadata": {},
   "outputs": [],
   "source": [
    "response = client.chat.completions.create(\n",
    "  model=\"gpt-3.5-turbo\",\n",
    "  messages=[\n",
    "    {\"role\": \"system\", \"content\": \"You are a helpful assistant.\"},\n",
    "    {\"role\": \"user\", \"content\": x[\"full_prompt\"]},\n",
    "  ]\n",
    ")"
   ]
  },
  {
   "cell_type": "code",
   "execution_count": 37,
   "metadata": {},
   "outputs": [
    {
     "name": "stdout",
     "output_type": "stream",
     "text": [
      "Overcoming Challenge Through Resilience and Collaboration\n",
      "\n",
      "As a Cloud Virtualization Specialist in the fast-paced realm of Cloud Computing, challenges are not uncommon. The dynamic nature of technology constantly presents hurdles that require analytical thinking, precision, and adaptability to overcome. One particular challenge stands out in my mind as a testament to the power of resilience and collaboration in tackling difficult situations.\n",
      "\n",
      "The problem at hand was a complex migration project involving the transfer of a large-scale virtualized environment to a new cloud infrastructure. The project timeline was tight, and the stakes were high to ensure a seamless transition without compromising data integrity or system performance. This task required a comprehensive understanding of virtualization technologies, meticulous planning, and effective execution strategies to minimize downtime and potential disruptions to the business operations relying on the cloud services.\n",
      "\n",
      "Approaching this challenge, I knew that a structured plan and a reliable team were essential for success. Leveraging my expertise in cloud infrastructure and virtualization, I devised a migration strategy that incorporated best practices and industry standards to guarantee a smooth transfer of resources. To facilitate the process, I utilized advanced virtualization tools and monitoring software to track progress, identify bottlenecks, and optimize resource allocation throughout the migration.\n",
      "\n",
      "Collaboration played a pivotal role in overcoming this challenge. Working closely with my colleague Deborah, who was instrumental in coordinating communication between different teams involved in the migration, we were able to streamline workflows, address issues promptly, and maintain transparency throughout the project. Deborah's organizational skills and proactive approach helped us stay on track and resolve potential roadblocks before they escalated, ensuring a successful outcome for the migration.\n",
      "\n",
      "In the midst of the project, I found inspiration in the words of Elie Wiesel, a Holocaust survivor and Nobel laureate, whose resilience and courage in the face of adversity resonated deeply with me. His unwavering commitment to speaking out against injustice and standing up for humanity's values reminded me of the importance of perseverance and integrity in overcoming challenges, no matter how daunting they may seem.\n",
      "\n",
      "As the migration neared completion, I reflected on the effectiveness of our approach and the valuable lessons learned from this experience. While the project was ultimately successful, there were areas where we could have improved our efficiency and communication to enhance the overall outcome. Looking ahead, I realized the importance of continuous learning and adaptation in the ever-evolving landscape of cloud computing.\n",
      "\n",
      "Through collaboration and perseverance, we not only overcame the challenge at hand but also strengthened our team's cohesion and problem-solving capabilities. As a Cloud Virtualization Specialist, I have come to appreciate the value of effective communication, strategic planning, and teamwork in navigating complex projects and delivering optimal results for our clients.\n",
      "\n",
      "To learn more about my experiences as a Cloud Virtualization Specialist and explore insights into cloud computing strategies, visit my website at <<URL>>. Join me on this journey of innovation and discovery as we harness the power of virtualization technologies to shape the future of cloud computing.\n",
      "\n",
      "In conclusion, overcoming challenges in the Cloud Computing industry requires a blend of technical expertise, collaborative effort, and a resilient mindset. By embracing these principles and learning from each experience, we can navigate obstacles with confidence and drive meaningful progress in this dynamic field. Let us continue to push the boundaries of virtualization and cloud infrastructure, guided by the lessons learned from past challenges and inspired by the resilience of those who have overcome adversity.\n"
     ]
    }
   ],
   "source": [
    "print(response.choices[0].message.content)"
   ]
  },
  {
   "cell_type": "code",
   "execution_count": 41,
   "metadata": {},
   "outputs": [
    {
     "data": {
      "application/vnd.jupyter.widget-view+json": {
       "model_id": "b5fa3283905a4387b11be5d104800dcb",
       "version_major": 2,
       "version_minor": 0
      },
      "text/plain": [
       "Generating train split: 0 examples [00:00, ? examples/s]"
      ]
     },
     "metadata": {},
     "output_type": "display_data"
    }
   ],
   "source": [
    "ds2 = Dataset.from_parquet(\"gpt-3.5-turbo-v1-part2.pq\")"
   ]
  },
  {
   "cell_type": "code",
   "execution_count": 43,
   "metadata": {},
   "outputs": [
    {
     "data": {
      "text/plain": [
       "[\"As an aerospace stress engineer, I am no stranger to challenges that test both my technical knowledge and problem-solving skills. One particular obstacle that stands out in my mind is when our team encountered a complex structural issue during the development phase of a new spacecraft component. The problem presented a significant roadblock in our project timeline and required innovative solutions to overcome.\\n\\nThe challenge stemmed from unexpected vibrations detected during testing, which raised concerns about the component's structural integrity under various operating conditions. As someone deeply invested in the safety and reliability of aerospace vehicles, I knew that addressing this issue was crucial to ensuring the success of our project. It was clear that a comprehensive analysis and redesign were necessary to meet the rigorous standards of the aerospace industry.\\n\\nApproaching this challenge required a combination of technical expertise, collaboration with cross-functional teams, and leveraging advanced simulation tools. I worked closely with my colleagues, including my fellow volunteer Infinity, who offered valuable insights and support throughout the problem-solving process. Infinity's fresh perspective and innovative ideas played a significant role in helping us brainstorm potential solutions and approach the problem from different angles.\\n\\nTo tackle the structural issue effectively, I utilized advanced simulation software to model and analyze different scenarios, allowing me to identify potential weak points and areas of improvement. By simulating the component's behavior under varying loads and conditions, I was able to pinpoint the root cause of the vibrations and propose optimized design modifications.\\n\\nFurthermore, I incorporated finite element analysis (FEA) techniques to predict the structural response of the component to external forces accurately. This computational tool proved invaluable in simulating complex stress distributions and optimizing the component's geometry to enhance its overall strength and durability. Through iterative analysis and testing, I was able to validate the effectiveness of our redesigned solution and ensure that it met the stringent safety requirements of the aerospace industry.\\n\\nUltimately, our team's collaborative efforts and strategic approach paid off, as we successfully resolved the structural issue and achieved our project goals within the stipulated timeline. The experience not only strengthened my technical skills but also reinforced the importance of teamwork and innovation in overcoming challenging obstacles in the aerospace field.\\n\\nReflecting on this experience, I am reminded of the words of Tim Cook, whose visionary leadership and commitment to excellence continue to inspire me in my journey as an aerospace stress engineer. Just as Tim Cook's dedication to innovation has transformed the technology industry, I strive to push the boundaries of aerospace engineering and contribute to the advancement of space exploration.\\n\\nIn conclusion, overcoming challenges in aerospace engineering requires a combination of analytical thinking, technical expertise, collaboration, and innovation. By leveraging advanced tools and working closely with cross-functional teams, I was able to address a complex structural issue and ensure the safety and reliability of our aerospace component. Looking ahead, I am excited to apply the lessons learned from this experience and continue pushing the boundaries of aerospace engineering to drive progress and innovation in the industry.\\n\\nFor more insights on aerospace engineering and innovation, visit my website at <<URL>>. Together, let's soar to new heights in the world of aerospace technology.\",\n",
       " \"Overcoming Challenges Through Strategic Vision and Collaboration\\n\\nAs a Community Development Director in the government industry, my primary goal has always been to enhance the well-being and quality of life for community members. Every day brings forth new challenges, but one particular obstacle stands out as a defining moment in my career - the revitalization of an aging public park in our community.\\n\\nThe problem became apparent when I received numerous complaints from residents about the deteriorating state of the park. The infrastructure was crumbling, the playground equipment was outdated and unsafe, and the overall ambiance of the park was uninviting. It was clear that action needed to be taken to address these issues and restore the park to its former glory.\\n\\nApproaching this challenge required a multi-faceted strategy that combined community engagement, strategic planning, and effective resource allocation. I decided to convene a meeting with stakeholders, including community members, local businesses, and government officials, to discuss the revitalization project. Their input was invaluable in shaping the vision for the park's future.\\n\\nOne tool that proved to be indispensable in this process was a collaborative project management platform that allowed us to streamline communication, track progress, and allocate tasks efficiently. With the help of my dedicated subordinate, Miecislaw, we were able to coordinate the efforts of various teams involved in the project and ensure that timelines were met.\\n\\nMiecislaw's expertise in budgeting and financial management was crucial in securing funding for the revitalization project. His meticulous attention to detail and strategic approach to resource allocation ensured that we maximized the impact of every dollar spent.\\n\\nIn the midst of planning and implementation, I found solace and inspiration in the works of Edgar Allan Poe. His dark and introspective writings reminded me of the importance of perseverance in the face of adversity. Poe's words fueled my determination to see the park revitalization through to completion, no matter the challenges that arose along the way.\\n\\nAs the project progressed, we encountered unforeseen obstacles that tested our resolve. Delays in obtaining necessary permits, inclement weather, and logistical issues threatened to derail our efforts. However, through open communication, flexibility, and a willingness to adapt to changing circumstances, we were able to overcome these challenges and stay on course.\\n\\nThe revitalization of the public park was ultimately a success, thanks to the collaborative efforts of all involved. The park now stands as a vibrant hub of community activity, offering a safe and welcoming space for residents of all ages to enjoy.\\n\\nLooking back on this experience, I realize that there are always lessons to be learned from every challenge we face. In the future, I would prioritize building stronger relationships with local stakeholders early on in the planning process to ensure their continued support and engagement. Additionally, I would invest more time in risk assessment and contingency planning to mitigate the impact of unforeseen obstacles.\\n\\nIn conclusion, overcoming challenges in community development requires a combination of strategic vision, effective collaboration, and a resilient mindset. By embracing these principles and learning from each hurdle we encounter, we can continue to make a positive impact on the lives of those we serve.\\n\\nFor more insights on community development and leadership, visit my website at <<URL>>. Together, let us work towards building stronger and more vibrant communities for the future.\",\n",
       " \"As an Environmental Scientist working in the Sustainable Energy industry, I have always been driven by a strong commitment to finding environmentally-friendly solutions to energy production. One particular challenge that stands out to me is when I was tasked with optimizing the efficiency of a solar panel installation in a remote community. The goal was to increase energy output while minimizing the impact on the local ecosystem.\\n\\nThe problem at hand was complex - the existing solar panel setup was not delivering the expected energy output, leading to power shortages in the community. This was not only affecting the residents' daily lives but also posing a risk to the sustainable energy project's overall success. I knew that I needed to tackle this challenge head-on, utilizing my analytical skills and expertise in renewable energy sources.\\n\\nTo approach this issue, I first conducted a thorough assessment of the current solar panel system. I analyzed data on energy production, examined the location and positioning of the panels, and considered environmental factors such as sunlight exposure and potential shading. It became clear that the panels were not optimized for maximum efficiency, and adjustments were necessary.\\n\\nDrawing on my knowledge of solar energy technologies, I explored different tools and methods to improve the system's performance. I used solar panel monitoring software to track energy production patterns and identify inefficiencies. Additionally, I integrated weather data analysis to predict sunlight availability and optimize the panel orientation accordingly.\\n\\nThroughout this process, the support of my acquaintance, Nevaeh, was invaluable. Nevaeh, a fellow Sustainable Energy enthusiast, provided insightful perspectives and technical expertise that complemented my own. Together, we brainstormed ideas, troubleshooted issues, and ultimately devised a comprehensive plan to enhance the solar panel system.\\n\\nAs I delved deeper into the project, I was inspired by the work of Helen Macdonald, a prominent environmentalist whose advocacy for sustainable energy solutions had a profound impact on me. Her unwavering dedication to protecting the environment and promoting renewable energy practices served as a reminder of the importance of my own work in the field.\\n\\nImplementing the optimizations to the solar panel system proved to be a success. By adjusting the panel angles, optimizing the wiring configurations, and incorporating efficiency-boosting technologies, we were able to significantly increase energy output. The community saw a noticeable improvement in power supply, and the project's overall sustainability was enhanced.\\n\\nReflecting on this challenge, I acknowledge that while our approach was effective, there are always opportunities for improvement. In the future, I would prioritize regular maintenance and performance monitoring to ensure the continued success of the solar panel system. Additionally, I would explore innovative technologies such as energy storage solutions to further enhance efficiency and reliability.\\n\\nIn conclusion, overcoming challenges in the pursuit of sustainable energy solutions requires determination, collaboration, and a commitment to constant improvement. By leveraging scientific expertise, embracing new technologies, and seeking inspiration from visionary leaders in the field, we can navigate obstacles and achieve impactful results. As I continue my journey as an Environmental Scientist, I am motivated by the progress we have made and eager to tackle future challenges with the same passion and dedication. To learn more about my work and environmental initiatives, visit my website at <<URL>>.\",\n",
       " 'As a Circulation Manager in the journalism industry, I am accustomed to navigating various challenges to ensure the seamless distribution of print and digital publications. One particular obstacle that stands out in my memory is when we faced a sudden spike in subscription cancellations due to a competitor\\'s aggressive promotional campaign.\\n\\nThe problem arose when a competitor launched a campaign offering steep discounts and exclusive perks to lure subscribers away from our publication. This led to a significant increase in cancellations, putting our circulation numbers at risk and impacting our revenue stream. As someone deeply invested in maximizing circulation revenue and minimizing costs, I knew I needed to act swiftly and decisively to overcome this challenge.\\n\\nMy first step was to analyze the data to understand the extent of the problem and identify patterns in the cancellations. I delved into circulation metrics, subscriber demographics, and feedback to gain insights into why our subscribers were switching allegiances. It became evident that the competitor\\'s promotional offers were a major driver of cancellations, highlighting the importance of responding strategically.\\n\\nTo address this issue, I devised a targeted promotional campaign that emphasized the unique value proposition of our publication. I collaborated closely with our marketing team to develop compelling messaging that highlighted our journalistic integrity, diverse content offerings, and exclusive features. By leveraging our strengths and highlighting what set us apart from the competition, we aimed to retain existing subscribers and attract new ones.\\n\\nIn addition to the promotional campaign, I also focused on strengthening relationships with our existing subscriber base. I initiated personalized outreach efforts, including exclusive access to behind-the-scenes content, subscriber events, and rewards programs. By fostering a sense of community and loyalty among our subscribers, I aimed to boost retention rates and solidify our publication\\'s position in the market.\\n\\nDuring this challenging period, the support of my roommate, Elizebeth, proved invaluable. Her fresh perspective and creative ideas injected new energy into our strategies, helping us approach the problem from different angles. Together, we brainstormed innovative solutions and collaborated effectively to execute our plans.\\n\\nAs I reflect on this experience, I am reminded of the resilience and adaptability required in the fast-paced world of journalism circulation management. Margot Robbie once said, \"As an actor, you\\'re constantly searching for that one character who really hits home,\" and in a way, I found that connection with the challenge I faced. It pushed me to think outside the box, collaborate with diverse teams, and ultimately emerge stronger and more agile in my approach.\\n\\nIn the end, our efforts paid off, and we not only successfully mitigated the impact of the competitor\\'s campaign but also saw a positive uptick in subscriber engagement and retention. Looking ahead, I have gained valuable insights from this experience that will guide my future strategic decisions. I plan to proactively monitor market trends, strengthen customer relationships, and innovate our circulation strategies to stay ahead of the curve.\\n\\nIn conclusion, overcoming challenges in the journalism industry requires a combination of analytical thinking, creative problem-solving, and effective collaboration. By staying true to our publication\\'s unique value proposition, building strong relationships with our stakeholders, and embracing innovation, I am confident in our ability to navigate any obstacles that come our way and continue to bring the news to readers with passion and dedication.\\n\\nTo learn more about how we tackle challenges in the circulation management field, visit our website at <<URL>>.',\n",
       " \"Facing and overcoming challenges is a fundamental aspect of my role as an ISO 27001 Consultant in the ever-evolving landscape of cybersecurity. One particular challenge that stands out in my memory is when I was tasked with guiding a medium-sized organization through the implementation of the ISO 27001 standard to enhance their information security management system.\\n\\nThe problem we were facing was two-fold: the organization lacked a structured approach to managing their information security, and there was a lack of awareness among staff about the importance of adhering to security policies and procedures. This combination made the task at hand both complex and critical for the organization's overall security posture.\\n\\nApproaching this challenge required a methodical and strategic mindset. I knew that successfully implementing the ISO 27001 standard would require buy-in from all levels of the organization, as well as meticulous planning and execution. I started by conducting a thorough gap analysis to identify areas where the organization fell short of the standard requirements. This analysis served as a roadmap for developing a tailored implementation plan that addressed the organization's specific needs and circumstances.\\n\\nThroughout the process, I leaned on my expertise in information security management systems and my ability to communicate complex concepts in a clear and accessible manner. I facilitated training sessions for staff to raise awareness about the importance of information security and provided guidance on how to comply with the ISO 27001 requirements effectively.\\n\\nIn addition to my expertise, I also relied on valuable tools and resources to streamline the implementation process. Implementing software solutions to automate certain security measures and track compliance progress proved to be instrumental in maintaining visibility and control over the implementation efforts.\\n\\nThe effectiveness of my approach was evident as the organization progressed steadily towards ISO 27001 certification. Compliance levels improved, staff became more vigilant about security practices, and a culture of security consciousness began to take root within the organization. The positive impact of these changes was palpable, with stakeholders expressing satisfaction and confidence in the organization's improved security posture.\\n\\nI must acknowledge the valuable assistance of my colleague and follower, Albert, who provided insightful perspectives and support throughout the implementation process. His expertise in risk management and technical knowledge complemented my skill set, and our collaboration undoubtedly contributed to the successful outcome of the project.\\n\\nReflecting on this challenge, I am reminded of the words of Tawakkol Karman, a prominent advocate for human rights and peace, whose relentless determination and courage have inspired me in my own endeavors. Her unwavering commitment to effecting positive change serves as a reminder that even the most daunting challenges can be overcome with perseverance, dedication, and a clear sense of purpose.\\n\\nAs I look towards the future, I am cognizant of areas where I could improve my approach to similar challenges. In hindsight, I realize the importance of fostering a deeper understanding of the organizational culture and dynamics to tailor solutions more effectively. Building stronger relationships with key stakeholders and fostering a culture of continuous improvement are areas I will focus on to enhance the impact of my consulting services in the future.\\n\\nIn conclusion, overcoming the challenge of implementing the ISO 27001 standard for the organization was a rewarding experience that highlighted the importance of resilience, collaboration, and continuous learning in the field of cybersecurity. With each challenge I face, I grow stronger and more equipped to make a positive impact on the security posture of the organizations I serve.\\n\\nTo learn more about my approach to information security management systems and ISO 27001 implementation, visit my website at <<URL>>.\"]"
      ]
     },
     "execution_count": 43,
     "metadata": {},
     "output_type": "execute_result"
    }
   ],
   "source": [
    "ds2[:5][\"response\"]"
   ]
  },
  {
   "cell_type": "code",
   "execution_count": 42,
   "metadata": {},
   "outputs": [
    {
     "data": {
      "text/plain": [
       "0"
      ]
     },
     "execution_count": 42,
     "metadata": {},
     "output_type": "execute_result"
    }
   ],
   "source": [
    "len([x for x in ds2[\"response\"] if \"ERROR\" in x])"
   ]
  }
 ],
 "metadata": {
  "kernelspec": {
   "display_name": "base",
   "language": "python",
   "name": "python3"
  },
  "language_info": {
   "codemirror_mode": {
    "name": "ipython",
    "version": 3
   },
   "file_extension": ".py",
   "mimetype": "text/x-python",
   "name": "python",
   "nbconvert_exporter": "python",
   "pygments_lexer": "ipython3",
   "version": "3.10.10"
  }
 },
 "nbformat": 4,
 "nbformat_minor": 2
}
