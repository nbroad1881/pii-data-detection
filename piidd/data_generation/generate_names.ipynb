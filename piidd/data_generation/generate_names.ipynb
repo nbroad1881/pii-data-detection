{
 "cells": [
  {
   "cell_type": "markdown",
   "metadata": {},
   "source": [
    "This notebook uses mixtral to generate names. This is an attempt to get a diverse range of names.\n",
    "\n",
    "It uses the csv found [here](https://github.com/lukes/ISO-3166-Countries-with-Regional-Codes/blob/master/all/all.csv) to insert country names into the prompt to get different names."
   ]
  },
  {
   "cell_type": "code",
   "execution_count": 2,
   "metadata": {},
   "outputs": [],
   "source": [
    "import pandas as pd\n",
    "import os\n",
    "import string\n",
    "import random\n",
    "import json\n",
    "\n",
    "\n",
    "from huggingface_hub import InferenceClient\n",
    "from dotenv import load_dotenv\n",
    "from datasets import Dataset\n",
    "\n",
    "load_dotenv(\"../../.env\")\n",
    "\n",
    "countries = pd.read_csv(\"../../data/countries.csv\")\n",
    "\n",
    "client = InferenceClient(token=os.environ[\"HF_TOKEN\"])"
   ]
  },
  {
   "cell_type": "code",
   "execution_count": 16,
   "metadata": {},
   "outputs": [],
   "source": [
    "def generate(example, first_name=True):\n",
    "\n",
    "    country = example[\"country\"]\n",
    "\n",
    "    name_type = \"first\" if first_name else \"last\"\n",
    "\n",
    "    rarity = random.choice([\"common\", \"uncommon\", \"rare\", \"unique\", \"very rare\", \"\"])\n",
    "\n",
    "    if len(rarity) != \"\":\n",
    "        rarity = f\"{rarity} \"\n",
    "\n",
    "    prompt = f\"\"\"\n",
    "<s> [INST] Generate 5 different {rarity}{name_type} names of people who live in the United States. Only provide the names and no explanation.\n",
    "\n",
    "Names:\n",
    "\n",
    "John\n",
    "Mary\n",
    "Nick\n",
    "Miles\n",
    "Sarah\n",
    "\n",
    "Generate 20 different {rarity}{name_type} names of people who live in {country}. Only provide the names and no explanation. [/INST]\n",
    "\n",
    "Names:\n",
    "\n",
    "\"\"\".lstrip()\n",
    "\n",
    "    try:\n",
    "        r = client.post(\n",
    "            json={\n",
    "                \"inputs\": prompt,\n",
    "                \"parameters\": {\n",
    "                    \"max_new_tokens\": 300,\n",
    "                    \"top_k\": 50,\n",
    "                    \"temperature\": 1.0,\n",
    "                    \"return_full_text\": False,\n",
    "                    \"stop\": [\"\\n\\n\"]\n",
    "                },\n",
    "                \"options\": {\"use_cache\": False},\n",
    "            },\n",
    "            model=\"mistralai/Mixtral-8x7B-Instruct-v0.1\",\n",
    "        )\n",
    "\n",
    "        text = json.loads(r.decode())[0][\"generated_text\"]\n",
    "\n",
    "    except Exception as e:\n",
    "        print(e)\n",
    "        text = \"<|Error|>\"\n",
    "\n",
    "    return {\n",
    "        \"generated_text\": text,\n",
    "        \"rarity\": rarity,\n",
    "    }"
   ]
  },
  {
   "cell_type": "code",
   "execution_count": 17,
   "metadata": {},
   "outputs": [],
   "source": [
    "def random_string(length):\n",
    "    letters = string.ascii_lowercase\n",
    "    return \"\".join(random.choice(letters) for i in range(length))"
   ]
  },
  {
   "cell_type": "code",
   "execution_count": 21,
   "metadata": {},
   "outputs": [
    {
     "data": {
      "application/vnd.jupyter.widget-view+json": {
       "model_id": "20559b5644204c3eb9b79509075a4f0d",
       "version_major": 2,
       "version_minor": 0
      },
      "text/plain": [
       "Map (num_proc=10):   0%|          | 0/249 [00:00<?, ? examples/s]"
      ]
     },
     "metadata": {},
     "output_type": "display_data"
    },
    {
     "data": {
      "application/vnd.jupyter.widget-view+json": {
       "model_id": "9f23ba9de66b48e89d39a0c08f5624fb",
       "version_major": 2,
       "version_minor": 0
      },
      "text/plain": [
       "Creating parquet from Arrow format:   0%|          | 0/1 [00:00<?, ?ba/s]"
      ]
     },
     "metadata": {},
     "output_type": "display_data"
    },
    {
     "data": {
      "application/vnd.jupyter.widget-view+json": {
       "model_id": "74a38c528c1f4a57be0225bbf9235918",
       "version_major": 2,
       "version_minor": 0
      },
      "text/plain": [
       "Map (num_proc=10):   0%|          | 0/249 [00:00<?, ? examples/s]"
      ]
     },
     "metadata": {},
     "output_type": "display_data"
    },
    {
     "data": {
      "application/vnd.jupyter.widget-view+json": {
       "model_id": "34064b342b7642479f99e8a5ded4b7e8",
       "version_major": 2,
       "version_minor": 0
      },
      "text/plain": [
       "Creating parquet from Arrow format:   0%|          | 0/1 [00:00<?, ?ba/s]"
      ]
     },
     "metadata": {},
     "output_type": "display_data"
    },
    {
     "data": {
      "application/vnd.jupyter.widget-view+json": {
       "model_id": "5306c5cd0756427cbee249153ea6f5c6",
       "version_major": 2,
       "version_minor": 0
      },
      "text/plain": [
       "Map (num_proc=10):   0%|          | 0/249 [00:00<?, ? examples/s]"
      ]
     },
     "metadata": {},
     "output_type": "display_data"
    },
    {
     "data": {
      "application/vnd.jupyter.widget-view+json": {
       "model_id": "7a6fcf1670504215bca81dbd325b3b4f",
       "version_major": 2,
       "version_minor": 0
      },
      "text/plain": [
       "Creating parquet from Arrow format:   0%|          | 0/1 [00:00<?, ?ba/s]"
      ]
     },
     "metadata": {},
     "output_type": "display_data"
    },
    {
     "data": {
      "application/vnd.jupyter.widget-view+json": {
       "model_id": "949bb836e47349b780d8bf65ce5d3af2",
       "version_major": 2,
       "version_minor": 0
      },
      "text/plain": [
       "Map (num_proc=10):   0%|          | 0/249 [00:00<?, ? examples/s]"
      ]
     },
     "metadata": {},
     "output_type": "display_data"
    },
    {
     "data": {
      "application/vnd.jupyter.widget-view+json": {
       "model_id": "d066c7030a124f5797994ce849502290",
       "version_major": 2,
       "version_minor": 0
      },
      "text/plain": [
       "Creating parquet from Arrow format:   0%|          | 0/1 [00:00<?, ?ba/s]"
      ]
     },
     "metadata": {},
     "output_type": "display_data"
    },
    {
     "data": {
      "application/vnd.jupyter.widget-view+json": {
       "model_id": "d078af8e98cd49c4885c3cafc9508ac3",
       "version_major": 2,
       "version_minor": 0
      },
      "text/plain": [
       "Map (num_proc=10):   0%|          | 0/249 [00:00<?, ? examples/s]"
      ]
     },
     "metadata": {},
     "output_type": "display_data"
    },
    {
     "data": {
      "application/vnd.jupyter.widget-view+json": {
       "model_id": "3da17322af7a4ee8b59e16cf0ec24f7d",
       "version_major": 2,
       "version_minor": 0
      },
      "text/plain": [
       "Creating parquet from Arrow format:   0%|          | 0/1 [00:00<?, ?ba/s]"
      ]
     },
     "metadata": {},
     "output_type": "display_data"
    },
    {
     "data": {
      "application/vnd.jupyter.widget-view+json": {
       "model_id": "7c556df8174a4f60ad5048626d7d6976",
       "version_major": 2,
       "version_minor": 0
      },
      "text/plain": [
       "Map (num_proc=10):   0%|          | 0/249 [00:00<?, ? examples/s]"
      ]
     },
     "metadata": {},
     "output_type": "display_data"
    },
    {
     "data": {
      "application/vnd.jupyter.widget-view+json": {
       "model_id": "f0a9f48324744e9399223548fc5018aa",
       "version_major": 2,
       "version_minor": 0
      },
      "text/plain": [
       "Creating parquet from Arrow format:   0%|          | 0/1 [00:00<?, ?ba/s]"
      ]
     },
     "metadata": {},
     "output_type": "display_data"
    },
    {
     "data": {
      "application/vnd.jupyter.widget-view+json": {
       "model_id": "c16a7204b8cc4fd6a58072b5b5a366cb",
       "version_major": 2,
       "version_minor": 0
      },
      "text/plain": [
       "Map (num_proc=10):   0%|          | 0/249 [00:00<?, ? examples/s]"
      ]
     },
     "metadata": {},
     "output_type": "display_data"
    },
    {
     "data": {
      "application/vnd.jupyter.widget-view+json": {
       "model_id": "b9e43f2fa7f64897812e1cfe865fbb5d",
       "version_major": 2,
       "version_minor": 0
      },
      "text/plain": [
       "Creating parquet from Arrow format:   0%|          | 0/1 [00:00<?, ?ba/s]"
      ]
     },
     "metadata": {},
     "output_type": "display_data"
    },
    {
     "data": {
      "application/vnd.jupyter.widget-view+json": {
       "model_id": "979d95d5f0194058a8ec103020e79704",
       "version_major": 2,
       "version_minor": 0
      },
      "text/plain": [
       "Map (num_proc=10):   0%|          | 0/249 [00:00<?, ? examples/s]"
      ]
     },
     "metadata": {},
     "output_type": "display_data"
    },
    {
     "data": {
      "application/vnd.jupyter.widget-view+json": {
       "model_id": "f73637b8fc6f428fadaaedf9b1703e5f",
       "version_major": 2,
       "version_minor": 0
      },
      "text/plain": [
       "Creating parquet from Arrow format:   0%|          | 0/1 [00:00<?, ?ba/s]"
      ]
     },
     "metadata": {},
     "output_type": "display_data"
    },
    {
     "data": {
      "application/vnd.jupyter.widget-view+json": {
       "model_id": "840095d2844c441fb8084003c259c070",
       "version_major": 2,
       "version_minor": 0
      },
      "text/plain": [
       "Map (num_proc=10):   0%|          | 0/249 [00:00<?, ? examples/s]"
      ]
     },
     "metadata": {},
     "output_type": "display_data"
    },
    {
     "data": {
      "application/vnd.jupyter.widget-view+json": {
       "model_id": "af347f23584949558b6dbaa8885328fe",
       "version_major": 2,
       "version_minor": 0
      },
      "text/plain": [
       "Creating parquet from Arrow format:   0%|          | 0/1 [00:00<?, ?ba/s]"
      ]
     },
     "metadata": {},
     "output_type": "display_data"
    },
    {
     "data": {
      "application/vnd.jupyter.widget-view+json": {
       "model_id": "7a034d759a5f41899c61deaf05b431f8",
       "version_major": 2,
       "version_minor": 0
      },
      "text/plain": [
       "Map (num_proc=10):   0%|          | 0/249 [00:00<?, ? examples/s]"
      ]
     },
     "metadata": {},
     "output_type": "display_data"
    },
    {
     "data": {
      "application/vnd.jupyter.widget-view+json": {
       "model_id": "044f58a9ddaa4f9aa2f650f141f79f7e",
       "version_major": 2,
       "version_minor": 0
      },
      "text/plain": [
       "Creating parquet from Arrow format:   0%|          | 0/1 [00:00<?, ?ba/s]"
      ]
     },
     "metadata": {},
     "output_type": "display_data"
    },
    {
     "data": {
      "application/vnd.jupyter.widget-view+json": {
       "model_id": "299775df8e9a401990f18307a0ecd165",
       "version_major": 2,
       "version_minor": 0
      },
      "text/plain": [
       "Map (num_proc=10):   0%|          | 0/249 [00:00<?, ? examples/s]"
      ]
     },
     "metadata": {},
     "output_type": "display_data"
    },
    {
     "data": {
      "application/vnd.jupyter.widget-view+json": {
       "model_id": "3275b4d841ee4bb593e2bbd349e66186",
       "version_major": 2,
       "version_minor": 0
      },
      "text/plain": [
       "Creating parquet from Arrow format:   0%|          | 0/1 [00:00<?, ?ba/s]"
      ]
     },
     "metadata": {},
     "output_type": "display_data"
    },
    {
     "data": {
      "application/vnd.jupyter.widget-view+json": {
       "model_id": "75605814289544f2af61bfdd54fad253",
       "version_major": 2,
       "version_minor": 0
      },
      "text/plain": [
       "Map (num_proc=10):   0%|          | 0/249 [00:00<?, ? examples/s]"
      ]
     },
     "metadata": {},
     "output_type": "display_data"
    },
    {
     "data": {
      "application/vnd.jupyter.widget-view+json": {
       "model_id": "9ec42f79ff304e1f9789744155e38861",
       "version_major": 2,
       "version_minor": 0
      },
      "text/plain": [
       "Creating parquet from Arrow format:   0%|          | 0/1 [00:00<?, ?ba/s]"
      ]
     },
     "metadata": {},
     "output_type": "display_data"
    },
    {
     "data": {
      "application/vnd.jupyter.widget-view+json": {
       "model_id": "f768414155d44337b2d44201af3bea54",
       "version_major": 2,
       "version_minor": 0
      },
      "text/plain": [
       "Map (num_proc=10):   0%|          | 0/249 [00:00<?, ? examples/s]"
      ]
     },
     "metadata": {},
     "output_type": "display_data"
    },
    {
     "data": {
      "application/vnd.jupyter.widget-view+json": {
       "model_id": "484fdfc40c4f438c86e86e151304c8c4",
       "version_major": 2,
       "version_minor": 0
      },
      "text/plain": [
       "Creating parquet from Arrow format:   0%|          | 0/1 [00:00<?, ?ba/s]"
      ]
     },
     "metadata": {},
     "output_type": "display_data"
    },
    {
     "data": {
      "application/vnd.jupyter.widget-view+json": {
       "model_id": "84cdf677e7d649338aaae8b68a94d8a3",
       "version_major": 2,
       "version_minor": 0
      },
      "text/plain": [
       "Map (num_proc=10):   0%|          | 0/249 [00:00<?, ? examples/s]"
      ]
     },
     "metadata": {},
     "output_type": "display_data"
    },
    {
     "data": {
      "application/vnd.jupyter.widget-view+json": {
       "model_id": "1040f8c4706448ce946a9844ece5f190",
       "version_major": 2,
       "version_minor": 0
      },
      "text/plain": [
       "Creating parquet from Arrow format:   0%|          | 0/1 [00:00<?, ?ba/s]"
      ]
     },
     "metadata": {},
     "output_type": "display_data"
    },
    {
     "data": {
      "application/vnd.jupyter.widget-view+json": {
       "model_id": "1dfc76fe592e4c0b8a5bf0d73c9b5448",
       "version_major": 2,
       "version_minor": 0
      },
      "text/plain": [
       "Map (num_proc=10):   0%|          | 0/249 [00:00<?, ? examples/s]"
      ]
     },
     "metadata": {},
     "output_type": "display_data"
    },
    {
     "data": {
      "application/vnd.jupyter.widget-view+json": {
       "model_id": "2a2cb14df88941b3b3067bdeaaace887",
       "version_major": 2,
       "version_minor": 0
      },
      "text/plain": [
       "Creating parquet from Arrow format:   0%|          | 0/1 [00:00<?, ?ba/s]"
      ]
     },
     "metadata": {},
     "output_type": "display_data"
    },
    {
     "data": {
      "application/vnd.jupyter.widget-view+json": {
       "model_id": "c8565a5fed4b48b7a5e0b32e9c649e94",
       "version_major": 2,
       "version_minor": 0
      },
      "text/plain": [
       "Map (num_proc=10):   0%|          | 0/249 [00:00<?, ? examples/s]"
      ]
     },
     "metadata": {},
     "output_type": "display_data"
    },
    {
     "data": {
      "application/vnd.jupyter.widget-view+json": {
       "model_id": "83e9b6f5cac34f48b818ced8b79ea343",
       "version_major": 2,
       "version_minor": 0
      },
      "text/plain": [
       "Creating parquet from Arrow format:   0%|          | 0/1 [00:00<?, ?ba/s]"
      ]
     },
     "metadata": {},
     "output_type": "display_data"
    },
    {
     "data": {
      "application/vnd.jupyter.widget-view+json": {
       "model_id": "7efa63294f10466bb5b72c80aa5c0c93",
       "version_major": 2,
       "version_minor": 0
      },
      "text/plain": [
       "Map (num_proc=10):   0%|          | 0/249 [00:00<?, ? examples/s]"
      ]
     },
     "metadata": {},
     "output_type": "display_data"
    },
    {
     "data": {
      "application/vnd.jupyter.widget-view+json": {
       "model_id": "02c79e6991f24036801133300571c123",
       "version_major": 2,
       "version_minor": 0
      },
      "text/plain": [
       "Creating parquet from Arrow format:   0%|          | 0/1 [00:00<?, ?ba/s]"
      ]
     },
     "metadata": {},
     "output_type": "display_data"
    },
    {
     "data": {
      "application/vnd.jupyter.widget-view+json": {
       "model_id": "02e11d602e334009832cad8f52b4a27c",
       "version_major": 2,
       "version_minor": 0
      },
      "text/plain": [
       "Map (num_proc=10):   0%|          | 0/249 [00:00<?, ? examples/s]"
      ]
     },
     "metadata": {},
     "output_type": "display_data"
    },
    {
     "data": {
      "application/vnd.jupyter.widget-view+json": {
       "model_id": "9dcba9e833ee4a329a8fcfd6a358c26a",
       "version_major": 2,
       "version_minor": 0
      },
      "text/plain": [
       "Creating parquet from Arrow format:   0%|          | 0/1 [00:00<?, ?ba/s]"
      ]
     },
     "metadata": {},
     "output_type": "display_data"
    },
    {
     "data": {
      "application/vnd.jupyter.widget-view+json": {
       "model_id": "3461526580284d5a94d8343bb718c7f7",
       "version_major": 2,
       "version_minor": 0
      },
      "text/plain": [
       "Map (num_proc=10):   0%|          | 0/249 [00:00<?, ? examples/s]"
      ]
     },
     "metadata": {},
     "output_type": "display_data"
    },
    {
     "data": {
      "application/vnd.jupyter.widget-view+json": {
       "model_id": "4396d369387b4b1c937ecc7db51852ac",
       "version_major": 2,
       "version_minor": 0
      },
      "text/plain": [
       "Creating parquet from Arrow format:   0%|          | 0/1 [00:00<?, ?ba/s]"
      ]
     },
     "metadata": {},
     "output_type": "display_data"
    },
    {
     "data": {
      "application/vnd.jupyter.widget-view+json": {
       "model_id": "bcc9af35da0d4c689d37dff44cb7f7f0",
       "version_major": 2,
       "version_minor": 0
      },
      "text/plain": [
       "Map (num_proc=10):   0%|          | 0/249 [00:00<?, ? examples/s]"
      ]
     },
     "metadata": {},
     "output_type": "display_data"
    },
    {
     "data": {
      "application/vnd.jupyter.widget-view+json": {
       "model_id": "a9a18811f4d141d3b4b00e61d721d8dc",
       "version_major": 2,
       "version_minor": 0
      },
      "text/plain": [
       "Creating parquet from Arrow format:   0%|          | 0/1 [00:00<?, ?ba/s]"
      ]
     },
     "metadata": {},
     "output_type": "display_data"
    },
    {
     "data": {
      "application/vnd.jupyter.widget-view+json": {
       "model_id": "aed0f581c94245aa9c7b4419a5e5ad0e",
       "version_major": 2,
       "version_minor": 0
      },
      "text/plain": [
       "Map (num_proc=10):   0%|          | 0/249 [00:00<?, ? examples/s]"
      ]
     },
     "metadata": {},
     "output_type": "display_data"
    },
    {
     "data": {
      "application/vnd.jupyter.widget-view+json": {
       "model_id": "7aaa9e5a3a74401a85316b2d8756dcfb",
       "version_major": 2,
       "version_minor": 0
      },
      "text/plain": [
       "Creating parquet from Arrow format:   0%|          | 0/1 [00:00<?, ?ba/s]"
      ]
     },
     "metadata": {},
     "output_type": "display_data"
    },
    {
     "data": {
      "application/vnd.jupyter.widget-view+json": {
       "model_id": "c2068657cb6640ba96b9369b19477e37",
       "version_major": 2,
       "version_minor": 0
      },
      "text/plain": [
       "Map (num_proc=10):   0%|          | 0/249 [00:00<?, ? examples/s]"
      ]
     },
     "metadata": {},
     "output_type": "display_data"
    },
    {
     "data": {
      "application/vnd.jupyter.widget-view+json": {
       "model_id": "d839a65b9a8f4f5f9ccd20285b60159f",
       "version_major": 2,
       "version_minor": 0
      },
      "text/plain": [
       "Creating parquet from Arrow format:   0%|          | 0/1 [00:00<?, ?ba/s]"
      ]
     },
     "metadata": {},
     "output_type": "display_data"
    },
    {
     "data": {
      "application/vnd.jupyter.widget-view+json": {
       "model_id": "ad2bab3b9c534232a40445b923022dd7",
       "version_major": 2,
       "version_minor": 0
      },
      "text/plain": [
       "Map (num_proc=10):   0%|          | 0/249 [00:00<?, ? examples/s]"
      ]
     },
     "metadata": {},
     "output_type": "display_data"
    },
    {
     "data": {
      "application/vnd.jupyter.widget-view+json": {
       "model_id": "18dcccef55b54ecdaeffdfa21b2be83c",
       "version_major": 2,
       "version_minor": 0
      },
      "text/plain": [
       "Creating parquet from Arrow format:   0%|          | 0/1 [00:00<?, ?ba/s]"
      ]
     },
     "metadata": {},
     "output_type": "display_data"
    },
    {
     "data": {
      "application/vnd.jupyter.widget-view+json": {
       "model_id": "aa5d203b2940446f9970301fd5ca63ff",
       "version_major": 2,
       "version_minor": 0
      },
      "text/plain": [
       "Map (num_proc=10):   0%|          | 0/249 [00:00<?, ? examples/s]"
      ]
     },
     "metadata": {},
     "output_type": "display_data"
    },
    {
     "data": {
      "application/vnd.jupyter.widget-view+json": {
       "model_id": "09ccde2d266f460c991af6513f65b1d6",
       "version_major": 2,
       "version_minor": 0
      },
      "text/plain": [
       "Creating parquet from Arrow format:   0%|          | 0/1 [00:00<?, ?ba/s]"
      ]
     },
     "metadata": {},
     "output_type": "display_data"
    },
    {
     "data": {
      "application/vnd.jupyter.widget-view+json": {
       "model_id": "594b1d17b5fa4e9bbdb929bc5c043b44",
       "version_major": 2,
       "version_minor": 0
      },
      "text/plain": [
       "Map (num_proc=10):   0%|          | 0/249 [00:00<?, ? examples/s]"
      ]
     },
     "metadata": {},
     "output_type": "display_data"
    },
    {
     "data": {
      "application/vnd.jupyter.widget-view+json": {
       "model_id": "9a4de36cb0b94bcd88613a8def8959b1",
       "version_major": 2,
       "version_minor": 0
      },
      "text/plain": [
       "Creating parquet from Arrow format:   0%|          | 0/1 [00:00<?, ?ba/s]"
      ]
     },
     "metadata": {},
     "output_type": "display_data"
    },
    {
     "data": {
      "application/vnd.jupyter.widget-view+json": {
       "model_id": "ad36d9a96eed4cf8a8b7e3b35d4cb1a4",
       "version_major": 2,
       "version_minor": 0
      },
      "text/plain": [
       "Map (num_proc=10):   0%|          | 0/249 [00:00<?, ? examples/s]"
      ]
     },
     "metadata": {},
     "output_type": "display_data"
    },
    {
     "data": {
      "application/vnd.jupyter.widget-view+json": {
       "model_id": "ff53278fda7947dda6062edb7fa10398",
       "version_major": 2,
       "version_minor": 0
      },
      "text/plain": [
       "Creating parquet from Arrow format:   0%|          | 0/1 [00:00<?, ?ba/s]"
      ]
     },
     "metadata": {},
     "output_type": "display_data"
    },
    {
     "data": {
      "application/vnd.jupyter.widget-view+json": {
       "model_id": "d0f355886097433cb11f88ed1d87e869",
       "version_major": 2,
       "version_minor": 0
      },
      "text/plain": [
       "Map (num_proc=10):   0%|          | 0/249 [00:00<?, ? examples/s]"
      ]
     },
     "metadata": {},
     "output_type": "display_data"
    },
    {
     "name": "stdout",
     "output_type": "stream",
     "text": [
      "502 Server Error: Bad Gateway for url: https://api-inference.huggingface.co/models/mistralai/Mixtral-8x7B-Instruct-v0.1\n"
     ]
    },
    {
     "data": {
      "application/vnd.jupyter.widget-view+json": {
       "model_id": "89f745b9e2e0404cad2d51b5314da458",
       "version_major": 2,
       "version_minor": 0
      },
      "text/plain": [
       "Creating parquet from Arrow format:   0%|          | 0/1 [00:00<?, ?ba/s]"
      ]
     },
     "metadata": {},
     "output_type": "display_data"
    },
    {
     "data": {
      "application/vnd.jupyter.widget-view+json": {
       "model_id": "e171c6d4333040e6bd3be147f80e8a14",
       "version_major": 2,
       "version_minor": 0
      },
      "text/plain": [
       "Map (num_proc=10):   0%|          | 0/249 [00:00<?, ? examples/s]"
      ]
     },
     "metadata": {},
     "output_type": "display_data"
    },
    {
     "data": {
      "application/vnd.jupyter.widget-view+json": {
       "model_id": "c6f27eefc200482ab3aa6186a8563074",
       "version_major": 2,
       "version_minor": 0
      },
      "text/plain": [
       "Creating parquet from Arrow format:   0%|          | 0/1 [00:00<?, ?ba/s]"
      ]
     },
     "metadata": {},
     "output_type": "display_data"
    },
    {
     "data": {
      "application/vnd.jupyter.widget-view+json": {
       "model_id": "f11f59ff97f943ba8f3f2989b016bf6e",
       "version_major": 2,
       "version_minor": 0
      },
      "text/plain": [
       "Map (num_proc=10):   0%|          | 0/249 [00:00<?, ? examples/s]"
      ]
     },
     "metadata": {},
     "output_type": "display_data"
    },
    {
     "data": {
      "application/vnd.jupyter.widget-view+json": {
       "model_id": "3ea4c4bac6b24e68b5cfc892e35138b9",
       "version_major": 2,
       "version_minor": 0
      },
      "text/plain": [
       "Creating parquet from Arrow format:   0%|          | 0/1 [00:00<?, ?ba/s]"
      ]
     },
     "metadata": {},
     "output_type": "display_data"
    },
    {
     "data": {
      "application/vnd.jupyter.widget-view+json": {
       "model_id": "c1794b6ddd6341f3984e319ecafaa6ae",
       "version_major": 2,
       "version_minor": 0
      },
      "text/plain": [
       "Map (num_proc=10):   0%|          | 0/249 [00:00<?, ? examples/s]"
      ]
     },
     "metadata": {},
     "output_type": "display_data"
    },
    {
     "data": {
      "application/vnd.jupyter.widget-view+json": {
       "model_id": "511d4278734f4339988948aee670a9c3",
       "version_major": 2,
       "version_minor": 0
      },
      "text/plain": [
       "Creating parquet from Arrow format:   0%|          | 0/1 [00:00<?, ?ba/s]"
      ]
     },
     "metadata": {},
     "output_type": "display_data"
    },
    {
     "data": {
      "application/vnd.jupyter.widget-view+json": {
       "model_id": "0c84c21f3ae24c9e9d6306446a6c7f45",
       "version_major": 2,
       "version_minor": 0
      },
      "text/plain": [
       "Map (num_proc=10):   0%|          | 0/249 [00:00<?, ? examples/s]"
      ]
     },
     "metadata": {},
     "output_type": "display_data"
    },
    {
     "data": {
      "application/vnd.jupyter.widget-view+json": {
       "model_id": "13b713c2c0e64cee8e9a566dd32fa030",
       "version_major": 2,
       "version_minor": 0
      },
      "text/plain": [
       "Creating parquet from Arrow format:   0%|          | 0/1 [00:00<?, ?ba/s]"
      ]
     },
     "metadata": {},
     "output_type": "display_data"
    },
    {
     "data": {
      "application/vnd.jupyter.widget-view+json": {
       "model_id": "b9f13253c890480caf07de8d588673f6",
       "version_major": 2,
       "version_minor": 0
      },
      "text/plain": [
       "Map (num_proc=10):   0%|          | 0/249 [00:00<?, ? examples/s]"
      ]
     },
     "metadata": {},
     "output_type": "display_data"
    },
    {
     "data": {
      "application/vnd.jupyter.widget-view+json": {
       "model_id": "d4353dee55c848d59fb0a4c8849c25d9",
       "version_major": 2,
       "version_minor": 0
      },
      "text/plain": [
       "Creating parquet from Arrow format:   0%|          | 0/1 [00:00<?, ?ba/s]"
      ]
     },
     "metadata": {},
     "output_type": "display_data"
    },
    {
     "data": {
      "application/vnd.jupyter.widget-view+json": {
       "model_id": "1bae22d32fe64caca3b1211c9937555d",
       "version_major": 2,
       "version_minor": 0
      },
      "text/plain": [
       "Map (num_proc=10):   0%|          | 0/249 [00:00<?, ? examples/s]"
      ]
     },
     "metadata": {},
     "output_type": "display_data"
    },
    {
     "data": {
      "application/vnd.jupyter.widget-view+json": {
       "model_id": "e23eb4bcb1f247b294a87bd0a8f681aa",
       "version_major": 2,
       "version_minor": 0
      },
      "text/plain": [
       "Creating parquet from Arrow format:   0%|          | 0/1 [00:00<?, ?ba/s]"
      ]
     },
     "metadata": {},
     "output_type": "display_data"
    },
    {
     "data": {
      "application/vnd.jupyter.widget-view+json": {
       "model_id": "f3264a3e645a4da5beb41819e5245221",
       "version_major": 2,
       "version_minor": 0
      },
      "text/plain": [
       "Map (num_proc=10):   0%|          | 0/249 [00:00<?, ? examples/s]"
      ]
     },
     "metadata": {},
     "output_type": "display_data"
    },
    {
     "data": {
      "application/vnd.jupyter.widget-view+json": {
       "model_id": "716da323eba242a88fd861670aec39b3",
       "version_major": 2,
       "version_minor": 0
      },
      "text/plain": [
       "Creating parquet from Arrow format:   0%|          | 0/1 [00:00<?, ?ba/s]"
      ]
     },
     "metadata": {},
     "output_type": "display_data"
    },
    {
     "data": {
      "application/vnd.jupyter.widget-view+json": {
       "model_id": "7e30f6fd68fd467d9ec53a29b419061b",
       "version_major": 2,
       "version_minor": 0
      },
      "text/plain": [
       "Map (num_proc=10):   0%|          | 0/249 [00:00<?, ? examples/s]"
      ]
     },
     "metadata": {},
     "output_type": "display_data"
    },
    {
     "data": {
      "application/vnd.jupyter.widget-view+json": {
       "model_id": "fe1da3044a6d4fbc9a000d38f9353ae5",
       "version_major": 2,
       "version_minor": 0
      },
      "text/plain": [
       "Creating parquet from Arrow format:   0%|          | 0/1 [00:00<?, ?ba/s]"
      ]
     },
     "metadata": {},
     "output_type": "display_data"
    },
    {
     "data": {
      "application/vnd.jupyter.widget-view+json": {
       "model_id": "3d8e725de64844f8bcf3983e75882c8d",
       "version_major": 2,
       "version_minor": 0
      },
      "text/plain": [
       "Map (num_proc=10):   0%|          | 0/249 [00:00<?, ? examples/s]"
      ]
     },
     "metadata": {},
     "output_type": "display_data"
    },
    {
     "data": {
      "application/vnd.jupyter.widget-view+json": {
       "model_id": "b5e2e857e4b74202be2814f99b02569e",
       "version_major": 2,
       "version_minor": 0
      },
      "text/plain": [
       "Creating parquet from Arrow format:   0%|          | 0/1 [00:00<?, ?ba/s]"
      ]
     },
     "metadata": {},
     "output_type": "display_data"
    },
    {
     "data": {
      "application/vnd.jupyter.widget-view+json": {
       "model_id": "405c9c438e3f45b7a02399b7764c0a66",
       "version_major": 2,
       "version_minor": 0
      },
      "text/plain": [
       "Map (num_proc=10):   0%|          | 0/249 [00:00<?, ? examples/s]"
      ]
     },
     "metadata": {},
     "output_type": "display_data"
    },
    {
     "data": {
      "application/vnd.jupyter.widget-view+json": {
       "model_id": "74037cee2ade4123a46fc9f00d7a32b6",
       "version_major": 2,
       "version_minor": 0
      },
      "text/plain": [
       "Creating parquet from Arrow format:   0%|          | 0/1 [00:00<?, ?ba/s]"
      ]
     },
     "metadata": {},
     "output_type": "display_data"
    },
    {
     "data": {
      "application/vnd.jupyter.widget-view+json": {
       "model_id": "44c33e087245474d9e1a263d3afb5456",
       "version_major": 2,
       "version_minor": 0
      },
      "text/plain": [
       "Map (num_proc=10):   0%|          | 0/249 [00:00<?, ? examples/s]"
      ]
     },
     "metadata": {},
     "output_type": "display_data"
    },
    {
     "name": "stdout",
     "output_type": "stream",
     "text": [
      "504 Server Error: Gateway Time-out for url: https://api-inference.huggingface.co/models/mistralai/Mixtral-8x7B-Instruct-v0.1\n"
     ]
    },
    {
     "data": {
      "application/vnd.jupyter.widget-view+json": {
       "model_id": "fb4e9f92f8b44b918916e1f0d4d83959",
       "version_major": 2,
       "version_minor": 0
      },
      "text/plain": [
       "Creating parquet from Arrow format:   0%|          | 0/1 [00:00<?, ?ba/s]"
      ]
     },
     "metadata": {},
     "output_type": "display_data"
    },
    {
     "data": {
      "application/vnd.jupyter.widget-view+json": {
       "model_id": "a96c80009ac04f72818dea1cfdaa55f2",
       "version_major": 2,
       "version_minor": 0
      },
      "text/plain": [
       "Map (num_proc=10):   0%|          | 0/249 [00:00<?, ? examples/s]"
      ]
     },
     "metadata": {},
     "output_type": "display_data"
    },
    {
     "data": {
      "application/vnd.jupyter.widget-view+json": {
       "model_id": "13ece58a78d94506a69e1ce4c6333cbb",
       "version_major": 2,
       "version_minor": 0
      },
      "text/plain": [
       "Creating parquet from Arrow format:   0%|          | 0/1 [00:00<?, ?ba/s]"
      ]
     },
     "metadata": {},
     "output_type": "display_data"
    },
    {
     "data": {
      "application/vnd.jupyter.widget-view+json": {
       "model_id": "a19f479fbcc9419b88922c8120f3a323",
       "version_major": 2,
       "version_minor": 0
      },
      "text/plain": [
       "Map (num_proc=10):   0%|          | 0/249 [00:00<?, ? examples/s]"
      ]
     },
     "metadata": {},
     "output_type": "display_data"
    },
    {
     "data": {
      "application/vnd.jupyter.widget-view+json": {
       "model_id": "dc30ebc3d1ae451194ba718b58b3f6d6",
       "version_major": 2,
       "version_minor": 0
      },
      "text/plain": [
       "Creating parquet from Arrow format:   0%|          | 0/1 [00:00<?, ?ba/s]"
      ]
     },
     "metadata": {},
     "output_type": "display_data"
    },
    {
     "data": {
      "application/vnd.jupyter.widget-view+json": {
       "model_id": "f2e7455afaa9463b93342e15255af123",
       "version_major": 2,
       "version_minor": 0
      },
      "text/plain": [
       "Map (num_proc=10):   0%|          | 0/249 [00:00<?, ? examples/s]"
      ]
     },
     "metadata": {},
     "output_type": "display_data"
    },
    {
     "data": {
      "application/vnd.jupyter.widget-view+json": {
       "model_id": "e977c7c39ca045c69b3c07b9cb696505",
       "version_major": 2,
       "version_minor": 0
      },
      "text/plain": [
       "Creating parquet from Arrow format:   0%|          | 0/1 [00:00<?, ?ba/s]"
      ]
     },
     "metadata": {},
     "output_type": "display_data"
    },
    {
     "data": {
      "application/vnd.jupyter.widget-view+json": {
       "model_id": "0882311a4c104283b3cd056f31777fc0",
       "version_major": 2,
       "version_minor": 0
      },
      "text/plain": [
       "Map (num_proc=10):   0%|          | 0/249 [00:00<?, ? examples/s]"
      ]
     },
     "metadata": {},
     "output_type": "display_data"
    },
    {
     "data": {
      "application/vnd.jupyter.widget-view+json": {
       "model_id": "cd8f63f3535b4bfab44a1c7f21b56d51",
       "version_major": 2,
       "version_minor": 0
      },
      "text/plain": [
       "Creating parquet from Arrow format:   0%|          | 0/1 [00:00<?, ?ba/s]"
      ]
     },
     "metadata": {},
     "output_type": "display_data"
    },
    {
     "data": {
      "application/vnd.jupyter.widget-view+json": {
       "model_id": "80d066fe503e4145934bae9d95b5ead7",
       "version_major": 2,
       "version_minor": 0
      },
      "text/plain": [
       "Map (num_proc=10):   0%|          | 0/249 [00:00<?, ? examples/s]"
      ]
     },
     "metadata": {},
     "output_type": "display_data"
    },
    {
     "data": {
      "application/vnd.jupyter.widget-view+json": {
       "model_id": "7b689726949e408aa1de8b621c01d585",
       "version_major": 2,
       "version_minor": 0
      },
      "text/plain": [
       "Creating parquet from Arrow format:   0%|          | 0/1 [00:00<?, ?ba/s]"
      ]
     },
     "metadata": {},
     "output_type": "display_data"
    },
    {
     "data": {
      "application/vnd.jupyter.widget-view+json": {
       "model_id": "d204cbad152c4b91b4e7d073bad33cc8",
       "version_major": 2,
       "version_minor": 0
      },
      "text/plain": [
       "Map (num_proc=10):   0%|          | 0/249 [00:00<?, ? examples/s]"
      ]
     },
     "metadata": {},
     "output_type": "display_data"
    },
    {
     "data": {
      "application/vnd.jupyter.widget-view+json": {
       "model_id": "690a4e27ae4c4bfdbd46578f818510c3",
       "version_major": 2,
       "version_minor": 0
      },
      "text/plain": [
       "Creating parquet from Arrow format:   0%|          | 0/1 [00:00<?, ?ba/s]"
      ]
     },
     "metadata": {},
     "output_type": "display_data"
    },
    {
     "data": {
      "application/vnd.jupyter.widget-view+json": {
       "model_id": "00264b6040c64e8284c37d1665926da2",
       "version_major": 2,
       "version_minor": 0
      },
      "text/plain": [
       "Map (num_proc=10):   0%|          | 0/249 [00:00<?, ? examples/s]"
      ]
     },
     "metadata": {},
     "output_type": "display_data"
    },
    {
     "data": {
      "application/vnd.jupyter.widget-view+json": {
       "model_id": "ddf1df1674db4cdea78d21e488401cda",
       "version_major": 2,
       "version_minor": 0
      },
      "text/plain": [
       "Creating parquet from Arrow format:   0%|          | 0/1 [00:00<?, ?ba/s]"
      ]
     },
     "metadata": {},
     "output_type": "display_data"
    },
    {
     "data": {
      "application/vnd.jupyter.widget-view+json": {
       "model_id": "1588f6957e9043b3a7c19c35e5717a82",
       "version_major": 2,
       "version_minor": 0
      },
      "text/plain": [
       "Map (num_proc=10):   0%|          | 0/249 [00:00<?, ? examples/s]"
      ]
     },
     "metadata": {},
     "output_type": "display_data"
    },
    {
     "data": {
      "application/vnd.jupyter.widget-view+json": {
       "model_id": "42979d8d2f46417985e387477d2f67ba",
       "version_major": 2,
       "version_minor": 0
      },
      "text/plain": [
       "Creating parquet from Arrow format:   0%|          | 0/1 [00:00<?, ?ba/s]"
      ]
     },
     "metadata": {},
     "output_type": "display_data"
    },
    {
     "data": {
      "application/vnd.jupyter.widget-view+json": {
       "model_id": "f1362f93d7364230b895ff3c08c266d6",
       "version_major": 2,
       "version_minor": 0
      },
      "text/plain": [
       "Map (num_proc=10):   0%|          | 0/249 [00:00<?, ? examples/s]"
      ]
     },
     "metadata": {},
     "output_type": "display_data"
    },
    {
     "data": {
      "application/vnd.jupyter.widget-view+json": {
       "model_id": "672fbb32d5194414b71a3b7a89df8958",
       "version_major": 2,
       "version_minor": 0
      },
      "text/plain": [
       "Creating parquet from Arrow format:   0%|          | 0/1 [00:00<?, ?ba/s]"
      ]
     },
     "metadata": {},
     "output_type": "display_data"
    },
    {
     "data": {
      "application/vnd.jupyter.widget-view+json": {
       "model_id": "7f4ced711a53496ca6bc05f8749b907c",
       "version_major": 2,
       "version_minor": 0
      },
      "text/plain": [
       "Map (num_proc=10):   0%|          | 0/249 [00:00<?, ? examples/s]"
      ]
     },
     "metadata": {},
     "output_type": "display_data"
    },
    {
     "data": {
      "application/vnd.jupyter.widget-view+json": {
       "model_id": "197dc02b73684a93b87157b3fb9870f9",
       "version_major": 2,
       "version_minor": 0
      },
      "text/plain": [
       "Creating parquet from Arrow format:   0%|          | 0/1 [00:00<?, ?ba/s]"
      ]
     },
     "metadata": {},
     "output_type": "display_data"
    },
    {
     "data": {
      "application/vnd.jupyter.widget-view+json": {
       "model_id": "577304e07191454ca677ec949a2aff4e",
       "version_major": 2,
       "version_minor": 0
      },
      "text/plain": [
       "Map (num_proc=10):   0%|          | 0/249 [00:00<?, ? examples/s]"
      ]
     },
     "metadata": {},
     "output_type": "display_data"
    },
    {
     "data": {
      "application/vnd.jupyter.widget-view+json": {
       "model_id": "879f16d8f8714b4eb371fe89d5b7a7fc",
       "version_major": 2,
       "version_minor": 0
      },
      "text/plain": [
       "Creating parquet from Arrow format:   0%|          | 0/1 [00:00<?, ?ba/s]"
      ]
     },
     "metadata": {},
     "output_type": "display_data"
    },
    {
     "data": {
      "application/vnd.jupyter.widget-view+json": {
       "model_id": "3ff29a0ed5b04434b064726e262cdd77",
       "version_major": 2,
       "version_minor": 0
      },
      "text/plain": [
       "Map (num_proc=10):   0%|          | 0/249 [00:00<?, ? examples/s]"
      ]
     },
     "metadata": {},
     "output_type": "display_data"
    },
    {
     "data": {
      "application/vnd.jupyter.widget-view+json": {
       "model_id": "29ad1b958180429bbc0511324aedbad5",
       "version_major": 2,
       "version_minor": 0
      },
      "text/plain": [
       "Creating parquet from Arrow format:   0%|          | 0/1 [00:00<?, ?ba/s]"
      ]
     },
     "metadata": {},
     "output_type": "display_data"
    },
    {
     "data": {
      "application/vnd.jupyter.widget-view+json": {
       "model_id": "05cae8a6f7f44f60a1af7f206469cc0a",
       "version_major": 2,
       "version_minor": 0
      },
      "text/plain": [
       "Map (num_proc=10):   0%|          | 0/249 [00:00<?, ? examples/s]"
      ]
     },
     "metadata": {},
     "output_type": "display_data"
    },
    {
     "data": {
      "application/vnd.jupyter.widget-view+json": {
       "model_id": "c99bbeb2933d4717b3024b6feefbb12a",
       "version_major": 2,
       "version_minor": 0
      },
      "text/plain": [
       "Creating parquet from Arrow format:   0%|          | 0/1 [00:00<?, ?ba/s]"
      ]
     },
     "metadata": {},
     "output_type": "display_data"
    },
    {
     "data": {
      "application/vnd.jupyter.widget-view+json": {
       "model_id": "2960436612dc49d49955cd3e52599489",
       "version_major": 2,
       "version_minor": 0
      },
      "text/plain": [
       "Map (num_proc=10):   0%|          | 0/249 [00:00<?, ? examples/s]"
      ]
     },
     "metadata": {},
     "output_type": "display_data"
    },
    {
     "data": {
      "application/vnd.jupyter.widget-view+json": {
       "model_id": "11a8eb9fa4a44478bead33ca1e8c6364",
       "version_major": 2,
       "version_minor": 0
      },
      "text/plain": [
       "Creating parquet from Arrow format:   0%|          | 0/1 [00:00<?, ?ba/s]"
      ]
     },
     "metadata": {},
     "output_type": "display_data"
    },
    {
     "data": {
      "application/vnd.jupyter.widget-view+json": {
       "model_id": "eaa52858993e4dedaa1f00fb6c5e27d6",
       "version_major": 2,
       "version_minor": 0
      },
      "text/plain": [
       "Map (num_proc=10):   0%|          | 0/249 [00:00<?, ? examples/s]"
      ]
     },
     "metadata": {},
     "output_type": "display_data"
    },
    {
     "name": "stdout",
     "output_type": "stream",
     "text": [
      "502 Server Error: Bad Gateway for url: https://api-inference.huggingface.co/models/mistralai/Mixtral-8x7B-Instruct-v0.1\n"
     ]
    },
    {
     "data": {
      "application/vnd.jupyter.widget-view+json": {
       "model_id": "8a4ab1f25f2043b196e64f90becffda0",
       "version_major": 2,
       "version_minor": 0
      },
      "text/plain": [
       "Creating parquet from Arrow format:   0%|          | 0/1 [00:00<?, ?ba/s]"
      ]
     },
     "metadata": {},
     "output_type": "display_data"
    },
    {
     "data": {
      "application/vnd.jupyter.widget-view+json": {
       "model_id": "fc689f2107584627a5127d0b2496d31b",
       "version_major": 2,
       "version_minor": 0
      },
      "text/plain": [
       "Map (num_proc=10):   0%|          | 0/249 [00:00<?, ? examples/s]"
      ]
     },
     "metadata": {},
     "output_type": "display_data"
    },
    {
     "data": {
      "application/vnd.jupyter.widget-view+json": {
       "model_id": "55f1a1eda350470a942fb7c765ae7417",
       "version_major": 2,
       "version_minor": 0
      },
      "text/plain": [
       "Creating parquet from Arrow format:   0%|          | 0/1 [00:00<?, ?ba/s]"
      ]
     },
     "metadata": {},
     "output_type": "display_data"
    },
    {
     "data": {
      "application/vnd.jupyter.widget-view+json": {
       "model_id": "a017687688084068a5e5e955994dc18c",
       "version_major": 2,
       "version_minor": 0
      },
      "text/plain": [
       "Map (num_proc=10):   0%|          | 0/249 [00:00<?, ? examples/s]"
      ]
     },
     "metadata": {},
     "output_type": "display_data"
    },
    {
     "data": {
      "application/vnd.jupyter.widget-view+json": {
       "model_id": "d0a0e37d4ac043328f9a50a35b15f3b5",
       "version_major": 2,
       "version_minor": 0
      },
      "text/plain": [
       "Creating parquet from Arrow format:   0%|          | 0/1 [00:00<?, ?ba/s]"
      ]
     },
     "metadata": {},
     "output_type": "display_data"
    },
    {
     "data": {
      "application/vnd.jupyter.widget-view+json": {
       "model_id": "724d48ad7f704ed0a00487e96dc58ad9",
       "version_major": 2,
       "version_minor": 0
      },
      "text/plain": [
       "Map (num_proc=10):   0%|          | 0/249 [00:00<?, ? examples/s]"
      ]
     },
     "metadata": {},
     "output_type": "display_data"
    },
    {
     "data": {
      "application/vnd.jupyter.widget-view+json": {
       "model_id": "bcf4182f70524a26b61c607123d2afa1",
       "version_major": 2,
       "version_minor": 0
      },
      "text/plain": [
       "Creating parquet from Arrow format:   0%|          | 0/1 [00:00<?, ?ba/s]"
      ]
     },
     "metadata": {},
     "output_type": "display_data"
    },
    {
     "data": {
      "application/vnd.jupyter.widget-view+json": {
       "model_id": "50326b98da4a4db380874c8e1032bcb5",
       "version_major": 2,
       "version_minor": 0
      },
      "text/plain": [
       "Map (num_proc=10):   0%|          | 0/249 [00:00<?, ? examples/s]"
      ]
     },
     "metadata": {},
     "output_type": "display_data"
    },
    {
     "data": {
      "application/vnd.jupyter.widget-view+json": {
       "model_id": "50bffa059f7140e592f5a2e0df533cfe",
       "version_major": 2,
       "version_minor": 0
      },
      "text/plain": [
       "Creating parquet from Arrow format:   0%|          | 0/1 [00:00<?, ?ba/s]"
      ]
     },
     "metadata": {},
     "output_type": "display_data"
    },
    {
     "data": {
      "application/vnd.jupyter.widget-view+json": {
       "model_id": "b127d6cdefdc4f058643a8b36d558d36",
       "version_major": 2,
       "version_minor": 0
      },
      "text/plain": [
       "Map (num_proc=10):   0%|          | 0/249 [00:00<?, ? examples/s]"
      ]
     },
     "metadata": {},
     "output_type": "display_data"
    },
    {
     "data": {
      "application/vnd.jupyter.widget-view+json": {
       "model_id": "610db552661b40328b99f4f196109754",
       "version_major": 2,
       "version_minor": 0
      },
      "text/plain": [
       "Creating parquet from Arrow format:   0%|          | 0/1 [00:00<?, ?ba/s]"
      ]
     },
     "metadata": {},
     "output_type": "display_data"
    },
    {
     "data": {
      "application/vnd.jupyter.widget-view+json": {
       "model_id": "0490a1c3ff664018809f9fb0d0253b24",
       "version_major": 2,
       "version_minor": 0
      },
      "text/plain": [
       "Map (num_proc=10):   0%|          | 0/249 [00:00<?, ? examples/s]"
      ]
     },
     "metadata": {},
     "output_type": "display_data"
    },
    {
     "data": {
      "application/vnd.jupyter.widget-view+json": {
       "model_id": "4bf2c2505bc14627a9534ee24217db9f",
       "version_major": 2,
       "version_minor": 0
      },
      "text/plain": [
       "Creating parquet from Arrow format:   0%|          | 0/1 [00:00<?, ?ba/s]"
      ]
     },
     "metadata": {},
     "output_type": "display_data"
    },
    {
     "data": {
      "application/vnd.jupyter.widget-view+json": {
       "model_id": "13c19fa9dd64421ab1b96a0d418efe5b",
       "version_major": 2,
       "version_minor": 0
      },
      "text/plain": [
       "Map (num_proc=10):   0%|          | 0/249 [00:00<?, ? examples/s]"
      ]
     },
     "metadata": {},
     "output_type": "display_data"
    },
    {
     "data": {
      "application/vnd.jupyter.widget-view+json": {
       "model_id": "0ad07a33983d44208c263c05622384d1",
       "version_major": 2,
       "version_minor": 0
      },
      "text/plain": [
       "Creating parquet from Arrow format:   0%|          | 0/1 [00:00<?, ?ba/s]"
      ]
     },
     "metadata": {},
     "output_type": "display_data"
    },
    {
     "data": {
      "application/vnd.jupyter.widget-view+json": {
       "model_id": "29ad734ddfb641e8bc99069c4872bb52",
       "version_major": 2,
       "version_minor": 0
      },
      "text/plain": [
       "Map (num_proc=10):   0%|          | 0/249 [00:00<?, ? examples/s]"
      ]
     },
     "metadata": {},
     "output_type": "display_data"
    },
    {
     "data": {
      "application/vnd.jupyter.widget-view+json": {
       "model_id": "318cdec4c53447c0b887e1593c66af3c",
       "version_major": 2,
       "version_minor": 0
      },
      "text/plain": [
       "Creating parquet from Arrow format:   0%|          | 0/1 [00:00<?, ?ba/s]"
      ]
     },
     "metadata": {},
     "output_type": "display_data"
    },
    {
     "data": {
      "application/vnd.jupyter.widget-view+json": {
       "model_id": "997685196e4c4333af644eab1c6c3fdb",
       "version_major": 2,
       "version_minor": 0
      },
      "text/plain": [
       "Map (num_proc=10):   0%|          | 0/249 [00:00<?, ? examples/s]"
      ]
     },
     "metadata": {},
     "output_type": "display_data"
    },
    {
     "data": {
      "application/vnd.jupyter.widget-view+json": {
       "model_id": "cdf6e42510af4eb1a064ef8536aabd41",
       "version_major": 2,
       "version_minor": 0
      },
      "text/plain": [
       "Creating parquet from Arrow format:   0%|          | 0/1 [00:00<?, ?ba/s]"
      ]
     },
     "metadata": {},
     "output_type": "display_data"
    },
    {
     "data": {
      "application/vnd.jupyter.widget-view+json": {
       "model_id": "55edc91746da4fde9cacbde65fe8708f",
       "version_major": 2,
       "version_minor": 0
      },
      "text/plain": [
       "Map (num_proc=10):   0%|          | 0/249 [00:00<?, ? examples/s]"
      ]
     },
     "metadata": {},
     "output_type": "display_data"
    },
    {
     "data": {
      "application/vnd.jupyter.widget-view+json": {
       "model_id": "0d6f8f19dbce4335b5941249ce049c31",
       "version_major": 2,
       "version_minor": 0
      },
      "text/plain": [
       "Creating parquet from Arrow format:   0%|          | 0/1 [00:00<?, ?ba/s]"
      ]
     },
     "metadata": {},
     "output_type": "display_data"
    },
    {
     "data": {
      "application/vnd.jupyter.widget-view+json": {
       "model_id": "48019e10787d431aaab4086c3cf24930",
       "version_major": 2,
       "version_minor": 0
      },
      "text/plain": [
       "Map (num_proc=10):   0%|          | 0/249 [00:00<?, ? examples/s]"
      ]
     },
     "metadata": {},
     "output_type": "display_data"
    },
    {
     "data": {
      "application/vnd.jupyter.widget-view+json": {
       "model_id": "ea67c8e9b1b34fddbee01f8acabb5cc7",
       "version_major": 2,
       "version_minor": 0
      },
      "text/plain": [
       "Creating parquet from Arrow format:   0%|          | 0/1 [00:00<?, ?ba/s]"
      ]
     },
     "metadata": {},
     "output_type": "display_data"
    },
    {
     "data": {
      "application/vnd.jupyter.widget-view+json": {
       "model_id": "922be1e69c9f4601ad476110a694b8d4",
       "version_major": 2,
       "version_minor": 0
      },
      "text/plain": [
       "Map (num_proc=10):   0%|          | 0/249 [00:00<?, ? examples/s]"
      ]
     },
     "metadata": {},
     "output_type": "display_data"
    },
    {
     "data": {
      "application/vnd.jupyter.widget-view+json": {
       "model_id": "e1e0a82e61164f13a74610f3ec915cb0",
       "version_major": 2,
       "version_minor": 0
      },
      "text/plain": [
       "Creating parquet from Arrow format:   0%|          | 0/1 [00:00<?, ?ba/s]"
      ]
     },
     "metadata": {},
     "output_type": "display_data"
    },
    {
     "data": {
      "application/vnd.jupyter.widget-view+json": {
       "model_id": "a7f4cde06bea4c868bc551157e2e535e",
       "version_major": 2,
       "version_minor": 0
      },
      "text/plain": [
       "Map (num_proc=10):   0%|          | 0/249 [00:00<?, ? examples/s]"
      ]
     },
     "metadata": {},
     "output_type": "display_data"
    },
    {
     "data": {
      "application/vnd.jupyter.widget-view+json": {
       "model_id": "bd692aca10ba49c2a6d4f269bf6fb0d0",
       "version_major": 2,
       "version_minor": 0
      },
      "text/plain": [
       "Creating parquet from Arrow format:   0%|          | 0/1 [00:00<?, ?ba/s]"
      ]
     },
     "metadata": {},
     "output_type": "display_data"
    },
    {
     "data": {
      "application/vnd.jupyter.widget-view+json": {
       "model_id": "a5996de69572411b8ff7d516baba9ad1",
       "version_major": 2,
       "version_minor": 0
      },
      "text/plain": [
       "Map (num_proc=10):   0%|          | 0/249 [00:00<?, ? examples/s]"
      ]
     },
     "metadata": {},
     "output_type": "display_data"
    },
    {
     "data": {
      "application/vnd.jupyter.widget-view+json": {
       "model_id": "a6055ac27b0d44d9b90ea9d5e71f994f",
       "version_major": 2,
       "version_minor": 0
      },
      "text/plain": [
       "Creating parquet from Arrow format:   0%|          | 0/1 [00:00<?, ?ba/s]"
      ]
     },
     "metadata": {},
     "output_type": "display_data"
    },
    {
     "data": {
      "application/vnd.jupyter.widget-view+json": {
       "model_id": "6ed87ff3153a445d9f3b3466c8c6ae76",
       "version_major": 2,
       "version_minor": 0
      },
      "text/plain": [
       "Map (num_proc=10):   0%|          | 0/249 [00:00<?, ? examples/s]"
      ]
     },
     "metadata": {},
     "output_type": "display_data"
    },
    {
     "data": {
      "application/vnd.jupyter.widget-view+json": {
       "model_id": "30e0f14ca67f41ec89604d3cadac016e",
       "version_major": 2,
       "version_minor": 0
      },
      "text/plain": [
       "Creating parquet from Arrow format:   0%|          | 0/1 [00:00<?, ?ba/s]"
      ]
     },
     "metadata": {},
     "output_type": "display_data"
    },
    {
     "data": {
      "application/vnd.jupyter.widget-view+json": {
       "model_id": "34292f8a1e7e4baba4deb47c8943d235",
       "version_major": 2,
       "version_minor": 0
      },
      "text/plain": [
       "Map (num_proc=10):   0%|          | 0/249 [00:00<?, ? examples/s]"
      ]
     },
     "metadata": {},
     "output_type": "display_data"
    },
    {
     "data": {
      "application/vnd.jupyter.widget-view+json": {
       "model_id": "b3cfcdaa5d2a484b9e3666cbd73d5427",
       "version_major": 2,
       "version_minor": 0
      },
      "text/plain": [
       "Creating parquet from Arrow format:   0%|          | 0/1 [00:00<?, ?ba/s]"
      ]
     },
     "metadata": {},
     "output_type": "display_data"
    },
    {
     "data": {
      "application/vnd.jupyter.widget-view+json": {
       "model_id": "317b1d6fa8f6404a84eace599af373a4",
       "version_major": 2,
       "version_minor": 0
      },
      "text/plain": [
       "Map (num_proc=10):   0%|          | 0/249 [00:00<?, ? examples/s]"
      ]
     },
     "metadata": {},
     "output_type": "display_data"
    },
    {
     "data": {
      "application/vnd.jupyter.widget-view+json": {
       "model_id": "d7dcb8e02ee34a29bcab87cc1709bcff",
       "version_major": 2,
       "version_minor": 0
      },
      "text/plain": [
       "Creating parquet from Arrow format:   0%|          | 0/1 [00:00<?, ?ba/s]"
      ]
     },
     "metadata": {},
     "output_type": "display_data"
    },
    {
     "data": {
      "application/vnd.jupyter.widget-view+json": {
       "model_id": "c078412734d941a78ac76f392f31c016",
       "version_major": 2,
       "version_minor": 0
      },
      "text/plain": [
       "Map (num_proc=10):   0%|          | 0/249 [00:00<?, ? examples/s]"
      ]
     },
     "metadata": {},
     "output_type": "display_data"
    },
    {
     "data": {
      "application/vnd.jupyter.widget-view+json": {
       "model_id": "fd7f0178820c43e28b59e88778303231",
       "version_major": 2,
       "version_minor": 0
      },
      "text/plain": [
       "Creating parquet from Arrow format:   0%|          | 0/1 [00:00<?, ?ba/s]"
      ]
     },
     "metadata": {},
     "output_type": "display_data"
    },
    {
     "data": {
      "application/vnd.jupyter.widget-view+json": {
       "model_id": "6e8d182a6435406a8983f21d356c9d0a",
       "version_major": 2,
       "version_minor": 0
      },
      "text/plain": [
       "Map (num_proc=10):   0%|          | 0/249 [00:00<?, ? examples/s]"
      ]
     },
     "metadata": {},
     "output_type": "display_data"
    },
    {
     "data": {
      "application/vnd.jupyter.widget-view+json": {
       "model_id": "cea2b75d707e4a5a86a5cc9350beb513",
       "version_major": 2,
       "version_minor": 0
      },
      "text/plain": [
       "Creating parquet from Arrow format:   0%|          | 0/1 [00:00<?, ?ba/s]"
      ]
     },
     "metadata": {},
     "output_type": "display_data"
    },
    {
     "data": {
      "application/vnd.jupyter.widget-view+json": {
       "model_id": "697d09588bea4df997fd748b398dac11",
       "version_major": 2,
       "version_minor": 0
      },
      "text/plain": [
       "Map (num_proc=10):   0%|          | 0/249 [00:00<?, ? examples/s]"
      ]
     },
     "metadata": {},
     "output_type": "display_data"
    },
    {
     "data": {
      "application/vnd.jupyter.widget-view+json": {
       "model_id": "dba82864b3ef4c0380f455acb59542e5",
       "version_major": 2,
       "version_minor": 0
      },
      "text/plain": [
       "Creating parquet from Arrow format:   0%|          | 0/1 [00:00<?, ?ba/s]"
      ]
     },
     "metadata": {},
     "output_type": "display_data"
    },
    {
     "data": {
      "application/vnd.jupyter.widget-view+json": {
       "model_id": "0cc9b5a586f54f4e8dc0a39faa3eef24",
       "version_major": 2,
       "version_minor": 0
      },
      "text/plain": [
       "Map (num_proc=10):   0%|          | 0/249 [00:00<?, ? examples/s]"
      ]
     },
     "metadata": {},
     "output_type": "display_data"
    },
    {
     "data": {
      "application/vnd.jupyter.widget-view+json": {
       "model_id": "80ec9f83425e40bf86c304a824325bbe",
       "version_major": 2,
       "version_minor": 0
      },
      "text/plain": [
       "Creating parquet from Arrow format:   0%|          | 0/1 [00:00<?, ?ba/s]"
      ]
     },
     "metadata": {},
     "output_type": "display_data"
    },
    {
     "data": {
      "application/vnd.jupyter.widget-view+json": {
       "model_id": "f79d971b23c74124a1121d462450ab9c",
       "version_major": 2,
       "version_minor": 0
      },
      "text/plain": [
       "Map (num_proc=10):   0%|          | 0/249 [00:00<?, ? examples/s]"
      ]
     },
     "metadata": {},
     "output_type": "display_data"
    },
    {
     "data": {
      "application/vnd.jupyter.widget-view+json": {
       "model_id": "5096ed169d1448bf8ef06f14b8eaa7e4",
       "version_major": 2,
       "version_minor": 0
      },
      "text/plain": [
       "Creating parquet from Arrow format:   0%|          | 0/1 [00:00<?, ?ba/s]"
      ]
     },
     "metadata": {},
     "output_type": "display_data"
    },
    {
     "data": {
      "application/vnd.jupyter.widget-view+json": {
       "model_id": "e90db3d9737e4c16a295aea2bc3eb06d",
       "version_major": 2,
       "version_minor": 0
      },
      "text/plain": [
       "Map (num_proc=10):   0%|          | 0/249 [00:00<?, ? examples/s]"
      ]
     },
     "metadata": {},
     "output_type": "display_data"
    },
    {
     "data": {
      "application/vnd.jupyter.widget-view+json": {
       "model_id": "5ef6b93e4a30453687946fd1ff2cadbd",
       "version_major": 2,
       "version_minor": 0
      },
      "text/plain": [
       "Creating parquet from Arrow format:   0%|          | 0/1 [00:00<?, ?ba/s]"
      ]
     },
     "metadata": {},
     "output_type": "display_data"
    },
    {
     "data": {
      "application/vnd.jupyter.widget-view+json": {
       "model_id": "406b04c0cb3c47c98827f367c9fbd12a",
       "version_major": 2,
       "version_minor": 0
      },
      "text/plain": [
       "Map (num_proc=10):   0%|          | 0/249 [00:00<?, ? examples/s]"
      ]
     },
     "metadata": {},
     "output_type": "display_data"
    },
    {
     "data": {
      "application/vnd.jupyter.widget-view+json": {
       "model_id": "133d71f3ba5643db80a00bdd748ae36e",
       "version_major": 2,
       "version_minor": 0
      },
      "text/plain": [
       "Creating parquet from Arrow format:   0%|          | 0/1 [00:00<?, ?ba/s]"
      ]
     },
     "metadata": {},
     "output_type": "display_data"
    },
    {
     "data": {
      "application/vnd.jupyter.widget-view+json": {
       "model_id": "6ba3e48e64d0476fbce67ee7eb0349d9",
       "version_major": 2,
       "version_minor": 0
      },
      "text/plain": [
       "Map (num_proc=10):   0%|          | 0/249 [00:00<?, ? examples/s]"
      ]
     },
     "metadata": {},
     "output_type": "display_data"
    },
    {
     "data": {
      "application/vnd.jupyter.widget-view+json": {
       "model_id": "cebc0f2d073646898120a29a56e4e941",
       "version_major": 2,
       "version_minor": 0
      },
      "text/plain": [
       "Creating parquet from Arrow format:   0%|          | 0/1 [00:00<?, ?ba/s]"
      ]
     },
     "metadata": {},
     "output_type": "display_data"
    },
    {
     "data": {
      "application/vnd.jupyter.widget-view+json": {
       "model_id": "54258c08e28f4586892b29184ee0a759",
       "version_major": 2,
       "version_minor": 0
      },
      "text/plain": [
       "Map (num_proc=10):   0%|          | 0/249 [00:00<?, ? examples/s]"
      ]
     },
     "metadata": {},
     "output_type": "display_data"
    },
    {
     "data": {
      "application/vnd.jupyter.widget-view+json": {
       "model_id": "6afb1d69df4a496994dee219c0c5f33c",
       "version_major": 2,
       "version_minor": 0
      },
      "text/plain": [
       "Creating parquet from Arrow format:   0%|          | 0/1 [00:00<?, ?ba/s]"
      ]
     },
     "metadata": {},
     "output_type": "display_data"
    },
    {
     "data": {
      "application/vnd.jupyter.widget-view+json": {
       "model_id": "d24eba2bb850492cb8d3367dc34c86ad",
       "version_major": 2,
       "version_minor": 0
      },
      "text/plain": [
       "Map (num_proc=10):   0%|          | 0/249 [00:00<?, ? examples/s]"
      ]
     },
     "metadata": {},
     "output_type": "display_data"
    },
    {
     "data": {
      "application/vnd.jupyter.widget-view+json": {
       "model_id": "c7caceaf0fe74b4793cee0f43fd1db85",
       "version_major": 2,
       "version_minor": 0
      },
      "text/plain": [
       "Creating parquet from Arrow format:   0%|          | 0/1 [00:00<?, ?ba/s]"
      ]
     },
     "metadata": {},
     "output_type": "display_data"
    },
    {
     "data": {
      "application/vnd.jupyter.widget-view+json": {
       "model_id": "59e84a72baff402e932ec6b4c81c3221",
       "version_major": 2,
       "version_minor": 0
      },
      "text/plain": [
       "Map (num_proc=10):   0%|          | 0/249 [00:00<?, ? examples/s]"
      ]
     },
     "metadata": {},
     "output_type": "display_data"
    },
    {
     "data": {
      "application/vnd.jupyter.widget-view+json": {
       "model_id": "ef08b954ae924a389854887289740fbd",
       "version_major": 2,
       "version_minor": 0
      },
      "text/plain": [
       "Creating parquet from Arrow format:   0%|          | 0/1 [00:00<?, ?ba/s]"
      ]
     },
     "metadata": {},
     "output_type": "display_data"
    },
    {
     "data": {
      "application/vnd.jupyter.widget-view+json": {
       "model_id": "9f2a5856146642b2a88e06b6442dfa62",
       "version_major": 2,
       "version_minor": 0
      },
      "text/plain": [
       "Map (num_proc=10):   0%|          | 0/249 [00:00<?, ? examples/s]"
      ]
     },
     "metadata": {},
     "output_type": "display_data"
    },
    {
     "data": {
      "application/vnd.jupyter.widget-view+json": {
       "model_id": "baf1cbe5313843c5884784f34b44ca2d",
       "version_major": 2,
       "version_minor": 0
      },
      "text/plain": [
       "Creating parquet from Arrow format:   0%|          | 0/1 [00:00<?, ?ba/s]"
      ]
     },
     "metadata": {},
     "output_type": "display_data"
    },
    {
     "data": {
      "application/vnd.jupyter.widget-view+json": {
       "model_id": "ccf8ae50008f4eedb4c2cfb63d20831a",
       "version_major": 2,
       "version_minor": 0
      },
      "text/plain": [
       "Map (num_proc=10):   0%|          | 0/249 [00:00<?, ? examples/s]"
      ]
     },
     "metadata": {},
     "output_type": "display_data"
    },
    {
     "data": {
      "application/vnd.jupyter.widget-view+json": {
       "model_id": "22d36225d44a4d79a615921f0970a6c9",
       "version_major": 2,
       "version_minor": 0
      },
      "text/plain": [
       "Creating parquet from Arrow format:   0%|          | 0/1 [00:00<?, ?ba/s]"
      ]
     },
     "metadata": {},
     "output_type": "display_data"
    },
    {
     "data": {
      "application/vnd.jupyter.widget-view+json": {
       "model_id": "4be641abb6ef4fcf87274a596a5459fa",
       "version_major": 2,
       "version_minor": 0
      },
      "text/plain": [
       "Map (num_proc=10):   0%|          | 0/249 [00:00<?, ? examples/s]"
      ]
     },
     "metadata": {},
     "output_type": "display_data"
    },
    {
     "data": {
      "application/vnd.jupyter.widget-view+json": {
       "model_id": "051e58cf47e14e2ea15ede59baf6fec8",
       "version_major": 2,
       "version_minor": 0
      },
      "text/plain": [
       "Creating parquet from Arrow format:   0%|          | 0/1 [00:00<?, ?ba/s]"
      ]
     },
     "metadata": {},
     "output_type": "display_data"
    },
    {
     "data": {
      "application/vnd.jupyter.widget-view+json": {
       "model_id": "94b566da7d0e40c2a0702de8d9d67e64",
       "version_major": 2,
       "version_minor": 0
      },
      "text/plain": [
       "Map (num_proc=10):   0%|          | 0/249 [00:00<?, ? examples/s]"
      ]
     },
     "metadata": {},
     "output_type": "display_data"
    },
    {
     "data": {
      "application/vnd.jupyter.widget-view+json": {
       "model_id": "93f5fab577b7453baa31cb7eb8b093c2",
       "version_major": 2,
       "version_minor": 0
      },
      "text/plain": [
       "Creating parquet from Arrow format:   0%|          | 0/1 [00:00<?, ?ba/s]"
      ]
     },
     "metadata": {},
     "output_type": "display_data"
    },
    {
     "data": {
      "application/vnd.jupyter.widget-view+json": {
       "model_id": "c327f0ee99e54b3485622c26ea310324",
       "version_major": 2,
       "version_minor": 0
      },
      "text/plain": [
       "Map (num_proc=10):   0%|          | 0/249 [00:00<?, ? examples/s]"
      ]
     },
     "metadata": {},
     "output_type": "display_data"
    },
    {
     "data": {
      "application/vnd.jupyter.widget-view+json": {
       "model_id": "3ac17859af084005b53f103f0267c2e3",
       "version_major": 2,
       "version_minor": 0
      },
      "text/plain": [
       "Creating parquet from Arrow format:   0%|          | 0/1 [00:00<?, ?ba/s]"
      ]
     },
     "metadata": {},
     "output_type": "display_data"
    },
    {
     "data": {
      "application/vnd.jupyter.widget-view+json": {
       "model_id": "77d5c40125c145f3802e512316eac45d",
       "version_major": 2,
       "version_minor": 0
      },
      "text/plain": [
       "Map (num_proc=10):   0%|          | 0/249 [00:00<?, ? examples/s]"
      ]
     },
     "metadata": {},
     "output_type": "display_data"
    },
    {
     "data": {
      "application/vnd.jupyter.widget-view+json": {
       "model_id": "a394f15bd3d64527916de0d2391f182c",
       "version_major": 2,
       "version_minor": 0
      },
      "text/plain": [
       "Creating parquet from Arrow format:   0%|          | 0/1 [00:00<?, ?ba/s]"
      ]
     },
     "metadata": {},
     "output_type": "display_data"
    },
    {
     "data": {
      "application/vnd.jupyter.widget-view+json": {
       "model_id": "3862cbdb648149dab3915305aeaaf719",
       "version_major": 2,
       "version_minor": 0
      },
      "text/plain": [
       "Map (num_proc=10):   0%|          | 0/249 [00:00<?, ? examples/s]"
      ]
     },
     "metadata": {},
     "output_type": "display_data"
    },
    {
     "data": {
      "application/vnd.jupyter.widget-view+json": {
       "model_id": "31ec4e14fbda4f5aa538e5a5c82bccf0",
       "version_major": 2,
       "version_minor": 0
      },
      "text/plain": [
       "Creating parquet from Arrow format:   0%|          | 0/1 [00:00<?, ?ba/s]"
      ]
     },
     "metadata": {},
     "output_type": "display_data"
    },
    {
     "data": {
      "application/vnd.jupyter.widget-view+json": {
       "model_id": "9b8599f2e5f14a67adcd9bd0db02047a",
       "version_major": 2,
       "version_minor": 0
      },
      "text/plain": [
       "Map (num_proc=10):   0%|          | 0/249 [00:00<?, ? examples/s]"
      ]
     },
     "metadata": {},
     "output_type": "display_data"
    },
    {
     "data": {
      "application/vnd.jupyter.widget-view+json": {
       "model_id": "bb833aee25da453fa23de40ddbd7674e",
       "version_major": 2,
       "version_minor": 0
      },
      "text/plain": [
       "Creating parquet from Arrow format:   0%|          | 0/1 [00:00<?, ?ba/s]"
      ]
     },
     "metadata": {},
     "output_type": "display_data"
    },
    {
     "data": {
      "application/vnd.jupyter.widget-view+json": {
       "model_id": "64d6f23840d245aa9e9b248c25e2b4bd",
       "version_major": 2,
       "version_minor": 0
      },
      "text/plain": [
       "Map (num_proc=10):   0%|          | 0/249 [00:00<?, ? examples/s]"
      ]
     },
     "metadata": {},
     "output_type": "display_data"
    },
    {
     "data": {
      "application/vnd.jupyter.widget-view+json": {
       "model_id": "8a1456e81ede46b79c8867962f278397",
       "version_major": 2,
       "version_minor": 0
      },
      "text/plain": [
       "Creating parquet from Arrow format:   0%|          | 0/1 [00:00<?, ?ba/s]"
      ]
     },
     "metadata": {},
     "output_type": "display_data"
    },
    {
     "data": {
      "application/vnd.jupyter.widget-view+json": {
       "model_id": "d6e94957a1cd49a682d57f74d61b1e71",
       "version_major": 2,
       "version_minor": 0
      },
      "text/plain": [
       "Map (num_proc=10):   0%|          | 0/249 [00:00<?, ? examples/s]"
      ]
     },
     "metadata": {},
     "output_type": "display_data"
    },
    {
     "data": {
      "application/vnd.jupyter.widget-view+json": {
       "model_id": "d06abf6531e24ed1bac9391ebdd4a708",
       "version_major": 2,
       "version_minor": 0
      },
      "text/plain": [
       "Creating parquet from Arrow format:   0%|          | 0/1 [00:00<?, ?ba/s]"
      ]
     },
     "metadata": {},
     "output_type": "display_data"
    },
    {
     "data": {
      "application/vnd.jupyter.widget-view+json": {
       "model_id": "f0a573b793494d0d85d749a013a90ae6",
       "version_major": 2,
       "version_minor": 0
      },
      "text/plain": [
       "Map (num_proc=10):   0%|          | 0/249 [00:00<?, ? examples/s]"
      ]
     },
     "metadata": {},
     "output_type": "display_data"
    },
    {
     "data": {
      "application/vnd.jupyter.widget-view+json": {
       "model_id": "a1b7ce902bb147c19f06587124120805",
       "version_major": 2,
       "version_minor": 0
      },
      "text/plain": [
       "Creating parquet from Arrow format:   0%|          | 0/1 [00:00<?, ?ba/s]"
      ]
     },
     "metadata": {},
     "output_type": "display_data"
    },
    {
     "data": {
      "application/vnd.jupyter.widget-view+json": {
       "model_id": "1072a13e790946dcb4f570aacdb11ebc",
       "version_major": 2,
       "version_minor": 0
      },
      "text/plain": [
       "Map (num_proc=10):   0%|          | 0/249 [00:00<?, ? examples/s]"
      ]
     },
     "metadata": {},
     "output_type": "display_data"
    },
    {
     "data": {
      "application/vnd.jupyter.widget-view+json": {
       "model_id": "3abd81747b774cfc9179f6f4ee61ec8d",
       "version_major": 2,
       "version_minor": 0
      },
      "text/plain": [
       "Creating parquet from Arrow format:   0%|          | 0/1 [00:00<?, ?ba/s]"
      ]
     },
     "metadata": {},
     "output_type": "display_data"
    },
    {
     "data": {
      "application/vnd.jupyter.widget-view+json": {
       "model_id": "58c5cd61e8c64dc49c1aec8953d49050",
       "version_major": 2,
       "version_minor": 0
      },
      "text/plain": [
       "Map (num_proc=10):   0%|          | 0/249 [00:00<?, ? examples/s]"
      ]
     },
     "metadata": {},
     "output_type": "display_data"
    },
    {
     "data": {
      "application/vnd.jupyter.widget-view+json": {
       "model_id": "4d7cf1fa3e5c4035aa037f192bb0aaa0",
       "version_major": 2,
       "version_minor": 0
      },
      "text/plain": [
       "Creating parquet from Arrow format:   0%|          | 0/1 [00:00<?, ?ba/s]"
      ]
     },
     "metadata": {},
     "output_type": "display_data"
    },
    {
     "data": {
      "application/vnd.jupyter.widget-view+json": {
       "model_id": "1e5fc599d22a40aa923011b030955078",
       "version_major": 2,
       "version_minor": 0
      },
      "text/plain": [
       "Map (num_proc=10):   0%|          | 0/249 [00:00<?, ? examples/s]"
      ]
     },
     "metadata": {},
     "output_type": "display_data"
    },
    {
     "data": {
      "application/vnd.jupyter.widget-view+json": {
       "model_id": "ef8793df1f484d11a19fb5b8977ac3ef",
       "version_major": 2,
       "version_minor": 0
      },
      "text/plain": [
       "Creating parquet from Arrow format:   0%|          | 0/1 [00:00<?, ?ba/s]"
      ]
     },
     "metadata": {},
     "output_type": "display_data"
    },
    {
     "data": {
      "application/vnd.jupyter.widget-view+json": {
       "model_id": "546cd922557d4526a6ca0e97da3eee40",
       "version_major": 2,
       "version_minor": 0
      },
      "text/plain": [
       "Map (num_proc=10):   0%|          | 0/249 [00:00<?, ? examples/s]"
      ]
     },
     "metadata": {},
     "output_type": "display_data"
    },
    {
     "data": {
      "application/vnd.jupyter.widget-view+json": {
       "model_id": "18cd2a08cd0949e2abe5d83321d04b16",
       "version_major": 2,
       "version_minor": 0
      },
      "text/plain": [
       "Creating parquet from Arrow format:   0%|          | 0/1 [00:00<?, ?ba/s]"
      ]
     },
     "metadata": {},
     "output_type": "display_data"
    },
    {
     "data": {
      "application/vnd.jupyter.widget-view+json": {
       "model_id": "0a22e17ed0644eb0ada6c91490a72830",
       "version_major": 2,
       "version_minor": 0
      },
      "text/plain": [
       "Map (num_proc=10):   0%|          | 0/249 [00:00<?, ? examples/s]"
      ]
     },
     "metadata": {},
     "output_type": "display_data"
    },
    {
     "data": {
      "application/vnd.jupyter.widget-view+json": {
       "model_id": "6a0a92ddfaae41d6be971341737adc27",
       "version_major": 2,
       "version_minor": 0
      },
      "text/plain": [
       "Creating parquet from Arrow format:   0%|          | 0/1 [00:00<?, ?ba/s]"
      ]
     },
     "metadata": {},
     "output_type": "display_data"
    },
    {
     "data": {
      "application/vnd.jupyter.widget-view+json": {
       "model_id": "a77831794bfd4a6fb16e3c07967d32b5",
       "version_major": 2,
       "version_minor": 0
      },
      "text/plain": [
       "Map (num_proc=10):   0%|          | 0/249 [00:00<?, ? examples/s]"
      ]
     },
     "metadata": {},
     "output_type": "display_data"
    },
    {
     "data": {
      "application/vnd.jupyter.widget-view+json": {
       "model_id": "24f7f487ab1a45eea8b2cc715d9bf7c9",
       "version_major": 2,
       "version_minor": 0
      },
      "text/plain": [
       "Creating parquet from Arrow format:   0%|          | 0/1 [00:00<?, ?ba/s]"
      ]
     },
     "metadata": {},
     "output_type": "display_data"
    }
   ],
   "source": [
    "for i in range(1, 50):\n",
    "    ds = Dataset.from_dict({\"id\": [random_string(10) for _ in range(len(countries))], \"country\": countries[\"name\"]})\n",
    "    ds = ds.map(generate, num_proc=10, fn_kwargs={\"first_name\": True})\n",
    "\n",
    "    ds.to_parquet(f\"names/first_names{i}.parquet\")\n",
    "\n",
    "for i in range(1, 50):\n",
    "    ds = Dataset.from_dict({\"id\": [random_string(10) for _ in range(len(countries))], \"country\": countries[\"name\"]})\n",
    "    ds = ds.map(generate, num_proc=10, fn_kwargs={\"first_name\": False})\n",
    "    ds.to_parquet(f\"names/last_names{i}.parquet\")"
   ]
  },
  {
   "cell_type": "code",
   "execution_count": 3,
   "metadata": {},
   "outputs": [],
   "source": [
    "from pathlib import Path\n",
    "from datasets import concatenate_datasets, Dataset\n",
    "import os\n",
    "\n",
    "files = (Path(os.environ[\"PROJECT_HOME_DIR\"]) / \"piidd/data_generation/names\").glob(\"first_names*\")\n",
    "first_names_ds = concatenate_datasets([Dataset.from_parquet(str(f)) for f in files])\n",
    "\n",
    "files = (Path(os.environ[\"PROJECT_HOME_DIR\"]) / \"piidd/data_generation/names\").glob(\"last_names*\")\n",
    "last_names_ds = concatenate_datasets([Dataset.from_parquet(str(f)) for f in files])"
   ]
  },
  {
   "cell_type": "code",
   "execution_count": 4,
   "metadata": {},
   "outputs": [],
   "source": [
    "first_names = first_names_ds[\"generated_text\"]\n",
    "last_names = last_names_ds[\"generated_text\"]"
   ]
  },
  {
   "cell_type": "code",
   "execution_count": 50,
   "metadata": {},
   "outputs": [],
   "source": [
    "# from unidecode import unidecode\n",
    "\n",
    "# original_text = \"Próspero\"\n",
    "# normalized_text = unidecode(original_text)\n",
    "# print(normalized_text)  # Output: Prospero\n",
    "\n",
    "\n",
    "def clean(raw):\n",
    "\n",
    "    s = raw.split(\"\\n\\n\")[0]\n",
    "    s = s.split(\"\\nNote:\")[0]\n",
    "    s = s.split(\"\\n(Note:\")[0]\n",
    "    s = s.split(\"\\nUser:\")[0]\n",
    "\n",
    "\n",
    "    s = s.strip().split(\"\\n\")\n",
    "    s = [x.lstrip(\"*-\").strip() for x in s]\n",
    "\n",
    "    clean = []\n",
    "    for x in s:\n",
    "        if \".\" in x[:3]:\n",
    "            x = x.split(\".\")[1].strip()\n",
    "        clean.append(x)\n",
    "\n",
    "\n",
    "    names =  [x for x in clean if 30 > len(x) > 1]\n",
    "    names = [x for x in names if all([\",\" not in x, \"(\" not in x, \")\" not in x])]\n",
    "\n",
    "    def remove_male_female(x):\n",
    "        patterns = [\n",
    "            \"Female: \",\n",
    "            \"Male: \",\n",
    "        ]\n",
    "        for pattern in patterns:\n",
    "            if x.startswith(pattern):\n",
    "                return x[len(pattern):].strip()\n",
    "        return x.strip()\n",
    "\n",
    "    names = [remove_male_female(x) for x in names]\n",
    "\n",
    "    return names\n",
    "    \n",
    "\n",
    "clean_first_names = [clean(x) for x in first_names]\n",
    "clean_last_names = [clean(x) for x in last_names]"
   ]
  },
  {
   "cell_type": "code",
   "execution_count": 51,
   "metadata": {},
   "outputs": [
    {
     "data": {
      "text/plain": [
       "'Djamila\\nMohand\\nKahina\\nTahar\\nZinedine\\nMalika\\nFarid\\nMeriem\\nLila\\nNoureddine\\nAssia\\nYasmine\\nHacene\\nFethi\\nSabrina\\nSofiane\\nAmira\\nHouari\\nFatima\\nAli\\n\\nPlease note that while these names are less common in the United States, they are relatively common in Algeria, a country with a unique cultural and linguistic heritage.'"
      ]
     },
     "execution_count": 51,
     "metadata": {},
     "output_type": "execute_result"
    }
   ],
   "source": [
    "first_names[3]"
   ]
  },
  {
   "cell_type": "code",
   "execution_count": 52,
   "metadata": {},
   "outputs": [],
   "source": [
    "from itertools import chain\n",
    "\n",
    "flat_clean_first_names = list(chain(*clean_first_names))\n",
    "flat_clean_last_names = list(chain(*clean_last_names))"
   ]
  },
  {
   "cell_type": "code",
   "execution_count": 39,
   "metadata": {},
   "outputs": [
    {
     "data": {
      "text/plain": [
       "['Ieng\\nWeng\\nKeong\\nWai\\nMei\\nLiang\\nSou\\nCheok\\nWeng\\nHin\\nFong\\nMing\\nLei\\nKa\\nMan\\nTin\\nHei\\nWan\\nLok\\nIok\\n(Note: Macao is a special administrative region of China, and many residents have Chinese names. The above names are common Chinese given names for people in Macao.)',\n",
       " '1. Jung\\n2. Kim\\n3. Park\\n4. Lee\\n5. Choi\\n6. Jo\\n7. Han\\n8. Ryu\\n9. An\\n10. Son\\n11. Yun\\n12. Jang\\n13. Bae\\n14. Sim\\n15. Jung\\n16. Kang\\n17. Go\\n18. Cho\\n19. Chae\\n20. Kim (Note: There are several common surnames in Korea. I have provided some of the most common ones. However, the order of surnames and given names is reversed in Korea, and individuals are usually referred to by their given names. I have listed them here as they would be listed in the United States for clarity.)']"
      ]
     },
     "execution_count": 39,
     "metadata": {},
     "output_type": "execute_result"
    }
   ],
   "source": [
    "[x for x in first_names if \"(Note\" in x and \"\\n\\n\" not in x]"
   ]
  },
  {
   "cell_type": "code",
   "execution_count": 53,
   "metadata": {},
   "outputs": [
    {
     "data": {
      "text/plain": [
       "[]"
      ]
     },
     "execution_count": 53,
     "metadata": {},
     "output_type": "execute_result"
    }
   ],
   "source": [
    "[x for x in flat_clean_first_names if \",\" in x]"
   ]
  },
  {
   "cell_type": "code",
   "execution_count": 54,
   "metadata": {},
   "outputs": [
    {
     "data": {
      "text/plain": [
       "(245571, 51478)"
      ]
     },
     "execution_count": 54,
     "metadata": {},
     "output_type": "execute_result"
    }
   ],
   "source": [
    "len(flat_clean_first_names), len(set(flat_clean_first_names))"
   ]
  },
  {
   "cell_type": "code",
   "execution_count": 55,
   "metadata": {},
   "outputs": [
    {
     "data": {
      "text/plain": [
       "23"
      ]
     },
     "execution_count": 55,
     "metadata": {},
     "output_type": "execute_result"
    }
   ],
   "source": [
    "max([len(x) for x in flat_clean_first_names])"
   ]
  },
  {
   "cell_type": "code",
   "execution_count": 56,
   "metadata": {},
   "outputs": [
    {
     "data": {
      "text/plain": [
       "['Leatualevao',\n",
       " 'Bonaventura',\n",
       " 'Britneyanne',\n",
       " 'Jean-Baptiste',\n",
       " 'Ndayishimiye',\n",
       " 'Ntakarutimana',\n",
       " 'Ntibazonkiza',\n",
       " 'Christopher',\n",
       " 'Koudoukatchi',\n",
       " 'JoséIgnacio',\n",
       " 'Nuutafaravai',\n",
       " 'Luis Fernando',\n",
       " 'Laura Sofía',\n",
       " 'Jean-Pierre',\n",
       " 'Hadjipavlos',\n",
       " 'Maria Eugenia',\n",
       " 'Jose Antonio',\n",
       " 'Francisco José',\n",
       " 'Jose Manuel',\n",
       " 'Maria Teresa',\n",
       " 'Víctor Manuel',\n",
       " 'Nkosingiphile',\n",
       " 'Ntombizodwa',\n",
       " 'Makhosazana',\n",
       " 'Jean-Pierre',\n",
       " 'Marie-Paule',\n",
       " 'Jacques-Yves',\n",
       " 'Jean-Michel',\n",
       " 'Pierre-Henri',\n",
       " 'Agnes-Maria',\n",
       " 'Aristarchus',\n",
       " 'Dionysodorus',\n",
       " 'Christopher',\n",
       " 'Bonaventura',\n",
       " 'Vivienne-Rose',\n",
       " 'Khonesavanh',\n",
       " 'Soulinthone',\n",
       " 'Louis-Ducruet',\n",
       " 'Munkh-Erdene',\n",
       " 'Narantsetseg',\n",
       " 'Erdenebayar',\n",
       " 'Naranbaatar',\n",
       " 'Oyun-Erdene',\n",
       " 'Demmiedemmie',\n",
       " 'Jean-Philippe',\n",
       " 'Halakilangi',\n",
       " 'Muhammadali',\n",
       " 'Muhammadusama',\n",
       " 'Ngarcheongs',\n",
       " 'Guillermina',\n",
       " 'Bogdanowica',\n",
       " 'Constantino',\n",
       " 'Luisantonio',\n",
       " 'Habyarimana',\n",
       " 'Mfashingabo',\n",
       " 'Elisha-Marie',\n",
       " 'Nhlakanipho',\n",
       " 'Abdughaffor',\n",
       " 'Pattarapong',\n",
       " 'Chanidaporn',\n",
       " 'Wachirapong',\n",
       " \"Faka'osilea\",\n",
       " 'Gurbansoltan',\n",
       " 'Sosefoali’i',\n",
       " 'Faka’osi’folau',\n",
       " 'Fatima Zohra',\n",
       " 'Abdul Rahman',\n",
       " 'Mohamed-Amine',\n",
       " 'Fatima-Zohra',\n",
       " 'Mohamed-Lamine',\n",
       " 'Abderrahmane',\n",
       " 'Mohamed-Reda',\n",
       " 'Djamel-Eddine',\n",
       " 'Mohamed-Anis',\n",
       " 'Əbdürrəhman',\n",
       " 'Abdulrahman',\n",
       " 'Ndayishimiye',\n",
       " 'Niringiyimana',\n",
       " 'Nshimiyimana',\n",
       " 'Ntakirutimana',\n",
       " 'Nsabinyumva',\n",
       " 'Quintiliano',\n",
       " 'Frankincense',\n",
       " 'Diarrassouba',\n",
       " 'Julio César',\n",
       " 'Paola Victoria',\n",
       " 'Constantinos',\n",
       " 'Mohamed-Djibril',\n",
       " 'Abdourahman',\n",
       " 'Ali-Mohamed',\n",
       " 'Hassan-Adam',\n",
       " 'Omar-Abdillahi',\n",
       " 'Nathalie-Joy',\n",
       " 'Encarnacion',\n",
       " 'Ntombizonke',\n",
       " 'Djissikadié',\n",
       " 'Aristarchos',\n",
       " 'Aputsiaaria',\n",
       " 'Jean-Claude',\n",
       " 'Marie-Paule',\n",
       " 'Ramatoulaye',\n",
       " 'Tómasdóttir',\n",
       " 'Bjarnheiður',\n",
       " 'Kaitinakarawa',\n",
       " 'Beretitenti',\n",
       " 'Abdulrahman',\n",
       " 'Phongsavath',\n",
       " 'Soukthavone',\n",
       " 'Souksakhone',\n",
       " 'Chanthakone',\n",
       " 'Nomenjanahary',\n",
       " 'Fanomezantsoa',\n",
       " 'Andriantsialonina',\n",
       " 'Harilalaina',\n",
       " 'Jean-claude',\n",
       " 'Devankeerth',\n",
       " 'Abdourahman',\n",
       " 'Khash-Erdene',\n",
       " 'Urantsetseg',\n",
       " 'Marie-Noelle',\n",
       " 'Kupemautaki',\n",
       " 'Ngirusechang',\n",
       " 'Maksymilian',\n",
       " 'Vey retval’d',\n",
       " 'Kolokólchikov',\n",
       " 'Marie-Chantal',\n",
       " 'Quentin-Jacques',\n",
       " 'Sébastien-Axel',\n",
       " 'Violette-Louise',\n",
       " 'Wesley-James',\n",
       " 'Quarrington',\n",
       " 'Muhammadjon',\n",
       " 'Hufangalupe',\n",
       " \"Tu'ihalangingie\",\n",
       " 'Lupematasila',\n",
       " 'Aumoeualogo',\n",
       " 'Jhor Jessica',\n",
       " 'Jhoan Manuel',\n",
       " 'Tadiwanashe',\n",
       " 'Ghulamhossein',\n",
       " 'Naqeebullah',\n",
       " 'Christopher',\n",
       " 'Christopher',\n",
       " 'Sonam Dechen',\n",
       " 'Tashi Wangmo',\n",
       " 'Dechen Wangmo',\n",
       " 'Pema Yangchen',\n",
       " 'Karma Choden',\n",
       " 'Ramosekgala',\n",
       " 'Siti Khadijah',\n",
       " 'Haji Abdul Rahman',\n",
       " 'Nurul Syafiqah',\n",
       " 'Raja Zarith',\n",
       " 'Princess Amal',\n",
       " 'Yang Mulia Dato',\n",
       " 'Pehin Orang Kaya',\n",
       " 'Datin Paduka Dr',\n",
       " 'Jean-Baptiste',\n",
       " 'Hassaballah',\n",
       " 'Frankincense',\n",
       " 'Jean-Baptiste',\n",
       " 'Abdourahman',\n",
       " 'Mennatullah',\n",
       " 'Prisciliano',\n",
       " 'Tesfayohannes',\n",
       " 'Nkhosingphile',\n",
       " 'Constantinos',\n",
       " 'Qavigariariaq',\n",
       " 'Marie-Thérèse',\n",
       " 'Marie-Josèphe',\n",
       " 'Marie-Françoise',\n",
       " 'Marie-Jeanne',\n",
       " 'Marie-Paule',\n",
       " 'Marie-Claire',\n",
       " 'Marie-Hélène',\n",
       " 'Marie-Thérèse',\n",
       " 'Jean-Pierre',\n",
       " 'Marie-Claire',\n",
       " 'Jean-Jacques',\n",
       " 'Ermenegildo',\n",
       " 'Felicissima',\n",
       " 'Gentileschi',\n",
       " 'Szilveszter',\n",
       " 'Kristleifur',\n",
       " 'Caoilfhionn',\n",
       " 'Taberannang',\n",
       " 'Abdulrahman',\n",
       " 'Phoutsavanh',\n",
       " 'Souksakhone',\n",
       " 'Phounsavath',\n",
       " 'Nomenjanahary',\n",
       " 'Ailinglaplap',\n",
       " 'Alexandrina',\n",
       " 'Tsogtsaikan',\n",
       " 'Jargalsaikhan',\n",
       " 'Chuluunkhuu',\n",
       " 'Amarmandakh',\n",
       " 'Nandintsetseg',\n",
       " 'Bolortsetseg',\n",
       " 'Munkhtsetseg',\n",
       " 'Narantsatsral',\n",
       " 'Douglasnessa',\n",
       " 'Williamkennedy',\n",
       " 'Thierry-Maxime',\n",
       " 'Abdel-Kader',\n",
       " 'Te Reremoana',\n",
       " 'Hinematioro',\n",
       " 'Tukoroirangi',\n",
       " 'Te Rangimakeora',\n",
       " 'Almoustapha',\n",
       " 'Miguelangel',\n",
       " 'Óscarbertha',\n",
       " 'Susanaedith',\n",
       " 'Abdulrahman',\n",
       " 'Dusingizimana',\n",
       " 'Dushimimana',\n",
       " 'Musabyimana',\n",
       " 'Mukantabana',\n",
       " 'Habyarimana',\n",
       " 'Nyirahabimana',\n",
       " 'Mujawamariya',\n",
       " 'Marie-Claire',\n",
       " 'Pierre-Henri',\n",
       " 'Melissandre',\n",
       " 'Abdullah bin Mosaad',\n",
       " 'Aliyah bint Abdul Latif',\n",
       " 'Hamzah bin Hussein',\n",
       " 'Nouf bint Fahad',\n",
       " 'Zayd bin Bandar',\n",
       " 'Aisha bint Saud',\n",
       " 'Faisal bin Turki',\n",
       " 'Hind bint Abdullah',\n",
       " 'Khalid bin Sultan',\n",
       " 'Lamya bint Majed',\n",
       " 'Mansour bin Zayed',\n",
       " 'Noura bint Mohammed',\n",
       " 'Reema bint Bandar',\n",
       " 'Talal bin Abdulaziz',\n",
       " 'Umaima bint Saad',\n",
       " 'Waad al-Majed',\n",
       " 'Yasir bin Othman',\n",
       " 'Zuhair bin Abdullah',\n",
       " 'Bathool bint Faisal',\n",
       " 'Nawaf bin Faisal',\n",
       " 'Abdulrahman',\n",
       " 'Muhammadjon',\n",
       " 'Thippawananont',\n",
       " 'Kaupanipolo',\n",
       " 'Masauvakalo',\n",
       " 'Víctorfrank',\n",
       " 'Leatualevao',\n",
       " 'Marialluisa',\n",
       " 'Abdulrahman',\n",
       " 'Mogommadikgosi',\n",
       " 'Abdul Rahman',\n",
       " 'Hermenegilde',\n",
       " 'Chanreaksmey',\n",
       " 'Joseph-Désiré',\n",
       " 'Maria Paula',\n",
       " 'Jean-Pierre',\n",
       " 'Constantinos',\n",
       " 'Prisciliano',\n",
       " 'Jóhan Hendrik',\n",
       " 'Marie-Pierre',\n",
       " \"Mahinepa'apa'a\",\n",
       " 'Jean-Pierre',\n",
       " 'Marie-Claire',\n",
       " 'Adwoa-Nyamekye',\n",
       " 'Jessiefield',\n",
       " 'Tessiefield',\n",
       " 'Jean-Pierre',\n",
       " 'Ermenegildo',\n",
       " 'Maria Fernanda',\n",
       " 'Jose Manuel',\n",
       " 'Taberannang',\n",
       " 'Kim Jong-un',\n",
       " 'Kim Yo-jong',\n",
       " 'Kim Jong-chol',\n",
       " 'Kim Kyong-hui',\n",
       " 'Kim Pyong-il',\n",
       " 'Kim Won-hong',\n",
       " 'Kim Yang-gon',\n",
       " 'Kim Yong-nam',\n",
       " 'Kim Yong-il',\n",
       " 'Kim Jong-il',\n",
       " 'Kim Il-sung',\n",
       " 'Kim Jong-pil',\n",
       " 'Kim Yong-sun',\n",
       " 'Kim Yong-ju',\n",
       " 'Kim Hyon-chol',\n",
       " 'Kim Tae-jun',\n",
       " 'Kim Tong-un',\n",
       " 'Kim Jong-gak',\n",
       " 'Phouthasone',\n",
       " 'Phouangmala',\n",
       " 'Leroo La Polotso',\n",
       " 'Nomenjanahary',\n",
       " 'Harith Iskandar',\n",
       " 'Ili Sulaiman',\n",
       " 'Jannah Nadira',\n",
       " 'Liyana Zulaikha',\n",
       " \"Mira Sya'adah\",\n",
       " 'Reena Raveena',\n",
       " 'Wan Zurinah',\n",
       " 'Ramatoulaye',\n",
       " 'Amadou Touré',\n",
       " 'Fatoumata Sow',\n",
       " 'Seydou Traoré',\n",
       " 'Jean-Philippe',\n",
       " 'Quetzalcoatl',\n",
       " 'Jean-Pierre',\n",
       " 'Altantsetseg',\n",
       " 'Oyun-Erdene',\n",
       " 'Khash-Erdene',\n",
       " 'Javzandulam',\n",
       " 'Urantsetseg',\n",
       " 'Amartuvshin',\n",
       " 'Amarsaikhan',\n",
       " 'Fatima-Zahra',\n",
       " 'Nangutuualua',\n",
       " 'Charlie-Rose',\n",
       " 'Oscar-Wilder',\n",
       " 'Prisciliano',\n",
       " 'Chukwuebuka',\n",
       " 'Fakaotimanava',\n",
       " 'Ngerchelong',\n",
       " 'Wapenamanda',\n",
       " 'Mukandutiye',\n",
       " 'Nsengiyumva',\n",
       " 'Musabyimana',\n",
       " 'Uwiringiyimana',\n",
       " 'Nzabonimana',\n",
       " 'Mukandutiye',\n",
       " 'Marie-Pierre',\n",
       " 'Chonlathorn',\n",
       " 'Mohamed Ali',\n",
       " 'Nurmuhammet',\n",
       " 'Abdul-Rahman',\n",
       " 'Ali-Mohammed',\n",
       " 'Naqeebullah',\n",
       " 'Abderrahmane',\n",
       " 'Carlos Alberto',\n",
       " 'Pedro Vidal',\n",
       " 'Abdulrahman',\n",
       " 'Liliberidge',\n",
       " 'Quinndecker',\n",
       " 'Julio Cesar',\n",
       " 'Nur Hamizah',\n",
       " 'Kiswendsida',\n",
       " 'Jean-Baptiste',\n",
       " 'Marie-Chantal',\n",
       " 'Maria Fernanda',\n",
       " 'Okbamichael',\n",
       " 'Toomas-Hendrik',\n",
       " 'Nhlakanipho',\n",
       " 'Konstantinopel',\n",
       " 'Mathilde-Marie',\n",
       " 'Percival-Constantin',\n",
       " 'Ulrich-Emmeram',\n",
       " 'Nana Kwadwo',\n",
       " 'Nana Awuraba',\n",
       " 'Harpocrates',\n",
       " 'Qavigarssuaq',\n",
       " 'Harischandra',\n",
       " 'Bonaventure',\n",
       " 'Marcellinus',\n",
       " 'Phouthasone',\n",
       " 'Phounsavanh',\n",
       " 'Phoutthasinh',\n",
       " 'Phonethipsavanh',\n",
       " 'Bounthanong',\n",
       " 'Sebastianas',\n",
       " 'Chamsoudine',\n",
       " 'Soihirindra',\n",
       " 'Chihaboudine',\n",
       " 'Maria Fernanda',\n",
       " 'Jose Antonio',\n",
       " 'Altantsetseg',\n",
       " 'Javzandulam',\n",
       " 'Urantsetseg',\n",
       " 'Omukwemibanzi',\n",
       " 'Anastasiya-Anna',\n",
       " 'Raisa-Faina',\n",
       " 'Ivan-Aleksandr',\n",
       " 'Bogdan-Iurii',\n",
       " 'Patricia-Marina',\n",
       " 'Nyiransabimana',\n",
       " 'Vyarushande',\n",
       " 'Ingabirenyana',\n",
       " 'Mukantaganzwa',\n",
       " 'Nyirazinyoye',\n",
       " 'Constantine',\n",
       " 'Christopher',\n",
       " 'Sebastianino',\n",
       " 'Christopher',\n",
       " 'Phongsathon',\n",
       " 'Gborgblorvor',\n",
       " 'Orazmuhammet',\n",
       " 'Serdarberdi',\n",
       " 'Muxammadali',\n",
       " 'Ntombizodwa',\n",
       " 'Nomthandazo',\n",
       " 'Mohammad Ali',\n",
       " 'Mohammad Abdul',\n",
       " 'Mohammad Ahmad',\n",
       " 'Mohammad Amin',\n",
       " 'Abdul Rahman',\n",
       " 'Abdul Sattar',\n",
       " 'Abdul Wahid',\n",
       " 'Abdul Waris',\n",
       " 'Abdul Jabbar',\n",
       " 'Abdul Qayyum',\n",
       " 'Abdul Razzaq',\n",
       " 'Abdul Rashid',\n",
       " 'Abdul Latif',\n",
       " 'Fatima-Zohra',\n",
       " 'Sagapolutele',\n",
       " 'Maria Elena',\n",
       " 'Carlos Alberto',\n",
       " 'Luis Alberto',\n",
       " 'Lucia Maria',\n",
       " 'Juan Carlos',\n",
       " 'Jose Carlos',\n",
       " 'Carlos Maria',\n",
       " 'Brianna-Rose',\n",
       " 'Abdoul-Gadiri',\n",
       " 'Roger-Claver',\n",
       " 'Blaise-Bernard',\n",
       " 'Germaine-Koudédé',\n",
       " 'Mariam-Soukeïna',\n",
       " 'Nsengiyumva',\n",
       " 'Julioalexandre',\n",
       " 'Abderahmane',\n",
       " 'Gbanzabamwanga',\n",
       " 'Diarrassouba',\n",
       " 'Maria Cristina',\n",
       " 'Juana Maria',\n",
       " 'Antonio Jose',\n",
       " 'Josefa Maria',\n",
       " 'Antonio Maria',\n",
       " 'Jose Manuel',\n",
       " 'Denis Josué',\n",
       " 'Kenner Gerson',\n",
       " 'Elmer Alexander',\n",
       " 'Xenia Guadalupe',\n",
       " 'Cesia Yoselin',\n",
       " 'Alvaro Arturo',\n",
       " 'Lesly Jannette',\n",
       " 'Darwin Javier',\n",
       " 'Karina Paola',\n",
       " 'Edgardo Antonio',\n",
       " 'Karim Ariel',\n",
       " 'Lisseth Martinez',\n",
       " 'Kevin Josue',\n",
       " 'Yamiletzelin',\n",
       " 'Josue Wilfredo',\n",
       " 'Aracelys Guadalupe',\n",
       " 'Kiniviliame',\n",
       " 'Babette-Rose',\n",
       " 'Maelie-Stellina',\n",
       " 'Halieuthsquare',\n",
       " 'Quintillian',\n",
       " 'Maria-Eleni',\n",
       " 'Ilaitsiorse',\n",
       " 'Inès-Ophélie',\n",
       " 'Ophélie-Cyrielle',\n",
       " 'Sébastien-Pierre',\n",
       " 'Thalia-Nawel',\n",
       " 'Ramatoulaye',\n",
       " 'Jose Antonio',\n",
       " 'Maria Fernanda',\n",
       " 'Christopher',\n",
       " 'Khonesavanh',\n",
       " 'Vongphachanh',\n",
       " 'Keong-Ieong',\n",
       " 'Nomenjanahary',\n",
       " 'Andrianantenaina',\n",
       " 'Juliarivony',\n",
       " 'Quetzalcoatl',\n",
       " 'Mwahnelekei',\n",
       " 'Narantsetseg',\n",
       " 'Urantsetseg',\n",
       " 'Erdenebayar',\n",
       " 'Nandintsetseg',\n",
       " 'Aye Thandar',\n",
       " 'Oluwatomisin',\n",
       " 'Chukwumerije',\n",
       " 'Mfashingabo',\n",
       " 'Ntawukuriryayo',\n",
       " 'Mukantaganzwa',\n",
       " 'Mugabow Nyiramahoro',\n",
       " 'Uwiringiyimana',\n",
       " 'Michelangela',\n",
       " 'Marie-Antoinette',\n",
       " 'Abdulrahman',\n",
       " 'Muhammadjon',\n",
       " 'Saidmukarram',\n",
       " 'Abdulrahman',\n",
       " 'Chibesakunda',\n",
       " 'Sithembinkosi',\n",
       " 'Leatualatai',\n",
       " 'Aliaksandra',\n",
       " 'Ndayishimiye',\n",
       " 'Ntiranyibagira',\n",
       " 'Nshimirimana',\n",
       " 'Uwiringiyimana',\n",
       " 'Marie-Louise',\n",
       " 'Frankincense',\n",
       " 'Maria Paula',\n",
       " 'Grace-Mbilu',\n",
       " 'Justine-Désirée',\n",
       " 'Lydie-Stéphane',\n",
       " 'Odette-Céline',\n",
       " 'Pascal-Gaspard',\n",
       " 'Roger-Claudine',\n",
       " 'Sadi-Jacques',\n",
       " 'Thierry-Modeste',\n",
       " 'Constantinos',\n",
       " 'Alba Marina',\n",
       " 'Marcos Daner',\n",
       " 'Quintiliano',\n",
       " 'Encarnacion',\n",
       " 'Ntombizodwa',\n",
       " 'Yehualashet',\n",
       " 'Marie-Antoinette',\n",
       " 'Pierre-Auguste',\n",
       " 'Jacques-Yves',\n",
       " 'Francoise-Marie',\n",
       " 'Andre-Pierre',\n",
       " 'Geraldine-Sophie',\n",
       " 'Jeanne-Claude',\n",
       " 'Nicolas-Sebastien',\n",
       " 'Thierry-Henry',\n",
       " 'Mathieu-Jean',\n",
       " 'Sabine-Francoise',\n",
       " 'Claude-Gilbert',\n",
       " 'Martine-Marie',\n",
       " 'Denis-Louis',\n",
       " 'Nathalie-Anne',\n",
       " 'Herve-Antoine',\n",
       " 'Konstantinos',\n",
       " 'Maria-Theofano',\n",
       " 'Sofia-Ioanna',\n",
       " 'Sgambelluri',\n",
       " 'Ramatoulaye',\n",
       " 'Jamilaabdille',\n",
       " 'Qamarulhuda',\n",
       " 'Phouthasone',\n",
       " 'Phonethipsavanh',\n",
       " 'Chanthavong',\n",
       " 'Phoutthasith',\n",
       " 'Nteboheleng',\n",
       " 'Nomenjanahary',\n",
       " 'Fanomezantsoa',\n",
       " 'Andriamahazo',\n",
       " 'Ramatoulaye',\n",
       " 'Kapingamarangi',\n",
       " 'Tuvshinbayar',\n",
       " 'Narantsatsral',\n",
       " 'Munkhtsetseg',\n",
       " 'Tserenpunsalmaa',\n",
       " 'Bayartsetseg',\n",
       " 'Badamtsetseg',\n",
       " 'Nandintsetseg',\n",
       " 'Amartuvshin',\n",
       " 'Vladimirjana',\n",
       " 'Veselinjica',\n",
       " 'Kaung Sithu',\n",
       " 'Keamogetswe',\n",
       " 'Margarethia',\n",
       " 'Nathanaelestina',\n",
       " 'Jean-Claude',\n",
       " 'Marie-Pierre',\n",
       " 'Pierre-Yves',\n",
       " 'Eldafrancia',\n",
       " 'Lupematasila',\n",
       " 'Lacramioara',\n",
       " 'Lealaiauloto',\n",
       " 'Tshegofatso',\n",
       " 'Muhammadozod',\n",
       " 'Dilovarshoh',\n",
       " \"Tauki'onetaka\",\n",
       " \"Si'u'ilikutapu\",\n",
       " 'Christopher',\n",
       " 'Ali Al-Asfoor',\n",
       " 'Hassan Al-Moayyed',\n",
       " 'Mohammed Jawad',\n",
       " 'Abdulla Yusuf',\n",
       " 'Fatima Al-Khalifa',\n",
       " 'Mohammed Al-Buainain',\n",
       " 'Hassan Saudi',\n",
       " 'Kanstantsin',\n",
       " 'Gofhamodimo',\n",
       " 'Abdul Rahman',\n",
       " 'Mukeshimana',\n",
       " 'Habyarimana',\n",
       " 'Uwiringiyimana',\n",
       " 'Ntakirutimana',\n",
       " 'Ndayishimiye',\n",
       " 'Júlio César',\n",
       " 'Sovannarith',\n",
       " 'Jean-Baptiste',\n",
       " 'Guillermina',\n",
       " 'Ndayishimiye',\n",
       " 'Twagirayezu',\n",
       " 'Nsengiyumva',\n",
       " 'Uwiringiyimana',\n",
       " 'Nyiraguhuro',\n",
       " 'Jean-Pierre',\n",
       " 'Eleytherios',\n",
       " 'Abdourahman',\n",
       " 'Jose Manuel',\n",
       " 'Miguel Jose',\n",
       " 'Juana Maria',\n",
       " 'Manuel Jose',\n",
       " 'Jose Miguel',\n",
       " 'Manuel Maria',\n",
       " 'Miguel Manuel',\n",
       " 'Ana Maria Jose',\n",
       " 'María Elena',\n",
       " 'Dora Marina',\n",
       " 'Jaime Alexander',\n",
       " 'Dennis Eduardo',\n",
       " 'Karina Yanira',\n",
       " 'Angel Mauricio',\n",
       " 'Prisciliano',\n",
       " 'Nhlakanipho',\n",
       " 'Nomthandazo',\n",
       " 'Christophe-Gabriel',\n",
       " 'Eloi-Pierre',\n",
       " 'Hilaire-Germain',\n",
       " 'Paulette-Prudence',\n",
       " 'Christianne',\n",
       " 'Justinienne',\n",
       " 'Adwoa Nyame',\n",
       " 'Ikerasaarsuk',\n",
       " 'Jean-Pierre',\n",
       " 'Saint-Juste',\n",
       " 'Zarathustra',\n",
       " 'Kaitinakarawa',\n",
       " 'Kim Jong-un',\n",
       " 'Kim Yo-jong',\n",
       " 'Kim Jong-chol',\n",
       " 'Kim Kyong-hui',\n",
       " 'Kim Won-hong',\n",
       " 'Kim Yong-chol',\n",
       " 'Kim Yong-nam',\n",
       " 'Kim Yong-il',\n",
       " 'Kim Kyong Ok',\n",
       " 'Kim Kye Gwan',\n",
       " 'Kim Yang Gon',\n",
       " 'Kim Tong-un',\n",
       " 'Kim Myong-gil',\n",
       " 'Kim Myong-chol',\n",
       " 'Kim Myong-guk',\n",
       " 'Kim Chol-man',\n",
       " 'Kim Chol-ju',\n",
       " 'Kim Chol Sam',\n",
       " 'Kim Chol Ho',\n",
       " 'Thipphachanh',\n",
       " 'Souphaphone',\n",
       " 'Mosilinyane',\n",
       " 'Motlalepula',\n",
       " 'Wan Nur Afiqah',\n",
       " 'Muhammad Akmal',\n",
       " 'Chan Yi Wen',\n",
       " 'Qistina Amalina',\n",
       " 'Tharini Priya',\n",
       " 'Siti Nuraisyah',\n",
       " 'Ahmad Syazwan',\n",
       " 'Kelvin Thean',\n",
       " 'Lim Chun Heng',\n",
       " 'Jasmine Wong',\n",
       " 'Chua Zi Ying',\n",
       " 'Sheryn Yeap',\n",
       " 'Chai Zhi Hong',\n",
       " 'Teoh Shi Ying',\n",
       " 'Tsogtsaikhan',\n",
       " 'Buyandelger',\n",
       " 'Munkhtsetseg',\n",
       " 'Tserenkhand',\n",
       " 'Jargalsaikhan',\n",
       " 'Tsedendamba',\n",
       " 'Urantsetseg',\n",
       " 'Erdenebileg',\n",
       " 'Hermenegildo',\n",
       " 'Thynn Thynn',\n",
       " 'Nyein Nyein',\n",
       " 'Abdourahmane',\n",
       " 'Fernandinho',\n",
       " 'Aleksandrina',\n",
       " 'Uwizeyimana',\n",
       " 'Prisciliano',\n",
       " 'Brianna-Marie',\n",
       " 'Thalia-Rose',\n",
       " 'Cebolenkosi',\n",
       " 'Pittayapong',\n",
       " 'Patcharaporn',\n",
       " 'Thanatchaporn',\n",
       " 'Hufangalupe',\n",
       " 'José Manuel',\n",
       " 'María Fernanda',\n",
       " 'Alejandro José',\n",
       " 'Miguel Ángel',\n",
       " 'Fatima-Zahra',\n",
       " 'Tadiwanashe',\n",
       " 'Zvikomborero',\n",
       " 'Ville-Valtteri',\n",
       " 'Mohamed Amine',\n",
       " 'Valiantsina',\n",
       " 'Maria Elena',\n",
       " 'Maximiliano',\n",
       " 'Herménégilde',\n",
       " 'Tutakanganui',\n",
       " 'Juan Carlos',\n",
       " 'Carlos Andrés',\n",
       " 'Yézoumadjan',\n",
       " 'Christodoulos',\n",
       " 'Hadjikyriacos',\n",
       " 'Maria Jesus',\n",
       " 'Maria del Carmen',\n",
       " 'Maria Cinta',\n",
       " 'Maria del Pilar',\n",
       " 'Ntombizodwa',\n",
       " 'Makhosazana',\n",
       " 'Nomthandazo',\n",
       " 'Ndong Essono',\n",
       " 'Konstantinos',\n",
       " 'Marie-Thérèse',\n",
       " 'Jean-Pierre',\n",
       " \"Hanongfa'álii\",\n",
       " 'Kontchuugii',\n",
       " \"Fa'anofanowa'a\",\n",
       " 'Ramatoulaye',\n",
       " 'Ibrahima Sory',\n",
       " 'Kipchirchir',\n",
       " 'Khanpaseuth',\n",
       " 'Ramatoulaye',\n",
       " 'Marie-Pierre',\n",
       " 'Anssoufoude',\n",
       " 'Youssoufane',\n",
       " 'Bogdana-Maria',\n",
       " 'Călin-Andrei',\n",
       " 'Daciana-Mihaela',\n",
       " 'Dumitru-Andrei',\n",
       " 'Ecaterina-Alexandra',\n",
       " 'Emilian-Valeriu',\n",
       " 'Ionela-Gabriela',\n",
       " 'Larisa-Mihaela',\n",
       " 'Mihai-Lucian',\n",
       " 'Natalia-Elena',\n",
       " 'Petronela-Maria',\n",
       " 'Radu-Constantin',\n",
       " 'Ştefan-Marius',\n",
       " 'Teodora-Maria',\n",
       " 'Vasile-Ionuţ',\n",
       " 'Vlad-Cristian',\n",
       " 'Zinaida-Maria',\n",
       " 'Bayarsaikhan',\n",
       " 'Narantsetseg',\n",
       " 'Tserenpurev',\n",
       " 'Munkhtsetseg',\n",
       " 'Bolortsetseg',\n",
       " 'Tsogbadrakh',\n",
       " 'Ebelechukwu',\n",
       " 'Xavier-Ikenna',\n",
       " 'Alicia-Marie',\n",
       " 'Axelle-Grâce',\n",
       " 'Océane-Eléonore',\n",
       " 'Naomie-Lyna',\n",
       " 'Mégane-Sophie',\n",
       " 'Allan-Kenjy',\n",
       " 'Brandonique',\n",
       " 'Cebolenkosi',\n",
       " 'Izan qualified',\n",
       " 'Chonlathorn',\n",
       " 'Adomayakpor',\n",
       " 'Mukhammetmyrat',\n",
       " 'Orazmuhammed',\n",
       " 'Serdarberdi',\n",
       " 'Christopher',\n",
       " 'Muhammadali',\n",
       " 'Xurshidabonu',\n",
       " 'Maria Teresa',\n",
       " 'Jesus Manuel',\n",
       " 'Juan Carlos',\n",
       " 'Fatima-Zahra',\n",
       " 'Tanyaradzwa',\n",
       " 'Khalilullah',\n",
       " 'Guilhermina',\n",
       " 'Tshegofatso',\n",
       " 'Maria Eduarda',\n",
       " 'Victor Hugo',\n",
       " 'Siti Nabilah',\n",
       " 'Nurul Afiqah',\n",
       " 'Muhammad Amirul',\n",
       " 'Khairunnisa',\n",
       " \"Abdul Mu'iz\",\n",
       " 'Muhd Danish',\n",
       " 'Siti Nurlin',\n",
       " 'Sovannarith',\n",
       " 'Mbelenggedim',\n",
       " 'Teau McKenzie',\n",
       " 'Ariki Tangi',\n",
       " 'Tangaroa Teiti',\n",
       " \"Mata'iti Mareta\",\n",
       " \"Papa'e Aperau\",\n",
       " 'Marama Tinirau',\n",
       " 'Temarama Tairi',\n",
       " 'Tangi Rairoa',\n",
       " \"Mata'i Mareta\",\n",
       " 'Purua Taripo',\n",
       " 'Tairea Tararo',\n",
       " 'Taniera Tangaroa',\n",
       " 'Raraua Rongomatane',\n",
       " 'Ngaio Aperahama',\n",
       " 'Tepaeru Tangi',\n",
       " 'Tehira Tauira',\n",
       " 'Yamisleidis',\n",
       " 'Leidysvanis',\n",
       " 'Emilia-Sofie',\n",
       " 'Linnea-Josefine',\n",
       " 'Maria Isabel',\n",
       " 'Jose Manuel',\n",
       " 'Francisco Jose',\n",
       " 'Maria Isabela',\n",
       " 'Carlos Manuel',\n",
       " 'Miguel Angel',\n",
       " 'Juan Carlos',\n",
       " 'Prisciliano',\n",
       " 'Kiniviliame',\n",
       " 'Jean-Pierre',\n",
       " 'Marie-Thérèse',\n",
       " 'Scholastique',\n",
       " 'Christopher',\n",
       " 'Konstantinos',\n",
       " 'Aristotelis',\n",
       " 'Marie-Claire',\n",
       " 'Jean-Pierre',\n",
       " 'Marcantonio',\n",
       " 'Taberannang',\n",
       " 'Phounsavanh',\n",
       " 'Souksakhone',\n",
       " 'Phouthasone',\n",
       " 'Soukphachanh',\n",
       " 'Khonesavanh',\n",
       " 'Puvaneswary',\n",
       " 'Siti Norhafizah',\n",
       " 'Tengku Ahmad',\n",
       " 'Ramatoulaye',\n",
       " 'Chamsoudine',\n",
       " 'Javzandulam',\n",
       " 'Nandin-Erdene',\n",
       " 'Tserenjamts',\n",
       " 'Enkhtuvshin',\n",
       " 'Sanjaasuren',\n",
       " 'Bayarsaikhan',\n",
       " 'Urantsetseg',\n",
       " 'Jargalsaikhan',\n",
       " 'Chrestienne',\n",
       " \"Fa'aso'otauloa\",\n",
       " 'Marie-Paule',\n",
       " 'Tome Jelico',\n",
       " 'Stephanie Hou',\n",
       " 'Lily Koloso',\n",
       " 'Freda Halisi',\n",
       " 'Ronald Kaware',\n",
       " 'Mabel Futua',\n",
       " 'Phillip Sanga',\n",
       " 'Judith Maetala',\n",
       " 'Moses Rakom',\n",
       " 'Eunice Ramo',\n",
       " 'Andrew Nake',\n",
       " 'Martin Falasi',\n",
       " 'Jens-Frederik',\n",
       " 'Jakob-Bernt',\n",
       " \"Sione 'Uhatafe\",\n",
       " 'Dovletmyrat',\n",
       " 'Gurbansoltan',\n",
       " 'Durdyyazmyrat',\n",
       " 'Maksatmyrat',\n",
       " 'Muhammetnury',\n",
       " 'Serdarberdi',\n",
       " 'Thảo Nguyên',\n",
       " 'Khôi Nguyên',\n",
       " 'Christopher',\n",
       " 'Ould Errachid',\n",
       " 'Siphathisiwe',\n",
       " 'Nomthandazo',\n",
       " 'Abdul Rahman',\n",
       " 'Guilhermina',\n",
       " 'Guillermina',\n",
       " 'Vidjinnangni',\n",
       " 'Quispehuaman',\n",
       " 'Mamanihuanca',\n",
       " 'Choquehuanca',\n",
       " 'Huallparrimachi',\n",
       " 'Tapiahuanca',\n",
       " 'Gregorienne',\n",
       " 'Maria Paula',\n",
       " 'Luisa Fernanda',\n",
       " 'Juan Sebastian',\n",
       " 'Jean-Baptiste',\n",
       " 'José Enrique',\n",
       " 'Ranigchelda',\n",
       " 'Constantinos',\n",
       " 'Chrystalleni',\n",
       " 'Brayan Breinner',\n",
       " 'Encarnación',\n",
       " 'Tesfabirhan',\n",
       " 'Ntombizodwa',\n",
       " 'Sicelimpilo',\n",
       " 'Nhlakanipho',\n",
       " 'Minyamelkam',\n",
       " 'Konstantinos',\n",
       " 'Konstantina',\n",
       " 'Kunuunnguaq',\n",
       " 'Naimanngitsoq',\n",
       " 'Qillannguaq',\n",
       " 'Scheherazade',\n",
       " 'Jean-Pierre',\n",
       " 'Marie-Claire',\n",
       " 'Jean-Robert',\n",
       " 'Marie-France',\n",
       " 'Fung-Cheung',\n",
       " 'Taberannang',\n",
       " 'Khonesavanh',\n",
       " 'Soutsakhone',\n",
       " 'Motlalepula',\n",
       " 'Fanomezantsoa',\n",
       " 'Marie-Thérèse',\n",
       " 'Jean-Philippe',\n",
       " 'Soihiroudine',\n",
       " 'Quetzalcoatl',\n",
       " 'Tsogtsaikhan',\n",
       " 'Urantsetseg',\n",
       " 'Bayarsaikhan',\n",
       " 'Chimedbazaryn',\n",
       " 'Nathanaëlle',\n",
       " 'Talaitituma',\n",
       " 'Ferdinandus',\n",
       " 'Innocentius',\n",
       " 'Maria Luisa',\n",
       " 'Olive Christian',\n",
       " 'Brenda Christian',\n",
       " 'Simon Young',\n",
       " 'Tom Christian',\n",
       " 'Steve Christian',\n",
       " 'Patty Christian',\n",
       " 'Carol Christian',\n",
       " 'Brian Young',\n",
       " 'Terry Young',\n",
       " 'Jeniffer Christian',\n",
       " 'Randy Christian',\n",
       " 'Sara Christian',\n",
       " 'Evangelista',\n",
       " 'Marie-Thérèse',\n",
       " 'Jean-Pierre',\n",
       " 'Marie-Claire',\n",
       " 'Vaitu’ulala',\n",
       " 'Vaimasenu’u',\n",
       " 'Ermenegildo',\n",
       " 'Gerussalemme',\n",
       " 'Abdulrahman',\n",
       " 'Abdalrahman',\n",
       " 'Mahmoudullo',\n",
       " 'Muhammadullo',\n",
       " 'Phiromratch',\n",
       " 'Abdoul-Samad',\n",
       " 'Yao-Grégoire',\n",
       " 'Lupematasila',\n",
       " 'Gyzyllmyrat',\n",
       " 'Velmukhammet',\n",
       " 'Kamuta Latasi',\n",
       " 'Naama Maheu',\n",
       " 'Valisi Tivili',\n",
       " 'Sapetaiva Tangatata',\n",
       " 'Lepaio Sopoaga',\n",
       " 'Niusila Opaka',\n",
       " 'Tauaiti Tuia',\n",
       " 'Ipilani Kalota',\n",
       " 'Samuela Teo',\n",
       " 'Niusila Opaka',\n",
       " 'Alesana Seluka',\n",
       " 'Kausea Natano',\n",
       " \"Mea'alofa Fatiaki\",\n",
       " 'Saufatu Sopoanga',\n",
       " 'Lotoala Metia',\n",
       " 'Taomati Iuta',\n",
       " 'Muhammadali',\n",
       " 'Selwyn Dick',\n",
       " 'Alan Willie',\n",
       " 'Dorosday George',\n",
       " 'Donnie John',\n",
       " 'Georgina Nelly',\n",
       " 'Gilbert Ben',\n",
       " 'Santiago John',\n",
       " 'Steven Willie',\n",
       " 'Tommy James',\n",
       " 'Yvonne Sarah',\n",
       " ...]"
      ]
     },
     "execution_count": 56,
     "metadata": {},
     "output_type": "execute_result"
    }
   ],
   "source": [
    "[x for x in flat_clean_first_names if len(x) > 10]"
   ]
  },
  {
   "cell_type": "code",
   "execution_count": 57,
   "metadata": {},
   "outputs": [
    {
     "data": {
      "text/plain": [
       "['Hammarström',\n",
       " 'Johansson-Karlsson',\n",
       " 'Tualaulelei',\n",
       " 'Harutyunyan',\n",
       " 'Hovhannisyan',\n",
       " 'Haroutunian',\n",
       " 'Atakishiyev',\n",
       " 'Braithwaite',\n",
       " 'Liashkevich',\n",
       " 'Tsishkevich',\n",
       " 'Vabishchevich',\n",
       " 'Vanadzinskaya',\n",
       " 'Yermalovich',\n",
       " 'Zyryanovich',\n",
       " 'Van den Berghe',\n",
       " 'Van den Bossche',\n",
       " 'Schoolmeester',\n",
       " 'Van De Putte',\n",
       " 'Donoumassou',\n",
       " 'Goutonridana',\n",
       " 'Johansmeijer',\n",
       " 'Ibrahimović',\n",
       " 'Muharemagić',\n",
       " 'Garebatshobelw',\n",
       " 'Xenophontos',\n",
       " 'Sharifuddin',\n",
       " 'Abdul Rahim',\n",
       " 'Ndabashinze',\n",
       " 'Nyaruhirira',\n",
       " 'Nzohabonayo',\n",
       " 'Ruberintwari',\n",
       " 'Ruzirabwoba',\n",
       " 'Sabushimike',\n",
       " 'Saganahunze',\n",
       " 'Thankasaray',\n",
       " 'Ebanks-Petrie',\n",
       " 'Mboula-Kamas',\n",
       " 'Lengue-Zimana',\n",
       " 'Ouandja-Malekou',\n",
       " 'Mbenguere-Dokolo',\n",
       " 'Rochecouste',\n",
       " 'Rajakulendran',\n",
       " 'Diarrassouba',\n",
       " 'Alvarez-Quiñones',\n",
       " 'Cárdenas-López',\n",
       " 'Echemendía-Santana',\n",
       " 'Fuentes-Fernández',\n",
       " 'Herrera-Rodríguez',\n",
       " 'Izquierdo-Ramírez',\n",
       " 'Jiménez-Guzmán',\n",
       " 'La Rosa-Rivero',\n",
       " 'Milián-Morales',\n",
       " 'Núñez-Valdés',\n",
       " \"O'Reilly-García\",\n",
       " 'Pérez-Duarte',\n",
       " 'Quintana-Fonseca',\n",
       " 'Ramírez-Gallardo',\n",
       " 'Sánchez-Figueroa',\n",
       " 'Torres-Benítez',\n",
       " 'Ulloa-Mendieta',\n",
       " 'Valdivia-Lorenzo',\n",
       " 'Zayas-Álvarez',\n",
       " 'Rojas-Cordero',\n",
       " 'Papadopoulos',\n",
       " 'Constantinou',\n",
       " 'Charalambous',\n",
       " 'Hadjipanayiotou',\n",
       " 'Themistocleous',\n",
       " 'Christensen',\n",
       " 'Hansen-Nicolajsen',\n",
       " 'Søndergaard',\n",
       " 'Hernandez-Cepeda',\n",
       " 'Abdelmoneim',\n",
       " 'Abdelrahman',\n",
       " 'Nguema-Obiang',\n",
       " 'Gebremedhin',\n",
       " 'Ghebrehiwet',\n",
       " 'Dlamini-Zuma',\n",
       " 'Endalkachew',\n",
       " 'Baldvinsson',\n",
       " 'Rokovunisei',\n",
       " 'Garnier-Malet',\n",
       " 'Charpentier',\n",
       " 'Watkinsville',\n",
       " 'Adairsville',\n",
       " 'Milledgeville',\n",
       " 'Blairsville',\n",
       " 'Querengässer',\n",
       " 'Schlingensief',\n",
       " 'Ulmschneider',\n",
       " 'Elschenbroich',\n",
       " 'Bampalouris',\n",
       " 'Eleftherakis',\n",
       " 'Episkopoulos',\n",
       " 'Giannoulakis',\n",
       " 'Giannikoulis',\n",
       " 'Koutsokostas',\n",
       " 'Manolopoulos',\n",
       " 'Papatheodorou',\n",
       " 'Kristiansen',\n",
       " 'Hansen-Aaquist',\n",
       " 'Petersen-Alteklein',\n",
       " 'Nielsen-Blytgen',\n",
       " 'Andersen-Bruun',\n",
       " 'Sorensen-Friedmann',\n",
       " 'Kristiansen-Gylling',\n",
       " 'Jakobsen-Hauser',\n",
       " 'Olsen-Hausen',\n",
       " 'Hansson-Jakobsen',\n",
       " 'Jakobsson-Jonsson',\n",
       " 'Nilsen-Jyrki',\n",
       " 'Larsen-Kruse',\n",
       " 'Andersson-Kryger',\n",
       " 'Svensson-Nielsen',\n",
       " 'Mikkelsen-Nielsen',\n",
       " 'Johansen-Olesen',\n",
       " 'Bentsen-Oestergaard',\n",
       " 'Rasmussen-Pedersen',\n",
       " 'Hansen-Petersen',\n",
       " 'Petersen-Poulsen',\n",
       " 'Joseph-Noël',\n",
       " 'Lallbeeharry',\n",
       " 'Ramkhelawan',\n",
       " 'Jean-Baptiste',\n",
       " 'Fairweather',\n",
       " 'Baldvinsson',\n",
       " 'Eysteinsson',\n",
       " 'Kristinsson',\n",
       " 'Oddbjornsson',\n",
       " 'Zakariasson',\n",
       " 'Djajasumarta',\n",
       " 'Cohen-Kedar',\n",
       " 'Goldstein-Shamir',\n",
       " 'Levinski-Eilat',\n",
       " 'Ben-Avraham',\n",
       " 'Shaked-Mizrahi',\n",
       " 'Assoulin-Ayalon',\n",
       " 'Weiss-Portnoy',\n",
       " 'Kahlon-Danino',\n",
       " 'Yitzhak-Bergman',\n",
       " 'Tal-Rosenberg',\n",
       " 'Mizrachi-Hadad',\n",
       " 'Shamir-Shor',\n",
       " 'Golan-Levontin',\n",
       " 'Gabbianelli',\n",
       " 'Esposito-Rose',\n",
       " 'McFarlane-Kostraba',\n",
       " 'Ricketts-Bagnal',\n",
       " 'Scott-Wilson',\n",
       " 'Utley-Brown',\n",
       " 'Walker-Dawkins',\n",
       " 'Wilson-Haughton',\n",
       " 'Jarrett-Kidd',\n",
       " 'Lue-Burrell',\n",
       " 'Newland-Martin',\n",
       " 'Nembhard-Bartley',\n",
       " 'Oster-Anderson',\n",
       " 'Pinnock-Wynter',\n",
       " 'Richards-McFarlane',\n",
       " 'Al-Rawashdeh',\n",
       " 'Abu-Ghazaleh',\n",
       " 'Bakytzhanov',\n",
       " 'Sapargaliyev',\n",
       " 'Zhalgasbayev',\n",
       " 'Kenzhegulov',\n",
       " 'Abdrakhmanov',\n",
       " 'Toktarbayev',\n",
       " 'Moldakaraev',\n",
       " 'Kishkenbayev',\n",
       " 'Al-Duwaisan',\n",
       " 'Eshmambetov',\n",
       " 'Kudaiberdiev',\n",
       " 'Doolotkeldiev',\n",
       " 'Phoutthasak',\n",
       " 'Inthalangsy',\n",
       " 'Bounthanong',\n",
       " 'Khoury-Sleiman',\n",
       " 'Gaidamavičius',\n",
       " 'Juozapaitis',\n",
       " 'Klimavičius',\n",
       " 'Razafindrazaka',\n",
       " 'Andriamahazo',\n",
       " 'Rakotondravony',\n",
       " 'Randrianarisoa',\n",
       " 'Rasolofonirina',\n",
       " 'Ravelomanantsoa',\n",
       " 'Randrianasolo',\n",
       " 'Razakarivony',\n",
       " 'Rajaonarivelo',\n",
       " 'Razafindrakoto',\n",
       " 'Rakotoarivelo',\n",
       " 'Fanomezantsoa',\n",
       " 'Puthucheary',\n",
       " 'Hussainmiya',\n",
       " 'Thillainathan',\n",
       " 'Karunagaran',\n",
       " 'Subramaniam',\n",
       " 'Baldacchino',\n",
       " 'Borg Olivier',\n",
       " 'Farrugia Guta',\n",
       " 'Grech Delicata',\n",
       " 'Spiteri Lucas',\n",
       " 'Debono Cassar',\n",
       " 'Azzopardi Muscat',\n",
       " 'Gatt Baldacchino',\n",
       " 'Saint-Louis',\n",
       " 'Sainte-Rose',\n",
       " 'Goonewardene',\n",
       " 'Banou-AbdoulHalim',\n",
       " 'Mahamoud-Idriss',\n",
       " 'Saïd-Ali-Bacar',\n",
       " 'Saïd-Hachim',\n",
       " 'Saïd-Mahamoud',\n",
       " 'Salim-Abdallah',\n",
       " 'Giordanengo',\n",
       " 'Nyamkhishig',\n",
       " 'Enkh-Amgalan',\n",
       " 'Tsogtsaikhan',\n",
       " 'Munkhtsetseg',\n",
       " 'Baasansuren',\n",
       " 'Badamsambuu',\n",
       " 'Buyanbadrakh',\n",
       " 'Amartuvshin',\n",
       " 'Benchekroun',\n",
       " 'Van der Berg',\n",
       " 'van den Berg',\n",
       " 'Van der Meer',\n",
       " 'Fournier-Bidoz',\n",
       " 'Largaespada',\n",
       " 'Dimitrievska',\n",
       " 'Jankulovska',\n",
       " 'Gjorgjievska',\n",
       " 'Deleon Guerrero',\n",
       " 'San Nicolas',\n",
       " 'Flores-Hurtado',\n",
       " 'Chuquihuara',\n",
       " 'Jordan-Rivera',\n",
       " 'Calderón-Prieto',\n",
       " 'Quiroz-Onofre',\n",
       " 'F Christian',\n",
       " 'Wojciechowski',\n",
       " 'Rozwadowski',\n",
       " 'Al Muhannadi',\n",
       " 'Al Mohannadi',\n",
       " 'Dragomirescu',\n",
       " 'Mfashumukiza',\n",
       " 'Nsanzabunda',\n",
       " 'Mugabowindekwe',\n",
       " 'Hategekimana',\n",
       " 'Nzohabonayo',\n",
       " 'Havyarimana',\n",
       " 'Nzabonimana',\n",
       " 'Jn Baptiste',\n",
       " 'Garcia-Trousset',\n",
       " 'Lambert-Félix',\n",
       " 'Lemaire-Darnaudet',\n",
       " 'Nazaire-Bourgeois',\n",
       " 'Poncet-Couchy',\n",
       " 'Schoenmaekers',\n",
       " 'van der Hoeven',\n",
       " 'Deslauriers',\n",
       " 'Fitzpatrick',\n",
       " 'Jacobs-Elleby',\n",
       " 'Ross-Robertson',\n",
       " 'Trimmingham',\n",
       " 'Al-Mughassil',\n",
       " 'Al-Suwailim',\n",
       " 'Al-Hedaithi',\n",
       " 'Radovanovic',\n",
       " 'Gabrijelčič',\n",
       " 'Fernández-Miranda',\n",
       " 'Gálvez-Becker',\n",
       " 'Cerezo Moreno',\n",
       " 'Karunaratne',\n",
       " 'Wickramasinghe',\n",
       " 'Thevasagayam',\n",
       " 'Edirisinghe',\n",
       " 'Thambirajah',\n",
       " 'Wijdenbosch',\n",
       " 'Kristiansen',\n",
       " 'Xylophonist',\n",
       " 'Zetterström',\n",
       " 'Mumenthaler',\n",
       " 'Tschumperlin',\n",
       " 'Abdullozoda',\n",
       " 'Ibrohimzoda',\n",
       " 'Laothamatas',\n",
       " 'Praveskcharoen',\n",
       " 'Thanapaisarn',\n",
       " 'Tungkamanee',\n",
       " 'Prachayapan',\n",
       " 'Somwangtong',\n",
       " 'Dumnernchanvanich',\n",
       " 'Chotikapanich',\n",
       " 'Adomayakpor',\n",
       " \"Tu'ilautaha\",\n",
       " 'Manuopangai',\n",
       " 'Madramootoo',\n",
       " 'Ben Khalifa',\n",
       " 'Ben Youssef',\n",
       " 'Ben Romdhane',\n",
       " 'Ben Gharbia',\n",
       " 'Ben Hassine',\n",
       " 'Ben Ghorbel',\n",
       " 'Ben Haj Kacem',\n",
       " 'Kaya Yılmaz',\n",
       " 'Kaya Karatan',\n",
       " 'Kaya Gündoğdu',\n",
       " 'Annaberdiev',\n",
       " 'Allaberdiyev',\n",
       " 'Nazarmyradov',\n",
       " 'Saparmammedov',\n",
       " 'Bereznytskyi',\n",
       " 'Zavhorodniy',\n",
       " 'Al-Mansoori',\n",
       " 'Al-Mazrouei',\n",
       " 'Al-Rumaithi',\n",
       " 'Al-Mansouri',\n",
       " 'Mamarasulov',\n",
       " 'Fernandez-Caruci',\n",
       " 'Marquez Crespo',\n",
       " 'Boulton Paez',\n",
       " 'Marturet Andrade',\n",
       " 'Zambrano Pasquel',\n",
       " 'Trujillo Valdez',\n",
       " 'Cordido Castro',\n",
       " 'Duran Branger',\n",
       " 'Tamayo Suarez',\n",
       " 'Bernal Sanoja',\n",
       " 'Urdaneta Ortega',\n",
       " 'Miquilena Vettorazzi',\n",
       " 'Bastardo Serrano',\n",
       " 'Crespo Torres',\n",
       " 'Villalobos Melean',\n",
       " 'Zapata Olivares',\n",
       " 'Gil Colmenares',\n",
       " 'Maoulainine',\n",
       " 'MohamedAhmed',\n",
       " 'MohamedElhafed',\n",
       " 'Al-Mansouri',\n",
       " 'Chibesakunda',\n",
       " 'Mafuratidze',\n",
       " 'Mulitauaopele',\n",
       " 'Hendricksen',\n",
       " 'Jefferson-Thomas',\n",
       " 'Lambert-Hill',\n",
       " 'Marquis-Stream',\n",
       " 'Potter-Hill',\n",
       " 'Reiter-Heath',\n",
       " 'Serra-Simmons',\n",
       " 'Hovhannisyan',\n",
       " 'Harutyunyan',\n",
       " 'Schoonhoven',\n",
       " 'Shahmuradov',\n",
       " 'Van de Voorde',\n",
       " 'Agbahoungba',\n",
       " 'Lightbourne',\n",
       " 'Van der Biezen',\n",
       " 'Van der Pluijm',\n",
       " 'Schoonmaker',\n",
       " 'Muhammedagić',\n",
       " 'Abdul Rahman',\n",
       " 'Dimitrovski',\n",
       " 'Kolumbushev',\n",
       " 'Kostadinova',\n",
       " 'Niyokwizera',\n",
       " 'Duhayindavyi',\n",
       " 'Ndayishimiye',\n",
       " 'Nzohabonayo',\n",
       " 'Ntahomvukiye',\n",
       " 'Ntibazonkiza',\n",
       " 'Vasconcelos',\n",
       " 'Koyambounou',\n",
       " 'Mahamat-Saleh',\n",
       " 'Pérez-Cotapos',\n",
       " 'Rivera-Elizalde',\n",
       " 'Sánchez-Lineros',\n",
       " 'Bulangalire',\n",
       " 'Diarrassouba',\n",
       " 'Chong Gongo',\n",
       " 'Ortega-Santos',\n",
       " 'Christoforou',\n",
       " 'Papadopoulos',\n",
       " 'Eleftheriou',\n",
       " 'Konstantinou',\n",
       " 'Charalambous',\n",
       " 'Christensen',\n",
       " 'Kristiansen',\n",
       " 'Perezalonso',\n",
       " 'Diazdelvalle',\n",
       " 'Floresmendoza',\n",
       " 'Ghebrebrhan',\n",
       " 'Ghebremedhin',\n",
       " 'Gebremeskel',\n",
       " 'Gebremichael',\n",
       " 'Woldemariam',\n",
       " 'Jakupsstovu',\n",
       " 'Johannessen',\n",
       " 'Ruotsalainen',\n",
       " 'Diamouangana',\n",
       " 'Ferdinandus',\n",
       " 'Boussoughou',\n",
       " 'Thomasmeier',\n",
       " 'Hildebrandt',\n",
       " 'Breitschwerdt',\n",
       " 'Ehlersdorfer',\n",
       " 'Behrendtsohn',\n",
       " 'Riepertinger',\n",
       " 'Tannenberger',\n",
       " 'Pingel-Schupp',\n",
       " 'Montegriffo',\n",
       " 'Voulgarakis',\n",
       " 'Rizomilioti',\n",
       " 'Tzamtziaras',\n",
       " 'Efstathiadis',\n",
       " 'Chatzigeorgiou',\n",
       " 'Charalabopoulos',\n",
       " 'Asimakopoulos',\n",
       " 'Aggelakopoulos',\n",
       " 'Leon Guerrero',\n",
       " 'Pérez-Vásquez',\n",
       " 'Jean-Baptiste',\n",
       " 'Lamartinière',\n",
       " 'Petit-Frère',\n",
       " 'Greenstreet',\n",
       " 'Troianiello',\n",
       " 'Mendoza-Cruz',\n",
       " 'Rodas-Mejía',\n",
       " 'Fajardo-Bueno',\n",
       " 'Ponce-Almendárez',\n",
       " 'Hernández-Díaz',\n",
       " 'Ramírez-Miranda',\n",
       " 'Nagyszekeres',\n",
       " 'Guðmundsson',\n",
       " 'Kristjánsson',\n",
       " 'Þorsteinsson',\n",
       " 'Þorvaldsson',\n",
       " 'Sigurvinsson',\n",
       " 'Cohen-Cymberknoh',\n",
       " 'Sapir-Koren',\n",
       " 'Shavit-Levi',\n",
       " 'Goldstein-Goren',\n",
       " 'Sapir-Yaacov',\n",
       " 'Evangelista',\n",
       " 'Macchiavelli',\n",
       " 'Quagliarella',\n",
       " 'Moon-Fearon',\n",
       " \"O'Connor-Nugent\",\n",
       " 'Parker-Henriques',\n",
       " 'Richards-Dwyer',\n",
       " 'Scott-Wilson',\n",
       " 'Thompson-McCalla',\n",
       " 'Vendryes-Newman',\n",
       " 'Walker-Clarke',\n",
       " 'Ziadie-Ebanks',\n",
       " 'Clarke-Duhart',\n",
       " 'Elliott-Berry',\n",
       " 'Everard-Campbell',\n",
       " 'Fagan-Jordan',\n",
       " 'Krulikowski',\n",
       " 'Al-Zawahreh',\n",
       " 'Al-Jawarneh',\n",
       " 'Al-Hawamdeh',\n",
       " 'Al-Khawaldeh',\n",
       " 'Al-Harahsheh',\n",
       " 'Dzholdasbekov',\n",
       " 'Mukhambetkali',\n",
       " 'Orynbassarov',\n",
       " 'Rakhimbekov',\n",
       " 'Urazgaliyev',\n",
       " 'Taberannang',\n",
       " 'Al-Shammari',\n",
       " 'Abdyrasulov',\n",
       " 'Abdrakhmanov',\n",
       " 'Phoummithone',\n",
       " 'Vongphachanh',\n",
       " 'Khampounheuang',\n",
       " 'Phommachanh',\n",
       " 'Vongphachanhvong',\n",
       " 'Thepphongphichit',\n",
       " 'Phouangmala',\n",
       " 'Slokenbergs',\n",
       " 'Rheinberger',\n",
       " 'Andriamihaja',\n",
       " 'Randrianandrasana',\n",
       " 'Rakotonanahary',\n",
       " 'Andrianandraina',\n",
       " 'Rasolofomanana',\n",
       " 'Razafindrazaka',\n",
       " 'Zafindrabay',\n",
       " 'Andrianjafy',\n",
       " 'Ratolojanahary',\n",
       " 'Zafimahaleo',\n",
       " 'Ravelonarivo',\n",
       " 'Rakotoarimanana',\n",
       " 'Nomenjanahary',\n",
       " 'Pooransingh',\n",
       " 'Lallmahamood',\n",
       " 'Bolor-Erdene',\n",
       " 'Baatarsaikhan',\n",
       " 'Tumurbaatar',\n",
       " 'Tsend-Ayush',\n",
       " 'Urantsetseg',\n",
       " 'Munkhtsetseg',\n",
       " 'Javzandulam',\n",
       " 'Hendrickson',\n",
       " 'Pell-Tichkette',\n",
       " 'Engelbrecht',\n",
       " 'Van der Meer',\n",
       " 'Van den Berg',\n",
       " 'Van der Veen',\n",
       " 'Van de Kamp',\n",
       " 'Van Leeuwen',\n",
       " 'Van den Heuvel',\n",
       " 'Van de Graaf',\n",
       " 'Van der Meer',\n",
       " 'Van den Boom',\n",
       " 'Van der Sar',\n",
       " 'Van de Vaart',\n",
       " 'Van der Woude',\n",
       " 'Van de Sande',\n",
       " 'Van Wijngaarden',\n",
       " 'Kohumoetini',\n",
       " 'Largaespada',\n",
       " 'Gutierrez-Mayorga',\n",
       " 'Olivera-Watts',\n",
       " 'Gutierrez Lozano',\n",
       " 'Dinarte Chica',\n",
       " 'Mihajlovski',\n",
       " 'Stojanovski',\n",
       " 'Dimitrovski',\n",
       " 'Gjorgjievski',\n",
       " 'Stefanovski',\n",
       " 'Kristiansen',\n",
       " 'Al-Shukaily',\n",
       " 'De La Guardia',\n",
       " 'Díaz Espino',\n",
       " 'Kwiatkowski',\n",
       " 'Lewandowski',\n",
       " 'Al-Mansoori',\n",
       " 'Al-Buainain',\n",
       " 'Jouan-Vidal',\n",
       " 'Uwizeyimana',\n",
       " 'Ntabanganyimana',\n",
       " 'Ntivuguruzwa',\n",
       " 'Fitzpatrick',\n",
       " 'Bellecommbre',\n",
       " 'Breuil-Martin',\n",
       " 'Choisy-Pompey',\n",
       " 'Devauchelle',\n",
       " 'Esnault-Pellegrini',\n",
       " 'Germain-Nouveau',\n",
       " 'Husson-Fornage',\n",
       " 'Leclair-Piton',\n",
       " 'Lemery-Jacquot',\n",
       " 'Martinat-Baudry',\n",
       " 'Morcel-Hébrard',\n",
       " 'Papineau-Couture',\n",
       " 'Rousseau-Rouanet',\n",
       " 'Capicchioni',\n",
       " 'Pelliccioni',\n",
       " 'Al-Abdullah',\n",
       " 'Al-Shamrani',\n",
       " 'Radovanovic',\n",
       " 'Kraaijeveld',\n",
       " \"Sakusakute'u\",\n",
       " 'Ingebritsen',\n",
       " 'Bandaranaike',\n",
       " 'Jayawardena',\n",
       " 'Karunaratne',\n",
       " 'Nanayakkara',\n",
       " 'Samarasinghe',\n",
       " 'Wickremasinghe',\n",
       " 'Abdulrahman',\n",
       " 'Swijnenburg',\n",
       " 'Fredriksson',\n",
       " 'Obreschtkow',\n",
       " 'Vollenweider',\n",
       " 'Xanthoudakis',\n",
       " 'Al-Abdullah',\n",
       " 'Al-Mohammad',\n",
       " 'Mukhiddinov',\n",
       " 'Hundscheidt',\n",
       " 'Jarukittikhajorn',\n",
       " 'Klompenhouwer',\n",
       " 'Maythapakthong',\n",
       " 'Phiphobmongkol',\n",
       " 'Sangthongkun',\n",
       " 'Thongkrajai',\n",
       " 'Unhanandana',\n",
       " 'Xayakachorn',\n",
       " 'Falepapalangi',\n",
       " 'Ben Gharbia',\n",
       " 'Al-Marzooqi',\n",
       " 'Bin-Mohammed',\n",
       " 'Al-Mansoori',\n",
       " 'Al-Romaithi',\n",
       " 'Culpepper-Stott',\n",
       " 'Kelvingrove',\n",
       " 'Noyes-Uppingham',\n",
       " 'Puddingstone',\n",
       " 'Wheeler-Cuffe',\n",
       " 'Shamsiddinov',\n",
       " 'Turdimurodov',\n",
       " 'Tariolatafa',\n",
       " 'Dawson-Baugh',\n",
       " 'Flax-Charles',\n",
       " 'Hodge-Curwen',\n",
       " 'Kendall-Morris',\n",
       " 'Nicholson-Donovan',\n",
       " 'Thomas-Lawrence',\n",
       " 'Victoria-Cline',\n",
       " 'Walters-Harris',\n",
       " 'Young-Duncan',\n",
       " 'Walters-Hodge',\n",
       " 'Ziegenthaler',\n",
       " 'Al-Makshali',\n",
       " 'Al-Mujaishi',\n",
       " 'Al-Barakani',\n",
       " 'Makahamadze',\n",
       " 'Boukherouba',\n",
       " 'Ait Belkacem',\n",
       " 'Tualaulelei',\n",
       " 'Ivor-Stephens',\n",
       " 'Jacobs-Smith',\n",
       " 'Kelly-Lloyd',\n",
       " 'Taylor-Lake',\n",
       " 'Blankenburg',\n",
       " 'Harutyunyan',\n",
       " 'Hovhannisyan',\n",
       " 'Ter-Grigoryan',\n",
       " 'Hambardzumyan',\n",
       " 'Gibbons-Neff',\n",
       " 'Roberts-Smith',\n",
       " 'Lichtscheidl',\n",
       " 'Hinterreiter',\n",
       " 'Steinwandter',\n",
       " 'Allahverdiyev',\n",
       " 'Al-Muharraqi',\n",
       " 'Cumberbatch',\n",
       " 'Tsishchanka',\n",
       " 'Kaspiarovich',\n",
       " 'Jacobsdaelen',\n",
       " 'Nauwelaerts',\n",
       " 'Van den Abbeele',\n",
       " 'Bajracharya',\n",
       " 'Merryweather',\n",
       " 'Muharemovic',\n",
       " 'Ramontshonyana',\n",
       " 'Gopalakrishnan',\n",
       " 'Vencatasamy',\n",
       " 'Mat accessible',\n",
       " 'Abdul Rahman',\n",
       " 'Kostadinova',\n",
       " 'Ndayishimiye',\n",
       " 'Nshimirimana',\n",
       " 'Havyarimana',\n",
       " 'Mpawenimana',\n",
       " 'Chel batista',\n",
       " 'Djack Moreira',\n",
       " 'Felisberto Rocha',\n",
       " 'Gerson Correia',\n",
       " 'Henrique Monteiro',\n",
       " 'Ivone Semedo',\n",
       " 'José Fortes',\n",
       " 'Kevin Lopes',\n",
       " 'Lenira Montrond',\n",
       " 'Miguel Pereira',\n",
       " 'Nivaldo Ramos',\n",
       " 'Orlando Gomes',\n",
       " 'Paulo Veiga',\n",
       " 'Quiteria Tavares',\n",
       " 'Ricardo Andrade',\n",
       " 'Telmo Duarte',\n",
       " 'Ulisses Medina',\n",
       " 'Valter Cordeiro',\n",
       " 'Wagner Ventura',\n",
       " 'Ngbondikoto',\n",
       " 'Kossimatchi',\n",
       " 'Djimasangar',\n",
       " 'Ngalamulume',\n",
       " 'van der Biezen',\n",
       " 'da Costa Gomez',\n",
       " 'van der Waal',\n",
       " 'Stephanidis',\n",
       " 'Vassiliades',\n",
       " 'Xenophontos',\n",
       " 'Yiallourides',\n",
       " 'Hansen-Nord',\n",
       " 'Birch-Jensen',\n",
       " 'Søndergaard',\n",
       " 'Olsen-Thomsen',\n",
       " 'Møller-Andersen',\n",
       " 'Toft-Hansen',\n",
       " 'Pedersen-Friis',\n",
       " 'Sørensen-Mikkelsen',\n",
       " 'Fisker-Jensen',\n",
       " 'Hansen-Pedersen',\n",
       " 'Cruz-Santana',\n",
       " 'Chuquimarca',\n",
       " 'El-Husseiny',\n",
       " 'Nour-El-Din',\n",
       " 'Ahmed-Elsayed',\n",
       " 'Gebremeskel',\n",
       " 'Mohammed-Saleh',\n",
       " 'Ghebrehiwet',\n",
       " 'Woldemariam',\n",
       " 'Habtemariam',\n",
       " 'Gudmundsson',\n",
       " 'Rokovunisei',\n",
       " 'Lammentausta',\n",
       " 'Ollenschläger',\n",
       " 'Schröderstücke',\n",
       " 'Zieglerzimmer',\n",
       " 'Mensah-Bonsu',\n",
       " 'Owusu-Ansah',\n",
       " 'Poku-Adusei',\n",
       " 'Yeboah-Kodie',\n",
       " 'Montegriffo',\n",
       " 'Papadopoulos',\n",
       " 'Giannakopoulos',\n",
       " 'Sakellariou',\n",
       " 'Papageorgiou',\n",
       " 'Kostopoulos',\n",
       " 'Athanasiadis',\n",
       " 'Alexopoulos',\n",
       " 'Vassiliadis',\n",
       " 'Christiansen',\n",
       " 'Christopher',\n",
       " 'San Agustin',\n",
       " 'Leon Guerrero',\n",
       " 'Hernandez-Mendoza',\n",
       " 'Perez-Castillo',\n",
       " 'Ramirez-Lopez',\n",
       " 'Martinez-Garcia',\n",
       " 'Sanchez-Hernandez',\n",
       " 'Gomez-Sanchez',\n",
       " 'Lopez-Velasquez',\n",
       " 'De Carteret',\n",
       " 'De Sausmarez',\n",
       " 'Jean-Baptiste',\n",
       " 'Kirkpatrick',\n",
       " 'Garcia-Amaya',\n",
       " 'Mendoza-Rivera',\n",
       " 'Gutierrez-Soto',\n",
       " 'Hernandez-Lopez',\n",
       " 'Ramirez-Villa',\n",
       " 'Lopez-Perez',\n",
       " 'Nunez-Guzman',\n",
       " 'Gonzalez-Ramos',\n",
       " 'Martinez-Diaz',\n",
       " 'Torres-Garcia',\n",
       " 'Gomez-Hernandez',\n",
       " 'Sanchez-Mendoza',\n",
       " 'Castillo-Gonzalez',\n",
       " 'Ochoa-Perez',\n",
       " 'Canales-Gutierrez',\n",
       " 'Rodriguez-Ramirez',\n",
       " 'Santos-Garcia',\n",
       " 'Moreno-Hernandez',\n",
       " 'Alvarez-Mendoza',\n",
       " 'Thrainsdottir',\n",
       " 'Olafsdottir',\n",
       " 'Bjarnadottir',\n",
       " 'Gisladottir',\n",
       " 'Eysteinsson',\n",
       " 'Jakobsdottir',\n",
       " 'Porvaldsdottir',\n",
       " 'Ingvarsdottir',\n",
       " 'Valdimarsdottir',\n",
       " 'Johannsdottir',\n",
       " 'Kristjansson',\n",
       " 'Gudmundsdottir',\n",
       " 'Hallgrimsson',\n",
       " 'Hakimpanitia',\n",
       " 'Djajasudarma',\n",
       " 'Pudjinugroho',\n",
       " 'Suryadharma',\n",
       " 'Hamidinejad',\n",
       " 'Prendergast',\n",
       " 'Abdrakhmanov',\n",
       " 'Burrambekov',\n",
       " 'Choibekovich',\n",
       " 'Junushalieva',\n",
       " 'Kadyralieva',\n",
       " 'Keneshbekov',\n",
       " 'Satybaldieva',\n",
       " 'Zhenishbekovna',\n",
       " 'Khounphixay',\n",
       " 'Somvorachit',\n",
       " 'Soukthavong',\n",
       " 'Keobounphanh',\n",
       " 'Vongphachanh',\n",
       " 'Chanthabouly',\n",
       " 'Khamphoukeo',\n",
       " 'Setlhobogang',\n",
       " 'Al-Muntasser',\n",
       " 'El-Megaryef',\n",
       " 'El-Muntasser',\n",
       " 'Juozapaitis',\n",
       " 'Kvietkauskas',\n",
       " 'Sinkevicius',\n",
       " 'Van Kersberg',\n",
       " 'Rafanomezantsoa',\n",
       " 'Andriantseheno',\n",
       " 'Razakanirina',\n",
       " 'Tsolagniarivelo',\n",
       " 'Ratovonirina',\n",
       " 'Hajalalaina',\n",
       " 'Fanomezantsoa',\n",
       " 'Chimbalanga',\n",
       " 'Marie-Sainte',\n",
       " 'Pierrehumbert',\n",
       " 'Tirvengadum',\n",
       " 'Alexandrova',\n",
       " 'Cuordileone',\n",
       " 'Lkhagvasuren',\n",
       " 'Urantsetseg',\n",
       " 'Javzandulam',\n",
       " 'Amartuvshin',\n",
       " 'Kaluđerović',\n",
       " 'Negovanović',\n",
       " 'Ben Abdallah',\n",
       " 'Dlangamandla',\n",
       " 'Nghifindaka',\n",
       " 'Nieuwenhuizen',\n",
       " 'Gope-Fenepej',\n",
       " 'Ouhoumoudou',\n",
       " 'Dimitrievski',\n",
       " 'Miloshevska',\n",
       " 'Deleon Guerrero',\n",
       " 'Kristiansen',\n",
       " 'Al-Mughairi',\n",
       " 'Al-Mandhari',\n",
       " 'Villanueva-Abalon.',\n",
       " 'Al-Muhannadi',\n",
       " 'Uwimanimpaye',\n",
       " 'Mukandutiye',\n",
       " 'Uwiringiyimana',\n",
       " 'Uwihanganye',\n",
       " 'Nyirahabimana',\n",
       " 'Nshimyumuremyi',\n",
       " 'Nyirarukundo',\n",
       " 'Hendrickson',\n",
       " 'Therny-Defosse',\n",
       " 'Gunn-Johnson',\n",
       " 'Hudson-Mason',\n",
       " 'Ives-Callwood',\n",
       " 'Josiah-John',\n",
       " 'Lionel-Marc',\n",
       " 'Murray-Greenidge',\n",
       " 'Nicholls-Compton',\n",
       " 'Patrick-Peter',\n",
       " 'Richelieu-Larocque',\n",
       " 'Thornhill-Morris',\n",
       " 'Werner-Gittens',\n",
       " 'Sagapolutele',\n",
       " 'Seumanutafa',\n",
       " 'Tuimalealiifano',\n",
       " 'Pelliccioni',\n",
       " 'Al-Muhammad',\n",
       " 'Al-Abdullah',\n",
       " 'Al-Tuwaijri',\n",
       " 'Al-Khalifah',\n",
       " 'Radovanovic',\n",
       " 'Milovanovic',\n",
       " 'Karunaratne',\n",
       " 'Gunawardena',\n",
       " 'Wickramasinghe',\n",
       " 'Lachmipersad',\n",
       " 'Pawiroredjo',\n",
       " 'Wongsodikromo',\n",
       " 'Gunleiksrud',\n",
       " 'Abderhalden',\n",
       " 'Al-Mohammed',\n",
       " 'Abdulrahman',\n",
       " 'Dodikhudoev',\n",
       " 'Mwakipesile',\n",
       " 'Tchagnouleto',\n",
       " 'Uhilamoelangi',\n",
       " 'Tuʻungafasi',\n",
       " 'Gurbannepesow',\n",
       " 'Hojaberдыýew',\n",
       " 'Ishanguliew',\n",
       " 'Saparmammedow',\n",
       " 'Tagandurdyýew',\n",
       " 'Üwdimuhammedow',\n",
       " 'Öwezgeldiýew',\n",
       " 'Horbachevska',\n",
       " 'Al-Mansoori',\n",
       " 'Al-Balooshi',\n",
       " 'Al-Remeithi',\n",
       " 'Hrehorovich',\n",
       " 'Sierakowski',\n",
       " 'Poniedzialek',\n",
       " 'De los Santos',\n",
       " 'Bekmirzayev',\n",
       " 'Nasritdinov',\n",
       " 'Omonullayev',\n",
       " 'Xudoyberdiyev',\n",
       " 'Parris-Hodge',\n",
       " 'Morgan-Daly',\n",
       " 'Fonseca-Cooper',\n",
       " 'Bryson-Emanuel',\n",
       " 'Hamilton-Jacobs',\n",
       " 'Haynes-Brown',\n",
       " 'Torres-Farrell',\n",
       " 'Morgan-Smith',\n",
       " 'Hodge-Perez',\n",
       " 'Guzman-Tobert',\n",
       " 'Kendall-Mavian',\n",
       " 'Morgan-Weeks',\n",
       " \"O'Connor-Dorsey\",\n",
       " 'Perez-Caballero',\n",
       " 'Vigil-Figueroa',\n",
       " 'Zizzo-Zehner',\n",
       " 'Al-Mekhlafi',\n",
       " 'Al-Maqdashi',\n",
       " 'Al-Sanabani',\n",
       " 'Al-Murshedi',\n",
       " 'Tichawangana',\n",
       " 'Madzikatire',\n",
       " 'Bellingshausen',\n",
       " 'Von Bellingshausen',\n",
       " 'Harutyunyan',\n",
       " 'Ter-Grigoryan',\n",
       " 'Iskandaryan',\n",
       " 'Schoonderwaldt',\n",
       " 'Van der Bol',\n",
       " 'Kookaburras',\n",
       " 'Bushrangers',\n",
       " 'Niederkofler',\n",
       " 'Guggenberger',\n",
       " 'Atakishiyev',\n",
       " 'Al-Mazrooei',\n",
       " 'Kazlouskaya',\n",
       " 'Radzivonava',\n",
       " 'Tsishchanka',\n",
       " 'Kaspiarovich',\n",
       " 'Tserashkevich',\n",
       " 'Van den Berghe',\n",
       " 'Van den Bossche',\n",
       " 'Van Rijckevorsel',\n",
       " 'Schrobiltgen',\n",
       " 'Schoonderbeek',\n",
       " 'Hadžiefendić',\n",
       " 'Ibrahimović',\n",
       " 'Muharemagić',\n",
       " 'Kegomoditshwene',\n",
       " 'Christiansen',\n",
       " 'Kristiansen',\n",
       " 'Albuquerque',\n",
       " 'Abdul Rahman',\n",
       " 'Abdul Majid',\n",
       " 'Abdul Hakim',\n",
       " 'Abdul Razak',\n",
       " 'Abdul Latif',\n",
       " 'Abdul Muhsin',\n",
       " 'Abdul Wahab',\n",
       " 'Abdul Karim',\n",
       " 'Abdul Hamid',\n",
       " 'Abdul Kadir',\n",
       " 'Abdul Jalil',\n",
       " 'Abdul Hafiz',\n",
       " 'Abdul Fattah',\n",
       " 'Abdul Wadud',\n",
       " 'Abdul Sattar',\n",
       " 'Abdul Quddus',\n",
       " 'Abdul Samed',\n",
       " 'Ndayishimiye',\n",
       " 'Nshimirimana',\n",
       " 'Mpawenimana',\n",
       " 'Uwiringiyimana',\n",
       " 'Ntibazonkiza',\n",
       " 'Mahamat-Saleh',\n",
       " 'Dumpledorff',\n",
       " 'Gravesteijn',\n",
       " 'Saldarriagaa',\n",
       " 'Hinestrozaa',\n",
       " 'Montenegroo',\n",
       " 'Díaz-Quesada',\n",
       " 'Fernández-Miranda',\n",
       " 'Rodríguez-Ferrero',\n",
       " 'López-Coloma',\n",
       " 'Rodríguez-Pastor',\n",
       " 'González-Avila',\n",
       " 'Fernández-Castillo',\n",
       " 'Hernández-Núñez',\n",
       " 'Gómez-Rivero',\n",
       " 'Sánchez-Mendoza',\n",
       " 'Pérez-Cabrera',\n",
       " 'Martínez-González',\n",
       " 'Álvarez-Gutiérrez',\n",
       " 'Torres-Pérez',\n",
       " 'Herrera-Martínez',\n",
       " 'Guzmán-Fernández',\n",
       " 'Rivera-González',\n",
       " 'Velázquez-Ramírez',\n",
       " 'Díaz-Hernández',\n",
       " 'Dávila-González',\n",
       " ...]"
      ]
     },
     "execution_count": 57,
     "metadata": {},
     "output_type": "execute_result"
    }
   ],
   "source": [
    "[x for x in flat_clean_last_names if len(x) > 10]"
   ]
  },
  {
   "cell_type": "code",
   "execution_count": 60,
   "metadata": {},
   "outputs": [],
   "source": [
    "countries = first_names_ds.unique(\"country\")\n",
    "\n",
    "country2names = {}\n",
    "\n",
    "for c, n in zip(first_names_ds[\"country\"], clean_first_names):\n",
    "    if c not in country2names:\n",
    "        country2names[c] = dict()\n",
    "    \n",
    "    if \"first_name\" not in country2names[c]:\n",
    "        country2names[c][\"first_name\"] = set()\n",
    "    country2names[c][\"first_name\"].update(n)\n",
    "\n",
    "for c, n in zip(last_names_ds[\"country\"], clean_last_names):\n",
    "    if c not in country2names:\n",
    "        country2names[c] = dict()\n",
    "    \n",
    "    if \"last_name\" not in country2names[c]:\n",
    "        country2names[c][\"last_name\"] = set()\n",
    "    country2names[c][\"last_name\"].update(n)"
   ]
  },
  {
   "cell_type": "code",
   "execution_count": 64,
   "metadata": {},
   "outputs": [
    {
     "name": "stdout",
     "output_type": "stream",
     "text": [
      "Afghanistan 352 393\n",
      "Åland Islands 408 279\n",
      "Albania 338 419\n",
      "Algeria 206 471\n",
      "American Samoa 464 446\n",
      "Andorra 316 348\n",
      "Angola 365 595\n",
      "Anguilla 725 451\n",
      "Antarctica 418 556\n",
      "Antigua and Barbuda 615 437\n",
      "Argentina 268 443\n",
      "Armenia 225 207\n",
      "Aruba 679 505\n",
      "Australia 440 623\n",
      "Austria 363 449\n",
      "Azerbaijan 273 226\n",
      "Bahamas 586 228\n",
      "Bahrain 222 303\n",
      "Bangladesh 427 249\n",
      "Barbados 513 260\n",
      "Belarus 169 480\n",
      "Belgium 353 539\n",
      "Belize 589 390\n",
      "Benin 577 486\n",
      "Bermuda 579 319\n",
      "Bhutan 86 165\n",
      "Bolivia (Plurinational State of) 548 313\n",
      "Bonaire, Sint Eustatius and Saba 709 537\n",
      "Bosnia and Herzegovina 274 461\n",
      "Botswana 246 503\n",
      "Bouvet Island 492 399\n",
      "Brazil 385 151\n",
      "British Indian Ocean Territory 674 652\n",
      "Brunei Darussalam 426 480\n",
      "Bulgaria 256 293\n",
      "Burkina Faso 375 183\n",
      "Burundi 390 267\n",
      "Cabo Verde 612 225\n",
      "Cambodia 284 347\n",
      "Cameroon 672 550\n",
      "Canada 417 431\n",
      "Cayman Islands 507 309\n",
      "Central African Republic 543 720\n",
      "Chad 337 490\n",
      "Chile 262 394\n",
      "China 447 331\n",
      "Christmas Island 605 688\n",
      "Cocos (Keeling) Islands 632 694\n",
      "Colombia 192 376\n",
      "Comoros 394 388\n",
      "Congo 537 504\n",
      "Congo, Democratic Republic of the 561 449\n",
      "Cook Islands 359 440\n",
      "Costa Rica 380 331\n",
      "Côte d'Ivoire 384 239\n",
      "Croatia 227 470\n",
      "Cuba 502 430\n",
      "Curaçao 749 591\n",
      "Cyprus 293 361\n",
      "Czechia 198 384\n",
      "Denmark 313 332\n",
      "Djibouti 219 320\n",
      "Dominica 702 488\n",
      "Dominican Republic 438 367\n",
      "Ecuador 440 374\n",
      "Egypt 378 383\n",
      "El Salvador 371 375\n",
      "Equatorial Guinea 408 393\n",
      "Eritrea 333 281\n",
      "Estonia 300 477\n",
      "Eswatini 258 143\n",
      "Ethiopia 349 252\n",
      "Falkland Islands (Malvinas) 432 508\n",
      "Faroe Islands 368 281\n",
      "Fiji 254 505\n",
      "Finland 276 282\n",
      "France 417 516\n",
      "French Guiana 576 654\n",
      "French Polynesia 394 520\n",
      "French Southern Territories 524 502\n",
      "Gabon 567 376\n",
      "Gambia 182 152\n",
      "Georgia 384 523\n",
      "Germany 378 552\n",
      "Ghana 249 365\n",
      "Gibraltar 576 428\n",
      "Greece 317 532\n",
      "Greenland 423 368\n",
      "Grenada 686 457\n",
      "Guadeloupe 588 681\n",
      "Guam 624 245\n",
      "Guatemala 269 352\n",
      "Guernsey 619 378\n",
      "Guinea 187 134\n",
      "Guinea-Bissau 441 317\n",
      "Guyana 533 409\n",
      "Haiti 499 456\n",
      "Heard Island and McDonald Islands 693 652\n",
      "Holy See 369 504\n",
      "Honduras 427 418\n",
      "Hong Kong 571 183\n",
      "Hungary 223 374\n",
      "Iceland 277 328\n",
      "India 290 337\n",
      "Indonesia 358 565\n",
      "Iran (Islamic Republic of) 261 460\n",
      "Iraq 302 349\n",
      "Ireland 232 423\n",
      "Isle of Man 482 273\n",
      "Israel 214 509\n",
      "Italy 293 496\n",
      "Jamaica 488 415\n",
      "Japan 293 211\n",
      "Jersey 451 524\n",
      "Jordan 194 417\n",
      "Kazakhstan 233 590\n",
      "Kenya 498 350\n",
      "Kiribati 628 623\n",
      "Korea (Democratic People's Republic of) 350 314\n",
      "Korea, Republic of 471 394\n",
      "Kuwait 187 290\n",
      "Kyrgyzstan 237 475\n",
      "Lao People's Democratic Republic 376 511\n",
      "Latvia 218 466\n",
      "Lebanon 225 390\n",
      "Lesotho 364 404\n",
      "Liberia 393 427\n",
      "Libya 205 545\n",
      "Liechtenstein 401 228\n",
      "Lithuania 241 440\n",
      "Luxembourg 422 454\n",
      "Macao 311 198\n",
      "Madagascar 287 402\n",
      "Malawi 291 364\n",
      "Malaysia 607 464\n",
      "Maldives 226 330\n",
      "Mali 180 173\n",
      "Malta 446 151\n",
      "Marshall Islands 741 750\n",
      "Martinique 586 554\n",
      "Mauritania 380 391\n",
      "Mauritius 706 487\n",
      "Mayotte 403 479\n",
      "Mexico 410 414\n",
      "Micronesia (Federated States of) 709 658\n",
      "Moldova, Republic of 215 457\n",
      "Monaco 340 623\n",
      "Mongolia 295 311\n",
      "Montenegro 209 334\n",
      "Montserrat 739 332\n",
      "Morocco 146 509\n",
      "Mozambique 492 583\n",
      "Myanmar 189 126\n",
      "Namibia 547 455\n",
      "Nauru 842 794\n",
      "Nepal 388 152\n",
      "Netherlands 428 486\n",
      "New Caledonia 616 702\n",
      "New Zealand 405 578\n",
      "Nicaragua 413 485\n",
      "Niger 249 271\n",
      "Nigeria 395 544\n",
      "Niue 568 464\n",
      "Norfolk Island 618 448\n",
      "North Macedonia 246 345\n",
      "Northern Mariana Islands 623 302\n",
      "Norway 350 423\n",
      "Oman 245 237\n",
      "Pakistan 201 335\n",
      "Palau 543 519\n",
      "Palestine, State of 215 474\n",
      "Panama 465 348\n",
      "Papua New Guinea 706 813\n",
      "Paraguay 419 256\n",
      "Peru 407 364\n",
      "Philippines 562 478\n",
      "Pitcairn 397 179\n",
      "Poland 217 378\n",
      "Portugal 274 148\n",
      "Puerto Rico 474 503\n",
      "Qatar 162 178\n",
      "Réunion 558 502\n",
      "Romania 240 359\n",
      "Russian Federation 351 300\n",
      "Rwanda 432 330\n",
      "Saint Barthélemy 544 677\n",
      "Saint Helena, Ascension and Tristan da Cunha 587 363\n",
      "Saint Kitts and Nevis 610 363\n",
      "Saint Lucia 722 467\n",
      "Saint Martin (French part) 597 600\n",
      "Saint Pierre and Miquelon 584 436\n",
      "Saint Vincent and the Grenadines 634 475\n",
      "Samoa 509 475\n",
      "San Marino 356 387\n",
      "Sao Tome and Principe 494 220\n",
      "Saudi Arabia 252 346\n",
      "Senegal 146 172\n",
      "Serbia 205 260\n",
      "Seychelles 612 309\n",
      "Sierra Leone 212 229\n",
      "Singapore 676 425\n",
      "Sint Maarten (Dutch part) 720 490\n",
      "Slovakia 235 602\n",
      "Slovenia 213 447\n",
      "Solomon Islands 617 719\n",
      "Somalia 211 249\n",
      "South Africa 286 529\n",
      "South Georgia and the South Sandwich Islands 562 645\n",
      "South Sudan 220 193\n",
      "Spain 282 464\n",
      "Sri Lanka 444 225\n",
      "Sudan 366 357\n",
      "Suriname 636 581\n",
      "Svalbard and Jan Mayen 312 331\n",
      "Sweden 324 290\n",
      "Switzerland 429 387\n",
      "Syrian Arab Republic 224 387\n",
      "Taiwan, Province of China 514 168\n",
      "Tajikistan 340 311\n",
      "Tanzania, United Republic of 257 546\n",
      "Thailand 499 696\n",
      "Timor-Leste 529 218\n",
      "Togo 550 609\n",
      "Tokelau 454 474\n",
      "Tonga 340 352\n",
      "Trinidad and Tobago 505 428\n",
      "Tunisia 219 361\n",
      "Turkey 283 503\n",
      "Turkmenistan 421 447\n",
      "Turks and Caicos Islands 645 445\n",
      "Tuvalu 594 551\n",
      "Uganda 536 500\n",
      "Ukraine 193 498\n",
      "United Arab Emirates 118 242\n",
      "United Kingdom of Great Britain and Northern Ireland 304 477\n",
      "United States of America 454 522\n",
      "United States Minor Outlying Islands 608 755\n",
      "Uruguay 251 426\n",
      "Uzbekistan 263 403\n",
      "Vanuatu 611 667\n",
      "Venezuela (Bolivarian Republic of) 499 345\n",
      "Viet Nam 290 311\n",
      "Virgin Islands (British) 708 546\n",
      "Virgin Islands (U.S.) 724 651\n",
      "Wallis and Futuna 490 534\n",
      "Western Sahara 397 598\n",
      "Yemen 393 411\n",
      "Zambia 347 296\n",
      "Zimbabwe 290 466\n"
     ]
    }
   ],
   "source": [
    "for c, d in country2names.items():\n",
    "    d[\"first_name\"] = list(d[\"first_name\"])\n",
    "    d[\"last_name\"] = list(d[\"last_name\"])\n",
    "\n",
    "    print(c, len(d[\"first_name\"]), len(d[\"last_name\"]))"
   ]
  },
  {
   "cell_type": "code",
   "execution_count": 65,
   "metadata": {},
   "outputs": [],
   "source": [
    "with open(\"country2names.json\", \"w\") as f:\n",
    "    json.dump(country2names, f, indent=4)"
   ]
  }
 ],
 "metadata": {
  "kernelspec": {
   "display_name": "base",
   "language": "python",
   "name": "python3"
  },
  "language_info": {
   "codemirror_mode": {
    "name": "ipython",
    "version": 3
   },
   "file_extension": ".py",
   "mimetype": "text/x-python",
   "name": "python",
   "nbconvert_exporter": "python",
   "pygments_lexer": "ipython3",
   "version": "3.10.10"
  }
 },
 "nbformat": 4,
 "nbformat_minor": 2
}
