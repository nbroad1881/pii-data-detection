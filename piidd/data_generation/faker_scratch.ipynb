{
 "cells": [
  {
   "cell_type": "code",
   "execution_count": 1,
   "metadata": {},
   "outputs": [],
   "source": [
    "from faker import Faker\n"
   ]
  },
  {
   "cell_type": "code",
   "execution_count": 124,
   "metadata": {},
   "outputs": [
    {
     "name": "stdout",
     "output_type": "stream",
     "text": [
      "['+1-902-638-3258x836', '8404170337', '830-330-0120', '+1-248-550-9675x6163', '236.254.8405', '619-282-6876x06343', '+1-727-671-3233x9702', '580-223-9102x84627', '7463195473', '+1-287-257-7802', '753.566.6702x235', '001-457-916-1680', '962.297.1887', '867-836-5880x81557', '376-792-0424', '751.552.0692x210', '469.913.7253x845', '884.217.2093x9633', '(635)376-2011', '4739936249']\n"
     ]
    },
    {
     "data": {
      "text/plain": [
       "['38314 Gordon Island\\nBrownfurt, ND 98725',\n",
       " '67738 Mcdaniel Springs Suite 471\\nLatoyaland, WI 56826',\n",
       " '0979 Dean Port\\nWest Justinside, ND 45513',\n",
       " '693 Ramirez Motorway Apt. 558\\nCastanedabury, WV 87873',\n",
       " '02390 Patel Roads\\nWilsonville, FL 63720',\n",
       " '59148 Jackson Bridge Apt. 445\\nPort Michael, FM 56081',\n",
       " '4359 Lauren Mountain Suite 238\\nPort John, NJ 05967',\n",
       " '8482 Rose Pike Suite 577\\nNorth Zachary, UT 85135',\n",
       " '1131 Kenneth Port\\nPort Brianbury, MN 19689',\n",
       " '62835 Shirley Wall Suite 016\\nHopkinstown, NE 83568',\n",
       " '79910 Valerie Forge\\nLake Benjaminmouth, ME 18700',\n",
       " '4274 Mandy Turnpike Suite 016\\nEast Kristin, AZ 36441',\n",
       " '019 Padilla Wells\\nNorth Nicole, MH 54127',\n",
       " '6239 Garcia Wall Suite 172\\nEast Robertbury, PW 99327',\n",
       " '12783 Hannah Ranch\\nRoseview, MS 32598',\n",
       " 'Unit 0836 Box 1093\\nDPO AP 74942',\n",
       " '3077 Hall Prairie Apt. 225\\nKimberlyport, OH 82039',\n",
       " '69526 Mitchell Squares Suite 014\\nMonroeville, MD 43890',\n",
       " '9412 Morrison Curve Apt. 308\\nJustinland, CT 95149',\n",
       " '00650 Morgan Station Suite 405\\nEast Caroline, NC 49067']"
      ]
     },
     "execution_count": 124,
     "metadata": {},
     "output_type": "execute_result"
    }
   ],
   "source": [
    "locales = [\n",
    "    \"en_US\",\n",
    "    \"en_CA\",\n",
    "    \"en_GB\",\n",
    "    \"en_AU\",\n",
    "    \"en_IN\",\n",
    "    \"en_NZ\",\n",
    "    \"es_ES\",\n",
    "    \"fr_FR\",\n",
    "    \"es_MX\",\n",
    "    \"de\",\n",
    "    \"nl\",\n",
    "    \"pt_BR\",\n",
    "    \"it\",\n",
    "    \"id\",\n",
    "    \"pt_PT\",\n",
    "    \"fr_CA\",\n",
    "]\n",
    "\n",
    "fake = Faker('en_US')\n",
    "\n",
    "print([fake.phone_number() for _ in range(20)])\n",
    "\n",
    "[fake.address() for _ in range(20)]"
   ]
  },
  {
   "cell_type": "code",
   "execution_count": 45,
   "metadata": {},
   "outputs": [
    {
     "name": "stdout",
     "output_type": "stream",
     "text": [
      "['020 74960147', '+44191 4960845', '(020) 74960786', '01632960230', '+44(0)1144960144', '+44(0)909 879 0385', '(020) 74960288', '+44(0)116 4960848', '(0151) 4960901', '+44(0)1134960683', '+4429 2018290', '+44(0)20 74960127', '+44(0)115 496 0174', '020 74960337', '+44115 4960476', '(0191) 496 0801', '01134960259', '+44(0)116 496 0381', '0121 4960062', '(0118)4960819', '0118 4960521', '+44(0)29 2018 0427', '+44(0)808 157 0694', '+44(0)3069990257', '+44(0)161 4960822', '08081570025', '0191 498 0795', '+44808 1570423', '+44(0)909 879 0093', '+44118 4960362', '+44121 496 0969', '+44(0)191 4960833', '+441632960212', '0113 4960369', '0113 4960350', '0306 999 0459', '+44(0)141 496 0412', '+44(0)191 496 0657', '(020)74960072', '(01632) 960587', '01632960248', '(0115) 4960759', '+44(0)117 4960972', '+44(0)1144960995', '+44(0)118 496 0161', '01184960591', '(029)2018193', '+44292018446', '01632 960770', '+44(0)292018092', '0114 496 0938', '0306 999 0589', '+44(0)115 4960033', '+441632960028', '+4429 2018937', '(0117) 4960186', '0113 4960159', '01614960194', '(0113) 4960241', '+44114 4960530', '(0113)4960566', '+44116 496 0186', '0113 496 0676', '029 2018 0838', '(0114) 496 0400', '+44(0)29 2018981', '(020)74960908', '(029)2018591', '0115 4960821', '+44(0)191 4960052', '029 2018 0465', '(0161) 496 0055', '+44(0)29 2018 0960', '0131 4960166', '0289018862', '+44(0)9098790964', '0116 4960671', '+442074960884', '+44161 4960156', '0116 4960520', '01614960392', '0151 4960655', '+44808 1570739', '+44(0)1514960354', '(0141)4960625', '01174960632', '0289018129', '020 74960649', '0161 4960839', '01154960680', '+441514960708', '+44(0)117 496 0639', '01184960726', '08081570274', '(029)2018332', '0161 496 0964', '01632960807', '+44292018220', '(0118) 496 0450', '+44306 9990375']\n"
     ]
    }
   ],
   "source": [
    "print([fake.phone_number() for _ in range(100)])"
   ]
  },
  {
   "cell_type": "code",
   "execution_count": 28,
   "metadata": {},
   "outputs": [
    {
     "ename": "TypeError",
     "evalue": "'property' object is not iterable",
     "output_type": "error",
     "traceback": [
      "\u001b[0;31m---------------------------------------------------------------------------\u001b[0m",
      "\u001b[0;31mTypeError\u001b[0m                                 Traceback (most recent call last)",
      "Cell \u001b[0;32mIn[28], line 1\u001b[0m\n\u001b[0;32m----> 1\u001b[0m \u001b[38;5;28;01mfor\u001b[39;00m x \u001b[38;5;129;01min\u001b[39;00m Faker\u001b[38;5;241m.\u001b[39mlocales:\n\u001b[1;32m      2\u001b[0m     \u001b[38;5;28mprint\u001b[39m(x)\n",
      "\u001b[0;31mTypeError\u001b[0m: 'property' object is not iterable"
     ]
    }
   ],
   "source": [
    "for x in Faker.locales:\n",
    "    print(x)"
   ]
  }
 ],
 "metadata": {
  "kernelspec": {
   "display_name": "base",
   "language": "python",
   "name": "python3"
  },
  "language_info": {
   "codemirror_mode": {
    "name": "ipython",
    "version": 3
   },
   "file_extension": ".py",
   "mimetype": "text/x-python",
   "name": "python",
   "nbconvert_exporter": "python",
   "pygments_lexer": "ipython3",
   "version": "3.10.10"
  }
 },
 "nbformat": 4,
 "nbformat_minor": 2
}
