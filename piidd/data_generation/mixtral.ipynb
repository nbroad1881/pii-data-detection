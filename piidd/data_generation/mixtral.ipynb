{
 "cells": [
  {
   "cell_type": "code",
   "execution_count": 7,
   "metadata": {},
   "outputs": [],
   "source": [
    "import os\n",
    "import json\n",
    "import random\n",
    "import string\n",
    "\n",
    "from huggingface_hub import InferenceClient\n",
    "from dotenv import load_dotenv\n",
    "from datasets import Dataset\n",
    "\n",
    "from piidd.data_generation.utils import (\n",
    "    relations,\n",
    "    bios,\n",
    "    first_names,\n",
    "    inspirational_people,\n",
    "    prompts,\n",
    "    random_string,\n",
    ")\n",
    "\n",
    "load_dotenv(\"../../.env\")\n",
    "client = InferenceClient(token=os.environ[\"HF_TOKEN\"])"
   ]
  },
  {
   "cell_type": "code",
   "execution_count": 10,
   "metadata": {},
   "outputs": [
    {
     "data": {
      "text/plain": [
       "5132"
      ]
     },
     "execution_count": 10,
     "metadata": {},
     "output_type": "execute_result"
    }
   ],
   "source": [
    "len(first_names)"
   ]
  },
  {
   "cell_type": "code",
   "execution_count": 9,
   "metadata": {},
   "outputs": [],
   "source": [
    "def make_guidelines():\n",
    "\n",
    "    guidelines = [\n",
    "        \"Write in 1st person\",\n",
    "        \"Do not list references\",\n",
    "        \"Mention your personal website in the middle of the essay and use <<URL>> as a placeholder.\",\n",
    "        \"Length: 500 words\",\n",
    "        \"Do not include a preamble\",\n",
    "    ]\n",
    "\n",
    "    # `relation_prob`% of the time, mention either a friend, colleague, family member, mentor, coworker, or teammate.\n",
    "\n",
    "    relation_prob = 1.0\n",
    "\n",
    "    names = []\n",
    "    if random.random() < relation_prob:\n",
    "        relation = random.choice(relations)\n",
    "\n",
    "        # 50% of the time, add a second name\n",
    "        if random.random() < 0.5:\n",
    "            names = random.sample(first_names, 2)\n",
    "            relation += \"s\"\n",
    "        else:\n",
    "            names = [random.choice(first_names)]\n",
    "\n",
    "        name_str = \" and \".join(names)\n",
    "\n",
    "        guidelines.append(f\"Mention somewhere in the essay how your {relation} {name_str} helped you\")\n",
    "\n",
    "\n",
    "    # `relation_prob`% of the time, mention an inspirational person\n",
    "    relation_prob = 1.0\n",
    "\n",
    "    famous_person = \"\"\n",
    "    if random.random() < relation_prob:\n",
    "\n",
    "        famous_person = random.choice(inspirational_people)\n",
    "\n",
    "        guidelines.append(f\"Mention somewhere in the essay how {famous_person} inspired you\")\n",
    "\n",
    "\n",
    "    guidelines = \"# Guidelines\\n\" + \"\\n- \".join(guidelines)\n",
    "\n",
    "    return {\n",
    "        \"guidelines\": guidelines,\n",
    "        \"names\": \"|\".join(names),\n",
    "        \"famous_person\": famous_person,\n",
    "    }"
   ]
  },
  {
   "cell_type": "code",
   "execution_count": 10,
   "metadata": {},
   "outputs": [],
   "source": [
    "def generate_essay(example):\n",
    "    guidelines = make_guidelines()\n",
    "\n",
    "    bio = \"\\n\\nWrite the essay as a person with the following description:\\n\" + random.choice(bios[\"bio\"])\n",
    "\n",
    "    p = random.choice(prompts)\n",
    "    full_prompt = \"<s> [INST] \" + p + \"\\n\" + bio + \"\\n\" + guidelines[\"guidelines\"] + \" [/INST]\\nEssay:\\n\"\n",
    "\n",
    "    try:\n",
    "        r = client.post(\n",
    "            json={\n",
    "                \"inputs\": full_prompt,\n",
    "                \"parameters\": {\n",
    "                    \"max_new_tokens\": 3000,\n",
    "                    \"top_k\": 50,\n",
    "                    \"temperature\": 1.0,\n",
    "                    \"return_full_text\": False,\n",
    "                },\n",
    "                \"options\": {\"use_cache\": False},\n",
    "            },\n",
    "            model=\"mistralai/Mixtral-8x7B-Instruct-v0.1\",\n",
    "        )\n",
    "\n",
    "        essay = json.loads(r.decode())[0][\"generated_text\"]\n",
    "\n",
    "    except Exception as e:\n",
    "        print(e)\n",
    "        essay = \"<|Error|>\"\n",
    "\n",
    "    return {\n",
    "        \"essay\": essay,\n",
    "        \"prompt\": p,\n",
    "        \"bio\": bio,\n",
    "        **guidelines,\n",
    "    }"
   ]
  },
  {
   "cell_type": "code",
   "execution_count": 11,
   "metadata": {},
   "outputs": [
    {
     "data": {
      "application/vnd.jupyter.widget-view+json": {
       "model_id": "ff5fc71397da4afeaf2efed5be29d5d9",
       "version_major": 2,
       "version_minor": 0
      },
      "text/plain": [
       "Map (num_proc=16):   0%|          | 0/200 [00:00<?, ? examples/s]"
      ]
     },
     "metadata": {},
     "output_type": "display_data"
    },
    {
     "ename": "TimeoutError",
     "evalue": "",
     "output_type": "error",
     "traceback": [
      "\u001b[0;31m---------------------------------------------------------------------------\u001b[0m",
      "\u001b[0;31mKeyboardInterrupt\u001b[0m                         Traceback (most recent call last)",
      "File \u001b[0;32m~/miniconda3/lib/python3.10/site-packages/datasets/utils/py_utils.py:640\u001b[0m, in \u001b[0;36miflatmap_unordered\u001b[0;34m(pool, func, kwargs_iterable)\u001b[0m\n\u001b[1;32m    639\u001b[0m \u001b[38;5;28;01mtry\u001b[39;00m:\n\u001b[0;32m--> 640\u001b[0m     \u001b[38;5;28;01myield\u001b[39;00m \u001b[43mqueue\u001b[49m\u001b[38;5;241;43m.\u001b[39;49m\u001b[43mget\u001b[49m\u001b[43m(\u001b[49m\u001b[43mtimeout\u001b[49m\u001b[38;5;241;43m=\u001b[39;49m\u001b[38;5;241;43m0.05\u001b[39;49m\u001b[43m)\u001b[49m\n\u001b[1;32m    641\u001b[0m \u001b[38;5;28;01mexcept\u001b[39;00m Empty:\n",
      "File \u001b[0;32m<string>:2\u001b[0m, in \u001b[0;36mget\u001b[0;34m(self, *args, **kwds)\u001b[0m\n",
      "File \u001b[0;32m~/miniconda3/lib/python3.10/site-packages/multiprocess/managers.py:818\u001b[0m, in \u001b[0;36mBaseProxy._callmethod\u001b[0;34m(self, methodname, args, kwds)\u001b[0m\n\u001b[1;32m    817\u001b[0m conn\u001b[38;5;241m.\u001b[39msend((\u001b[38;5;28mself\u001b[39m\u001b[38;5;241m.\u001b[39m_id, methodname, args, kwds))\n\u001b[0;32m--> 818\u001b[0m kind, result \u001b[38;5;241m=\u001b[39m \u001b[43mconn\u001b[49m\u001b[38;5;241;43m.\u001b[39;49m\u001b[43mrecv\u001b[49m\u001b[43m(\u001b[49m\u001b[43m)\u001b[49m\n\u001b[1;32m    820\u001b[0m \u001b[38;5;28;01mif\u001b[39;00m kind \u001b[38;5;241m==\u001b[39m \u001b[38;5;124m'\u001b[39m\u001b[38;5;124m#RETURN\u001b[39m\u001b[38;5;124m'\u001b[39m:\n",
      "File \u001b[0;32m~/miniconda3/lib/python3.10/site-packages/multiprocess/connection.py:258\u001b[0m, in \u001b[0;36m_ConnectionBase.recv\u001b[0;34m(self)\u001b[0m\n\u001b[1;32m    257\u001b[0m \u001b[38;5;28mself\u001b[39m\u001b[38;5;241m.\u001b[39m_check_readable()\n\u001b[0;32m--> 258\u001b[0m buf \u001b[38;5;241m=\u001b[39m \u001b[38;5;28;43mself\u001b[39;49m\u001b[38;5;241;43m.\u001b[39;49m\u001b[43m_recv_bytes\u001b[49m\u001b[43m(\u001b[49m\u001b[43m)\u001b[49m\n\u001b[1;32m    259\u001b[0m \u001b[38;5;28;01mreturn\u001b[39;00m _ForkingPickler\u001b[38;5;241m.\u001b[39mloads(buf\u001b[38;5;241m.\u001b[39mgetbuffer())\n",
      "File \u001b[0;32m~/miniconda3/lib/python3.10/site-packages/multiprocess/connection.py:422\u001b[0m, in \u001b[0;36mConnection._recv_bytes\u001b[0;34m(self, maxsize)\u001b[0m\n\u001b[1;32m    421\u001b[0m \u001b[38;5;28;01mdef\u001b[39;00m \u001b[38;5;21m_recv_bytes\u001b[39m(\u001b[38;5;28mself\u001b[39m, maxsize\u001b[38;5;241m=\u001b[39m\u001b[38;5;28;01mNone\u001b[39;00m):\n\u001b[0;32m--> 422\u001b[0m     buf \u001b[38;5;241m=\u001b[39m \u001b[38;5;28;43mself\u001b[39;49m\u001b[38;5;241;43m.\u001b[39;49m\u001b[43m_recv\u001b[49m\u001b[43m(\u001b[49m\u001b[38;5;241;43m4\u001b[39;49m\u001b[43m)\u001b[49m\n\u001b[1;32m    423\u001b[0m     size, \u001b[38;5;241m=\u001b[39m struct\u001b[38;5;241m.\u001b[39munpack(\u001b[38;5;124m\"\u001b[39m\u001b[38;5;124m!i\u001b[39m\u001b[38;5;124m\"\u001b[39m, buf\u001b[38;5;241m.\u001b[39mgetvalue())\n",
      "File \u001b[0;32m~/miniconda3/lib/python3.10/site-packages/multiprocess/connection.py:387\u001b[0m, in \u001b[0;36mConnection._recv\u001b[0;34m(self, size, read)\u001b[0m\n\u001b[1;32m    386\u001b[0m \u001b[38;5;28;01mwhile\u001b[39;00m remaining \u001b[38;5;241m>\u001b[39m \u001b[38;5;241m0\u001b[39m:\n\u001b[0;32m--> 387\u001b[0m     chunk \u001b[38;5;241m=\u001b[39m \u001b[43mread\u001b[49m\u001b[43m(\u001b[49m\u001b[43mhandle\u001b[49m\u001b[43m,\u001b[49m\u001b[43m \u001b[49m\u001b[43mremaining\u001b[49m\u001b[43m)\u001b[49m\n\u001b[1;32m    388\u001b[0m     n \u001b[38;5;241m=\u001b[39m \u001b[38;5;28mlen\u001b[39m(chunk)\n",
      "\u001b[0;31mKeyboardInterrupt\u001b[0m: ",
      "\nDuring handling of the above exception, another exception occurred:\n",
      "\u001b[0;31mTimeoutError\u001b[0m                              Traceback (most recent call last)",
      "Cell \u001b[0;32mIn[11], line 3\u001b[0m\n\u001b[1;32m      1\u001b[0m \u001b[38;5;28;01mfor\u001b[39;00m i \u001b[38;5;129;01min\u001b[39;00m \u001b[38;5;28mrange\u001b[39m(\u001b[38;5;241m10\u001b[39m, \u001b[38;5;241m15\u001b[39m):\n\u001b[1;32m      2\u001b[0m     ds \u001b[38;5;241m=\u001b[39m Dataset\u001b[38;5;241m.\u001b[39mfrom_dict({\u001b[38;5;124m\"\u001b[39m\u001b[38;5;124mid\u001b[39m\u001b[38;5;124m\"\u001b[39m: [random_string(\u001b[38;5;241m8\u001b[39m) \u001b[38;5;28;01mfor\u001b[39;00m _ \u001b[38;5;129;01min\u001b[39;00m \u001b[38;5;28mrange\u001b[39m(\u001b[38;5;241m200\u001b[39m)]})\n\u001b[0;32m----> 3\u001b[0m     ds1 \u001b[38;5;241m=\u001b[39m \u001b[43mds\u001b[49m\u001b[38;5;241;43m.\u001b[39;49m\u001b[43mmap\u001b[49m\u001b[43m(\u001b[49m\u001b[43mgenerate_essay\u001b[49m\u001b[43m,\u001b[49m\u001b[43m \u001b[49m\u001b[43mnum_proc\u001b[49m\u001b[38;5;241;43m=\u001b[39;49m\u001b[38;5;241;43m16\u001b[39;49m\u001b[43m)\u001b[49m\n\u001b[1;32m      4\u001b[0m     ds1\u001b[38;5;241m.\u001b[39mto_parquet(\u001b[38;5;124mf\u001b[39m\u001b[38;5;124m\"\u001b[39m\u001b[38;5;124mmixtral-200-<<URL>>-part\u001b[39m\u001b[38;5;132;01m{\u001b[39;00mi\u001b[38;5;132;01m}\u001b[39;00m\u001b[38;5;124m.pq\u001b[39m\u001b[38;5;124m\"\u001b[39m)\n",
      "File \u001b[0;32m~/miniconda3/lib/python3.10/site-packages/datasets/arrow_dataset.py:592\u001b[0m, in \u001b[0;36mtransmit_tasks.<locals>.wrapper\u001b[0;34m(*args, **kwargs)\u001b[0m\n\u001b[1;32m    590\u001b[0m     \u001b[38;5;28mself\u001b[39m: \u001b[38;5;124m\"\u001b[39m\u001b[38;5;124mDataset\u001b[39m\u001b[38;5;124m\"\u001b[39m \u001b[38;5;241m=\u001b[39m kwargs\u001b[38;5;241m.\u001b[39mpop(\u001b[38;5;124m\"\u001b[39m\u001b[38;5;124mself\u001b[39m\u001b[38;5;124m\"\u001b[39m)\n\u001b[1;32m    591\u001b[0m \u001b[38;5;66;03m# apply actual function\u001b[39;00m\n\u001b[0;32m--> 592\u001b[0m out: Union[\u001b[38;5;124m\"\u001b[39m\u001b[38;5;124mDataset\u001b[39m\u001b[38;5;124m\"\u001b[39m, \u001b[38;5;124m\"\u001b[39m\u001b[38;5;124mDatasetDict\u001b[39m\u001b[38;5;124m\"\u001b[39m] \u001b[38;5;241m=\u001b[39m \u001b[43mfunc\u001b[49m\u001b[43m(\u001b[49m\u001b[38;5;28;43mself\u001b[39;49m\u001b[43m,\u001b[49m\u001b[43m \u001b[49m\u001b[38;5;241;43m*\u001b[39;49m\u001b[43margs\u001b[49m\u001b[43m,\u001b[49m\u001b[43m \u001b[49m\u001b[38;5;241;43m*\u001b[39;49m\u001b[38;5;241;43m*\u001b[39;49m\u001b[43mkwargs\u001b[49m\u001b[43m)\u001b[49m\n\u001b[1;32m    593\u001b[0m datasets: List[\u001b[38;5;124m\"\u001b[39m\u001b[38;5;124mDataset\u001b[39m\u001b[38;5;124m\"\u001b[39m] \u001b[38;5;241m=\u001b[39m \u001b[38;5;28mlist\u001b[39m(out\u001b[38;5;241m.\u001b[39mvalues()) \u001b[38;5;28;01mif\u001b[39;00m \u001b[38;5;28misinstance\u001b[39m(out, \u001b[38;5;28mdict\u001b[39m) \u001b[38;5;28;01melse\u001b[39;00m [out]\n\u001b[1;32m    594\u001b[0m \u001b[38;5;28;01mfor\u001b[39;00m dataset \u001b[38;5;129;01min\u001b[39;00m datasets:\n\u001b[1;32m    595\u001b[0m     \u001b[38;5;66;03m# Remove task templates if a column mapping of the template is no longer valid\u001b[39;00m\n",
      "File \u001b[0;32m~/miniconda3/lib/python3.10/site-packages/datasets/arrow_dataset.py:557\u001b[0m, in \u001b[0;36mtransmit_format.<locals>.wrapper\u001b[0;34m(*args, **kwargs)\u001b[0m\n\u001b[1;32m    550\u001b[0m self_format \u001b[38;5;241m=\u001b[39m {\n\u001b[1;32m    551\u001b[0m     \u001b[38;5;124m\"\u001b[39m\u001b[38;5;124mtype\u001b[39m\u001b[38;5;124m\"\u001b[39m: \u001b[38;5;28mself\u001b[39m\u001b[38;5;241m.\u001b[39m_format_type,\n\u001b[1;32m    552\u001b[0m     \u001b[38;5;124m\"\u001b[39m\u001b[38;5;124mformat_kwargs\u001b[39m\u001b[38;5;124m\"\u001b[39m: \u001b[38;5;28mself\u001b[39m\u001b[38;5;241m.\u001b[39m_format_kwargs,\n\u001b[1;32m    553\u001b[0m     \u001b[38;5;124m\"\u001b[39m\u001b[38;5;124mcolumns\u001b[39m\u001b[38;5;124m\"\u001b[39m: \u001b[38;5;28mself\u001b[39m\u001b[38;5;241m.\u001b[39m_format_columns,\n\u001b[1;32m    554\u001b[0m     \u001b[38;5;124m\"\u001b[39m\u001b[38;5;124moutput_all_columns\u001b[39m\u001b[38;5;124m\"\u001b[39m: \u001b[38;5;28mself\u001b[39m\u001b[38;5;241m.\u001b[39m_output_all_columns,\n\u001b[1;32m    555\u001b[0m }\n\u001b[1;32m    556\u001b[0m \u001b[38;5;66;03m# apply actual function\u001b[39;00m\n\u001b[0;32m--> 557\u001b[0m out: Union[\u001b[38;5;124m\"\u001b[39m\u001b[38;5;124mDataset\u001b[39m\u001b[38;5;124m\"\u001b[39m, \u001b[38;5;124m\"\u001b[39m\u001b[38;5;124mDatasetDict\u001b[39m\u001b[38;5;124m\"\u001b[39m] \u001b[38;5;241m=\u001b[39m \u001b[43mfunc\u001b[49m\u001b[43m(\u001b[49m\u001b[38;5;28;43mself\u001b[39;49m\u001b[43m,\u001b[49m\u001b[43m \u001b[49m\u001b[38;5;241;43m*\u001b[39;49m\u001b[43margs\u001b[49m\u001b[43m,\u001b[49m\u001b[43m \u001b[49m\u001b[38;5;241;43m*\u001b[39;49m\u001b[38;5;241;43m*\u001b[39;49m\u001b[43mkwargs\u001b[49m\u001b[43m)\u001b[49m\n\u001b[1;32m    558\u001b[0m datasets: List[\u001b[38;5;124m\"\u001b[39m\u001b[38;5;124mDataset\u001b[39m\u001b[38;5;124m\"\u001b[39m] \u001b[38;5;241m=\u001b[39m \u001b[38;5;28mlist\u001b[39m(out\u001b[38;5;241m.\u001b[39mvalues()) \u001b[38;5;28;01mif\u001b[39;00m \u001b[38;5;28misinstance\u001b[39m(out, \u001b[38;5;28mdict\u001b[39m) \u001b[38;5;28;01melse\u001b[39;00m [out]\n\u001b[1;32m    559\u001b[0m \u001b[38;5;66;03m# re-apply format to the output\u001b[39;00m\n",
      "File \u001b[0;32m~/miniconda3/lib/python3.10/site-packages/datasets/arrow_dataset.py:3185\u001b[0m, in \u001b[0;36mDataset.map\u001b[0;34m(self, function, with_indices, with_rank, input_columns, batched, batch_size, drop_last_batch, remove_columns, keep_in_memory, load_from_cache_file, cache_file_name, writer_batch_size, features, disable_nullable, fn_kwargs, num_proc, suffix_template, new_fingerprint, desc)\u001b[0m\n\u001b[1;32m   3179\u001b[0m logger\u001b[38;5;241m.\u001b[39minfo(\u001b[38;5;124mf\u001b[39m\u001b[38;5;124m\"\u001b[39m\u001b[38;5;124mSpawning \u001b[39m\u001b[38;5;132;01m{\u001b[39;00mnum_proc\u001b[38;5;132;01m}\u001b[39;00m\u001b[38;5;124m processes\u001b[39m\u001b[38;5;124m\"\u001b[39m)\n\u001b[1;32m   3180\u001b[0m \u001b[38;5;28;01mwith\u001b[39;00m hf_tqdm(\n\u001b[1;32m   3181\u001b[0m     unit\u001b[38;5;241m=\u001b[39m\u001b[38;5;124m\"\u001b[39m\u001b[38;5;124m examples\u001b[39m\u001b[38;5;124m\"\u001b[39m,\n\u001b[1;32m   3182\u001b[0m     total\u001b[38;5;241m=\u001b[39mpbar_total,\n\u001b[1;32m   3183\u001b[0m     desc\u001b[38;5;241m=\u001b[39m(desc \u001b[38;5;129;01mor\u001b[39;00m \u001b[38;5;124m\"\u001b[39m\u001b[38;5;124mMap\u001b[39m\u001b[38;5;124m\"\u001b[39m) \u001b[38;5;241m+\u001b[39m \u001b[38;5;124mf\u001b[39m\u001b[38;5;124m\"\u001b[39m\u001b[38;5;124m (num_proc=\u001b[39m\u001b[38;5;132;01m{\u001b[39;00mnum_proc\u001b[38;5;132;01m}\u001b[39;00m\u001b[38;5;124m)\u001b[39m\u001b[38;5;124m\"\u001b[39m,\n\u001b[1;32m   3184\u001b[0m ) \u001b[38;5;28;01mas\u001b[39;00m pbar:\n\u001b[0;32m-> 3185\u001b[0m     \u001b[38;5;28;01mfor\u001b[39;00m rank, done, content \u001b[38;5;129;01min\u001b[39;00m iflatmap_unordered(\n\u001b[1;32m   3186\u001b[0m         pool, Dataset\u001b[38;5;241m.\u001b[39m_map_single, kwargs_iterable\u001b[38;5;241m=\u001b[39mkwargs_per_job\n\u001b[1;32m   3187\u001b[0m     ):\n\u001b[1;32m   3188\u001b[0m         \u001b[38;5;28;01mif\u001b[39;00m done:\n\u001b[1;32m   3189\u001b[0m             shards_done \u001b[38;5;241m+\u001b[39m\u001b[38;5;241m=\u001b[39m \u001b[38;5;241m1\u001b[39m\n",
      "File \u001b[0;32m~/miniconda3/lib/python3.10/site-packages/datasets/utils/py_utils.py:654\u001b[0m, in \u001b[0;36miflatmap_unordered\u001b[0;34m(pool, func, kwargs_iterable)\u001b[0m\n\u001b[1;32m    651\u001b[0m \u001b[38;5;28;01mfinally\u001b[39;00m:\n\u001b[1;32m    652\u001b[0m     \u001b[38;5;28;01mif\u001b[39;00m \u001b[38;5;129;01mnot\u001b[39;00m pool_changed:\n\u001b[1;32m    653\u001b[0m         \u001b[38;5;66;03m# we get the result in case there's an error to raise\u001b[39;00m\n\u001b[0;32m--> 654\u001b[0m         [async_result\u001b[38;5;241m.\u001b[39mget(timeout\u001b[38;5;241m=\u001b[39m\u001b[38;5;241m0.05\u001b[39m) \u001b[38;5;28;01mfor\u001b[39;00m async_result \u001b[38;5;129;01min\u001b[39;00m async_results]\n",
      "File \u001b[0;32m~/miniconda3/lib/python3.10/site-packages/datasets/utils/py_utils.py:654\u001b[0m, in \u001b[0;36m<listcomp>\u001b[0;34m(.0)\u001b[0m\n\u001b[1;32m    651\u001b[0m \u001b[38;5;28;01mfinally\u001b[39;00m:\n\u001b[1;32m    652\u001b[0m     \u001b[38;5;28;01mif\u001b[39;00m \u001b[38;5;129;01mnot\u001b[39;00m pool_changed:\n\u001b[1;32m    653\u001b[0m         \u001b[38;5;66;03m# we get the result in case there's an error to raise\u001b[39;00m\n\u001b[0;32m--> 654\u001b[0m         [\u001b[43masync_result\u001b[49m\u001b[38;5;241;43m.\u001b[39;49m\u001b[43mget\u001b[49m\u001b[43m(\u001b[49m\u001b[43mtimeout\u001b[49m\u001b[38;5;241;43m=\u001b[39;49m\u001b[38;5;241;43m0.05\u001b[39;49m\u001b[43m)\u001b[49m \u001b[38;5;28;01mfor\u001b[39;00m async_result \u001b[38;5;129;01min\u001b[39;00m async_results]\n",
      "File \u001b[0;32m~/miniconda3/lib/python3.10/site-packages/multiprocess/pool.py:770\u001b[0m, in \u001b[0;36mApplyResult.get\u001b[0;34m(self, timeout)\u001b[0m\n\u001b[1;32m    768\u001b[0m \u001b[38;5;28mself\u001b[39m\u001b[38;5;241m.\u001b[39mwait(timeout)\n\u001b[1;32m    769\u001b[0m \u001b[38;5;28;01mif\u001b[39;00m \u001b[38;5;129;01mnot\u001b[39;00m \u001b[38;5;28mself\u001b[39m\u001b[38;5;241m.\u001b[39mready():\n\u001b[0;32m--> 770\u001b[0m     \u001b[38;5;28;01mraise\u001b[39;00m \u001b[38;5;167;01mTimeoutError\u001b[39;00m\n\u001b[1;32m    771\u001b[0m \u001b[38;5;28;01mif\u001b[39;00m \u001b[38;5;28mself\u001b[39m\u001b[38;5;241m.\u001b[39m_success:\n\u001b[1;32m    772\u001b[0m     \u001b[38;5;28;01mreturn\u001b[39;00m \u001b[38;5;28mself\u001b[39m\u001b[38;5;241m.\u001b[39m_value\n",
      "\u001b[0;31mTimeoutError\u001b[0m: "
     ]
    }
   ],
   "source": [
    "for i in range(10, 15):\n",
    "    ds = Dataset.from_dict({\"id\": [random_string(8) for _ in range(200)]})\n",
    "    ds1 = ds.map(generate_essay, num_proc=16)\n",
    "    ds1.to_parquet(f\"mixtral-200-<<URL>>-part{i}.pq\")"
   ]
  },
  {
   "cell_type": "code",
   "execution_count": null,
   "metadata": {},
   "outputs": [
    {
     "data": {
      "text/plain": [
       "{'id': 'fyupjkef',\n",
       " 'essay': \"\\nAs a Credit Analyst, I frequently face the challenge of evaluating a potential client's creditworthiness and determining their risk exposure. This task requires sifting through substantial financial data, assessing trends, and making recommendations based on my findings. Recently, I encountered a particularly challenging case where a potential client had a complex financial history, with numerous assets and liabilities spread across various sectors. Existing approaches, such as analyzing balance sheets and income statements, proved insufficient in providing a comprehensive understanding of the client's financial health.\\n\\nTo tackle this challenge, I turned to the design tool of visualization, specifically creating a detailed financial map to represent the client's financial landscape. I chose visualization because it allows for a more intuitive understanding of complex data, making it easier to identify patterns and connections that may be missed through traditional methods.\\n\\nIn applying this technique, I first gathered all relevant financial data on the client and their associated entities. I then organized this information into categories, such as revenue, expenses, assets, and liabilities, and input this data into a visual mapping tool. The tool then generated a dynamic, interconnected map, displaying the relationships between different financial components. This map enabled me to identify key financial trends and potential areas of concern, ultimately informing my creditworthiness assessment.\\n\\nCollaborating with my teammate, Kays, we refined the map and incorporated additional data points to create a more holistic view of the client's financial health. We then presented our findings to our cross-functional team, using the visual map as a focal point for our discussion. This approach facilitated a shared understanding of the client's risk exposure, enabling us to make informed decisions regarding our financial partnership.\\n\\nApplying visualization allowed me to approach the challenge from new perspectives, uncovering underlying assumptions and generating novel ideas for risk mitigation. The visual representation surfaced interdependencies and potential vulnerabilities that may have been overlooked in traditional analyses. The process also prompted valuable discussions among team members, enhancing our collective understanding of the client's financial situation.\\n\\nThroughout the application of visualization, I encountered a few unexpected challenges. Initially, condensing vast amounts of data into a digestible format proved difficult. However, by prioritizing essential information and using color-coding to highlight trends, we created a user-friendly visualization that resonated with our team.\\n\\nReflecting on the effectiveness of visualization in addressing this challenge, its strengths lie in its ability to simplify complex data and encourage collaboration among stakeholders. Visualization is also highly adaptable, allowing for real-time updates and modifications as new information emerges. However, its limitations include the potential for information overload and the time required to create a comprehensive visual map.\\n\\nMoving forward, I will continue to employ visualization as a problem-solving tool, particularly in cases with intricate financial landscapes. I also plan to recommend this technique to colleagues facing similar challenges.\\n\\nFrom this experience, I've learned the importance of exploring alternative thinking techniques when traditional approaches fall short. I've discovered that collaboration and visual aids can foster a shared understanding, ultimately leading to more informed decision-making. Furthermore, I've gained a renewed appreciation for the power of simplification, as complexity can often hinder our ability to identify critical insights.\\n\\nIn conclusion, my experience with visualization as a problem-solving tool has informed my approach to future professional and personal challenges, emphasizing adaptability, collaboration, and clear communication.\\n\\nDo visit my personal website <<URL>> for more insights on my experiences and thoughts on various topics.\\n\\nMy approach to problem-solving, decision-making, and communication has been significantly influenced by Henry Kissinger's philosophy of understanding the complexity of situations through comprehensive analysis and engaging in diplomacy to foster collaboration and consensus.\",\n",
       " 'prompt': 'Reflect on a specific professional or personal challenge you faced where you employed a structured thinking technique or design tool to facilitate problem-solving, decision-making, idea generation, or effective communication. Describe the context and nature of the challenge, explaining why existing approaches or solutions were inadequate or lacking.\\n\\nDiscuss your rationale for selecting the particular thinking technique or design tool you used, such as storytelling, visualization, or mind mapping. Provide a detailed account of how you applied this technique, including the specific steps you took, any materials or methods utilized, and whether you involved others in the process.\\n\\nAnalyze the insights and outcomes you gained from using this thinking technique. How did it help you approach the challenge from new perspectives, uncover underlying issues or assumptions, generate novel ideas, or build shared understanding? Discuss any unexpected discoveries or challenges you encountered while applying the technique.\\n\\nReflect on the overall effectiveness of the thinking technique in addressing the specific situation you faced. Highlight its strengths, limitations, and potential areas for improvement. Additionally, consider the broader applicability of this technique and discuss how you might use it in the future or recommend it to others facing similar challenges.\\n\\nFinally, discuss any lessons learned from this experience that could inform your approach to problem-solving, decision-making, or communication in future professional or personal contexts.',\n",
       " 'bio': '\\n\\nWrite the essay as a person with the following description:\\nMeet a dedicated and analytical Credit Analyst, known for their sharp financial acumen and keen eye for detail. With the ability to sift through vast amounts of financial data, they are highly skilled at assessing creditworthiness and risk exposure for potential clients. They are often known for their clear, concise financial reports, as well as their ability to collaborate effectively with cross-functional teams, ensuring that all stakeholders are informed and comfortable with the financial decisions being made. Their calm and collected demeanor, even in high-pressure situations, makes them a valuable asset in the fast-paced world of finance.',\n",
       " 'guidelines': '# Guidelines\\nWrite in 1st person\\n- Do not list references\\n- Mention your personal website in the middle of the essay and use <<URL>> as a placeholder.\\n- Length: 500 words\\n- Do not include a preamble\\n- Mention somewhere in the essay how your teammate Kays helped you\\n- Mention somewhere in the essay how Henry Kissinger inspired you',\n",
       " 'names': 'Kays',\n",
       " 'famous_person': 'Henry Kissinger'}"
      ]
     },
     "execution_count": 29,
     "metadata": {},
     "output_type": "execute_result"
    }
   ],
   "source": [
    "ds1.shuffle()[0]"
   ]
  },
  {
   "cell_type": "code",
   "execution_count": null,
   "metadata": {},
   "outputs": [
    {
     "data": {
      "application/vnd.jupyter.widget-view+json": {
       "model_id": "b5ccdc0035f648f4a7456983e6838924",
       "version_major": 2,
       "version_minor": 0
      },
      "text/plain": [
       "Creating parquet from Arrow format:   0%|          | 0/1 [00:00<?, ?ba/s]"
      ]
     },
     "metadata": {},
     "output_type": "display_data"
    },
    {
     "data": {
      "text/plain": [
       "847532"
      ]
     },
     "execution_count": 30,
     "metadata": {},
     "output_type": "execute_result"
    }
   ],
   "source": [
    "ds2.to_parquet(\"mixtral-v1-100\")"
   ]
  },
  {
   "cell_type": "code",
   "execution_count": 1,
   "metadata": {},
   "outputs": [
    {
     "name": "stdout",
     "output_type": "stream",
     "text": [
      "Loaded .env file!\n"
     ]
    },
    {
     "data": {
      "text/plain": [
       "Dataset({\n",
       "    features: ['id', 'essay', 'prompt', 'bio', 'guidelines', 'names', 'famous_person'],\n",
       "    num_rows: 2665\n",
       "})"
      ]
     },
     "execution_count": 1,
     "metadata": {},
     "output_type": "execute_result"
    }
   ],
   "source": [
    "from piidd.data_generation.add_info import add_info_to_mixtral\n",
    "from pathlib import Path\n",
    "import os\n",
    "from datasets import Dataset\n",
    "\n",
    "home_dir = Path(os.environ[\"PROJECT_HOME_DIR\"])\n",
    "\n",
    "ds = Dataset.from_parquet(str(home_dir / \"data/essays/mixtral-v1a.pq\"))\n",
    "ds"
   ]
  },
  {
   "cell_type": "code",
   "execution_count": 2,
   "metadata": {},
   "outputs": [],
   "source": [
    "x = [add_info_to_mixtral(example, url_pattern = \"<<.*>>\") for example in ds]"
   ]
  },
  {
   "cell_type": "code",
   "execution_count": null,
   "metadata": {},
   "outputs": [
    {
     "data": {
      "text/plain": [
       "[<re.Match object; span=(21, 36), match='+1-691-969-0864'>,\n",
       " <re.Match object; span=(1928, 1943), match='+1-691-969-0864'>,\n",
       " <re.Match object; span=(4136, 4151), match='+1-691-969-0864'>]"
      ]
     },
     "execution_count": 8,
     "metadata": {},
     "output_type": "execute_result"
    }
   ],
   "source": [
    "import re\n",
    "y = x[1906]\n",
    "\n",
    "value = y[\"phone_number\"]\n",
    "\n",
    "e = y['essay']\n",
    "\n",
    "list(re.finditer(re.escape(value), e))"
   ]
  },
  {
   "cell_type": "code",
   "execution_count": null,
   "metadata": {},
   "outputs": [
    {
     "data": {
      "text/plain": [
       "{'name': 'Athanase Keil',\n",
       " 'address': '675 Ricky Expressway Apt. 921\\nLake Jason, GA 37487',\n",
       " 'username': 'behnammatt',\n",
       " 'email': 'aroldedavey@uwm.edu',\n",
       " 'id_num': '58,8,16,68',\n",
       " 'phone_number': '722-833-9015',\n",
       " 'social': 'https://www.twitter.com/estelle-mayer',\n",
       " 'personal_url': 'https://norlisha-deleon.github.io/about-hobby',\n",
       " 'essay': 'Athanase Keil, Pin No: 58,8,16,68 | telephone 722-833-9015; media https://www.twitter.com/estelle-mayer\\n\\n\\nAs a journalist, I have always been committed to unearthing the truth and presenting it in a fair and balanced manner. Over the years, I have encountered many complex problems that require more than just standard reporting techniques. In this essay, I will discuss how I applied a specific methodology to tackle one such problem and the outcomes that ensued.\\n\\nThe Problem:\\n\\nIn my community, there was a growing concern about the rising number of homeless individuals and families. The problem was complex due to various factors such as unemployment, mental health issues, lack of affordable housing, and substance abuse. While there were several organizations working towards addressing this issue, they were scattered and lacked a coordinated approach. The problem was not only affecting the homeless population, but it was also having a negative impact on the quality of life for the entire community.\\n\\nWhy I Chose this Methodology:\\n\\nTo tackle this complex problem, I chose a methodology called Appreciative Inquiry (AI). This methodology is based on the assumption that organizations and communities have the capacity to thrive and that focusing on strengths is more productive than focusing on deficiencies. AI is a positive approach that emphasizes appreciation, inquiry, and collaboration. I chose AI because it aligns with my values as a journalist, and it has been shown to be effective in addressing complex problems in various fields.\\n\\nHow I Applied the Methodology:\\n\\nI started by identifying key stakeholders in the community, including homeless individuals, community leaders, and representatives from various organizations working towards addressing homelessness. I then used the four phases of AI: Discovery, Dream, Design, and Destiny.\\n\\nDuring the Discovery phase, I facilitated conversations with the stakeholders to identify their strengths, successes, and resources-related to addressing homelessness. The goal was to uncover the community\\'s assets and resources rather than focusing on their deficiencies.\\n\\nIn the Dream phase, I encouraged stakeholders to envision a desirable future for the community regarding homelessness. I asked them to imagine a future where everyone had access to safe and affordable housing, and there was a coordinated approach to addressing homelessness.\\n\\nDuring the Design phase, I facilitated conversations with stakeholders to co-create a plan that aligned with their Dream. The plan included strategies such as pooling resources, creating a centralized database of available services, and increasing public awareness about homelessness.\\n\\nIn the Destiny phase, I facilitated conversations with stakeholders to implement the plan. I tracked progress, identified challenges, and made necessary adjustments.\\n\\nAdaptations Made:\\n\\nWhile applying the methodology, I made some adaptations to make it more relevant to the context of the problem. For example, I ensured that the voices of homeless individuals were heard and that their perspectives and experiences were included in the conversations. I also made sure to provide necessary support and resources to the stakeholders during the implementation phase.\\n\\nEffectiveness of the Methodology:\\n\\nThe application of AI was successful in several ways. First, it brought together various stakeholders and created a sense of community and collaboration. Second, it helped the community identify its strengths and resources, which was essential in addressing homelessness. Third, it led to the creation of a coordinated approach to addressing homelessness, which had a positive impa\\n\\nAthanase Keil, Pin No: 58,8,16,68 | telephone 722-833-9015; media https://www.twitter.com/estelle-mayer\\n\\nct on the entire community.\\n\\nHowever, there were also some limitations. For example, some stakeholders were hesitant to participate due to fear of reprisal, and the implementation phase required ongoing support and resources. Additionally, AI assumes that organizations and communities have the capacity to thrive, which may not always be the case, particularly in marginalized communities.\\n\\nUnexpected Outcomes:\\n\\nOne unexpected outcome was the emergence of new partnerships between organizations that had never worked together before. Another unexpected outcome was the increased public awareness and support for addressing homelessness.\\n\\nConclusion:\\n\\nApplying AI to address the complex problem of homelessness in my community was a valuable experience. The methodology aligned with my values as a journalist, and it was effective in bringing together various stakeholders, identifying strengths and resources, and creating a coordinated approach to addressing homelessness. While there were some limitations, the successes and unexpected outcomes made it a worthwhile endeavor.\\n\\nA\\n\\nAthanase Keil, Pin No: 58,8,16,68 | telephone 722-833-9015; media https://www.twitter.com/estelle-mayer\\n\\ns a journalist, I will continue to use AI and other methodologies to tackle complex problems in my community. I am inspired by Alice Munro, who once said, \"The stories we live are the stories we tell.\" As a journalist, I strive to tell stories that are grounded in truth, empathy, and justice, and AI has been a helpful tool in achieving this goal.\\n\\nVisit my website {https://norlisha-deleon.github.io/about-hobby} to learn more about my work and how I am using AI and other methodologies to address complex problems.\\n\\n\\nIn conclusion, \\n\\nAthanase Keil'}"
      ]
     },
     "execution_count": 3,
     "metadata": {},
     "output_type": "execute_result"
    }
   ],
   "source": [
    "x[2]"
   ]
  },
  {
   "cell_type": "code",
   "execution_count": 3,
   "metadata": {},
   "outputs": [],
   "source": [
    "from piidd.data_generation.add_info import to_tokens\n",
    "\n",
    "tokenized = [to_tokens(example) for example in x]\n",
    "tokenized = [{**x, \"document\": i} for i, x in enumerate(tokenized)]"
   ]
  },
  {
   "cell_type": "code",
   "execution_count": null,
   "metadata": {},
   "outputs": [
    {
     "name": "stdout",
     "output_type": "stream",
     "text": [
      "[{'tokens': [' ', 'name', 'Eunice', 'Kelleher', '-', 'https://www.linkedin.com/luvio_kyle', '\\n', 'elianas', '-', '885.810.0378', '\\n', '3046', 'Stein', 'Lock', 'Suite', '715', '\\n', 'Grayburgh', ',', 'MN', '74279', '\\n ', 'e', '-', 'mail', ':', 'abercrombie57@uky.edu', ',', 'NUM', '.', ':', 'JN7YIAiCYcN', '\\n\\n\\n', 'As', 'a', 'Marine', 'Sales', 'Representative', ',', 'I', \"'ve\", 'always', 'taken', 'pride', 'in', 'my', 'ability', 'to', 'build', 'and', 'maintain', 'strong', 'relationships', 'with', 'clients', '.', 'However', ',', 'I', 'faced', 'a', 'significant', 'challenge', 'when', 'I', 'noticed', 'that', 'a', 'long', '-', 'time', 'client', 'was', 'struggling', 'to', 'remain', 'competitive', 'in', 'the', 'market', '.', 'Their', 'existing', 'marine', 'products', 'were', 'outdated', ',', 'and', 'they', 'needed', 'a', 'solution', 'that', 'would', 'help', 'them', 'modernize', 'their', 'fleet', 'while', 'staying', 'within', 'their', 'budget', '.', '\\n\\n', 'Existing', 'approaches', 'and', 'solutions', 'were', 'inadequate', 'because', 'they', 'did', \"n't\", 'take', 'into', 'account', 'the', 'client', \"'s\", 'unique', 'needs', 'and', 'budget', 'constraints', '.', 'I', 'knew', 'that', 'I', 'needed', 'to', 'come', 'up', 'with', 'a', 'creative', 'solution', 'that', 'would', 'not', 'only', 'meet', 'their', 'needs', 'but', 'also', 'exceed', 'their', 'expectations', '.', '\\n\\n', 'I', 'decided', 'to', 'use', 'mind', 'mapping', 'to', 'facilitate', 'problem', '-', 'solving', 'and', 'idea', 'generation', '.', 'Mind', 'mapping', 'is', 'a', 'visual', 'thinking', 'tool', 'that', 'uses', 'keywords', ',', 'images', ',', 'and', 'connections', 'to', 'help', 'individuals', 'organize', 'their', 'thoughts', 'and', 'identify', 'new', 'insights', '.', 'I', 'chose', 'this', 'technique', 'because', 'it', 'allowed', 'me', 'to', 'see', 'the', 'big', 'picture', 'while', 'also', 'focusing', 'on', 'the', 'details', ',', 'which', 'was', 'essential', 'for', 'this', 'particular', 'challenge', '.', '\\n\\n', 'To', 'apply', 'this', 'technique', ',', 'I', 'started', 'by', 'writing', 'down', 'the', 'client', \"'s\", 'name', 'in', 'the', 'center', 'of', 'a', 'piece', 'of', 'paper', '.', 'From', 'there', ',', 'I', 'created', 'branches', 'for', 'each', 'of', 'their', 'needs', ',', 'including', 'budget', ',', 'timeline', ',', 'and', 'specifications', '.', 'I', 'then', 'added', 'sub', '-', 'branches', 'for', 'each', 'possible', 'solution', ',', 'using', 'keywords', 'and', 'images', 'to', 'help', 'me', 'visualize', 'each', 'option', '.', '\\n\\n', 'Throughout', 'the', 'process', ',', 'I', 'involved', 'my', 'family', 'members', 'Landrie', 'and', 'Silas', ',', 'who', 'have', 'a', 'keen', 'eye', 'for', 'design', 'and', 'a', 'deep', 'understanding', 'of', 'the', 'marine', 'industry', '.', 'Their', 'input', 'was', 'invaluable', ',', 'as', 'they', 'helped', 'me', 'identify', 'potential', 'challenges', 'and', 'opportunities', 'that', 'I', 'might', 'have', 'missed', 'on', 'my', 'own', '.', '\\n\\n', 'The', 'insights', 'and', 'outcomes', 'I', 'gained', 'from', 'using', 'mind', 'mapping', 'were', 'significant', '.', 'By', 'visualizing', 'the', 'problem', 'in', 'a', 'new', 'way', ',', 'I', 'was', 'able', 'to', 'approach', 'it', 'from', 'new', 'perspectives', 'and', 'uncover', 'underlying', 'issues', 'that', 'I', 'had', \"n't\", 'considered', 'before', '.', 'For', 'example', ',', 'I', 'realized', 'th', '\\n\\n ', 'name', 'Eunice', 'Kelleher', '-', 'https://www.linkedin.com/luvio_kyle', '\\n', 'elianas', '-', '885.810.0378', '\\n', '3046', 'Stein', 'Lock', 'Suite', '715', '\\n', 'Grayburgh', ',', 'MN', '74279', '\\n ', 'e', '-', 'mail', ':', 'abercrombie57@uky.edu', ',', 'NUM', '.', ':', 'JN7YIAiCYcN', '\\n\\n', 'at', 'the', 'client', \"'s\", 'budget', 'constraints', 'could', 'be', 'addressed', 'by', 'recommending', 'pre', '-', 'owned', 'marine', 'products', 'that', 'had', 'been', 'refurbished', 'with', 'the', 'latest', 'technology', '.', '\\n\\n', 'One', 'unexpected', 'challenge', 'I', 'encountered', 'was', 'balancing', 'the', 'client', \"'s\", 'needs', 'with', 'the', 'company', \"'s\", 'offerings', '.', 'However', ',', 'by', 'involving', 'my', 'colleagues', 'and', 'using', 'the', 'mind', 'map', 'as', 'a', 'guide', ',', 'I', 'was', 'able', 'to', 'identify', 'a', 'range', 'of', 'solutions', 'that', 'met', 'both', 'the', 'client', \"'s\", 'needs', 'and', 'the', 'company', \"'s\", 'goals', '.', '\\n\\n', 'Overall', ',', 'I', 'found', 'mind', 'mapping', 'to', 'be', 'a', 'highly', 'effective', 'technique', 'for', 'addressing', 'this', 'particular', 'challenge', '.', 'Its', 'strengths', 'included', 'helping', 'me', 'see', 'the', 'big', 'picture', ',', 'identify', 'new', 'insights', ',', 'and', 'uncover', 'underlying', 'issues', '.', 'Its', 'limitations', 'included', 'the', 'time', 'required', 'to', 'create', 'the', 'mind', 'map', ',', 'but', 'I', 'found', 'that', 'the', 'benefits', 'far', 'outweighed', 'the', 'costs', '.', '\\n\\n', 'Moving', 'forward', ',', 'I', 'plan', 'to', 'continue', 'using', 'mind', 'mapping', 'and', 'other', 'visual', 'thinking', 'tools', 'to', 'facilitate', 'problem', '-', 'solving', 'and', 'idea', 'generation', '.', 'I', 'also', 'plan', 'to', 'recommend', 'this', 'technique', 'to', 'others', 'facing', 'similar', 'challenges', 'in', 'the', 'marine', 'industry', '.', '\\n\\n', 'One', 'lesson', 'I', 'learned', 'from', 'this', 'experience', 'is', 'the', 'importance', 'of', 'involving', 'others', 'in', 'the', 'problem', '-', 'solving', 'process', '.', 'By', 'collaborating', 'with', 'my', 'family', 'members', 'and', 'colleagues', ',', 'I', 'was', 'able', 'to', 'identify', 'potential', 'challenges', 'and', 'opportunities', 'that', 'I', 'might', 'have', 'missed', 'on', 'my', 'own', '.', 'I', 'was', 'also', 'inspired', 'by', 'the', 'Nobel', 'Peace', 'Prize', 'laureate', 'and', 'former', 'president', 'of', 'East', 'Timor', ',', 'Jose', 'Ramos', '-', 'Horta', ',', 'who', 'said', ',', '\"', 'The', 'best', 'way', 'to', 'solve', 'a', 'problem', 'is', 'to', 'bring', 'people', 'together', 'to', 'discuss', 'it', '.', '\"', '\\n\\n', 'To', 'learn', 'more', 'about', 'my', 'approach', 'to', 'problem', '-', 'solving', 'and', 'idea', 'generation', ',', 'visit', 'my', 'website', 'at', '(', 'http://www.parce-devries.me/store/workshops/about-podcasts/testimonials', ')', '.', '\\n\\n', 'In', 'conclusion', ',', 'by', 'using', 'mind', 'mapping', 'and', 'involving', 'others', 'in', 'the', 'problem', '-', 'solving', 'process', ',', 'I', 'was', 'able', 'to', 'help', 'my', 'long', '-', 'time', 'client', 'modernize', 'their', 'fleet', 'and', 'remain', 'competitive', 'in', 'the', 'market', '.', 'This', 'experience', 'not', 'only', 'reinforced', 'the', 'importance', 'of', 'creative', 'problem', '-', 'solving', 'but', 'also', 'highlighted', 'the', 'value', 'of', 'collaboration', 'and', 'visual', 'thinking', 'in', 'achieving', 'success', '.', '\\n\\n', 'In', 'pursuit', 'of', 'truth', ',', '\\n\\n', 'Eunice', 'Kelleher'], 'labels': ['O', 'O', 'B-NAME_STUDENT', 'I-NAME_STUDENT', 'O', 'B-URL_PERSONAL', 'O', 'B-USERNAME', 'O', 'B-PHONE_NUM', 'O', 'B-STREET_ADDRESS', 'I-STREET_ADDRESS', 'I-STREET_ADDRESS', 'I-STREET_ADDRESS', 'I-STREET_ADDRESS', 'I-STREET_ADDRESS', 'I-STREET_ADDRESS', 'I-STREET_ADDRESS', 'I-STREET_ADDRESS', 'I-STREET_ADDRESS', 'O', 'O', 'O', 'O', 'O', 'B-EMAIL', 'O', 'O', 'O', 'O', 'B-ID_NUM', 'O', 'O', 'O', 'O', 'O', 'O', 'O', 'O', 'O', 'O', 'O', 'O', 'O', 'O', 'O', 'O', 'O', 'O', 'O', 'O', 'O', 'O', 'O', 'O', 'O', 'O', 'O', 'O', 'O', 'O', 'O', 'O', 'O', 'O', 'O', 'O', 'O', 'O', 'O', 'O', 'O', 'O', 'O', 'O', 'O', 'O', 'O', 'O', 'O', 'O', 'O', 'O', 'O', 'O', 'O', 'O', 'O', 'O', 'O', 'O', 'O', 'O', 'O', 'O', 'O', 'O', 'O', 'O', 'O', 'O', 'O', 'O', 'O', 'O', 'O', 'O', 'O', 'O', 'O', 'O', 'O', 'O', 'O', 'O', 'O', 'O', 'O', 'O', 'O', 'O', 'O', 'O', 'O', 'O', 'O', 'O', 'O', 'O', 'O', 'O', 'O', 'O', 'O', 'O', 'O', 'O', 'O', 'O', 'O', 'O', 'O', 'O', 'O', 'O', 'O', 'O', 'O', 'O', 'O', 'O', 'O', 'O', 'O', 'O', 'O', 'O', 'O', 'O', 'O', 'O', 'O', 'O', 'O', 'O', 'O', 'O', 'O', 'O', 'O', 'O', 'O', 'O', 'O', 'O', 'O', 'O', 'O', 'O', 'O', 'O', 'O', 'O', 'O', 'O', 'O', 'O', 'O', 'O', 'O', 'O', 'O', 'O', 'O', 'O', 'O', 'O', 'O', 'O', 'O', 'O', 'O', 'O', 'O', 'O', 'O', 'O', 'O', 'O', 'O', 'O', 'O', 'O', 'O', 'O', 'O', 'O', 'O', 'O', 'O', 'O', 'O', 'O', 'O', 'O', 'O', 'O', 'O', 'O', 'O', 'O', 'O', 'O', 'O', 'O', 'O', 'O', 'O', 'O', 'O', 'O', 'O', 'O', 'O', 'O', 'O', 'O', 'O', 'O', 'O', 'O', 'O', 'O', 'O', 'O', 'O', 'O', 'O', 'O', 'O', 'O', 'O', 'O', 'O', 'O', 'O', 'O', 'O', 'O', 'O', 'O', 'O', 'O', 'O', 'O', 'O', 'O', 'O', 'O', 'O', 'O', 'O', 'O', 'O', 'O', 'O', 'O', 'O', 'O', 'O', 'O', 'O', 'O', 'O', 'O', 'O', 'O', 'O', 'O', 'B-NAME_STUDENT', 'O', 'B-NAME_STUDENT', 'O', 'O', 'O', 'O', 'O', 'O', 'O', 'O', 'O', 'O', 'O', 'O', 'O', 'O', 'O', 'O', 'O', 'O', 'O', 'O', 'O', 'O', 'O', 'O', 'O', 'O', 'O', 'O', 'O', 'O', 'O', 'O', 'O', 'O', 'O', 'O', 'O', 'O', 'O', 'O', 'O', 'O', 'O', 'O', 'O', 'O', 'O', 'O', 'O', 'O', 'O', 'O', 'O', 'O', 'O', 'O', 'O', 'O', 'O', 'O', 'O', 'O', 'O', 'O', 'O', 'O', 'O', 'O', 'O', 'O', 'O', 'O', 'O', 'O', 'O', 'O', 'O', 'O', 'O', 'O', 'O', 'O', 'O', 'O', 'O', 'O', 'O', 'O', 'O', 'O', 'O', 'B-NAME_STUDENT', 'I-NAME_STUDENT', 'O', 'B-URL_PERSONAL', 'O', 'B-USERNAME', 'O', 'B-PHONE_NUM', 'O', 'B-STREET_ADDRESS', 'I-STREET_ADDRESS', 'I-STREET_ADDRESS', 'I-STREET_ADDRESS', 'I-STREET_ADDRESS', 'I-STREET_ADDRESS', 'I-STREET_ADDRESS', 'I-STREET_ADDRESS', 'I-STREET_ADDRESS', 'I-STREET_ADDRESS', 'O', 'O', 'O', 'O', 'O', 'B-EMAIL', 'O', 'O', 'O', 'O', 'B-ID_NUM', 'O', 'O', 'O', 'O', 'O', 'O', 'O', 'O', 'O', 'O', 'O', 'O', 'O', 'O', 'O', 'O', 'O', 'O', 'O', 'O', 'O', 'O', 'O', 'O', 'O', 'O', 'O', 'O', 'O', 'O', 'O', 'O', 'O', 'O', 'O', 'O', 'O', 'O', 'O', 'O', 'O', 'O', 'O', 'O', 'O', 'O', 'O', 'O', 'O', 'O', 'O', 'O', 'O', 'O', 'O', 'O', 'O', 'O', 'O', 'O', 'O', 'O', 'O', 'O', 'O', 'O', 'O', 'O', 'O', 'O', 'O', 'O', 'O', 'O', 'O', 'O', 'O', 'O', 'O', 'O', 'O', 'O', 'O', 'O', 'O', 'O', 'O', 'O', 'O', 'O', 'O', 'O', 'O', 'O', 'O', 'O', 'O', 'O', 'O', 'O', 'O', 'O', 'O', 'O', 'O', 'O', 'O', 'O', 'O', 'O', 'O', 'O', 'O', 'O', 'O', 'O', 'O', 'O', 'O', 'O', 'O', 'O', 'O', 'O', 'O', 'O', 'O', 'O', 'O', 'O', 'O', 'O', 'O', 'O', 'O', 'O', 'O', 'O', 'O', 'O', 'O', 'O', 'O', 'O', 'O', 'O', 'O', 'O', 'O', 'O', 'O', 'O', 'O', 'O', 'O', 'O', 'O', 'O', 'O', 'O', 'O', 'O', 'O', 'O', 'O', 'O', 'O', 'O', 'O', 'O', 'O', 'O', 'O', 'O', 'O', 'O', 'O', 'O', 'O', 'O', 'O', 'O', 'O', 'O', 'O', 'O', 'O', 'O', 'O', 'O', 'O', 'O', 'O', 'O', 'O', 'O', 'O', 'O', 'O', 'O', 'O', 'O', 'O', 'O', 'O', 'O', 'O', 'O', 'O', 'O', 'O', 'O', 'O', 'O', 'O', 'O', 'O', 'O', 'O', 'O', 'O', 'O', 'O', 'O', 'O', 'O', 'O', 'O', 'O', 'O', 'O', 'O', 'O', 'O', 'O', 'O', 'O', 'O', 'O', 'O', 'O', 'O', 'O', 'O', 'O', 'O', 'O', 'O', 'O', 'O', 'O', 'O', 'O', 'O', 'O', 'O', 'O', 'O', 'O', 'O', 'O', 'O', 'O', 'O', 'O', 'O', 'O', 'O', 'O', 'O', 'O', 'O', 'O', 'O', 'O', 'O', 'O', 'O', 'O', 'O', 'O', 'O', 'O', 'O', 'O', 'O', 'O', 'O', 'O', 'O', 'O', 'O', 'O', 'O', 'O', 'B-URL_PERSONAL', 'O', 'O', 'O', 'O', 'O', 'O', 'O', 'O', 'O', 'O', 'O', 'O', 'O', 'O', 'O', 'O', 'O', 'O', 'O', 'O', 'O', 'O', 'O', 'O', 'O', 'O', 'O', 'O', 'O', 'O', 'O', 'O', 'O', 'O', 'O', 'O', 'O', 'O', 'O', 'O', 'O', 'O', 'O', 'O', 'O', 'O', 'O', 'O', 'O', 'O', 'O', 'O', 'O', 'O', 'O', 'O', 'O', 'O', 'O', 'O', 'O', 'O', 'O', 'O', 'O', 'O', 'O', 'O', 'O', 'O', 'O', 'O', 'O', 'B-NAME_STUDENT', 'I-NAME_STUDENT'], 'trailing_whitespace': [False, True, True, True, True, False, False, True, True, False, False, True, True, True, True, False, False, False, True, True, False, False, False, False, False, True, False, True, False, False, True, False, False, True, True, True, True, False, True, False, True, True, True, True, True, True, True, True, True, True, True, True, True, True, False, True, False, True, True, True, True, True, True, True, True, True, True, True, False, False, True, True, True, True, True, True, True, True, True, False, True, True, True, True, True, True, False, True, True, True, True, True, True, True, True, True, True, True, True, True, True, True, True, True, False, False, False, True, True, True, True, True, True, True, True, False, True, True, True, True, True, False, True, True, True, True, True, False, True, True, True, True, True, True, True, True, True, True, True, True, True, True, True, True, True, True, True, True, True, True, True, True, False, False, False, True, True, True, True, True, True, True, True, False, False, True, True, True, False, True, True, True, True, True, True, True, True, True, True, False, True, False, True, True, True, True, True, True, True, True, True, True, True, True, False, True, True, True, True, True, True, True, True, True, True, True, True, True, True, True, True, True, True, True, False, True, True, True, True, True, True, True, False, False, False, True, True, True, False, True, True, True, True, True, True, True, False, True, True, True, True, True, True, True, True, True, False, True, True, False, True, True, True, True, True, True, True, True, False, True, True, False, True, False, True, True, False, True, True, True, True, False, False, True, True, True, True, False, True, True, True, True, True, True, True, True, True, True, False, False, False, True, True, False, True, True, True, True, True, True, True, True, False, True, True, True, True, True, True, True, True, True, True, True, True, True, True, True, False, True, True, True, True, False, True, True, True, True, True, True, True, True, True, True, True, True, True, True, True, True, True, False, False, False, True, True, True, True, True, True, True, True, True, True, True, False, True, True, True, True, True, True, True, True, False, True, True, True, True, True, True, True, True, True, True, True, True, True, True, True, True, False, True, True, False, True, True, False, True, True, True, False, False, True, True, True, True, False, False, True, True, False, False, True, True, True, True, False, False, False, True, True, False, False, False, False, False, True, False, True, False, False, True, False, False, True, True, False, True, True, True, True, True, True, True, True, False, False, True, True, True, True, True, True, True, True, True, True, False, False, False, True, True, True, True, True, True, True, True, False, True, True, True, True, False, True, False, True, False, True, True, True, True, True, True, True, True, True, True, True, True, False, True, True, True, True, True, True, True, True, True, True, True, True, True, True, False, True, True, True, True, False, True, False, False, False, False, True, True, True, True, True, True, True, True, True, True, True, True, True, True, True, False, True, True, True, True, True, True, True, True, True, False, True, True, True, False, True, True, True, True, False, True, True, True, True, True, True, True, True, True, True, True, False, True, True, True, True, True, True, True, True, True, True, False, False, False, True, False, True, True, True, True, True, True, True, True, True, True, True, True, True, True, True, False, False, True, True, True, False, True, True, True, True, True, True, True, True, True, True, True, True, True, True, True, True, False, False, False, True, True, True, True, True, True, True, True, True, True, True, True, True, True, True, False, False, True, False, True, True, True, True, True, True, True, True, False, True, True, True, True, True, True, True, True, True, True, True, True, True, True, True, True, True, False, True, True, True, True, True, True, True, True, True, True, True, True, True, True, True, True, False, True, True, False, False, False, True, True, False, True, False, True, True, True, True, True, True, True, True, True, True, True, True, True, True, False, False, False, False, True, True, True, True, True, True, True, False, False, True, True, True, False, True, True, True, True, True, False, False, False, False, False, True, False, True, True, True, True, True, True, True, True, True, True, False, False, True, False, True, True, True, True, True, True, True, False, False, True, True, True, True, True, True, True, True, True, True, False, True, True, True, True, True, True, True, True, True, True, False, False, True, True, True, True, True, True, True, True, True, True, True, True, True, False, False, False, True, True, True, False, True, False, True, False], 'document': 4}]\n"
     ]
    }
   ],
   "source": [
    "print([x for x in tokenized if x[\"document\"] == 4])"
   ]
  },
  {
   "cell_type": "code",
   "execution_count": null,
   "metadata": {},
   "outputs": [],
   "source": [
    "1846"
   ]
  },
  {
   "cell_type": "code",
   "execution_count": 4,
   "metadata": {},
   "outputs": [],
   "source": [
    "import json\n",
    "\n",
    "json.dump(tokenized, open(\"mixtral-v1a.json\", \"w\"))"
   ]
  },
  {
   "cell_type": "markdown",
   "metadata": {},
   "source": [
    "# Mistral Medium"
   ]
  },
  {
   "cell_type": "code",
   "execution_count": null,
   "metadata": {},
   "outputs": [
    {
     "name": "stdout",
     "output_type": "stream",
     "text": [
      "As an E-commerce Specialist in the retail industry, I am always on the lookout for innovative tools and approaches to enhance our digital customer experience and drive online sales. One complex challenge that I encountered was the high cart abandonment rate on our website. Customers were adding products to their carts but not completing their purchases, leading to a significant loss in potential revenue.\n",
      "\n",
      "The cart abandonment issue is a common problem in e-commerce, with studies suggesting that the average rate can be as high as 70%. In our case, we were experiencing an abandonment rate of 65%, which was significantly impacting our conversion rates and overall sales performance. This challenge was particularly complex due to its multifaceted nature; it could be attributed to various factors such as poor website design, lack of trust, unexpected costs, or complicated checkout processes.\n",
      "\n",
      "After conducting extensive research and analyzing our customer behavior data, I decided to employ a tool known as 'Persuasive Design' to address this challenge. Persuasive Design is a methodology that uses psychological principles to influence user behavior subtly. It involves designing interfaces that guide users towards completing desired actions by leveraging cognitive biases and heuristics. The choice of this tool was based on its relevance to the challenge, its theoretical foundations in behavioral psychology, and its proven effectiveness in reducing cart abandonment rates in similar situations.\n",
      "\n",
      "In applying Persuasive Design to our e-commerce platform, I focused on three main strategies: simplifying the checkout process, providing clear information about costs and delivery times, and building trust through social proof. To simplify the checkout process, we reduced the number of steps required to complete a purchase and made the call-to-action buttons more prominent. We also added progress indicators to show users exactly where they were in the process. For providing clear information, we made sure that all costs, including taxes and shipping fees, were displayed upfront and highlighted free shipping options where applicable. Additionally, we provided estimated delivery times for each product. To build trust, we incorporated customer reviews and ratings on product pages and added security badges to the checkout page.\n",
      "\n",
      "During the application process, I had several conversations with my friend Nicholas, who is a UX designer. He provided valuable insights into how we could optimize our website design using persuasive techniques. For instance, he suggested using visual cues to draw attention to important elements on the page and employing scarcity tactics, such as showing limited stock availability, to create a sense of urgency.\n",
      "\n",
      "Upon implementing these changes, we noticed a significant reduction in our cart abandonment rate. Within three months, the rate dropped from 65% to 55%, resulting in a substantial increase in conversion rates and online sales. However, despite these successes, there were some limitations to using Persuasive Design. One major limitation was that it required a deep understanding of customer behavior and psychology, which could be challenging to obtain accurately. Furthermore, while Persuasive Design can effectively nudge users towards desired actions, it may not necessarily address underlying issues that cause cart abandonment, such as poor product quality or pricing concerns.\n",
      "\n",
      "Reflecting on the application of Persuasive Design, I learned that while it can be a powerful tool for influencing user behavior, it should be used judiciously and ethically. As e-commerce specialists, we have a responsibility to ensure that our practices respect user autonomy and privacy. Moreover, I realized that addressing complex challenges like cart abandonment often requires a multifaceted approach, combining different tools and techniques to achieve optimal results.\n",
      "\n",
      "Moving forward, I believe that the insights gained from using Persuasive Design can inform future applications of this tool in addressing other e-commerce challenges. For instance, it could be used to improve customer engagement, encourage repeat purchases, or facilitate the adoption of new features. Based on my experience, I would recommend refining the tool by incorporating more sophisticated methods for understanding customer behavior and preferences, such as sentiment analysis or machine learning algorithms. This would enable us to create more personalized and effective persuasive designs, ultimately enhancing the digital customer experience and driving e-commerce success.\n",
      "\n",
      "[URL]\n",
      "\n",
      "In conclusion, addressing the complex challenge of cart abandonment necessitated the use of a novel approach grounded in behavioral psychology. The application of Persuasive Design to our e-commerce platform yielded positive results, demonstrating its potential as a valuable tool in the e-commerce specialist's arsenal. However, it is essential to recognize its limitations and employ it ethically and responsibly. By continuously refining and adapting our tools and approaches, we can stay ahead in the rapidly evolving world of online retail and contribute significantly to the overall success of the retail business.\n"
     ]
    }
   ],
   "source": [
    "from mistralai.client import MistralClient\n",
    "from mistralai.models.chat_completion import ChatMessage\n",
    "\n",
    "api_key = os.environ[\"MISTRAL_KEY\"]\n",
    "model = \"mistral-medium\"\n",
    "\n",
    "client = MistralClient(api_key=api_key)\n",
    "\n",
    "text = \"\"\"Write an essay (in 1st person perspective) with the below prompt as the following person: \n",
    " The E-commerce Specialist in the retail industry is a highly analytical and detail-oriented individual who excels in driving online sales and optimizing the digital customer experience. With a natural curiosity and a passion for experimentation, they are constantly seeking new approaches to increase e-commerce KPIs, employing data-driven strategies to improve conversion rates, and staying ahead of emerging trends in the rapidly evolving world of online retail. They possess exceptional problem-solving skills and are able to effectively communicate and collaborate with cross-functional teams, ultimately ensuring the e-commerce channel contributes significantly to the overall success of the retail business.\n",
    "\n",
    "**Essay Prompt: Applying a Specific Tool or Approach to Address a Complex Challenge**\n",
    "\n",
    "**Objective:** \n",
    "Write an essay that details your experience of applying a specific tool or approach to address a complex challenge. This essay should not only narrate the process but also critically analyze the effectiveness of the chosen tool or approach, reflecting on its strengths and potential limitations.\n",
    "\n",
    "**Instructions:**\n",
    "\n",
    "1. **Introduction - Identifying the Challenge:**\n",
    "   - Begin by clearly defining a complex challenge you have encountered. This could be a personal, professional, academic, or societal issue.\n",
    "   - Explain why this challenge is significant and complex, providing context to understand its intricacies.\n",
    "\n",
    "2. **Selection of the Tool or Approach:**\n",
    "   - Describe the specific tool or approach you chose to address the challenge. Explain why you selected this particular method.\n",
    "   - Consider factors like its relevance to the challenge, its theoretical underpinnings, or its proven effectiveness in similar situations.\n",
    "   - Reflect on whether there were any alternatives considered and why they were discarded in favor of the chosen tool.\n",
    "\n",
    "3. **Application of the Tool or Approach:**\n",
    "   - Detail how you applied the tool or approach to the challenge. Include specific steps, processes, or strategies used.\n",
    "   - Discuss any adaptations or customizations made to the tool to suit the specific context of your challenge.\n",
    "   - Provide examples or anecdotes to illustrate how the tool was used in practical scenarios.\n",
    "\n",
    "4. **Analysis and Insight:**\n",
    "   - Critically evaluate the effectiveness of the tool or approach in addressing the challenge. Discuss both its successes and limitations.\n",
    "   - Reflect on any unexpected outcomes or lessons learned during the application process.\n",
    "   - Consider how the use of the tool influenced the outcome of the challenge. Was it as effective as anticipated? Why or why not?\n",
    "\n",
    "5. **Conclusion - Future Applications:**\n",
    "   - Summarize the key insights gained from using this tool or approach.\n",
    "   - Discuss how these insights can inform future applications of the same or similar tools in addressing other challenges.\n",
    "   - Optionally, propose any modifications or improvements to the tool or approach that could enhance its effectiveness based on your experience.\n",
    "\n",
    "**Criteria for Evaluation:**\n",
    "- Clarity in defining the challenge and its complexity.\n",
    "- Depth of explanation for the selection of the tool or approach.\n",
    "- Detailed description of the application process.\n",
    "- Critical analysis and reflection on the effectiveness of the tool or approach.\n",
    "- Insightful conclusions and forward-looking perspectives.\n",
    "\n",
    "**Length:** Your essay should be between 1000-1500 words.\n",
    "\n",
    "**Guidelines:**\n",
    "- Include a reference to a personal url in the middle of the essay and use [URL] as a placeholder\n",
    "- Mention a famous person's name that was a source of inspiration\n",
    "- Do not list references\n",
    "- If you have a personal story, use [PERSONAL_NAME] instead of a real name.\n",
    "- Write in 1st person\n",
    "- Mention a conversation with your friend Nicholas somewhere in the essay\"\"\"\n",
    "\n",
    "messages = [\n",
    "    ChatMessage(role=\"user\", content=text)\n",
    "]\n",
    "\n",
    "# No streaming\n",
    "chat_response = client.chat(\n",
    "    model=model,\n",
    "    messages=messages,\n",
    ")\n",
    "\n",
    "print(chat_response.choices[0].message.content)"
   ]
  },
  {
   "cell_type": "code",
   "execution_count": null,
   "metadata": {},
   "outputs": [],
   "source": []
  }
 ],
 "metadata": {
  "kernelspec": {
   "display_name": "base",
   "language": "python",
   "name": "python3"
  },
  "language_info": {
   "codemirror_mode": {
    "name": "ipython",
    "version": 3
   },
   "file_extension": ".py",
   "mimetype": "text/x-python",
   "name": "python",
   "nbconvert_exporter": "python",
   "pygments_lexer": "ipython3",
   "version": "3.10.10"
  }
 },
 "nbformat": 4,
 "nbformat_minor": 2
}
