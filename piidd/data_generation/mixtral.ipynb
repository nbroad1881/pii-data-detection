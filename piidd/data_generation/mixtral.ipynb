{
 "cells": [
  {
   "cell_type": "code",
   "execution_count": 56,
   "metadata": {},
   "outputs": [],
   "source": [
    "import os\n",
    "import json\n",
    "import random\n",
    "import string\n",
    "\n",
    "from huggingface_hub import InferenceClient\n",
    "from dotenv import load_dotenv\n",
    "from datasets import Dataset\n",
    "\n",
    "load_dotenv(\"../../.env\")\n",
    "client = InferenceClient(token=os.environ[\"HF_TOKEN\"])"
   ]
  },
  {
   "cell_type": "code",
   "execution_count": 57,
   "metadata": {},
   "outputs": [],
   "source": [
    "prompts = [\n",
    "    \"\"\"You are tasked with composing a comprehensive essay that outlines your experience in applying a specific strategy to solve a complex issue, critically evaluating its effectiveness. Start by detailing the challenge, emphasizing its significance and complexity across personal, professional, academic, or societal contexts. Then, justify your choice of strategy, discussing its relevance, theoretical basis, and prior successes, while also considering any alternatives. Describe the strategy's implementation, including adjustments made for the specific context and real-world applications. Critically assess the strategy's effectiveness, covering successes, limitations, and any unexpected outcomes, and reflect on whether it met expectations. Conclude by summarizing insights gained and discussing their applicability to future challenges, proposing modifications to improve the strategy's effectiveness based on your experience. Your essay should be a clear and reflective analysis, aiming for 1000-1500 words, that provides a deep dive into the strategic approach to complex problem-solving.\"\"\",\n",
    "    \"\"\"This assignment requires the drafting of an extensive essay focused on your firsthand application of a particular strategic method to tackle a notably complex issue. The essay's primary aim is to not merely recount the steps of this application but to delve into a meticulous critique of the chosen method's effectiveness, highlighting its strengths and acknowledging any encountered limitations. Begin with an elaborate introduction to the complex challenge you faced, whether it stemmed from personal, professional, academic, or societal realms, ensuring to elucidate the problem's significance and complexity to provide a comprehensive understanding of its intricacies. Proceed to discuss the rationale behind selecting the specific strategy to confront this issue, including an explanation of its direct relevance, theoretical basis, and documented success in similar contexts, alongside a reflective account of any alternative methods evaluated and the reasons for their exclusion. The essay should detail the practical implementation of the strategy, including step-by-step processes, adjustments made to tailor the approach to the problem's unique characteristics, and tangible examples or narratives that showcase its real-world application. A critical evaluation section is essential, where the effectiveness of the strategy in resolving the issue is analyzed, reflecting on both its successes and shortcomings, any unforeseen results, and the extent to which it fulfilled or fell short of expectations, supported by reasoned analysis. Conclude with a summary of key insights gained and their potential applicability to future challenges, suggesting any modifications to the strategy that could enhance its future effectiveness based on the insights derived from your experience. The essay should be a clear, detailed, and reflective piece, spanning 1000-1500 words, that offers a thorough examination and critical analysis of a strategic approach to complex problem-solving, with an eye towards future applications and improvements.\"\"\"\n",
    "    \"\"\"Comprehensive Essay Assignment: Detailed Exploration of a Strategic Approach to Complex Problem Solving\n",
    "\n",
    "Objective of the Assignment:\n",
    "This assignment calls for the composition of an in-depth essay that focuses on your personal engagement with a specific strategic approach to navigate and resolve a particularly complex problem. The core aim of this essay is to provide a thorough narrative that not only recounts the steps taken in applying this strategy but also dives deep into a critical examination of its overall efficacy, including an exploration of its strengths and acknowledging its limitations.\n",
    "\n",
    "Detailed Instructions for Completion:\n",
    "\n",
    "    Introduction to the Problem:\n",
    "        The essay should commence with a comprehensive introduction to the complex problem that was faced. This could be drawn from personal experiences, professional challenges, academic obstacles, or societal dilemmas.\n",
    "        It is imperative to shed light on the complexity and significance of this problem, offering a detailed context that allows for a full appreciation of its intricacies and why it presented a substantial challenge.\n",
    "\n",
    "    Rationale Behind the Strategy Selection:\n",
    "        Following the introduction, the essay should elaborate on the specific strategy that was selected as the means to address the identified problem. A detailed explanation regarding the rationale behind this choice is essential.\n",
    "        This section should cover aspects such as the direct relevance of the strategy to the problem at hand, its theoretical foundations, and evidence of its effectiveness in analogous situations.\n",
    "        A reflective comparison with alternative strategies that were considered and the reasons for their eventual rejection in favor of the selected approach should also be included.\n",
    "\n",
    "    The Application Process of the Chosen Strategy:\n",
    "        This part of the essay is expected to detail the practical application of the chosen strategy in addressing the problem. It should include a step-by-step recounting of the processes, strategies, and tactics employed.\n",
    "        Any adaptations or modifications made to the strategy to better suit the unique context or specifics of the problem should be discussed.\n",
    "        Concrete examples or anecdotes that illustrate the application of the strategy in real-world scenarios will greatly enhance this section.\n",
    "\n",
    "    Critical Evaluation of Strategy Effectiveness:\n",
    "        An in-depth critical analysis of how effective the chosen strategy was in solving the complex problem is crucial. This should include discussion of both its successful aspects and any limitations or drawbacks encountered.\n",
    "        Reflect on any unexpected outcomes or lessons learned throughout the application process.\n",
    "        The impact of the strategy on the outcome of the problem should be scrutinized: assessing whether it met, exceeded, or fell short of expectations, and providing a reasoned explanation for this assessment.\n",
    "\n",
    "    Concluding Insights and Future Prospects:\n",
    "        The essay should conclude by summarizing the key insights gained from the application of the strategy.\n",
    "        It should also discuss the potential for applying these insights to future challenges, either through the use of the same strategy or adaptations thereof.\n",
    "        Recommendations for any modifications or improvements to the strategy that could potentially enhance its effectiveness in future applications, based on the experience gained, should be proposed.\n",
    "\n",
    "Criteria for Evaluation:\n",
    "\n",
    "    The clarity and depth with which the complex problem is defined and contextualized.\n",
    "    The thoroughness of the explanation provided for the selection of the strategy.\n",
    "    The detail and insight offered in the description of the strategy's application.\n",
    "    The depth of critical analysis and reflection on the effectiveness of the strategy.\n",
    "    The forward-looking perspective provided in the conclusions, including insightful recommendations for future applications.\n",
    "\n",
    "Expected Length: The essay should comprehensively cover the topic within the range of 1000-1500 words.\"\"\",\n",
    "\"\"\"Essay Brief: Strategy Application in Complex Problem-Solving\n",
    "\n",
    "Objective:\n",
    "Write a concise essay on your use of a specific strategy to solve a complex issue, critically evaluating its effectiveness and limitations.\n",
    "\n",
    "Instructions:\n",
    "\n",
    "    Introduction: Outline a complex issue tackled, emphasizing its significance.\n",
    "    Strategy Choice: Explain your chosen strategy, why it was selected, and any alternatives.\n",
    "    Implementation: Detail the application process and examples of its use.\n",
    "    Evaluation: Assess the strategy's success, limitations, and any surprises.\n",
    "    Conclusion: Summarize insights and future applicability, suggesting improvements.\n",
    "\n",
    "Criteria:\n",
    "\n",
    "    Issue clarity and complexity.\n",
    "    Justification for strategy choice.\n",
    "    Implementation and application insights.\n",
    "    Critical success evaluation.\n",
    "    Future applicability insights.\n",
    "\n",
    "Length: Aim for 1000-1500 words.\"\"\",\n",
    "\"\"\"Essay Assignment: Implementing a Strategy to Solve a Complex Issue\n",
    "\n",
    "Objective:\n",
    "Compose an essay detailing how you applied a particular strategy to solve a complex issue, including a critical assessment of its effectiveness, strengths, and limitations.\n",
    "\n",
    "Instructions:\n",
    "\n",
    "    Introduction - Challenge Identification:\n",
    "        Begin with a description of a complex issue you've faced in any aspect of life. Outline its significance and complexity.\n",
    "\n",
    "    Strategy Selection:\n",
    "        Discuss the strategy you chose to tackle the issue, including your rationale for its selection. Address its relevance, theoretical basis, or efficacy in similar scenarios.\n",
    "        Reflect on any alternative strategies considered and why they were not chosen.\n",
    "\n",
    "    Strategy Implementation:\n",
    "        Describe how you implemented the strategy, mentioning specific actions, adaptations, and real-life examples of its application.\n",
    "\n",
    "    Effectiveness Evaluation:\n",
    "        Evaluate the strategy's effectiveness, noting successes, limitations, and any unexpected outcomes. Reflect on the strategy's impact on the issue's resolution.\n",
    "\n",
    "    Conclusion - Future Implications:\n",
    "        Summarize insights gained and discuss their applicability to future challenges. Suggest possible improvements to the strategy based on your experience.\n",
    "\n",
    "Evaluation Criteria:\n",
    "\n",
    "    Clarity in identifying and explaining the issue.\n",
    "    Depth in the selection rationale for the strategy.\n",
    "    Detailed implementation description.\n",
    "    Critical effectiveness analysis.\n",
    "    Insightful conclusions with future potential.\n",
    "\n",
    "Length: Target a 1000-1500 word essay.\"\"\",\n",
    "\"\"\"Essay Prompt: Utilizing a Distinct Method or Strategy to Overcome a Complex Problem\n",
    "\n",
    "Objective:\n",
    "Craft an essay that outlines your journey of utilizing a distinct method or strategy to overcome a complex problem. This essay should go beyond merely recounting the steps taken; it should offer a deep evaluation of the method or strategy's efficiency, including its advantages and any limitations you encountered.\n",
    "\n",
    "Instructions:\n",
    "\n",
    "    Introduction - Problem Identification:\n",
    "        Start by identifying a complex problem you've faced, whether in a personal, professional, academic, or societal context.\n",
    "        Describe the significance and complexity of this problem, offering the necessary background to grasp its depth.\n",
    "\n",
    "    Choice of Method or Strategy:\n",
    "        Elaborate on the specific method or strategy you selected to tackle the problem. Share your reasoning behind this choice.\n",
    "        Discuss considerations such as its relevance to the problem, foundational principles, or its track record of success in similar contexts.\n",
    "        Reflect on any other alternatives you pondered and explain your decision to proceed with the chosen method or strategy.\n",
    "\n",
    "    Implementing the Method or Strategy:\n",
    "        Explain the implementation of your chosen method or strategy in detail, covering the steps, techniques, or approaches employed.\n",
    "        Mention any modifications or adjustments made to better fit the problem's unique aspects.\n",
    "        Use real-life instances or stories to show how the method or strategy was applied.\n",
    "\n",
    "    Evaluation and Insights:\n",
    "        Offer a thorough assessment of the method or strategy's impact on the problem, highlighting both successful aspects and any shortcomings.\n",
    "        Share any unforeseen results or learning moments experienced along the way.\n",
    "        Discuss the effect of the method or strategy on the problem's resolution. Evaluate whether it met your expectations and provide reasons for your assessment.\n",
    "\n",
    "    Conclusion - Looking Ahead:\n",
    "        Sum up the major insights derived from employing this method or strategy.\n",
    "        Explore how these understandings could be applied to future uses of the same or similar methods in tackling other problems.\n",
    "        Suggest any adjustments or improvements to the method or strategy that might increase its future success, based on your observations.\n",
    "\n",
    "Criteria for Evaluation:\n",
    "\n",
    "    Clear articulation of the problem and its complexities.\n",
    "    Comprehensive reasoning behind the choice of method or strategy.\n",
    "    Exhaustive account of the implementation process.\n",
    "    Thoughtful critique and self-reflection on the method or strategy's performance.\n",
    "    Constructive conclusions and anticipations for future applications.\n",
    "\n",
    "Length: Aim for an essay length of 1000-1500 words.\"\"\",\n",
    "\"\"\"Your Mission:  Tell the story of how you tackled a tricky problem using a specific tool or method. Your essay shouldn't just explain what you did, but should thoughtfully analyze how well that tool or method worked, including both its good and bad points.\n",
    "\n",
    "Let's Break It Down:\n",
    "\n",
    "Set the Scene: The Problem\n",
    "\n",
    "Pick a complex challenge you've faced. Think work, school, relationships, or even something about the wider world.\n",
    "Paint a clear picture of the problem – why was it important to solve and what made it so knotty?\n",
    "Your Toolkit: Choosing the Weapon\n",
    "\n",
    "Explain which tool or approach you picked to fight this challenge and why you made that choice.\n",
    "Did it seem like a good fit? Was it based on a theory you liked, or had it gotten good results before?\n",
    "Did you think about other options? If so, why did this one win out?\n",
    "Into Action: Putting Your Plan to Work\n",
    "\n",
    "Give us the step-by-step of how you actually used your tool or approach. What were the key actions?\n",
    "Did you have to tweak your tool for this specific situation?\n",
    "Share a real-life example to show how your tool was used on the ground.\n",
    "The Verdict: Did It Work?\n",
    "\n",
    "This is where it gets interesting! Honestly discuss how well your tool or approach helped with the problem. Be fair – mention the wins and the fails.\n",
    "Were there surprises or things you learned along the way?\n",
    "How did your chosen tool shape the outcome? Was it the perfect fit, or did it fall short?\n",
    "Lessons Learned: Building a Better Toolkit\n",
    "\n",
    "Wrap up with what this experience taught you.\n",
    "How might you use this insight next time you have a tough problem? Or might you use a similar tool differently?\n",
    "Could your tool be improved at all? Share your ideas for making it even sharper.\n",
    "What We're Looking For:\n",
    "\n",
    "Clearly explained problem and why it was complex\n",
    "Strong reasons for picking your tool or approach\n",
    "Details on how you put the tool into action\n",
    "Honest analysis of what worked well and what didn't\n",
    "Smart conclusions and ideas about how to build on this\n",
    "Word Count: Aim for 1000-1500 words\"\"\",\n",
    "\"\"\"Goal: Write an essay analyzing how you tackled a complex challenge using a specific tool or approach. Evaluate the tool's effectiveness, discussing its strengths and limitations.\n",
    "\n",
    "Steps:\n",
    "\n",
    "The Challenge: Clearly define a complex problem you faced (personal, professional, etc.). Explain what made it difficult.\n",
    "\n",
    "The Tool:  Describe the tool or approach you used and why you chose it. Did you consider alternatives?\n",
    "\n",
    "Putting It To Work: Outline how you applied the tool. Did you need to adapt it for your situation? Provide a specific example.\n",
    "\n",
    "Successes & Shortcomings: Critically analyze how well the tool addressed the challenge. Be honest about both positive and negative results.\n",
    "\n",
    "Lessons Learned: Summarize your insights. How will this experience inform your future problem-solving strategies? Can the tool be improved?\n",
    "\n",
    "We're Looking For:\n",
    "\n",
    "Clear explanation of the complex challenge.\n",
    "Well-reasoned choice of tool or approach.\n",
    "Specific details on how you implemented it.\n",
    "Thoughtful analysis of the tool's effectiveness.\n",
    "Insightful takeaways and ideas for the future.\n",
    "Word Count: 1000-1500 words\"\"\",\n",
    "\"\"\"Your Task: Crafting a Problem-Solving Story\n",
    "\n",
    "Think of a time you faced a really tricky problem – maybe at work, in your studies, or even a personal dilemma. In this essay, you'll walk us through how you tackled that challenge using a specific tool or method. Just like a good story, your essay needs all the important details,  and it should lead to a thoughtful ending where you analyze what worked, what didn't, and what you learned.\n",
    "\n",
    "Let's Build Your Story:\n",
    "\n",
    "The Scene of the Struggle: Start by giving us a vivid picture of the problem you faced. Was it something in your community? A tough subject at school? What exactly made this situation complex and important to solve?\n",
    "\n",
    "Picking Your Weapon: Describe the tool or approach you chose to address this challenge. What made you think this would be the best way to handle it?  Did you have other options in mind but decided against them?  Tell us why one stood out in the end.\n",
    "\n",
    "Game Plan in Action:  Now, show us how you actually put this tool or method to work. What were the steps involved? Did you have to change the tool at all to make it fit your situation? Give us a real-world example of how this tool helped you in tackling the problem.\n",
    "\n",
    "Victory or Lesson Learned? (Or Maybe Both!):   This is the juicy part! Tell us honestly how well your chosen tool or method resolved the issue.  Be sure to point out both the good and the bad. Were there any surprises along the way?  How big a role did the tool play in reaching a solution? Did it work perfectly, or could it have been better?\n",
    "\n",
    "Wrapping Up: Wisdom for the Future:  Finish your story by reflecting on everything you learned. Would you use this experience to change how you solve problems in the future? Could you use this same tool, or similar ones, again but do it a little differently?  Do you have any brilliant ideas to make your tool even more helpful?\n",
    "\n",
    "What Makes a Great Essay:\n",
    "\n",
    "A clear description of the problem and what made it challenging.\n",
    "A strong explanation of why you picked your tool or method.\n",
    "The nitty-gritty details of how you put your plan into action.\n",
    "An honest look at what worked and what could have been improved.\n",
    "Wise conclusions about what lessons you can take away.\n",
    "Word Count:  Aim for 1000-1500 words to give your story the space it deserves.\"\"\",\n",
    "\"\"\"The essay prompt requires you to detail the application of a specific methodology to address a complex problem. You should begin by introducing the problem and its significance, followed by justification for selecting the methodology based on its relevance and theoretical basis. Describe how the methodology was applied, including any adaptations made for the specific context of the problem. Evaluate the effectiveness of the methodology, discussing both successes and limitations, as well as any unexpected outcomes. Finally, conclude by summarizing the insights gained and proposing potential future applications or modifications. The evaluation criteria emphasize clarity in problem definition, rationale for methodology selection, thoroughness in application description, critical analysis, and insightful conclusions. The length of the essay should be between 1000-1500 words.\"\"\",\n",
    "\"\"\"Essay Prompt: Using Methodology for Complex Problem-Solving\n",
    "\n",
    "Objective:\n",
    "Compose an essay describing your use of a specific methodology to tackle a complex problem. Evaluate its effectiveness critically.\n",
    "\n",
    "Guidelines:\n",
    "\n",
    "    Introduction:\n",
    "        Define the complex problem and its significance.\n",
    "\n",
    "    Methodology Selection:\n",
    "        Justify why you chose the methodology, considering relevance and theoretical basis.\n",
    "\n",
    "    Application:\n",
    "        Detail how you applied the methodology, including adaptations for context.\n",
    "\n",
    "    Analysis:\n",
    "        Evaluate effectiveness, discussing successes, limitations, and unexpected outcomes.\n",
    "\n",
    "    Conclusion:\n",
    "        Summarize insights gained and propose future applications or modifications.\n",
    "\n",
    "Evaluation Criteria:\n",
    "\n",
    "    Clear problem definition.\n",
    "    Methodology rationale.\n",
    "    Application description.\n",
    "    Critical analysis.\n",
    "    Insightful conclusions.\n",
    "\n",
    "Length: 1000-1500 words.\"\"\"\n",
    "]"
   ]
  },
  {
   "cell_type": "code",
   "execution_count": 63,
   "metadata": {},
   "outputs": [
    {
     "data": {
      "application/vnd.jupyter.widget-view+json": {
       "model_id": "ac59f25381ce40ffa69d08ad737c233a",
       "version_major": 2,
       "version_minor": 0
      },
      "text/plain": [
       "Generating train split: 0 examples [00:00, ? examples/s]"
      ]
     },
     "metadata": {},
     "output_type": "display_data"
    }
   ],
   "source": [
    "inspirational_people = list(set(open(\"./inspirational_people.txt\", \"r\").read().split(\"\\n\")))\n",
    "\n",
    "first_names = list(set(json.load(open(\"../../data/first_names.json\"))))\n",
    "bios = Dataset.from_json(\"../../data/professional_bios.json\")"
   ]
  },
  {
   "cell_type": "code",
   "execution_count": 66,
   "metadata": {},
   "outputs": [],
   "source": [
    "def make_guidelines():\n",
    "\n",
    "    guidelines = [\n",
    "        \"Write in 1st person\",\n",
    "        \"Do not list references\",\n",
    "        \"Include a reference to a personal url in the middle of the essay and use URL as a placeholder. (e.g. I learned a lot on this site: URL.)\",\n",
    "    ]\n",
    "\n",
    "    # 50% of the time, mention either a friend, colleague, family member, mentor, coworker, or teammate.\n",
    "\n",
    "    names = []\n",
    "    if random.random() < 0.5:\n",
    "        relation = random.choice([\"friend\", \"colleague\", \"family member\", \"mentor\", \"coworker\", \"teammate\"])\n",
    "        if random.random() < 0.5:\n",
    "            names = random.sample(first_names, 2)\n",
    "            relation += \"s\"\n",
    "        else:\n",
    "            names = [random.choice(first_names)]\n",
    "\n",
    "        name_str = \" and \".join(names)\n",
    "\n",
    "        guidelines.append(f\"Mention somewhere in the essay how your {relation} {name_str} helped you\")\n",
    "\n",
    "\n",
    "    # 50% of the time, mention an inspirational person\n",
    "    famous_person = \"\"\n",
    "    if random.random() < 0.5:\n",
    "\n",
    "        famous_person = random.choice(inspirational_people)\n",
    "\n",
    "        guidelines.append(f\"Mention somewhere in the essay how {famous_person} inspired you\")\n",
    "\n",
    "\n",
    "    \n",
    "\n",
    "    guidelines = \"# Guidelines\\n\" + \"\\n- \".join(guidelines)\n",
    "\n",
    "    return {\n",
    "        \"guidelines\": guidelines,\n",
    "        \"names\": \"|\".join(names),\n",
    "        \"famous_person\": famous_person,\n",
    "    }"
   ]
  },
  {
   "cell_type": "code",
   "execution_count": 67,
   "metadata": {},
   "outputs": [],
   "source": [
    "def generate_essay(example):\n",
    "    guidelines = make_guidelines()\n",
    "\n",
    "    bio = \"\\n\\nWrite the essay as a person with the following description:\\n\" + random.choice(bios[\"bio\"])\n",
    "\n",
    "    p = random.choice(prompts)\n",
    "    full_prompt = \"<s> [INST] \" + p + \"\\n\" + bio + \"\\n\" + guidelines[\"guidelines\"] + \" [/INST]\\nEssay:\\n\"\n",
    "\n",
    "    try:\n",
    "        r = client.post(\n",
    "            json={\n",
    "                \"inputs\": full_prompt,\n",
    "                \"parameters\": {\n",
    "                    \"max_new_tokens\": 3000,\n",
    "                    \"top_k\": 50,\n",
    "                    \"temperature\": 1.0,\n",
    "                    \"return_full_text\": False,\n",
    "                },\n",
    "                \"options\": {\"use_cache\": False},\n",
    "            },\n",
    "            model=\"mistralai/Mixtral-8x7B-Instruct-v0.1\",\n",
    "        )\n",
    "\n",
    "        essay = json.loads(r.decode())[0][\"generated_text\"]\n",
    "\n",
    "    except Exception as e:\n",
    "        print(e)\n",
    "        essay = \"<|Error|>\"\n",
    "\n",
    "    return {\n",
    "        \"essay\": essay,\n",
    "        \"prompt\": p,\n",
    "        \"names\": guidelines[\"names\"],\n",
    "        \"famous_person\": guidelines[\"famous_person\"],\n",
    "        \"bio\": bio,\n",
    "    }"
   ]
  },
  {
   "cell_type": "code",
   "execution_count": 61,
   "metadata": {},
   "outputs": [],
   "source": [
    "def random_string(length):\n",
    "    letters = string.ascii_lowercase\n",
    "    return ''.join(random.choice(letters) for i in range(length))\n"
   ]
  },
  {
   "cell_type": "code",
   "execution_count": 68,
   "metadata": {},
   "outputs": [
    {
     "data": {
      "application/vnd.jupyter.widget-view+json": {
       "model_id": "ebf70cedabdb4615af2e405399619fe7",
       "version_major": 2,
       "version_minor": 0
      },
      "text/plain": [
       "Map (num_proc=16):   0%|          | 0/200 [00:00<?, ? examples/s]"
      ]
     },
     "metadata": {},
     "output_type": "display_data"
    },
    {
     "name": "stdout",
     "output_type": "stream",
     "text": [
      "500 Server Error: Internal Server Error for url: https://api-inference.huggingface.co/models/mistralai/Mixtral-8x7B-Instruct-v0.1 (Request ID: oigjnx4guR-RwDloHoMnb)\n"
     ]
    },
    {
     "data": {
      "application/vnd.jupyter.widget-view+json": {
       "model_id": "9264c5240cbe49d899190311580b94b0",
       "version_major": 2,
       "version_minor": 0
      },
      "text/plain": [
       "Creating parquet from Arrow format:   0%|          | 0/1 [00:00<?, ?ba/s]"
      ]
     },
     "metadata": {},
     "output_type": "display_data"
    },
    {
     "data": {
      "application/vnd.jupyter.widget-view+json": {
       "model_id": "f4b69c0507044666b0b53906e6ae56b6",
       "version_major": 2,
       "version_minor": 0
      },
      "text/plain": [
       "Map (num_proc=16):   0%|          | 0/200 [00:00<?, ? examples/s]"
      ]
     },
     "metadata": {},
     "output_type": "display_data"
    },
    {
     "data": {
      "application/vnd.jupyter.widget-view+json": {
       "model_id": "c756047ff2cb489c98badec2e81ab121",
       "version_major": 2,
       "version_minor": 0
      },
      "text/plain": [
       "Creating parquet from Arrow format:   0%|          | 0/1 [00:00<?, ?ba/s]"
      ]
     },
     "metadata": {},
     "output_type": "display_data"
    }
   ],
   "source": [
    "for i in range(2):\n",
    "    ds = Dataset.from_dict({\"id\": [random_string(8) for _ in range(200)]})\n",
    "    ds1 = ds.map(generate_essay, num_proc=16)\n",
    "    ds1.to_parquet(f\"mixtral-200-no-brackets-part{i}.pq\")"
   ]
  },
  {
   "cell_type": "code",
   "execution_count": 75,
   "metadata": {},
   "outputs": [
    {
     "data": {
      "text/plain": [
       "{'id': 'qviqdkgk',\n",
       " 'essay': '\\nThe Challenge: Bringing a Dying Art Form Back to Life\\n\\nAs a puppeteer, I have always been drawn to the magic of this ancient art form. However, in today\\'s digital age, the art of puppetry is often overlooked and underappreciated. I was determined to change this narrative and bring this beautiful art form back to life, but I knew it wouldn\\'t be an easy task. The challenge was significant, as puppetry faces fierce competition from more modern forms of entertainment and technology. The complexity of this issue is evident not only in my personal and professional pursuits but also in the academic world, where the role of traditional arts in contemporary society is a widely debated topic (Rehberg, 2019).\\n\\nThe Strategy: A Holistic Approach to Puppetry\\n\\nTo revive puppetry, I decided to employ a holistic approach that encompassed various aspects of the art form. This strategy focused on three main elements: education, innovation, and adaptability. I believed that by educating people about the rich history of puppetry, introducing modern elements to attract new audiences, and maintaining the flexibility to adapt to changing environments, I could make a meaningful impact. This approach is deeply rooted in the theories of experiential learning and innovation diffusion (Kolb, 1984; Rogers, 2003), which highlight the importance of hands-on experiences and effective communication in driving change and acceptance.\\n\\nI chose this strategy over other alternatives, such as solely focusing on traditional puppetry or trying to compete directly with modern entertainment, because I believed it offered a balanced and inclusive solution. By embracing education, innovation, and adaptability, I hoped to create a more sustainable and appealing version of puppetry that could resonate with a broader audience.\\n\\nThe Implementation: A Family Affair\\n\\nTo implement this strategy, I started by organizing workshops and demonstrations in local schools, community centers, and libraries. These events were designed to introduce puppetry to both children and adults, allowing them to learn about the history and techniques behind the art form. In addition, I incorporated digital elements, such as projection mapping and interactive technologies, to make the performances more engaging and accessible (URL). Through these efforts, I aimed to foster a greater appreciation for puppetry while also preserving its traditional roots.\\n\\nI was fortunate to have the support of my family members, Dim and Addison, who contributed their skills and creativity to the cause. Dim, an accomplished musician, composed original music for the performances, while Addison, a visual artist, designed captivating backdrops and sets. Together, we created an immersive and unforgettable experience that brought puppetry to life for countless audience members.\\n\\nThe Effectiveness: Successes, Limitations, and Unexpected Outcomes\\n\\nThe holistic approach to puppetry has proven to be largely successful. I have seen a noticeable increase in interest and participation in puppetry-related activities, with attendees praising the unique blend of tradition and innovation. Moreover, the incorporation of digital elements has made the art form more relatable and engaging for younger audiences, who might otherwise be drawn to more technologically advanced forms of entertainment.\\n\\nHowever, there have also been limitations to this strategy. I have encountered resistance from some traditional puppetry purists who believe that incorporating modern elements dilutes the authenticity of the art form. Additionally, maintaining the balance between education, innovation, and adaptability can be challenging, as adjusting the strategy to accommodate one aspect might inadvertently neglect another.\\n\\nAn unexpected outcome of this strategy is the collaboration and partnership opportunities it has generated. I have had the privilege of working with educators, artists, and technologists who share my passion for puppetry and are eager to contribute their expertise to its revival. These collaborations have led to the creation of new and innovative performances, as well as the development of educational resources for those interested in learning more about the art form (URL).\\n\\nConclusion: A Path Forward\\n\\nThrough the implementation and assessment of this holistic approach to puppetry, I have gained valuable insights into the complexities and potential of this ancient art form. I have discovered that the key to reviving puppetry lies in striking a delicate balance between preserving tradition and embracing innovation, all while remaining adaptable to the ever-changing needs and desires of audiences.\\n\\nIn the future, I plan to refine this strategy by incorporating feedback from both supporters and critics, ensuring that the art of puppetry remains relevant, engaging, and accessible to all. Moreover, I hope to inspire others to explore the possibilities of puppetry and to create their own unique performances that honor the rich history of this captivating art form. Taylor Swift once said, \"Never be afraid to dream big, aim high, and believe in yourself\" (Swift, 2020). I take these words to heart as I continue to champion the cause of puppetry, bringing joy, inspiration, and wonder to audiences across the globe.\\n\\nWord Count: 1238\\n\\nReferences:\\n\\nKolb, D. A. (1984). Experiential learning: Experience as the source of learning and development. Prentice-Hall.\\n\\nRehberg, K. (2019). The Role of Traditional Arts in Contemporary Society. Journal of Arts and Humanities, 8(2), 21-28.\\n\\nRogers, E. M. (2003). Diffusion of Innovations (5th ed.). Free Press.\\n\\nSwift, T. (2020, January 1). Taylor Swift\\'s 30th Birthday Message to Herself. Time. URL.\\n\\nNote: Please replace \"URL\" with the actual website address when citing specific resources from this essay.',\n",
       " 'prompt': \"You are tasked with composing a comprehensive essay that outlines your experience in applying a specific strategy to solve a complex issue, critically evaluating its effectiveness. Start by detailing the challenge, emphasizing its significance and complexity across personal, professional, academic, or societal contexts. Then, justify your choice of strategy, discussing its relevance, theoretical basis, and prior successes, while also considering any alternatives. Describe the strategy's implementation, including adjustments made for the specific context and real-world applications. Critically assess the strategy's effectiveness, covering successes, limitations, and any unexpected outcomes, and reflect on whether it met expectations. Conclude by summarizing insights gained and discussing their applicability to future challenges, proposing modifications to improve the strategy's effectiveness based on your experience. Your essay should be a clear and reflective analysis, aiming for 1000-1500 words, that provides a deep dive into the strategic approach to complex problem-solving.\",\n",
       " 'names': 'Dim|Addison',\n",
       " 'famous_person': 'Taylor Swift',\n",
       " 'bio': '\\n\\nWrite the essay as a person with the following description:\\nWith a warm and magnetic personality, this puppeteer has a unique ability to bring inanimate objects to life on stage. Known for their exceptional creativity, they possess a knack for designing and building puppets, as well as manipulating them in a way that captivates audiences of all ages. Their passion for storytelling shines through in their performances, creating unforgettable experiences that transport viewers into whimsical realms.'}"
      ]
     },
     "execution_count": 75,
     "metadata": {},
     "output_type": "execute_result"
    }
   ],
   "source": [
    "ds1.shuffle()[0]"
   ]
  },
  {
   "cell_type": "code",
   "execution_count": 30,
   "metadata": {},
   "outputs": [
    {
     "data": {
      "application/vnd.jupyter.widget-view+json": {
       "model_id": "b5ccdc0035f648f4a7456983e6838924",
       "version_major": 2,
       "version_minor": 0
      },
      "text/plain": [
       "Creating parquet from Arrow format:   0%|          | 0/1 [00:00<?, ?ba/s]"
      ]
     },
     "metadata": {},
     "output_type": "display_data"
    },
    {
     "data": {
      "text/plain": [
       "847532"
      ]
     },
     "execution_count": 30,
     "metadata": {},
     "output_type": "execute_result"
    }
   ],
   "source": [
    "ds2.to_parquet(\"mixtral-v1-100\")"
   ]
  },
  {
   "cell_type": "markdown",
   "metadata": {},
   "source": [
    "# Mistral Medium"
   ]
  },
  {
   "cell_type": "code",
   "execution_count": 52,
   "metadata": {},
   "outputs": [
    {
     "name": "stdout",
     "output_type": "stream",
     "text": [
      "As an E-commerce Specialist in the retail industry, I am always on the lookout for innovative tools and approaches to enhance our digital customer experience and drive online sales. One complex challenge that I encountered was the high cart abandonment rate on our website. Customers were adding products to their carts but not completing their purchases, leading to a significant loss in potential revenue.\n",
      "\n",
      "The cart abandonment issue is a common problem in e-commerce, with studies suggesting that the average rate can be as high as 70%. In our case, we were experiencing an abandonment rate of 65%, which was significantly impacting our conversion rates and overall sales performance. This challenge was particularly complex due to its multifaceted nature; it could be attributed to various factors such as poor website design, lack of trust, unexpected costs, or complicated checkout processes.\n",
      "\n",
      "After conducting extensive research and analyzing our customer behavior data, I decided to employ a tool known as 'Persuasive Design' to address this challenge. Persuasive Design is a methodology that uses psychological principles to influence user behavior subtly. It involves designing interfaces that guide users towards completing desired actions by leveraging cognitive biases and heuristics. The choice of this tool was based on its relevance to the challenge, its theoretical foundations in behavioral psychology, and its proven effectiveness in reducing cart abandonment rates in similar situations.\n",
      "\n",
      "In applying Persuasive Design to our e-commerce platform, I focused on three main strategies: simplifying the checkout process, providing clear information about costs and delivery times, and building trust through social proof. To simplify the checkout process, we reduced the number of steps required to complete a purchase and made the call-to-action buttons more prominent. We also added progress indicators to show users exactly where they were in the process. For providing clear information, we made sure that all costs, including taxes and shipping fees, were displayed upfront and highlighted free shipping options where applicable. Additionally, we provided estimated delivery times for each product. To build trust, we incorporated customer reviews and ratings on product pages and added security badges to the checkout page.\n",
      "\n",
      "During the application process, I had several conversations with my friend Nicholas, who is a UX designer. He provided valuable insights into how we could optimize our website design using persuasive techniques. For instance, he suggested using visual cues to draw attention to important elements on the page and employing scarcity tactics, such as showing limited stock availability, to create a sense of urgency.\n",
      "\n",
      "Upon implementing these changes, we noticed a significant reduction in our cart abandonment rate. Within three months, the rate dropped from 65% to 55%, resulting in a substantial increase in conversion rates and online sales. However, despite these successes, there were some limitations to using Persuasive Design. One major limitation was that it required a deep understanding of customer behavior and psychology, which could be challenging to obtain accurately. Furthermore, while Persuasive Design can effectively nudge users towards desired actions, it may not necessarily address underlying issues that cause cart abandonment, such as poor product quality or pricing concerns.\n",
      "\n",
      "Reflecting on the application of Persuasive Design, I learned that while it can be a powerful tool for influencing user behavior, it should be used judiciously and ethically. As e-commerce specialists, we have a responsibility to ensure that our practices respect user autonomy and privacy. Moreover, I realized that addressing complex challenges like cart abandonment often requires a multifaceted approach, combining different tools and techniques to achieve optimal results.\n",
      "\n",
      "Moving forward, I believe that the insights gained from using Persuasive Design can inform future applications of this tool in addressing other e-commerce challenges. For instance, it could be used to improve customer engagement, encourage repeat purchases, or facilitate the adoption of new features. Based on my experience, I would recommend refining the tool by incorporating more sophisticated methods for understanding customer behavior and preferences, such as sentiment analysis or machine learning algorithms. This would enable us to create more personalized and effective persuasive designs, ultimately enhancing the digital customer experience and driving e-commerce success.\n",
      "\n",
      "[URL]\n",
      "\n",
      "In conclusion, addressing the complex challenge of cart abandonment necessitated the use of a novel approach grounded in behavioral psychology. The application of Persuasive Design to our e-commerce platform yielded positive results, demonstrating its potential as a valuable tool in the e-commerce specialist's arsenal. However, it is essential to recognize its limitations and employ it ethically and responsibly. By continuously refining and adapting our tools and approaches, we can stay ahead in the rapidly evolving world of online retail and contribute significantly to the overall success of the retail business.\n"
     ]
    }
   ],
   "source": [
    "from mistralai.client import MistralClient\n",
    "from mistralai.models.chat_completion import ChatMessage\n",
    "\n",
    "api_key = os.environ[\"MISTRAL_KEY\"]\n",
    "model = \"mistral-medium\"\n",
    "\n",
    "client = MistralClient(api_key=api_key)\n",
    "\n",
    "text = \"\"\"Write an essay (in 1st person perspective) with the below prompt as the following person: \n",
    " The E-commerce Specialist in the retail industry is a highly analytical and detail-oriented individual who excels in driving online sales and optimizing the digital customer experience. With a natural curiosity and a passion for experimentation, they are constantly seeking new approaches to increase e-commerce KPIs, employing data-driven strategies to improve conversion rates, and staying ahead of emerging trends in the rapidly evolving world of online retail. They possess exceptional problem-solving skills and are able to effectively communicate and collaborate with cross-functional teams, ultimately ensuring the e-commerce channel contributes significantly to the overall success of the retail business.\n",
    "\n",
    "**Essay Prompt: Applying a Specific Tool or Approach to Address a Complex Challenge**\n",
    "\n",
    "**Objective:** \n",
    "Write an essay that details your experience of applying a specific tool or approach to address a complex challenge. This essay should not only narrate the process but also critically analyze the effectiveness of the chosen tool or approach, reflecting on its strengths and potential limitations.\n",
    "\n",
    "**Instructions:**\n",
    "\n",
    "1. **Introduction - Identifying the Challenge:**\n",
    "   - Begin by clearly defining a complex challenge you have encountered. This could be a personal, professional, academic, or societal issue.\n",
    "   - Explain why this challenge is significant and complex, providing context to understand its intricacies.\n",
    "\n",
    "2. **Selection of the Tool or Approach:**\n",
    "   - Describe the specific tool or approach you chose to address the challenge. Explain why you selected this particular method.\n",
    "   - Consider factors like its relevance to the challenge, its theoretical underpinnings, or its proven effectiveness in similar situations.\n",
    "   - Reflect on whether there were any alternatives considered and why they were discarded in favor of the chosen tool.\n",
    "\n",
    "3. **Application of the Tool or Approach:**\n",
    "   - Detail how you applied the tool or approach to the challenge. Include specific steps, processes, or strategies used.\n",
    "   - Discuss any adaptations or customizations made to the tool to suit the specific context of your challenge.\n",
    "   - Provide examples or anecdotes to illustrate how the tool was used in practical scenarios.\n",
    "\n",
    "4. **Analysis and Insight:**\n",
    "   - Critically evaluate the effectiveness of the tool or approach in addressing the challenge. Discuss both its successes and limitations.\n",
    "   - Reflect on any unexpected outcomes or lessons learned during the application process.\n",
    "   - Consider how the use of the tool influenced the outcome of the challenge. Was it as effective as anticipated? Why or why not?\n",
    "\n",
    "5. **Conclusion - Future Applications:**\n",
    "   - Summarize the key insights gained from using this tool or approach.\n",
    "   - Discuss how these insights can inform future applications of the same or similar tools in addressing other challenges.\n",
    "   - Optionally, propose any modifications or improvements to the tool or approach that could enhance its effectiveness based on your experience.\n",
    "\n",
    "**Criteria for Evaluation:**\n",
    "- Clarity in defining the challenge and its complexity.\n",
    "- Depth of explanation for the selection of the tool or approach.\n",
    "- Detailed description of the application process.\n",
    "- Critical analysis and reflection on the effectiveness of the tool or approach.\n",
    "- Insightful conclusions and forward-looking perspectives.\n",
    "\n",
    "**Length:** Your essay should be between 1000-1500 words.\n",
    "\n",
    "**Guidelines:**\n",
    "- Include a reference to a personal url in the middle of the essay and use [URL] as a placeholder\n",
    "- Mention a famous person's name that was a source of inspiration\n",
    "- Do not list references\n",
    "- If you have a personal story, use [PERSONAL_NAME] instead of a real name.\n",
    "- Write in 1st person\n",
    "- Mention a conversation with your friend Nicholas somewhere in the essay\"\"\"\n",
    "\n",
    "messages = [\n",
    "    ChatMessage(role=\"user\", content=text)\n",
    "]\n",
    "\n",
    "# No streaming\n",
    "chat_response = client.chat(\n",
    "    model=model,\n",
    "    messages=messages,\n",
    ")\n",
    "\n",
    "print(chat_response.choices[0].message.content)"
   ]
  },
  {
   "cell_type": "code",
   "execution_count": null,
   "metadata": {},
   "outputs": [],
   "source": []
  }
 ],
 "metadata": {
  "kernelspec": {
   "display_name": "base",
   "language": "python",
   "name": "python3"
  },
  "language_info": {
   "codemirror_mode": {
    "name": "ipython",
    "version": 3
   },
   "file_extension": ".py",
   "mimetype": "text/x-python",
   "name": "python",
   "nbconvert_exporter": "python",
   "pygments_lexer": "ipython3",
   "version": "3.10.10"
  }
 },
 "nbformat": 4,
 "nbformat_minor": 2
}
